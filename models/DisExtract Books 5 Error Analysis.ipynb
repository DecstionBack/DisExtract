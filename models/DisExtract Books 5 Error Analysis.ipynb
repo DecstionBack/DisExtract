{
 "cells": [
  {
   "cell_type": "markdown",
   "metadata": {},
   "source": [
    "# DisSent Books 5 Error Analysis\n",
    "\n",
    "We analyze the full model because it performs the best.\n",
    "\n",
    "We generate visualization for 50 examples for each marker in the following order:\n",
    "\n",
    "- But\n",
    "- If\n",
    "- Because\n",
    "- And\n",
    "- When"
   ]
  },
  {
   "cell_type": "code",
   "execution_count": 2,
   "metadata": {},
   "outputs": [
    {
     "name": "stdout",
     "output_type": "stream",
     "text": [
      "The autoreload extension is already loaded. To reload it, use:\n",
      "  %reload_ext autoreload\n"
     ]
    }
   ],
   "source": [
    "%load_ext autoreload\n",
    "%autoreload 2"
   ]
  },
  {
   "cell_type": "code",
   "execution_count": 4,
   "metadata": {},
   "outputs": [],
   "source": [
    "import os\n",
    "import torch\n",
    "dis_net = torch.load(os.path.join('./exp/books5_words_4096_sgd_01_d0_fcd0', 'dis-model-11'  + \".pickle\"))\n",
    "dis_net.cpu()\n",
    "dis_net.s1_only = False\n",
    "dis_net.s2_only = False"
   ]
  },
  {
   "cell_type": "code",
   "execution_count": 5,
   "metadata": {},
   "outputs": [],
   "source": [
    "\"\"\"\n",
    "DATA\n",
    "\"\"\"\n",
    "import numpy as np\n",
    "from data import get_dis, get_batch, build_vocab, get_filtered_dis\n",
    "\n",
    "train, valid, test = get_dis('/home/anie/DisExtract/data/books', \n",
    "                                      'discourse_EN_FIVE_and_but_because_if_when_2017dec12')\n",
    "word_vec = build_vocab(train['s1'] + train['s2'] +\n",
    "                       valid['s1'] + valid['s2'] +\n",
    "                       test['s1'] + test['s2'], '/home/anie/glove/glove.840B.300d.txt')\n",
    "\n",
    "# unknown words instead of map to <unk>, this directly takes them out\n",
    "for split in ['s1', 's2']:\n",
    "    for data_type in ['train', 'valid', 'test']:\n",
    "        eval(data_type)[split] = np.array([['<s>'] +\n",
    "                                           [word for word in sent.split() if word in word_vec] +\n",
    "                                           ['</s>'] for sent in eval(data_type)[split]])"
   ]
  },
  {
   "cell_type": "markdown",
   "metadata": {},
   "source": [
    "We can use the following function to get an example of a given marker"
   ]
  },
  {
   "cell_type": "code",
   "execution_count": 6,
   "metadata": {},
   "outputs": [],
   "source": [
    "from util import get_labels\n",
    "dis_labels = get_labels('books_5')"
   ]
  },
  {
   "cell_type": "code",
   "execution_count": 7,
   "metadata": {},
   "outputs": [],
   "source": [
    "def get_example_by_idx(marker, idx, data_type='valid'):\n",
    "    marker_idx = dis_labels.index(marker)\n",
    "    cnt = idx\n",
    "    for i in range(len(eval(data_type)['label'])):\n",
    "        if eval(data_type)['label'][i] == marker_idx and cnt == 0:\n",
    "            return eval(data_type)['s1'][i], eval(data_type)['s2'][i], eval(data_type)['label'][i]\n",
    "        elif eval(data_type)['label'][i] == marker_idx:\n",
    "            cnt -= 1\n",
    "        else:\n",
    "            continue"
   ]
  },
  {
   "cell_type": "code",
   "execution_count": 13,
   "metadata": {},
   "outputs": [],
   "source": [
    "res = get_example_by_idx('but', 0)"
   ]
  },
  {
   "cell_type": "code",
   "execution_count": 14,
   "metadata": {},
   "outputs": [
    {
     "data": {
      "text/plain": [
       "(['<s>',\n",
       "  'They',\n",
       "  'were',\n",
       "  'less',\n",
       "  'strict',\n",
       "  'theyre',\n",
       "  'good',\n",
       "  'parents',\n",
       "  '.',\n",
       "  '</s>'],\n",
       " ['<s>', 'Thats', 'what', 'really', 'matters', '.', '</s>'],\n",
       " 2)"
      ]
     },
     "execution_count": 14,
     "metadata": {},
     "output_type": "execute_result"
    }
   ],
   "source": [
    "res"
   ]
  },
  {
   "cell_type": "markdown",
   "metadata": {},
   "source": [
    "## What is the interpretation method?\n",
    "\n",
    "We use the [contextual decomposition](https://arxiv.org/pdf/1801.05453.pdf) technique. The core idea of this method is to:\n",
    "\n",
    "$h_t = \\mathrm{rel}_t + \\mathrm{irrel}_t$ for all t\n",
    "\n",
    "We break down each hidden state into a \"relevant\" vector and a \"irrelevant\" vector. We are working with a special case where we only look at each word's contribution to the final prediction, ignoring the interactions between words.\n",
    "\n",
    "After breaking each hidden state down, we then use $rel_t \\times \\frac{\\nabla \\hat y_i}{\\nabla h_t}$, the gradient to the hidden state as it's influence to the final prediction.\n"
   ]
  },
  {
   "cell_type": "code",
   "execution_count": null,
   "metadata": {},
   "outputs": [],
   "source": [
    "from viz import MaxPoolingCDBiLSTM\n",
    "\n",
    "bilstm = MaxPoolingCDBiLSTM(model=dis_net, glove_path=\"/home/anie/glove/glove.840B.300d.txt\", bilstm=True)\n",
    "bilstm.word_vec = word_vec\n",
    "bilstm.model.encoder.word_vec = word_vec"
   ]
  },
  {
   "cell_type": "markdown",
   "metadata": {},
   "source": [
    "We first take a look at some more successful markers like `but`, `and`, and `if`"
   ]
  },
  {
   "cell_type": "code",
   "execution_count": 15,
   "metadata": {},
   "outputs": [
    {
     "data": {
      "text/html": [
       "<span style=\"background-color:#7878ff\">They</span> <span style=\"background-color:#ff0000\">were</span> <span style=\"background-color:#9c9cff\">less</span> <span style=\"background-color:#ffa2a2\">strict</span> <span style=\"background-color:#ffbebe\">theyre</span> <span style=\"background-color:#ffcccc\">good</span> <span style=\"background-color:#ffd3d3\">parents</span> <span style=\"background-color:#9898ff\">.</span> \n"
      ],
      "text/plain": [
       "<IPython.core.display.HTML object>"
      ]
     },
     "metadata": {},
     "output_type": "display_data"
    },
    {
     "data": {
      "text/html": [
       "<span style=\"background-color:#ffbcbc\">Thats</span> <span style=\"background-color:#8c8cff\">what</span> <span style=\"background-color:#ff0000\">really</span> <span style=\"background-color:#d3d3ff\">matters</span> <span style=\"background-color:#fcfcff\">.</span> \n"
      ],
      "text/plain": [
       "<IPython.core.display.HTML object>"
      ]
     },
     "metadata": {},
     "output_type": "display_data"
    },
    {
     "data": {
      "text/html": [
       "correct label: <b>but</b>"
      ],
      "text/plain": [
       "<IPython.core.display.HTML object>"
      ]
     },
     "metadata": {},
     "output_type": "display_data"
    },
    {
     "data": {
      "text/html": [
       "predict label: <b>but</b>"
      ],
      "text/plain": [
       "<IPython.core.display.HTML object>"
      ]
     },
     "metadata": {},
     "output_type": "display_data"
    },
    {
     "data": {
      "text/html": [
       "<span style=\"background-color:#f0f0ff\">His</span> <span style=\"background-color:#d8d8ff\">mother</span> <span style=\"background-color:#d0d0ff\">had</span> <span style=\"background-color:#ff0000\">tried</span> <span style=\"background-color:#fafaff\">to</span> <span style=\"background-color:#fff0f0\">get</span> <span style=\"background-color:#f8f8ff\">chris</span> <span style=\"background-color:#fff8f8\">to</span> <span style=\"background-color:#fffcfc\">leave</span> <span style=\"background-color:#ccccff\">.</span> \n"
      ],
      "text/plain": [
       "<IPython.core.display.HTML object>"
      ]
     },
     "metadata": {},
     "output_type": "display_data"
    },
    {
     "data": {
      "text/html": [
       "<span style=\"background-color:#ff3131\">For</span> <span style=\"background-color:#dcdcff\">an</span> <span style=\"background-color:#fffefe\">obvious</span> <span style=\"background-color:#ff0000\">reason</span> <span style=\"background-color:#ffe6e6\">,</span> <span style=\"background-color:#f3f3ff\">he</span> <span style=\"background-color:#ffe4e4\">'d</span> <span style=\"background-color:#ffa3a3\">stayed</span> <span style=\"background-color:#ffdede\">behind</span> <span style=\"background-color:#ffcccc\">with</span> <span style=\"background-color:#ffeeee\">wulf</span> <span style=\"background-color:#fffefe\">.</span> \n"
      ],
      "text/plain": [
       "<IPython.core.display.HTML object>"
      ]
     },
     "metadata": {},
     "output_type": "display_data"
    },
    {
     "data": {
      "text/html": [
       "correct label: <b>but</b>"
      ],
      "text/plain": [
       "<IPython.core.display.HTML object>"
      ]
     },
     "metadata": {},
     "output_type": "display_data"
    },
    {
     "data": {
      "text/html": [
       "predict label: <b>but</b>"
      ],
      "text/plain": [
       "<IPython.core.display.HTML object>"
      ]
     },
     "metadata": {},
     "output_type": "display_data"
    },
    {
     "data": {
      "text/html": [
       "<span style=\"background-color:#f2f2ff\">I</span> <span style=\"background-color:#ff0000\">assumed</span> <span style=\"background-color:#b0b0ff\">they</span> <span style=\"background-color:#fff2f2\">'d</span> <span style=\"background-color:#d8d8ff\">be</span> <span style=\"background-color:#ffbaba\">similar</span> <span style=\"background-color:#7c7cff\">.</span> \n"
      ],
      "text/plain": [
       "<IPython.core.display.HTML object>"
      ]
     },
     "metadata": {},
     "output_type": "display_data"
    },
    {
     "data": {
      "text/html": [
       "<span style=\"background-color:#e3e3ff\">They</span> <span style=\"background-color:#c6c6ff\">were</span> <span style=\"background-color:#ff0000\">n't</span> <span style=\"background-color:#d8d8ff\">.</span> <span style=\"background-color:#fffcfc\">.</span> \n"
      ],
      "text/plain": [
       "<IPython.core.display.HTML object>"
      ]
     },
     "metadata": {},
     "output_type": "display_data"
    },
    {
     "data": {
      "text/html": [
       "correct label: <b>but</b>"
      ],
      "text/plain": [
       "<IPython.core.display.HTML object>"
      ]
     },
     "metadata": {},
     "output_type": "display_data"
    },
    {
     "data": {
      "text/html": [
       "predict label: <b>but</b>"
      ],
      "text/plain": [
       "<IPython.core.display.HTML object>"
      ]
     },
     "metadata": {},
     "output_type": "display_data"
    },
    {
     "data": {
      "text/html": [
       "<span style=\"background-color:#ffcaca\">The</span> <span style=\"background-color:#c0c0ff\">man</span> <span style=\"background-color:#ffe6e6\">from</span> <span style=\"background-color:#d6d6ff\">the</span> <span style=\"background-color:#ffe2e2\">yellow</span> <span style=\"background-color:#ffeeee\">porsche</span> <span style=\"background-color:#ececff\">had</span> <span style=\"background-color:#ff0000\">not</span> <span style=\"background-color:#ff5656\">been</span> <span style=\"background-color:#ffb3b3\">wearing</span> <span style=\"background-color:#d8d8ff\">a</span> <span style=\"background-color:#ff8a8a\">fancy</span> <span style=\"background-color:#dcdcff\">,</span> <span style=\"background-color:#ffe2e2\">flashy</span> <span style=\"background-color:#ffc2c2\">suit</span> <span style=\"background-color:#8c8cff\">.</span> \n"
      ],
      "text/plain": [
       "<IPython.core.display.HTML object>"
      ]
     },
     "metadata": {},
     "output_type": "display_data"
    },
    {
     "data": {
      "text/html": [
       "<span style=\"background-color:#0000ff\">He</span> <span style=\"background-color:#ff9898\">was</span> <span style=\"background-color:#9090ff\">wearing</span> <span style=\"background-color:#ffeaea\">a</span> <span style=\"background-color:#ffe4e4\">tie</span> <span style=\"background-color:#eaeaff\">.</span> \n"
      ],
      "text/plain": [
       "<IPython.core.display.HTML object>"
      ]
     },
     "metadata": {},
     "output_type": "display_data"
    },
    {
     "data": {
      "text/html": [
       "correct label: <b>but</b>"
      ],
      "text/plain": [
       "<IPython.core.display.HTML object>"
      ]
     },
     "metadata": {},
     "output_type": "display_data"
    },
    {
     "data": {
      "text/html": [
       "predict label: <b>but</b>"
      ],
      "text/plain": [
       "<IPython.core.display.HTML object>"
      ]
     },
     "metadata": {},
     "output_type": "display_data"
    },
    {
     "data": {
      "text/html": [
       "<span style=\"background-color:#cacaff\">He</span> <span style=\"background-color:#5959ff\">gets</span> <span style=\"background-color:#f3f3ff\">up</span> <span style=\"background-color:#ff4646\">to</span> <span style=\"background-color:#ff3636\">leave</span> <span style=\"background-color:#0000ff\">.</span> \n"
      ],
      "text/plain": [
       "<IPython.core.display.HTML object>"
      ]
     },
     "metadata": {},
     "output_type": "display_data"
    },
    {
     "data": {
      "text/html": [
       "<span style=\"background-color:#0000ff\">He</span> <span style=\"background-color:#ff9a9a\">can</span> <span style=\"background-color:#ffeaea\">go</span> <span style=\"background-color:#b8b8ff\">,</span> <span style=\"background-color:#2828ff\">i</span> <span style=\"background-color:#ff3030\">grab</span> <span style=\"background-color:#9c9cff\">his</span> <span style=\"background-color:#ff4444\">wrist</span> <span style=\"background-color:#ff6c6c\">.</span> \n"
      ],
      "text/plain": [
       "<IPython.core.display.HTML object>"
      ]
     },
     "metadata": {},
     "output_type": "display_data"
    },
    {
     "data": {
      "text/html": [
       "correct label: <b>but</b>"
      ],
      "text/plain": [
       "<IPython.core.display.HTML object>"
      ]
     },
     "metadata": {},
     "output_type": "display_data"
    },
    {
     "data": {
      "text/html": [
       "predict label: <b>but</b>"
      ],
      "text/plain": [
       "<IPython.core.display.HTML object>"
      ]
     },
     "metadata": {},
     "output_type": "display_data"
    },
    {
     "data": {
      "text/html": [
       "<span style=\"background-color:#ffeeee\">I</span> <span style=\"background-color:#d6d6ff\">was</span> <span style=\"background-color:#ff0000\">hoping</span> <span style=\"background-color:#fff2f2\">to</span> <span style=\"background-color:#ff9090\">talk</span> <span style=\"background-color:#e0e0ff\">to</span> <span style=\"background-color:#a2a2ff\">you</span> <span style=\"background-color:#ccccff\">.</span> \n"
      ],
      "text/plain": [
       "<IPython.core.display.HTML object>"
      ]
     },
     "metadata": {},
     "output_type": "display_data"
    },
    {
     "data": {
      "text/html": [
       "<span style=\"background-color:#ffeeee\">Nicky</span> <span style=\"background-color:#ff8282\">says</span> <span style=\"background-color:#0000ff\">you</span> <span style=\"background-color:#ffa2a2\">'ve</span> <span style=\"background-color:#9c9cff\">wandered</span> <span style=\"background-color:#fff0f0\">off</span> <span style=\"background-color:#ffdcdc\">.</span> \n"
      ],
      "text/plain": [
       "<IPython.core.display.HTML object>"
      ]
     },
     "metadata": {},
     "output_type": "display_data"
    },
    {
     "data": {
      "text/html": [
       "correct label: <b>but</b>"
      ],
      "text/plain": [
       "<IPython.core.display.HTML object>"
      ]
     },
     "metadata": {},
     "output_type": "display_data"
    },
    {
     "data": {
      "text/html": [
       "predict label: <b>but</b>"
      ],
      "text/plain": [
       "<IPython.core.display.HTML object>"
      ]
     },
     "metadata": {},
     "output_type": "display_data"
    },
    {
     "data": {
      "text/html": [
       "<span style=\"background-color:#2c2cff\">If</span> <span style=\"background-color:#8a8aff\">she</span> <span style=\"background-color:#ff0000\">had</span> <span style=\"background-color:#a0a0ff\">to</span> <span style=\"background-color:#ffbcbc\">work</span> <span style=\"background-color:#dadaff\">in</span> <span style=\"background-color:#d6d6ff\">the</span> <span style=\"background-color:#e0e0ff\">morning</span> <span style=\"background-color:#ffe2e2\">hours</span> <span style=\"background-color:#7979ff\">or</span> <span style=\"background-color:#e6e6ff\">late</span> <span style=\"background-color:#7c7cff\">afternoon</span> <span style=\"background-color:#f0f0ff\">,</span> <span style=\"background-color:#ceceff\">she</span> <span style=\"background-color:#fffefe\">could</span> <span style=\"background-color:#ff4c4c\">manage</span> <span style=\"background-color:#c6c6ff\">with</span> <span style=\"background-color:#fafaff\">long</span> <span style=\"background-color:#f0f0ff\">sleeves</span> <span style=\"background-color:#dadaff\">and</span> <span style=\"background-color:#4848ff\">sunblocks</span> <span style=\"background-color:#c8c8ff\">.</span> \n"
      ],
      "text/plain": [
       "<IPython.core.display.HTML object>"
      ]
     },
     "metadata": {},
     "output_type": "display_data"
    },
    {
     "data": {
      "text/html": [
       "<span style=\"background-color:#babaff\">She</span> <span style=\"background-color:#ff0000\">rarely</span> <span style=\"background-color:#b6b6ff\">set</span> <span style=\"background-color:#fff4f4\">to</span> <span style=\"background-color:#fffafa\">work</span> <span style=\"background-color:#ffbcbc\">until</span> <span style=\"background-color:#d2d2ff\">evening</span> <span style=\"background-color:#fefeff\">.</span> \n"
      ],
      "text/plain": [
       "<IPython.core.display.HTML object>"
      ]
     },
     "metadata": {},
     "output_type": "display_data"
    },
    {
     "data": {
      "text/html": [
       "correct label: <b>but</b>"
      ],
      "text/plain": [
       "<IPython.core.display.HTML object>"
      ]
     },
     "metadata": {},
     "output_type": "display_data"
    },
    {
     "data": {
      "text/html": [
       "predict label: <b>but</b>"
      ],
      "text/plain": [
       "<IPython.core.display.HTML object>"
      ]
     },
     "metadata": {},
     "output_type": "display_data"
    },
    {
     "data": {
      "text/html": [
       "<span style=\"background-color:#ffc2c2\">It</span> <span style=\"background-color:#ff8686\">was</span> <span style=\"background-color:#fff4f4\">a</span> <span style=\"background-color:#ff0000\">bit</span> <span style=\"background-color:#ffecec\">of</span> <span style=\"background-color:#dcdcff\">a</span> <span style=\"background-color:#b8b8ff\">job</span> <span style=\"background-color:#ffdcdc\">to</span> <span style=\"background-color:#ffaeae\">manage</span> <span style=\"background-color:#ffeaea\">my</span> <span style=\"background-color:#fff0f0\">umbrella</span> <span style=\"background-color:#8080ff\">,</span> <span style=\"background-color:#f2f2ff\">my</span> <span style=\"background-color:#fefeff\">bag</span> <span style=\"background-color:#ff8686\">and</span> <span style=\"background-color:#ffe6e6\">the</span> <span style=\"background-color:#b3b3ff\">cake</span> <span style=\"background-color:#d6d6ff\">.</span> \n"
      ],
      "text/plain": [
       "<IPython.core.display.HTML object>"
      ]
     },
     "metadata": {},
     "output_type": "display_data"
    },
    {
     "data": {
      "text/html": [
       "<span style=\"background-color:#f3f3ff\">The</span> <span style=\"background-color:#9e9eff\">lady</span> <span style=\"background-color:#c3c3ff\">at</span> <span style=\"background-color:#ffc0c0\">the</span> <span style=\"background-color:#ffe4e4\">counter</span> <span style=\"background-color:#9898ff\">put</span> <span style=\"background-color:#d2d2ff\">some</span> <span style=\"background-color:#ffb0b0\">string</span> <span style=\"background-color:#f3f3ff\">around</span> <span style=\"background-color:#fff8f8\">the</span> <span style=\"background-color:#9393ff\">box</span> <span style=\"background-color:#ffe4e4\">,</span> <span style=\"background-color:#3a3aff\">which</span> <span style=\"background-color:#fffcfc\">made</span> <span style=\"background-color:#ff9a9a\">it</span> <span style=\"background-color:#ff0000\">manageable</span> <span style=\"background-color:#ffecec\">.</span> \n"
      ],
      "text/plain": [
       "<IPython.core.display.HTML object>"
      ]
     },
     "metadata": {},
     "output_type": "display_data"
    },
    {
     "data": {
      "text/html": [
       "correct label: <b>but</b>"
      ],
      "text/plain": [
       "<IPython.core.display.HTML object>"
      ]
     },
     "metadata": {},
     "output_type": "display_data"
    },
    {
     "data": {
      "text/html": [
       "predict label: <b>but</b>"
      ],
      "text/plain": [
       "<IPython.core.display.HTML object>"
      ]
     },
     "metadata": {},
     "output_type": "display_data"
    },
    {
     "data": {
      "text/html": [
       "<span style=\"background-color:#9e9eff\">His</span> <span style=\"background-color:#ff0606\">physique</span> <span style=\"background-color:#ff4c4c\">matched</span> <span style=\"background-color:#fff0f0\">boris</span> <span style=\"background-color:#0000ff\">.</span> \n"
      ],
      "text/plain": [
       "<IPython.core.display.HTML object>"
      ]
     },
     "metadata": {},
     "output_type": "display_data"
    },
    {
     "data": {
      "text/html": [
       "<span style=\"background-color:#0000ff\">He</span> <span style=\"background-color:#ff4040\">was</span> <span style=\"background-color:#ffc0c0\">much</span> <span style=\"background-color:#ffe8e8\">taller</span> <span style=\"background-color:#ffa6a6\">,</span> <span style=\"background-color:#ffa0a0\">more</span> <span style=\"background-color:#ffcccc\">tanned</span> <span style=\"background-color:#dadaff\">and</span> <span style=\"background-color:#d6d6ff\">had</span> <span style=\"background-color:#fefeff\">long</span> <span style=\"background-color:#ffbcbc\">,</span> <span style=\"background-color:#ff2e2e\">ragged</span> <span style=\"background-color:#d3d3ff\">hair</span> <span style=\"background-color:#f2f2ff\">.</span> \n"
      ],
      "text/plain": [
       "<IPython.core.display.HTML object>"
      ]
     },
     "metadata": {},
     "output_type": "display_data"
    },
    {
     "data": {
      "text/html": [
       "correct label: <b>but</b>"
      ],
      "text/plain": [
       "<IPython.core.display.HTML object>"
      ]
     },
     "metadata": {},
     "output_type": "display_data"
    },
    {
     "data": {
      "text/html": [
       "predict label: <b>but</b>"
      ],
      "text/plain": [
       "<IPython.core.display.HTML object>"
      ]
     },
     "metadata": {},
     "output_type": "display_data"
    },
    {
     "data": {
      "text/html": [
       "<span style=\"background-color:#f3f3ff\">I</span> <span style=\"background-color:#a6a6ff\">would</span> <span style=\"background-color:#ff0000\">love</span> <span style=\"background-color:#e3e3ff\">to</span> <span style=\"background-color:#fffafa\">have</span> <span style=\"background-color:#e3e3ff\">the</span> <span style=\"background-color:#d6d6ff\">time</span> <span style=\"background-color:#ffe2e2\">to</span> <span style=\"background-color:#ccccff\">spend</span> <span style=\"background-color:#e8e8ff\">with</span> <span style=\"background-color:#fff8f8\">our</span> <span style=\"background-color:#c6c6ff\">children</span> <span style=\"background-color:#8c8cff\">.</span> \n"
      ],
      "text/plain": [
       "<IPython.core.display.HTML object>"
      ]
     },
     "metadata": {},
     "output_type": "display_data"
    },
    {
     "data": {
      "text/html": [
       "<span style=\"background-color:#d6d6ff\">That</span> <span style=\"background-color:#ff8686\">'s</span> <span style=\"background-color:#ff0000\">years</span> <span style=\"background-color:#c0c0ff\">in</span> <span style=\"background-color:#fefeff\">the</span> <span style=\"background-color:#ceceff\">future</span> <span style=\"background-color:#f2f2ff\">.</span> \n"
      ],
      "text/plain": [
       "<IPython.core.display.HTML object>"
      ]
     },
     "metadata": {},
     "output_type": "display_data"
    },
    {
     "data": {
      "text/html": [
       "correct label: <b>but</b>"
      ],
      "text/plain": [
       "<IPython.core.display.HTML object>"
      ]
     },
     "metadata": {},
     "output_type": "display_data"
    },
    {
     "data": {
      "text/html": [
       "predict label: <b>but</b>"
      ],
      "text/plain": [
       "<IPython.core.display.HTML object>"
      ]
     },
     "metadata": {},
     "output_type": "display_data"
    }
   ],
   "source": [
    "for i in range(10):\n",
    "    res = get_example_by_idx('but', i)\n",
    "    display(*bilstm.visualize_example(res[0], res[1], res[2], dis_labels))"
   ]
  },
  {
   "cell_type": "code",
   "execution_count": 17,
   "metadata": {},
   "outputs": [
    {
     "data": {
      "text/html": [
       "<span style=\"background-color:#d8d8ff\">Well</span> <span style=\"background-color:#aeaeff\">i</span> <span style=\"background-color:#ff0000\">may</span> <span style=\"background-color:#ffa0a0\">be</span> <span style=\"background-color:#ffdcdc\">old</span> <span style=\"background-color:#d2d2ff\">,</span> <span style=\"background-color:#dcdcff\">keno</span> <span style=\"background-color:#b6b6ff\">.</span> \n"
      ],
      "text/plain": [
       "<IPython.core.display.HTML object>"
      ]
     },
     "metadata": {},
     "output_type": "display_data"
    },
    {
     "data": {
      "text/html": [
       "<span style=\"background-color:#e3e3ff\">I</span> <span style=\"background-color:#ffe8e8\">am</span> <span style=\"background-color:#ff0000\">neither</span> <span style=\"background-color:#eeeeff\">impaired</span> <span style=\"background-color:#eaeaff\">nor</span> <span style=\"background-color:#fff4f4\">indolent</span> <span style=\"background-color:#e8e8ff\">.</span> \n"
      ],
      "text/plain": [
       "<IPython.core.display.HTML object>"
      ]
     },
     "metadata": {},
     "output_type": "display_data"
    },
    {
     "data": {
      "text/html": [
       "correct label: <b>but</b>"
      ],
      "text/plain": [
       "<IPython.core.display.HTML object>"
      ]
     },
     "metadata": {},
     "output_type": "display_data"
    },
    {
     "data": {
      "text/html": [
       "predict label: <b>but</b>"
      ],
      "text/plain": [
       "<IPython.core.display.HTML object>"
      ]
     },
     "metadata": {},
     "output_type": "display_data"
    }
   ],
   "source": [
    "for i in range(19, 20):\n",
    "    res = get_example_by_idx('but', i)\n",
    "    display(*bilstm.visualize_example(res[0], res[1], res[2], dis_labels))"
   ]
  },
  {
   "cell_type": "code",
   "execution_count": 18,
   "metadata": {},
   "outputs": [
    {
     "data": {
      "text/html": [
       "<span style=\"background-color:#b2b2ff\">They</span> <span style=\"background-color:#aeaeff\">called</span> <span style=\"background-color:#0000ff\">the</span> <span style=\"background-color:#eaeaff\">emergency</span> <span style=\"background-color:#fff0f0\">service</span> <span style=\"background-color:#ff8a8a\">.</span> \n"
      ],
      "text/plain": [
       "<IPython.core.display.HTML object>"
      ]
     },
     "metadata": {},
     "output_type": "display_data"
    },
    {
     "data": {
      "text/html": [
       "<span style=\"background-color:#ffcece\">Mr.</span> <span style=\"background-color:#ffcece\">mccormack</span> <span style=\"background-color:#ff0000\">died</span> <span style=\"background-color:#9090ff\">from</span> <span style=\"background-color:#d0d0ff\">his</span> <span style=\"background-color:#acacff\">hemorrhage</span> <span style=\"background-color:#ffaaaa\">three</span> <span style=\"background-color:#dcdcff\">days</span> <span style=\"background-color:#c2c2ff\">.</span> \n"
      ],
      "text/plain": [
       "<IPython.core.display.HTML object>"
      ]
     },
     "metadata": {},
     "output_type": "display_data"
    },
    {
     "data": {
      "text/html": [
       "correct label: <b>but</b>"
      ],
      "text/plain": [
       "<IPython.core.display.HTML object>"
      ]
     },
     "metadata": {},
     "output_type": "display_data"
    },
    {
     "data": {
      "text/html": [
       "predict label: <b>when</b>"
      ],
      "text/plain": [
       "<IPython.core.display.HTML object>"
      ]
     },
     "metadata": {},
     "output_type": "display_data"
    },
    {
     "data": {
      "text/html": [
       "<span style=\"background-color:#b6b6ff\">It</span> <span style=\"background-color:#ff0000\">was</span> <span style=\"background-color:#ffa6a6\">such</span> <span style=\"background-color:#ffdada\">a</span> <span style=\"background-color:#ffe4e4\">strange</span> <span style=\"background-color:#8080ff\">taboo</span> <span style=\"background-color:#6666ff\">.</span> \n"
      ],
      "text/plain": [
       "<IPython.core.display.HTML object>"
      ]
     },
     "metadata": {},
     "output_type": "display_data"
    },
    {
     "data": {
      "text/html": [
       "<span style=\"background-color:#ffcece\">It</span> <span style=\"background-color:#ff9898\">was</span> <span style=\"background-color:#7979ff\">their</span> <span style=\"background-color:#0000ff\">world</span> <span style=\"background-color:#ffacac\">,</span> <span style=\"background-color:#9292ff\">after</span> <span style=\"background-color:#ffb3b3\">all</span> <span style=\"background-color:#ffb2b2\">.</span> \n"
      ],
      "text/plain": [
       "<IPython.core.display.HTML object>"
      ]
     },
     "metadata": {},
     "output_type": "display_data"
    },
    {
     "data": {
      "text/html": [
       "correct label: <b>but</b>"
      ],
      "text/plain": [
       "<IPython.core.display.HTML object>"
      ]
     },
     "metadata": {},
     "output_type": "display_data"
    },
    {
     "data": {
      "text/html": [
       "predict label: <b>but</b>"
      ],
      "text/plain": [
       "<IPython.core.display.HTML object>"
      ]
     },
     "metadata": {},
     "output_type": "display_data"
    },
    {
     "data": {
      "text/html": [
       "<span style=\"background-color:#6666ff\">Hed</span> <span style=\"background-color:#ff3636\">left</span> <span style=\"background-color:#fffefe\">his</span> <span style=\"background-color:#ffe8e8\">project</span> <span style=\"background-color:#ffd0d0\">in</span> <span style=\"background-color:#ffdcdc\">the</span> <span style=\"background-color:#9393ff\">vice</span> <span style=\"background-color:#0000ff\">and</span> <span style=\"background-color:#ffc3c3\">tools</span> <span style=\"background-color:#f8f8ff\">on</span> <span style=\"background-color:#fff6f6\">the</span> <span style=\"background-color:#fcfcff\">bench</span> <span style=\"background-color:#a8a8ff\">.</span> \n"
      ],
      "text/plain": [
       "<IPython.core.display.HTML object>"
      ]
     },
     "metadata": {},
     "output_type": "display_data"
    },
    {
     "data": {
      "text/html": [
       "<span style=\"background-color:#ff0000\">Collected</span> <span style=\"background-color:#ff8282\">the</span> <span style=\"background-color:#fffafa\">lord</span> <span style=\"background-color:#fefeff\">anthony</span> <span style=\"background-color:#f8f8ff\">parka</span> <span style=\"background-color:#ffcece\">coat</span> <span style=\"background-color:#ffe8e8\">his</span> <span style=\"background-color:#e8e8ff\">aunt</span> <span style=\"background-color:#acacff\">had</span> <span style=\"background-color:#d2d2ff\">bought</span> <span style=\"background-color:#e6e6ff\">him</span> <span style=\"background-color:#ffe6e6\">that</span> <span style=\"background-color:#ccccff\">christmas</span> <span style=\"background-color:#fff2f2\">.</span> \n"
      ],
      "text/plain": [
       "<IPython.core.display.HTML object>"
      ]
     },
     "metadata": {},
     "output_type": "display_data"
    },
    {
     "data": {
      "text/html": [
       "correct label: <b>but</b>"
      ],
      "text/plain": [
       "<IPython.core.display.HTML object>"
      ]
     },
     "metadata": {},
     "output_type": "display_data"
    },
    {
     "data": {
      "text/html": [
       "predict label: <b>and</b>"
      ],
      "text/plain": [
       "<IPython.core.display.HTML object>"
      ]
     },
     "metadata": {},
     "output_type": "display_data"
    },
    {
     "data": {
      "text/html": [
       "<span style=\"background-color:#ffd2d2\">I</span> <span style=\"background-color:#f8f8ff\">had</span> <span style=\"background-color:#ff6666\">no</span> <span style=\"background-color:#ff0000\">idea</span> <span style=\"background-color:#c0c0ff\">how</span> <span style=\"background-color:#c3c3ff\">we</span> <span style=\"background-color:#ffa0a0\">were</span> <span style=\"background-color:#fff6f6\">going</span> <span style=\"background-color:#dedeff\">to</span> <span style=\"background-color:#ffe4e4\">put</span> <span style=\"background-color:#fffcfc\">them</span> <span style=\"background-color:#d8d8ff\">together</span> <span style=\"background-color:#fffcfc\">to</span> <span style=\"background-color:#aeaeff\">make</span> <span style=\"background-color:#fafaff\">a</span> <span style=\"background-color:#fffefe\">shelter</span> <span style=\"background-color:#a3a3ff\">.</span> \n"
      ],
      "text/plain": [
       "<IPython.core.display.HTML object>"
      ]
     },
     "metadata": {},
     "output_type": "display_data"
    },
    {
     "data": {
      "text/html": [
       "<span style=\"background-color:#0000ff\">I</span> <span style=\"background-color:#b3b3ff\">'d</span> <span style=\"background-color:#8888ff\">leave</span> <span style=\"background-color:#ff1616\">that</span> <span style=\"background-color:#f2f2ff\">up</span> <span style=\"background-color:#ffcece\">to</span> <span style=\"background-color:#4848ff\">him</span> <span style=\"background-color:#f2f2ff\">to</span> <span style=\"background-color:#ffc3c3\">figure</span> <span style=\"background-color:#ffe4e4\">out</span> <span style=\"background-color:#d6d6ff\">.</span> \n"
      ],
      "text/plain": [
       "<IPython.core.display.HTML object>"
      ]
     },
     "metadata": {},
     "output_type": "display_data"
    },
    {
     "data": {
      "text/html": [
       "correct label: <b>but</b>"
      ],
      "text/plain": [
       "<IPython.core.display.HTML object>"
      ]
     },
     "metadata": {},
     "output_type": "display_data"
    },
    {
     "data": {
      "text/html": [
       "predict label: <b>but</b>"
      ],
      "text/plain": [
       "<IPython.core.display.HTML object>"
      ]
     },
     "metadata": {},
     "output_type": "display_data"
    },
    {
     "data": {
      "text/html": [
       "<span style=\"background-color:#f6f6ff\">I</span> <span style=\"background-color:#ff0000\">tried</span> <span style=\"background-color:#eaeaff\">to</span> <span style=\"background-color:#ffe2e2\">lift</span> <span style=\"background-color:#fcfcff\">my</span> <span style=\"background-color:#fff2f2\">hand</span> <span style=\"background-color:#fefeff\">up</span> <span style=\"background-color:#ceceff\">.</span> \n"
      ],
      "text/plain": [
       "<IPython.core.display.HTML object>"
      ]
     },
     "metadata": {},
     "output_type": "display_data"
    },
    {
     "data": {
      "text/html": [
       "<span style=\"background-color:#0000ff\">Cyrus</span> <span style=\"background-color:#3636ff\">placed</span> <span style=\"background-color:#fff2f2\">his</span> <span style=\"background-color:#ff8888\">own</span> <span style=\"background-color:#ffaaaa\">on</span> <span style=\"background-color:#e3e3ff\">top</span> <span style=\"background-color:#ffbebe\">,</span> <span style=\"background-color:#ff4444\">locking</span> <span style=\"background-color:#d0d0ff\">mine</span> <span style=\"background-color:#fff0f0\">against</span> <span style=\"background-color:#ffdede\">the</span> <span style=\"background-color:#fff0f0\">wax</span> <span style=\"background-color:#c3c3ff\">of</span> <span style=\"background-color:#fafaff\">the</span> <span style=\"background-color:#ffe8e8\">man</span> <span style=\"background-color:#fffefe\">'s</span> <span style=\"background-color:#c2c2ff\">skin</span> <span style=\"background-color:#ffbcbc\">.</span> \n"
      ],
      "text/plain": [
       "<IPython.core.display.HTML object>"
      ]
     },
     "metadata": {},
     "output_type": "display_data"
    },
    {
     "data": {
      "text/html": [
       "correct label: <b>but</b>"
      ],
      "text/plain": [
       "<IPython.core.display.HTML object>"
      ]
     },
     "metadata": {},
     "output_type": "display_data"
    },
    {
     "data": {
      "text/html": [
       "predict label: <b>but</b>"
      ],
      "text/plain": [
       "<IPython.core.display.HTML object>"
      ]
     },
     "metadata": {},
     "output_type": "display_data"
    },
    {
     "data": {
      "text/html": [
       "<span style=\"background-color:#fffcfc\">The</span> <span style=\"background-color:#ffdede\">current</span> <span style=\"background-color:#ffc0c0\">building</span> <span style=\"background-color:#ff0000\">was</span> <span style=\"background-color:#2020ff\">only</span> <span style=\"background-color:#fffafa\">a</span> <span style=\"background-color:#fff0f0\">century</span> <span style=\"background-color:#b2b2ff\">or</span> <span style=\"background-color:#7070ff\">so</span> <span style=\"background-color:#fff2f2\">old</span> <span style=\"background-color:#8888ff\">.</span> \n"
      ],
      "text/plain": [
       "<IPython.core.display.HTML object>"
      ]
     },
     "metadata": {},
     "output_type": "display_data"
    },
    {
     "data": {
      "text/html": [
       "<span style=\"background-color:#fffefe\">It</span> <span style=\"background-color:#ff0000\">still</span> <span style=\"background-color:#e3e3ff\">had</span> <span style=\"background-color:#f2f2ff\">the</span> <span style=\"background-color:#eeeeff\">resonances</span> <span style=\"background-color:#fff8f8\">of</span> <span style=\"background-color:#fff6f6\">a</span> <span style=\"background-color:#d2d2ff\">planet</span> <span style=\"background-color:#f6f6ff\">'s</span> <span style=\"background-color:#fcfcff\">biography</span> <span style=\"background-color:#fafaff\">.</span> \n"
      ],
      "text/plain": [
       "<IPython.core.display.HTML object>"
      ]
     },
     "metadata": {},
     "output_type": "display_data"
    },
    {
     "data": {
      "text/html": [
       "correct label: <b>but</b>"
      ],
      "text/plain": [
       "<IPython.core.display.HTML object>"
      ]
     },
     "metadata": {},
     "output_type": "display_data"
    },
    {
     "data": {
      "text/html": [
       "predict label: <b>but</b>"
      ],
      "text/plain": [
       "<IPython.core.display.HTML object>"
      ]
     },
     "metadata": {},
     "output_type": "display_data"
    },
    {
     "data": {
      "text/html": [
       "<span style=\"background-color:#f2f2ff\">He</span> <span style=\"background-color:#ff0000\">attempted</span> <span style=\"background-color:#dedeff\">to</span> <span style=\"background-color:#ffe6e6\">call</span> <span style=\"background-color:#fefeff\">out</span> <span style=\"background-color:#fefeff\">for</span> <span style=\"background-color:#fff4f4\">help</span> <span style=\"background-color:#c8c8ff\">.</span> \n"
      ],
      "text/plain": [
       "<IPython.core.display.HTML object>"
      ]
     },
     "metadata": {},
     "output_type": "display_data"
    },
    {
     "data": {
      "text/html": [
       "<span style=\"background-color:#ff0000\">Found</span> <span style=\"background-color:#b2b2ff\">he</span> <span style=\"background-color:#ffb2b2\">could</span> <span style=\"background-color:#ff9e9e\">only</span> <span style=\"background-color:#e6e6ff\">make</span> <span style=\"background-color:#ececff\">an</span> <span style=\"background-color:#fffafa\">indistinguishable</span> <span style=\"background-color:#ffd8d8\">noise</span> <span style=\"background-color:#eeeeff\">,</span> <span style=\"background-color:#ffc0c0\">and</span> <span style=\"background-color:#fff6f6\">that</span> <span style=\"background-color:#ffe6e6\">it</span> <span style=\"background-color:#fff4f4\">hurt</span> <span style=\"background-color:#eeeeff\">his</span> <span style=\"background-color:#f8f8ff\">jaw</span> <span style=\"background-color:#fffafa\">quite</span> <span style=\"background-color:#ffe0e0\">profoundly</span> <span style=\"background-color:#ececff\">to</span> <span style=\"background-color:#f0f0ff\">even</span> <span style=\"background-color:#e8e8ff\">do</span> <span style=\"background-color:#ffc8c8\">that</span> <span style=\"background-color:#ffdcdc\">.</span> \n"
      ],
      "text/plain": [
       "<IPython.core.display.HTML object>"
      ]
     },
     "metadata": {},
     "output_type": "display_data"
    },
    {
     "data": {
      "text/html": [
       "correct label: <b>but</b>"
      ],
      "text/plain": [
       "<IPython.core.display.HTML object>"
      ]
     },
     "metadata": {},
     "output_type": "display_data"
    },
    {
     "data": {
      "text/html": [
       "predict label: <b>but</b>"
      ],
      "text/plain": [
       "<IPython.core.display.HTML object>"
      ]
     },
     "metadata": {},
     "output_type": "display_data"
    },
    {
     "data": {
      "text/html": [
       "<span style=\"background-color:#4848ff\">Moving</span> <span style=\"background-color:#ff9292\">his</span> <span style=\"background-color:#4e4eff\">hand</span> <span style=\"background-color:#d6d6ff\">meant</span> <span style=\"background-color:#ff8383\">he</span> <span style=\"background-color:#ececff\">let</span> <span style=\"background-color:#ccccff\">go</span> <span style=\"background-color:#ffb3b3\">a</span> <span style=\"background-color:#dedeff\">bare</span> <span style=\"background-color:#eeeeff\">shadow</span> <span style=\"background-color:#fefeff\">of</span> <span style=\"background-color:#e6e6ff\">a</span> <span style=\"background-color:#ffd0d0\">bit</span> <span style=\"background-color:#ff0000\">.</span> \n"
      ],
      "text/plain": [
       "<IPython.core.display.HTML object>"
      ]
     },
     "metadata": {},
     "output_type": "display_data"
    },
    {
     "data": {
      "text/html": [
       "<span style=\"background-color:#ffacac\">It</span> <span style=\"background-color:#ff0000\">were</span> <span style=\"background-color:#8e8eff\">all</span> <span style=\"background-color:#ffc0c0\">i</span> <span style=\"background-color:#ffe6e6\">needed</span> <span style=\"background-color:#fffafa\">.</span> \n"
      ],
      "text/plain": [
       "<IPython.core.display.HTML object>"
      ]
     },
     "metadata": {},
     "output_type": "display_data"
    },
    {
     "data": {
      "text/html": [
       "correct label: <b>but</b>"
      ],
      "text/plain": [
       "<IPython.core.display.HTML object>"
      ]
     },
     "metadata": {},
     "output_type": "display_data"
    },
    {
     "data": {
      "text/html": [
       "predict label: <b>if</b>"
      ],
      "text/plain": [
       "<IPython.core.display.HTML object>"
      ]
     },
     "metadata": {},
     "output_type": "display_data"
    },
    {
     "data": {
      "text/html": [
       "<span style=\"background-color:#0000ff\">Today</span> <span style=\"background-color:#ff5c5c\">was</span> <span style=\"background-color:#ffaaaa\">unseasonably</span> <span style=\"background-color:#ff1010\">cold</span> <span style=\"background-color:#ff6868\">for</span> <span style=\"background-color:#fffcfc\">the</span> <span style=\"background-color:#fefeff\">end</span> <span style=\"background-color:#fff0f0\">of</span> <span style=\"background-color:#ff6969\">june</span> <span style=\"background-color:#9090ff\">.</span> \n"
      ],
      "text/plain": [
       "<IPython.core.display.HTML object>"
      ]
     },
     "metadata": {},
     "output_type": "display_data"
    },
    {
     "data": {
      "text/html": [
       "<span style=\"background-color:#ff0000\">Perhaps</span> <span style=\"background-color:#d8d8ff\">to</span> <span style=\"background-color:#f2f2ff\">a</span> <span style=\"background-color:#aeaeff\">child</span> <span style=\"background-color:#ffd6d6\">who</span> <span style=\"background-color:#e0e0ff\">raced</span> <span style=\"background-color:#ffdada\">and</span> <span style=\"background-color:#ffeeee\">played</span> <span style=\"background-color:#ffd3d3\">it</span> <span style=\"background-color:#f0f0ff\">was</span> <span style=\"background-color:#f0f0ff\">pleasant</span> <span style=\"background-color:#f3f3ff\">.</span> \n"
      ],
      "text/plain": [
       "<IPython.core.display.HTML object>"
      ]
     },
     "metadata": {},
     "output_type": "display_data"
    },
    {
     "data": {
      "text/html": [
       "correct label: <b>but</b>"
      ],
      "text/plain": [
       "<IPython.core.display.HTML object>"
      ]
     },
     "metadata": {},
     "output_type": "display_data"
    },
    {
     "data": {
      "text/html": [
       "predict label: <b>but</b>"
      ],
      "text/plain": [
       "<IPython.core.display.HTML object>"
      ]
     },
     "metadata": {},
     "output_type": "display_data"
    },
    {
     "data": {
      "text/html": [
       "<span style=\"background-color:#7979ff\">It</span> <span style=\"background-color:#ff1111\">was</span> <span style=\"background-color:#babaff\">pretty</span> <span style=\"background-color:#ffb8b8\">hard</span> <span style=\"background-color:#ff2121\">work</span> <span style=\"background-color:#0000ff\">.</span> \n"
      ],
      "text/plain": [
       "<IPython.core.display.HTML object>"
      ]
     },
     "metadata": {},
     "output_type": "display_data"
    },
    {
     "data": {
      "text/html": [
       "<span style=\"background-color:#ff0000\">Oddly</span> <span style=\"background-color:#ff9a9a\">enough</span> <span style=\"background-color:#9e9eff\">everyone</span> <span style=\"background-color:#ffd3d3\">felt</span> <span style=\"background-color:#ffa6a6\">more</span> <span style=\"background-color:#ffb2b2\">cheerful</span> <span style=\"background-color:#eaeaff\">.</span> \n"
      ],
      "text/plain": [
       "<IPython.core.display.HTML object>"
      ]
     },
     "metadata": {},
     "output_type": "display_data"
    },
    {
     "data": {
      "text/html": [
       "correct label: <b>but</b>"
      ],
      "text/plain": [
       "<IPython.core.display.HTML object>"
      ]
     },
     "metadata": {},
     "output_type": "display_data"
    },
    {
     "data": {
      "text/html": [
       "predict label: <b>but</b>"
      ],
      "text/plain": [
       "<IPython.core.display.HTML object>"
      ]
     },
     "metadata": {},
     "output_type": "display_data"
    }
   ],
   "source": [
    "for i in range(20, 30):\n",
    "    res = get_example_by_idx('but', i)\n",
    "    display(*bilstm.visualize_example(res[0], res[1], res[2], dis_labels))"
   ]
  },
  {
   "cell_type": "code",
   "execution_count": 21,
   "metadata": {
    "scrolled": true
   },
   "outputs": [
    {
     "data": {
      "text/html": [
       "<span style=\"background-color:#dcdcff\">This</span> <span style=\"background-color:#2626ff\">must</span> <span style=\"background-color:#ffa8a8\">be</span> <span style=\"background-color:#ffc8c8\">the</span> <span style=\"background-color:#8c8cff\">glorious</span> <span style=\"background-color:#ccccff\">antonia</span> <span style=\"background-color:#ffa2a2\">,</span> <span style=\"background-color:#e3e3ff\">a</span> <span style=\"background-color:#ff8686\">mediterranean</span> <span style=\"background-color:#eeeeff\">signora</span> <span style=\"background-color:#dedeff\">whom</span> <span style=\"background-color:#fff2f2\">i</span> <span style=\"background-color:#ffb3b3\">have</span> <span style=\"background-color:#0000ff\">never</span> <span style=\"background-color:#ff4949\">met</span> <span style=\"background-color:#c8c8ff\">.</span> <span style=\"background-color:#ff9393\">''</span> <span style=\"background-color:#aeaeff\">.</span> \n"
      ],
      "text/plain": [
       "<IPython.core.display.HTML object>"
      ]
     },
     "metadata": {},
     "output_type": "display_data"
    },
    {
     "data": {
      "text/html": [
       "<span style=\"background-color:#2424ff\">I</span> <span style=\"background-color:#f6f6ff\">spend</span> <span style=\"background-color:#ff9a9a\">the</span> <span style=\"background-color:#ffdede\">moments</span> <span style=\"background-color:#ffdada\">in</span> <span style=\"background-color:#ffb3b3\">great</span> <span style=\"background-color:#ff6161\">anticipation</span> <span style=\"background-color:#ff9393\">when</span> <span style=\"background-color:#dadaff\">i</span> <span style=\"background-color:#ff0000\">shall</span> <span style=\"background-color:#fafaff\">have</span> <span style=\"background-color:#fff8f8\">the</span> <span style=\"background-color:#ffbaba\">honor</span> <span style=\"background-color:#4040ff\">and</span> <span style=\"background-color:#f6f6ff\">the</span> <span style=\"background-color:#f3f3ff\">privilege</span> <span style=\"background-color:#ffdede\">to</span> <span style=\"background-color:#d0d0ff\">do</span> <span style=\"background-color:#fff6f6\">.</span> \n"
      ],
      "text/plain": [
       "<IPython.core.display.HTML object>"
      ]
     },
     "metadata": {},
     "output_type": "display_data"
    },
    {
     "data": {
      "text/html": [
       "correct label: <b>but</b>"
      ],
      "text/plain": [
       "<IPython.core.display.HTML object>"
      ]
     },
     "metadata": {},
     "output_type": "display_data"
    },
    {
     "data": {
      "text/html": [
       "predict label: <b>and</b>"
      ],
      "text/plain": [
       "<IPython.core.display.HTML object>"
      ]
     },
     "metadata": {},
     "output_type": "display_data"
    },
    {
     "data": {
      "text/html": [
       "<span style=\"background-color:#fffafa\">``</span> <span style=\"background-color:#ff0000\">been</span> <span style=\"background-color:#e0e0ff\">steerin</span> <span style=\"background-color:#e3e3ff\">'</span> <span style=\"background-color:#7c7cff\">clear</span> <span style=\"background-color:#ffb0b0\">of</span> <span style=\"background-color:#fff4f4\">this</span> <span style=\"background-color:#ffaeae\">,</span> <span style=\"background-color:#ff8686\">big</span> <span style=\"background-color:#fefeff\">man</span> <span style=\"background-color:#e2e2ff\">,</span> <span style=\"background-color:#a3a3ff\">''</span> <span style=\"background-color:#6868ff\">.</span> \n"
      ],
      "text/plain": [
       "<IPython.core.display.HTML object>"
      ]
     },
     "metadata": {},
     "output_type": "display_data"
    },
    {
     "data": {
      "text/html": [
       "<span style=\"background-color:#0000ff\">You</span> <span style=\"background-color:#ff3131\">have</span> <span style=\"background-color:#8e8eff\">to</span> <span style=\"background-color:#ccccff\">have</span> <span style=\"background-color:#c0c0ff\">heard</span> <span style=\"background-color:#fff6f6\">.</span> \n"
      ],
      "text/plain": [
       "<IPython.core.display.HTML object>"
      ]
     },
     "metadata": {},
     "output_type": "display_data"
    },
    {
     "data": {
      "text/html": [
       "correct label: <b>but</b>"
      ],
      "text/plain": [
       "<IPython.core.display.HTML object>"
      ]
     },
     "metadata": {},
     "output_type": "display_data"
    },
    {
     "data": {
      "text/html": [
       "predict label: <b>but</b>"
      ],
      "text/plain": [
       "<IPython.core.display.HTML object>"
      ]
     },
     "metadata": {},
     "output_type": "display_data"
    },
    {
     "data": {
      "text/html": [
       "<span style=\"background-color:#9c9cff\">After</span> <span style=\"background-color:#fafaff\">the</span> <span style=\"background-color:#f0f0ff\">ordeal</span> <span style=\"background-color:#d6d6ff\">a</span> <span style=\"background-color:#e0e0ff\">year</span> <span style=\"background-color:#ffcaca\">ago</span> <span style=\"background-color:#fffefe\">,</span> <span style=\"background-color:#a2a2ff\">he</span> <span style=\"background-color:#ffdcdc\">and</span> <span style=\"background-color:#e8e8ff\">jenny</span> <span style=\"background-color:#ffb8b8\">had</span> <span style=\"background-color:#ff0000\">considered</span> <span style=\"background-color:#cacaff\">adopting</span> <span style=\"background-color:#f2f2ff\">the</span> <span style=\"background-color:#ffaaaa\">boy</span> <span style=\"background-color:#d6d6ff\">.</span> \n"
      ],
      "text/plain": [
       "<IPython.core.display.HTML object>"
      ]
     },
     "metadata": {},
     "output_type": "display_data"
    },
    {
     "data": {
      "text/html": [
       "<span style=\"background-color:#0000ff\">They</span> <span style=\"background-color:#ff9a9a\">had</span> <span style=\"background-color:#ff0101\">too</span> <span style=\"background-color:#9e9eff\">much</span> <span style=\"background-color:#d8d8ff\">to</span> <span style=\"background-color:#d6d6ff\">heal</span> <span style=\"background-color:#ffeaea\">between</span> <span style=\"background-color:#d2d2ff\">themselves</span> <span style=\"background-color:#ffc8c8\">.</span> \n"
      ],
      "text/plain": [
       "<IPython.core.display.HTML object>"
      ]
     },
     "metadata": {},
     "output_type": "display_data"
    },
    {
     "data": {
      "text/html": [
       "correct label: <b>but</b>"
      ],
      "text/plain": [
       "<IPython.core.display.HTML object>"
      ]
     },
     "metadata": {},
     "output_type": "display_data"
    },
    {
     "data": {
      "text/html": [
       "predict label: <b>but</b>"
      ],
      "text/plain": [
       "<IPython.core.display.HTML object>"
      ]
     },
     "metadata": {},
     "output_type": "display_data"
    },
    {
     "data": {
      "text/html": [
       "<span style=\"background-color:#e6e6ff\">She</span> <span style=\"background-color:#ff0000\">started</span> <span style=\"background-color:#fff8f8\">to</span> <span style=\"background-color:#ff6969\">say</span> <span style=\"background-color:#3a3aff\">how</span> <span style=\"background-color:#ff8a8a\">sorry</span> <span style=\"background-color:#bebeff\">she</span> <span style=\"background-color:#f6f6ff\">was</span> <span style=\"background-color:#d2d2ff\">.</span> <span style=\"background-color:#d2d2ff\">''</span> <span style=\"background-color:#dedeff\">.</span> \n"
      ],
      "text/plain": [
       "<IPython.core.display.HTML object>"
      ]
     },
     "metadata": {},
     "output_type": "display_data"
    },
    {
     "data": {
      "text/html": [
       "<span style=\"background-color:#b3b3ff\">He</span> <span style=\"background-color:#ff7070\">shook</span> <span style=\"background-color:#babaff\">his</span> <span style=\"background-color:#ff9393\">head</span> <span style=\"background-color:#ffcece\">and</span> <span style=\"background-color:#ffb6b6\">said</span> <span style=\"background-color:#ffdcdc\">,</span> <span style=\"background-color:#f8f8ff\">``</span> <span style=\"background-color:#0000ff\">but</span> <span style=\"background-color:#fcfcff\">i</span> <span style=\"background-color:#ffe0e0\">miss</span> <span style=\"background-color:#9e9eff\">you</span> <span style=\"background-color:#ffdede\">,</span> <span style=\"background-color:#ffd0d0\">too</span> <span style=\"background-color:#ffeaea\">,</span> <span style=\"background-color:#fff0f0\">lexi</span> <span style=\"background-color:#ffecec\">.</span> \n"
      ],
      "text/plain": [
       "<IPython.core.display.HTML object>"
      ]
     },
     "metadata": {},
     "output_type": "display_data"
    },
    {
     "data": {
      "text/html": [
       "correct label: <b>but</b>"
      ],
      "text/plain": [
       "<IPython.core.display.HTML object>"
      ]
     },
     "metadata": {},
     "output_type": "display_data"
    },
    {
     "data": {
      "text/html": [
       "predict label: <b>but</b>"
      ],
      "text/plain": [
       "<IPython.core.display.HTML object>"
      ]
     },
     "metadata": {},
     "output_type": "display_data"
    },
    {
     "data": {
      "text/html": [
       "<span style=\"background-color:#ff0000\">I</span> <span style=\"background-color:#2020ff\">want</span> <span style=\"background-color:#f0f0ff\">to</span> <span style=\"background-color:#d0d0ff\">make</span> <span style=\"background-color:#ffa0a0\">my</span> <span style=\"background-color:#f2f2ff\">tomato</span> <span style=\"background-color:#9a9aff\">and</span> <span style=\"background-color:#ffe2e2\">green</span> <span style=\"background-color:#ffe6e6\">bean</span> <span style=\"background-color:#aeaeff\">salad</span> <span style=\"background-color:#1616ff\">,</span> <span style=\"background-color:#3e3eff\">spicy</span> <span style=\"background-color:#babaff\">cucumber</span> <span style=\"background-color:#dedeff\">slaw</span> <span style=\"background-color:#fff4f4\">and</span> <span style=\"background-color:#ffdede\">chocolate-filled</span> <span style=\"background-color:#ffdada\">raspberries</span> <span style=\"background-color:#b2b2ff\">.</span> \n"
      ],
      "text/plain": [
       "<IPython.core.display.HTML object>"
      ]
     },
     "metadata": {},
     "output_type": "display_data"
    },
    {
     "data": {
      "text/html": [
       "<span style=\"background-color:#d3d3ff\">I</span> <span style=\"background-color:#ff0000\">always</span> <span style=\"background-color:#8e8eff\">get</span> <span style=\"background-color:#ffd8d8\">avocados</span> <span style=\"background-color:#eaeaff\">,</span> <span style=\"background-color:#f8f8ff\">broccoli</span> <span style=\"background-color:#f6f6ff\">,</span> <span style=\"background-color:#f6f6ff\">spinach</span> <span style=\"background-color:#ffecec\">,</span> <span style=\"background-color:#dedeff\">and</span> <span style=\"background-color:#fffefe\">cauliflower</span> <span style=\"background-color:#e6e6ff\">.</span> \n"
      ],
      "text/plain": [
       "<IPython.core.display.HTML object>"
      ]
     },
     "metadata": {},
     "output_type": "display_data"
    },
    {
     "data": {
      "text/html": [
       "correct label: <b>but</b>"
      ],
      "text/plain": [
       "<IPython.core.display.HTML object>"
      ]
     },
     "metadata": {},
     "output_type": "display_data"
    },
    {
     "data": {
      "text/html": [
       "predict label: <b>because</b>"
      ],
      "text/plain": [
       "<IPython.core.display.HTML object>"
      ]
     },
     "metadata": {},
     "output_type": "display_data"
    },
    {
     "data": {
      "text/html": [
       "<span style=\"background-color:#ffb6b6\">At</span> <span style=\"background-color:#7878ff\">the</span> <span style=\"background-color:#dadaff\">time</span> <span style=\"background-color:#ffd8d8\">,</span> <span style=\"background-color:#a6a6ff\">she</span> <span style=\"background-color:#b6b6ff\">had</span> <span style=\"background-color:#ff0000\">meant</span> <span style=\"background-color:#aeaeff\">what</span> <span style=\"background-color:#f0f0ff\">she</span> <span style=\"background-color:#ccccff\">'d</span> <span style=\"background-color:#ff7676\">said</span> <span style=\"background-color:#7e7eff\">.</span> \n"
      ],
      "text/plain": [
       "<IPython.core.display.HTML object>"
      ]
     },
     "metadata": {},
     "output_type": "display_data"
    },
    {
     "data": {
      "text/html": [
       "<span style=\"background-color:#ff0000\">Now</span> <span style=\"background-color:#ff2c2c\">...</span> <span style=\"background-color:#bebeff\">``</span> <span style=\"background-color:#5c5cff\">i</span> <span style=\"background-color:#fff2f2\">'m</span> <span style=\"background-color:#f8f8ff\">sorry</span> <span style=\"background-color:#d6d6ff\">for</span> <span style=\"background-color:#ff8888\">saying</span> <span style=\"background-color:#ff9a9a\">that</span> <span style=\"background-color:#ffe4e4\">.</span> \n"
      ],
      "text/plain": [
       "<IPython.core.display.HTML object>"
      ]
     },
     "metadata": {},
     "output_type": "display_data"
    },
    {
     "data": {
      "text/html": [
       "correct label: <b>but</b>"
      ],
      "text/plain": [
       "<IPython.core.display.HTML object>"
      ]
     },
     "metadata": {},
     "output_type": "display_data"
    },
    {
     "data": {
      "text/html": [
       "predict label: <b>but</b>"
      ],
      "text/plain": [
       "<IPython.core.display.HTML object>"
      ]
     },
     "metadata": {},
     "output_type": "display_data"
    },
    {
     "data": {
      "text/html": [
       "<span style=\"background-color:#ff7878\">For</span> <span style=\"background-color:#ffe6e6\">the</span> <span style=\"background-color:#ff1818\">prophesies</span> <span style=\"background-color:#ff0000\">were</span> <span style=\"background-color:#ffe2e2\">known</span> <span style=\"background-color:#8383ff\">.</span> \n"
      ],
      "text/plain": [
       "<IPython.core.display.HTML object>"
      ]
     },
     "metadata": {},
     "output_type": "display_data"
    },
    {
     "data": {
      "text/html": [
       "<span style=\"background-color:#d0d0ff\">They</span> <span style=\"background-color:#0000ff\">were</span> <span style=\"background-color:#ff7979\">far</span> <span style=\"background-color:#e3e3ff\">from</span> <span style=\"background-color:#ffcaca\">clear</span> <span style=\"background-color:#ffcece\">.</span> \n"
      ],
      "text/plain": [
       "<IPython.core.display.HTML object>"
      ]
     },
     "metadata": {},
     "output_type": "display_data"
    },
    {
     "data": {
      "text/html": [
       "correct label: <b>but</b>"
      ],
      "text/plain": [
       "<IPython.core.display.HTML object>"
      ]
     },
     "metadata": {},
     "output_type": "display_data"
    },
    {
     "data": {
      "text/html": [
       "predict label: <b>and</b>"
      ],
      "text/plain": [
       "<IPython.core.display.HTML object>"
      ]
     },
     "metadata": {},
     "output_type": "display_data"
    },
    {
     "data": {
      "text/html": [
       "<span style=\"background-color:#ff6e6e\">Wincing</span> <span style=\"background-color:#7e7eff\">at</span> <span style=\"background-color:#babaff\">first</span> <span style=\"background-color:#ff2c2c\">from</span> <span style=\"background-color:#ff9090\">the</span> <span style=\"background-color:#aaaaff\">sting</span> <span style=\"background-color:#0000ff\">.</span> \n"
      ],
      "text/plain": [
       "<IPython.core.display.HTML object>"
      ]
     },
     "metadata": {},
     "output_type": "display_data"
    },
    {
     "data": {
      "text/html": [
       "<span style=\"background-color:#ff0000\">Then</span> <span style=\"background-color:#fff2f2\">letting</span> <span style=\"background-color:#ffe6e6\">out</span> <span style=\"background-color:#fff6f6\">a</span> <span style=\"background-color:#ffd6d6\">relieved</span> <span style=\"background-color:#ffe0e0\">breath</span> <span style=\"background-color:#ffb3b3\">as</span> <span style=\"background-color:#fffafa\">the</span> <span style=\"background-color:#fff2f2\">cold</span> <span style=\"background-color:#d3d3ff\">begins</span> <span style=\"background-color:#f0f0ff\">to</span> <span style=\"background-color:#ffe2e2\">soothe</span> <span style=\"background-color:#fffcfc\">the</span> <span style=\"background-color:#f0f0ff\">heat</span> <span style=\"background-color:#ffeaea\">.</span> \n"
      ],
      "text/plain": [
       "<IPython.core.display.HTML object>"
      ]
     },
     "metadata": {},
     "output_type": "display_data"
    },
    {
     "data": {
      "text/html": [
       "correct label: <b>but</b>"
      ],
      "text/plain": [
       "<IPython.core.display.HTML object>"
      ]
     },
     "metadata": {},
     "output_type": "display_data"
    },
    {
     "data": {
      "text/html": [
       "predict label: <b>and</b>"
      ],
      "text/plain": [
       "<IPython.core.display.HTML object>"
      ]
     },
     "metadata": {},
     "output_type": "display_data"
    },
    {
     "data": {
      "text/html": [
       "<span style=\"background-color:#ffa3a3\">Tim</span> <span style=\"background-color:#ff0000\">knew</span> <span style=\"background-color:#9e9eff\">i</span> <span style=\"background-color:#ff9e9e\">was</span> <span style=\"background-color:#c2c2ff\">in</span> <span style=\"background-color:#ccccff\">love</span> <span style=\"background-color:#fff8f8\">with</span> <span style=\"background-color:#fefeff\">you</span> <span style=\"background-color:#b8b8ff\">.</span> \n"
      ],
      "text/plain": [
       "<IPython.core.display.HTML object>"
      ]
     },
     "metadata": {},
     "output_type": "display_data"
    },
    {
     "data": {
      "text/html": [
       "<span style=\"background-color:#6e6eff\">He</span> <span style=\"background-color:#ff8888\">was</span> <span style=\"background-color:#ffd8d8\">there</span> <span style=\"background-color:#fcfcff\">,</span> <span style=\"background-color:#0000ff\">you</span> <span style=\"background-color:#ff4c4c\">know</span> <span style=\"background-color:#fefeff\">.</span> \n"
      ],
      "text/plain": [
       "<IPython.core.display.HTML object>"
      ]
     },
     "metadata": {},
     "output_type": "display_data"
    },
    {
     "data": {
      "text/html": [
       "correct label: <b>but</b>"
      ],
      "text/plain": [
       "<IPython.core.display.HTML object>"
      ]
     },
     "metadata": {},
     "output_type": "display_data"
    },
    {
     "data": {
      "text/html": [
       "predict label: <b>but</b>"
      ],
      "text/plain": [
       "<IPython.core.display.HTML object>"
      ]
     },
     "metadata": {},
     "output_type": "display_data"
    },
    {
     "data": {
      "text/html": [
       "<span style=\"background-color:#0000ff\">How</span> <span style=\"background-color:#c6c6ff\">can</span> <span style=\"background-color:#fff2f2\">i</span> <span style=\"background-color:#ffc2c2\">do</span> <span style=\"background-color:#ff3c3c\">anything</span> <span style=\"background-color:#7474ff\">.</span> \n"
      ],
      "text/plain": [
       "<IPython.core.display.HTML object>"
      ]
     },
     "metadata": {},
     "output_type": "display_data"
    },
    {
     "data": {
      "text/html": [
       "<span style=\"background-color:#ff0000\">Wait</span> <span style=\"background-color:#e6e6ff\">while</span> <span style=\"background-color:#ececff\">my</span> <span style=\"background-color:#c8c8ff\">father</span> <span style=\"background-color:#ffe6e6\">faces</span> <span style=\"background-color:#fefeff\">the</span> <span style=\"background-color:#fff2f2\">lethal</span> <span style=\"background-color:#ccccff\">bots</span> <span style=\"background-color:#f6f6ff\">to</span> <span style=\"background-color:#fff8f8\">try</span> <span style=\"background-color:#ffe2e2\">and</span> <span style=\"background-color:#f6f6ff\">save</span> <span style=\"background-color:#f3f3ff\">my</span> <span style=\"background-color:#fcfcff\">sister</span> <span style=\"background-color:#fffcfc\">.</span> \n"
      ],
      "text/plain": [
       "<IPython.core.display.HTML object>"
      ]
     },
     "metadata": {},
     "output_type": "display_data"
    },
    {
     "data": {
      "text/html": [
       "correct label: <b>but</b>"
      ],
      "text/plain": [
       "<IPython.core.display.HTML object>"
      ]
     },
     "metadata": {},
     "output_type": "display_data"
    },
    {
     "data": {
      "text/html": [
       "predict label: <b>but</b>"
      ],
      "text/plain": [
       "<IPython.core.display.HTML object>"
      ]
     },
     "metadata": {},
     "output_type": "display_data"
    },
    {
     "data": {
      "text/html": [
       "<span style=\"background-color:#ff3939\">It</span> <span style=\"background-color:#5656ff\">was</span> <span style=\"background-color:#c3c3ff\">a</span> <span style=\"background-color:#ff8c8c\">damn</span> <span style=\"background-color:#ff0000\">shame</span> <span style=\"background-color:#ffd6d6\">.</span> \n"
      ],
      "text/plain": [
       "<IPython.core.display.HTML object>"
      ]
     },
     "metadata": {},
     "output_type": "display_data"
    },
    {
     "data": {
      "text/html": [
       "<span style=\"background-color:#fff8f8\">The</span> <span style=\"background-color:#5151ff\">truth</span> <span style=\"background-color:#ff0000\">was</span> <span style=\"background-color:#9e9eff\">that</span> <span style=\"background-color:#f0f0ff\">the</span> <span style=\"background-color:#ffc8c8\">world</span> <span style=\"background-color:#ff9292\">needed</span> <span style=\"background-color:#e0e0ff\">an</span> <span style=\"background-color:#a2a2ff\">ongoing</span> <span style=\"background-color:#ffdede\">war</span> <span style=\"background-color:#5e5eff\">or</span> <span style=\"background-color:#fff0f0\">two</span> <span style=\"background-color:#e0e0ff\">to</span> <span style=\"background-color:#ffd3d3\">make</span> <span style=\"background-color:#babaff\">it</span> <span style=\"background-color:#dedeff\">work</span> <span style=\"background-color:#dedeff\">.</span> \n"
      ],
      "text/plain": [
       "<IPython.core.display.HTML object>"
      ]
     },
     "metadata": {},
     "output_type": "display_data"
    },
    {
     "data": {
      "text/html": [
       "correct label: <b>but</b>"
      ],
      "text/plain": [
       "<IPython.core.display.HTML object>"
      ]
     },
     "metadata": {},
     "output_type": "display_data"
    },
    {
     "data": {
      "text/html": [
       "predict label: <b>because</b>"
      ],
      "text/plain": [
       "<IPython.core.display.HTML object>"
      ]
     },
     "metadata": {},
     "output_type": "display_data"
    },
    {
     "data": {
      "text/html": [
       "<span style=\"background-color:#ffb6b6\">``</span> <span style=\"background-color:#ffd6d6\">this</span> <span style=\"background-color:#8080ff\">is</span> <span style=\"background-color:#ff7878\">relaxed</span> <span style=\"background-color:#ccccff\">,</span> <span style=\"background-color:#ffa3a3\">''</span> <span style=\"background-color:#7e7eff\">nina</span> <span style=\"background-color:#9a9aff\">said</span> <span style=\"background-color:#ff0000\">.</span> \n"
      ],
      "text/plain": [
       "<IPython.core.display.HTML object>"
      ]
     },
     "metadata": {},
     "output_type": "display_data"
    },
    {
     "data": {
      "text/html": [
       "<span style=\"background-color:#ff6868\">She</span> <span style=\"background-color:#0000ff\">'d</span> <span style=\"background-color:#ff1818\">gotten</span> <span style=\"background-color:#ff8686\">up</span> <span style=\"background-color:#f6f6ff\">from</span> <span style=\"background-color:#fffefe\">her</span> <span style=\"background-color:#b2b2ff\">rear</span> <span style=\"background-color:#ffa0a0\">seat</span> <span style=\"background-color:#9c9cff\">,</span> <span style=\"background-color:#f3f3ff\">moving</span> <span style=\"background-color:#ffdede\">forward</span> <span style=\"background-color:#e2e2ff\">with</span> <span style=\"background-color:#e3e3ff\">a</span> <span style=\"background-color:#b0b0ff\">pained</span> <span style=\"background-color:#5c5cff\">slowness</span> <span style=\"background-color:#ffd8d8\">to</span> <span style=\"background-color:#ffb3b3\">avoid</span> <span style=\"background-color:#ffcccc\">touching</span> <span style=\"background-color:#2020ff\">anyone</span> <span style=\"background-color:#f2f2ff\">.</span> \n"
      ],
      "text/plain": [
       "<IPython.core.display.HTML object>"
      ]
     },
     "metadata": {},
     "output_type": "display_data"
    },
    {
     "data": {
      "text/html": [
       "correct label: <b>but</b>"
      ],
      "text/plain": [
       "<IPython.core.display.HTML object>"
      ]
     },
     "metadata": {},
     "output_type": "display_data"
    },
    {
     "data": {
      "text/html": [
       "predict label: <b>when</b>"
      ],
      "text/plain": [
       "<IPython.core.display.HTML object>"
      ]
     },
     "metadata": {},
     "output_type": "display_data"
    },
    {
     "data": {
      "text/html": [
       "<span style=\"background-color:#acacff\">It</span> <span style=\"background-color:#ff0000\">was</span> <span style=\"background-color:#ff9e9e\">the</span> <span style=\"background-color:#5656ff\">same</span> <span style=\"background-color:#ffc6c6\">boy</span> <span style=\"background-color:#ffb0b0\">from</span> <span style=\"background-color:#eaeaff\">the</span> <span style=\"background-color:#ffc3c3\">camp</span> <span style=\"background-color:#fff0f0\">fireside</span> <span style=\"background-color:#ceceff\">.</span> \n"
      ],
      "text/plain": [
       "<IPython.core.display.HTML object>"
      ]
     },
     "metadata": {},
     "output_type": "display_data"
    },
    {
     "data": {
      "text/html": [
       "<span style=\"background-color:#9898ff\">This</span> <span style=\"background-color:#3c3cff\">boy</span> <span style=\"background-color:#c2c2ff\">was</span> <span style=\"background-color:#ff9696\">heavily</span> <span style=\"background-color:#ff0000\">ornamented</span> <span style=\"background-color:#8c8cff\">,</span> <span style=\"background-color:#ffdada\">from</span> <span style=\"background-color:#ffeeee\">the</span> <span style=\"background-color:#ffdada\">long</span> <span style=\"background-color:#d8d8ff\">blond</span> <span style=\"background-color:#ff7878\">hair</span> <span style=\"background-color:#c6c6ff\">swept</span> <span style=\"background-color:#ffb8b8\">back</span> <span style=\"background-color:#fffafa\">from</span> <span style=\"background-color:#ffcece\">his</span> <span style=\"background-color:#ffc8c8\">forehead</span> <span style=\"background-color:#1818ff\">and</span> <span style=\"background-color:#fffcfc\">held</span> <span style=\"background-color:#fffcfc\">with</span> <span style=\"background-color:#ff9e9e\">jewelled</span> <span style=\"background-color:#ccccff\">hair</span> <span style=\"background-color:#ffbcbc\">clasps</span> <span style=\"background-color:#ff6e6e\">,</span> <span style=\"background-color:#ffd6d6\">to</span> <span style=\"background-color:#ccccff\">multiple</span> <span style=\"background-color:#ffcccc\">earrings</span> <span style=\"background-color:#ceceff\">,</span> <span style=\"background-color:#ffecec\">bracelets</span> <span style=\"background-color:#ff5151\">and</span> <span style=\"background-color:#9c9cff\">rings</span> <span style=\"background-color:#ffbaba\">.</span> \n"
      ],
      "text/plain": [
       "<IPython.core.display.HTML object>"
      ]
     },
     "metadata": {},
     "output_type": "display_data"
    },
    {
     "data": {
      "text/html": [
       "correct label: <b>but</b>"
      ],
      "text/plain": [
       "<IPython.core.display.HTML object>"
      ]
     },
     "metadata": {},
     "output_type": "display_data"
    },
    {
     "data": {
      "text/html": [
       "predict label: <b>and</b>"
      ],
      "text/plain": [
       "<IPython.core.display.HTML object>"
      ]
     },
     "metadata": {},
     "output_type": "display_data"
    },
    {
     "data": {
      "text/html": [
       "<span style=\"background-color:#c3c3ff\">The</span> <span style=\"background-color:#ff0000\">view</span> <span style=\"background-color:#ff6e6e\">was</span> <span style=\"background-color:#fff0f0\">magnificent</span> <span style=\"background-color:#1a1aff\">.</span> \n"
      ],
      "text/plain": [
       "<IPython.core.display.HTML object>"
      ]
     },
     "metadata": {},
     "output_type": "display_data"
    },
    {
     "data": {
      "text/html": [
       "<span style=\"background-color:#a3a3ff\">It</span> <span style=\"background-color:#ff9898\">had</span> <span style=\"background-color:#aaaaff\">a</span> <span style=\"background-color:#ff0000\">strange</span> <span style=\"background-color:#ffeaea\">metallic</span> <span style=\"background-color:#e0e0ff\">tint</span> <span style=\"background-color:#ff9a9a\">.</span> \n"
      ],
      "text/plain": [
       "<IPython.core.display.HTML object>"
      ]
     },
     "metadata": {},
     "output_type": "display_data"
    },
    {
     "data": {
      "text/html": [
       "correct label: <b>but</b>"
      ],
      "text/plain": [
       "<IPython.core.display.HTML object>"
      ]
     },
     "metadata": {},
     "output_type": "display_data"
    },
    {
     "data": {
      "text/html": [
       "predict label: <b>but</b>"
      ],
      "text/plain": [
       "<IPython.core.display.HTML object>"
      ]
     },
     "metadata": {},
     "output_type": "display_data"
    },
    {
     "data": {
      "text/html": [
       "<span style=\"background-color:#ffc6c6\">She</span> <span style=\"background-color:#0000ff\">'d</span> <span style=\"background-color:#ffa8a8\">never</span> <span style=\"background-color:#ececff\">come</span> <span style=\"background-color:#fffafa\">before</span> <span style=\"background-color:#ffc2c2\">without</span> <span style=\"background-color:#ffa2a2\">direct</span> <span style=\"background-color:#fffafa\">clitoral</span> <span style=\"background-color:#acacff\">stimulation</span> <span style=\"background-color:#7979ff\">.</span> \n"
      ],
      "text/plain": [
       "<IPython.core.display.HTML object>"
      ]
     },
     "metadata": {},
     "output_type": "display_data"
    },
    {
     "data": {
      "text/html": [
       "<span style=\"background-color:#0000ff\">She</span> <span style=\"background-color:#ffc0c0\">was</span> <span style=\"background-color:#c2c2ff\">so</span> <span style=\"background-color:#ff9c9c\">aroused</span> <span style=\"background-color:#ff2c2c\">by</span> <span style=\"background-color:#e3e3ff\">blowing</span> <span style=\"background-color:#b8b8ff\">him</span> <span style=\"background-color:#ffaeae\">that</span> <span style=\"background-color:#ffeaea\">she</span> <span style=\"background-color:#c2c2ff\">already</span> <span style=\"background-color:#ffa6a6\">felt</span> <span style=\"background-color:#fff0f0\">the</span> <span style=\"background-color:#ffd2d2\">beginning</span> <span style=\"background-color:#e6e6ff\">of</span> <span style=\"background-color:#ffbebe\">an</span> <span style=\"background-color:#3434ff\">orgasm</span> <span style=\"background-color:#babaff\">.</span> \n"
      ],
      "text/plain": [
       "<IPython.core.display.HTML object>"
      ]
     },
     "metadata": {},
     "output_type": "display_data"
    },
    {
     "data": {
      "text/html": [
       "correct label: <b>but</b>"
      ],
      "text/plain": [
       "<IPython.core.display.HTML object>"
      ]
     },
     "metadata": {},
     "output_type": "display_data"
    },
    {
     "data": {
      "text/html": [
       "predict label: <b>but</b>"
      ],
      "text/plain": [
       "<IPython.core.display.HTML object>"
      ]
     },
     "metadata": {},
     "output_type": "display_data"
    },
    {
     "data": {
      "text/html": [
       "<span style=\"background-color:#d2d2ff\">Instead</span> <span style=\"background-color:#d6d6ff\">dylan</span> <span style=\"background-color:#0000ff\">asked</span> <span style=\"background-color:#fefeff\">him</span> <span style=\"background-color:#c2c2ff\">about</span> <span style=\"background-color:#e0e0ff\">life</span> <span style=\"background-color:#fffcfc\">as</span> <span style=\"background-color:#ffdede\">a</span> <span style=\"background-color:#9c9cff\">guardsman</span> <span style=\"background-color:#ff8686\">and</span> <span style=\"background-color:#f2f2ff\">the</span> <span style=\"background-color:#e0e0ff\">mountain</span> <span style=\"background-color:#8282ff\">city</span> <span style=\"background-color:#ffaeae\">.</span> \n"
      ],
      "text/plain": [
       "<IPython.core.display.HTML object>"
      ]
     },
     "metadata": {},
     "output_type": "display_data"
    },
    {
     "data": {
      "text/html": [
       "<span style=\"background-color:#f0f0ff\">Lucas</span> <span style=\"background-color:#a2a2ff\">wasnt</span> <span style=\"background-color:#7c7cff\">much</span> <span style=\"background-color:#dedeff\">of</span> <span style=\"background-color:#ffc8c8\">a</span> <span style=\"background-color:#d2d2ff\">story</span> <span style=\"background-color:#ff9898\">teller</span> <span style=\"background-color:#fff4f4\">and</span> <span style=\"background-color:#dadaff\">dylan</span> <span style=\"background-color:#ff0000\">finally</span> <span style=\"background-color:#ff7e7e\">drifted</span> <span style=\"background-color:#fff4f4\">to</span> <span style=\"background-color:#fff8f8\">sleep</span> <span style=\"background-color:#ffdede\">.</span> \n"
      ],
      "text/plain": [
       "<IPython.core.display.HTML object>"
      ]
     },
     "metadata": {},
     "output_type": "display_data"
    },
    {
     "data": {
      "text/html": [
       "correct label: <b>but</b>"
      ],
      "text/plain": [
       "<IPython.core.display.HTML object>"
      ]
     },
     "metadata": {},
     "output_type": "display_data"
    },
    {
     "data": {
      "text/html": [
       "predict label: <b>when</b>"
      ],
      "text/plain": [
       "<IPython.core.display.HTML object>"
      ]
     },
     "metadata": {},
     "output_type": "display_data"
    },
    {
     "data": {
      "text/html": [
       "<span style=\"background-color:#fcfcff\">She</span> <span style=\"background-color:#0000ff\">'d</span> <span style=\"background-color:#ff6969\">been</span> <span style=\"background-color:#ff1414\">scheduled</span> <span style=\"background-color:#ffe4e4\">to</span> <span style=\"background-color:#c6c6ff\">pick</span> <span style=\"background-color:#cacaff\">up</span> <span style=\"background-color:#fffcfc\">storm</span> <span style=\"background-color:#ffb0b0\">hunter</span> <span style=\"background-color:#ff8a8a\">at</span> <span style=\"background-color:#b6b6ff\">ten</span> <span style=\"background-color:#6464ff\">.</span> \n"
      ],
      "text/plain": [
       "<IPython.core.display.HTML object>"
      ]
     },
     "metadata": {},
     "output_type": "display_data"
    },
    {
     "data": {
      "text/html": [
       "<span style=\"background-color:#a3a3ff\">He</span> <span style=\"background-color:#ffc8c8\">was</span> <span style=\"background-color:#ff0000\">nowhere</span> <span style=\"background-color:#ceceff\">in</span> <span style=\"background-color:#fff4f4\">sight</span> <span style=\"background-color:#eeeeff\">.</span> \n"
      ],
      "text/plain": [
       "<IPython.core.display.HTML object>"
      ]
     },
     "metadata": {},
     "output_type": "display_data"
    },
    {
     "data": {
      "text/html": [
       "correct label: <b>but</b>"
      ],
      "text/plain": [
       "<IPython.core.display.HTML object>"
      ]
     },
     "metadata": {},
     "output_type": "display_data"
    },
    {
     "data": {
      "text/html": [
       "predict label: <b>but</b>"
      ],
      "text/plain": [
       "<IPython.core.display.HTML object>"
      ]
     },
     "metadata": {},
     "output_type": "display_data"
    },
    {
     "data": {
      "text/html": [
       "<span style=\"background-color:#ffd8d8\">Allison</span> <span style=\"background-color:#ff2626\">did</span> <span style=\"background-color:#ff0000\">not</span> <span style=\"background-color:#ff8282\">respond</span> <span style=\"background-color:#8686ff\">.</span> \n"
      ],
      "text/plain": [
       "<IPython.core.display.HTML object>"
      ]
     },
     "metadata": {},
     "output_type": "display_data"
    },
    {
     "data": {
      "text/html": [
       "<span style=\"background-color:#ff0000\">Rather</span> <span style=\"background-color:#e0e0ff\">she</span> <span style=\"background-color:#bcbcff\">sat</span> <span style=\"background-color:#ffbaba\">calmly</span> <span style=\"background-color:#ff7878\">smiling</span> <span style=\"background-color:#c2c2ff\">directly</span> <span style=\"background-color:#fafaff\">at</span> <span style=\"background-color:#eaeaff\">ernest</span> <span style=\"background-color:#fffafa\">.</span> \n"
      ],
      "text/plain": [
       "<IPython.core.display.HTML object>"
      ]
     },
     "metadata": {},
     "output_type": "display_data"
    },
    {
     "data": {
      "text/html": [
       "correct label: <b>but</b>"
      ],
      "text/plain": [
       "<IPython.core.display.HTML object>"
      ]
     },
     "metadata": {},
     "output_type": "display_data"
    },
    {
     "data": {
      "text/html": [
       "predict label: <b>but</b>"
      ],
      "text/plain": [
       "<IPython.core.display.HTML object>"
      ]
     },
     "metadata": {},
     "output_type": "display_data"
    },
    {
     "data": {
      "text/html": [
       "<span style=\"background-color:#f8f8ff\">Killane</span> <span style=\"background-color:#7c7cff\">studied</span> <span style=\"background-color:#c6c6ff\">the</span> <span style=\"background-color:#ff9898\">location</span> <span style=\"background-color:#fff0f0\">i</span> <span style=\"background-color:#0000ff\">'d</span> <span style=\"background-color:#ffd0d0\">chosen</span> <span style=\"background-color:#ffb2b2\">,</span> <span style=\"background-color:#4444ff\">trying</span> <span style=\"background-color:#ffeeee\">to</span> <span style=\"background-color:#ff7878\">find</span> <span style=\"background-color:#d8d8ff\">something</span> <span style=\"background-color:#fff4f4\">wrong</span> <span style=\"background-color:#fff4f4\">with</span> <span style=\"background-color:#aeaeff\">it</span> <span style=\"background-color:#bcbcff\">,</span> <span style=\"background-color:#ceceff\">i</span> <span style=\"background-color:#9090ff\">think</span> <span style=\"background-color:#fffefe\">.</span> \n"
      ],
      "text/plain": [
       "<IPython.core.display.HTML object>"
      ]
     },
     "metadata": {},
     "output_type": "display_data"
    },
    {
     "data": {
      "text/html": [
       "<span style=\"background-color:#ffdede\">He</span> <span style=\"background-color:#ff0000\">finally</span> <span style=\"background-color:#d8d8ff\">gave</span> <span style=\"background-color:#f6f6ff\">in</span> <span style=\"background-color:#fff6f6\">.</span> \n"
      ],
      "text/plain": [
       "<IPython.core.display.HTML object>"
      ]
     },
     "metadata": {},
     "output_type": "display_data"
    },
    {
     "data": {
      "text/html": [
       "correct label: <b>but</b>"
      ],
      "text/plain": [
       "<IPython.core.display.HTML object>"
      ]
     },
     "metadata": {},
     "output_type": "display_data"
    },
    {
     "data": {
      "text/html": [
       "predict label: <b>when</b>"
      ],
      "text/plain": [
       "<IPython.core.display.HTML object>"
      ]
     },
     "metadata": {},
     "output_type": "display_data"
    },
    {
     "data": {
      "text/html": [
       "<span style=\"background-color:#b3b3ff\">She</span> <span style=\"background-color:#ff0e0e\">was</span> <span style=\"background-color:#ff1e1e\">stiff</span> <span style=\"background-color:#dedeff\">and</span> <span style=\"background-color:#ff1616\">sore</span> <span style=\"background-color:#ffb0b0\">from</span> <span style=\"background-color:#e2e2ff\">having</span> <span style=\"background-color:#eaeaff\">a</span> <span style=\"background-color:#f2f2ff\">thousand</span> <span style=\"background-color:#ffd8d8\">pounds</span> <span style=\"background-color:#ffeeee\">of</span> <span style=\"background-color:#aaaaff\">horse</span> <span style=\"background-color:#eaeaff\">roll</span> <span style=\"background-color:#fff8f8\">across</span> <span style=\"background-color:#c6c6ff\">her</span> <span style=\"background-color:#5656ff\">,</span> <span style=\"background-color:#ff2020\">and</span> <span style=\"background-color:#dadaff\">she</span> <span style=\"background-color:#c3c3ff\">felt</span> <span style=\"background-color:#0000ff\">perfectly</span> <span style=\"background-color:#ffbebe\">able</span> <span style=\"background-color:#fafaff\">to</span> <span style=\"background-color:#ff8686\">care</span> <span style=\"background-color:#fff8f8\">for</span> <span style=\"background-color:#dcdcff\">herself</span> <span style=\"background-color:#f2f2ff\">.</span> \n"
      ],
      "text/plain": [
       "<IPython.core.display.HTML object>"
      ]
     },
     "metadata": {},
     "output_type": "display_data"
    },
    {
     "data": {
      "text/html": [
       "<span style=\"background-color:#ffa8a8\">Her</span> <span style=\"background-color:#0000ff\">broken</span> <span style=\"background-color:#a8a8ff\">ribs</span> <span style=\"background-color:#5151ff\">hurt</span> <span style=\"background-color:#9a9aff\">whenever</span> <span style=\"background-color:#e8e8ff\">she</span> <span style=\"background-color:#a3a3ff\">moved</span> <span style=\"background-color:#e8e8ff\">.</span> \n"
      ],
      "text/plain": [
       "<IPython.core.display.HTML object>"
      ]
     },
     "metadata": {},
     "output_type": "display_data"
    },
    {
     "data": {
      "text/html": [
       "correct label: <b>but</b>"
      ],
      "text/plain": [
       "<IPython.core.display.HTML object>"
      ]
     },
     "metadata": {},
     "output_type": "display_data"
    },
    {
     "data": {
      "text/html": [
       "predict label: <b>but</b>"
      ],
      "text/plain": [
       "<IPython.core.display.HTML object>"
      ]
     },
     "metadata": {},
     "output_type": "display_data"
    }
   ],
   "source": [
    "for i in range(30, 50):\n",
    "    res = get_example_by_idx('but', i)\n",
    "    display(*bilstm.visualize_example(res[0], res[1], res[2], dis_labels))"
   ]
  },
  {
   "cell_type": "code",
   "execution_count": 19,
   "metadata": {},
   "outputs": [
    {
     "data": {
      "text/html": [
       "<span style=\"background-color:#ff0000\">Be</span> <span style=\"background-color:#ffcaca\">kind</span> <span style=\"background-color:#ffaeae\">of</span> <span style=\"background-color:#c6c6ff\">lying</span> <span style=\"background-color:#ff2828\">.</span> \n"
      ],
      "text/plain": [
       "<IPython.core.display.HTML object>"
      ]
     },
     "metadata": {},
     "output_type": "display_data"
    },
    {
     "data": {
      "text/html": [
       "<span style=\"background-color:#ffeaea\">I</span> <span style=\"background-color:#ff0000\">were</span> <span style=\"background-color:#ffc6c6\">to</span> <span style=\"background-color:#a6a6ff\">say</span> <span style=\"background-color:#fff0f0\">that</span> <span style=\"background-color:#ffe8e8\">i</span> <span style=\"background-color:#fff2f2\">didnt</span> <span style=\"background-color:#ffecec\">have</span> <span style=\"background-color:#f3f3ff\">another</span> <span style=\"background-color:#ffdede\">motivation</span> <span style=\"background-color:#f2f2ff\">.</span> \n"
      ],
      "text/plain": [
       "<IPython.core.display.HTML object>"
      ]
     },
     "metadata": {},
     "output_type": "display_data"
    },
    {
     "data": {
      "text/html": [
       "correct label: <b>if</b>"
      ],
      "text/plain": [
       "<IPython.core.display.HTML object>"
      ]
     },
     "metadata": {},
     "output_type": "display_data"
    },
    {
     "data": {
      "text/html": [
       "predict label: <b>if</b>"
      ],
      "text/plain": [
       "<IPython.core.display.HTML object>"
      ]
     },
     "metadata": {},
     "output_type": "display_data"
    },
    {
     "data": {
      "text/html": [
       "<span style=\"background-color:#ffa2a2\">It</span> <span style=\"background-color:#9696ff\">'s</span> <span style=\"background-color:#e3e3ff\">jack</span> <span style=\"background-color:#3232ff\">norton</span> <span style=\"background-color:#ff0000\">.</span> \n"
      ],
      "text/plain": [
       "<IPython.core.display.HTML object>"
      ]
     },
     "metadata": {},
     "output_type": "display_data"
    },
    {
     "data": {
      "text/html": [
       "<span style=\"background-color:#ff8e8e\">There</span> <span style=\"background-color:#ffe2e2\">'s</span> <span style=\"background-color:#ff7c7c\">one</span> <span style=\"background-color:#ff0000\">person</span> <span style=\"background-color:#9898ff\">who</span> <span style=\"background-color:#ffdada\">has</span> <span style=\"background-color:#fff4f4\">a</span> <span style=\"background-color:#ff9696\">chance</span> <span style=\"background-color:#e8e8ff\">of</span> <span style=\"background-color:#fff8f8\">escaping</span> <span style=\"background-color:#f6f6ff\">the</span> <span style=\"background-color:#ffe8e8\">rebel</span> <span style=\"background-color:#fffcfc\">camp</span> <span style=\"background-color:#ffa0a0\">and</span> <span style=\"background-color:#d8d8ff\">making</span> <span style=\"background-color:#f6f6ff\">it</span> <span style=\"background-color:#fffafa\">out</span> <span style=\"background-color:#fff2f2\">of</span> <span style=\"background-color:#fff6f6\">the</span> <span style=\"background-color:#eaeaff\">jungle</span> <span style=\"background-color:#ff9696\">alive</span> <span style=\"background-color:#e3e3ff\">.</span> \n"
      ],
      "text/plain": [
       "<IPython.core.display.HTML object>"
      ]
     },
     "metadata": {},
     "output_type": "display_data"
    },
    {
     "data": {
      "text/html": [
       "correct label: <b>if</b>"
      ],
      "text/plain": [
       "<IPython.core.display.HTML object>"
      ]
     },
     "metadata": {},
     "output_type": "display_data"
    },
    {
     "data": {
      "text/html": [
       "predict label: <b>if</b>"
      ],
      "text/plain": [
       "<IPython.core.display.HTML object>"
      ]
     },
     "metadata": {},
     "output_type": "display_data"
    },
    {
     "data": {
      "text/html": [
       "<span style=\"background-color:#ffe2e2\">When</span> <span style=\"background-color:#fffafa\">the</span> <span style=\"background-color:#ffe4e4\">doctor</span> <span style=\"background-color:#d8d8ff\">had</span> <span style=\"background-color:#ff0000\">asked</span> <span style=\"background-color:#fefeff\">him</span> <span style=\"background-color:#ffcaca\">.</span> \n"
      ],
      "text/plain": [
       "<IPython.core.display.HTML object>"
      ]
     },
     "metadata": {},
     "output_type": "display_data"
    },
    {
     "data": {
      "text/html": [
       "<span style=\"background-color:#ff0000\">He</span> <span style=\"background-color:#3a3aff\">felt</span> <span style=\"background-color:#ffd6d6\">a</span> <span style=\"background-color:#7878ff\">strange</span> <span style=\"background-color:#8e8eff\">sensation</span> <span style=\"background-color:#ffb3b3\">in</span> <span style=\"background-color:#f2f2ff\">the</span> <span style=\"background-color:#fcfcff\">bottom</span> <span style=\"background-color:#f0f0ff\">of</span> <span style=\"background-color:#fff6f6\">his</span> <span style=\"background-color:#9393ff\">throat</span> <span style=\"background-color:#ffd6d6\">,</span> <span style=\"background-color:#ffdcdc\">like</span> <span style=\"background-color:#fefeff\">a</span> <span style=\"background-color:#ffc6c6\">hiccup</span> <span style=\"background-color:#7e7eff\">,</span> <span style=\"background-color:#c2c2ff\">dylan</span> <span style=\"background-color:#ff2828\">had</span> <span style=\"background-color:#9e9eff\">nodded</span> <span style=\"background-color:#dcdcff\">his</span> <span style=\"background-color:#fffafa\">head</span> <span style=\"background-color:#b8b8ff\">.</span> \n"
      ],
      "text/plain": [
       "<IPython.core.display.HTML object>"
      ]
     },
     "metadata": {},
     "output_type": "display_data"
    },
    {
     "data": {
      "text/html": [
       "correct label: <b>if</b>"
      ],
      "text/plain": [
       "<IPython.core.display.HTML object>"
      ]
     },
     "metadata": {},
     "output_type": "display_data"
    },
    {
     "data": {
      "text/html": [
       "predict label: <b>if</b>"
      ],
      "text/plain": [
       "<IPython.core.display.HTML object>"
      ]
     },
     "metadata": {},
     "output_type": "display_data"
    },
    {
     "data": {
      "text/html": [
       "<span style=\"background-color:#e8e8ff\">You</span> <span style=\"background-color:#ff0000\">'d</span> <span style=\"background-color:#ffc0c0\">change</span> <span style=\"background-color:#fffafa\">your</span> <span style=\"background-color:#fff0f0\">mind</span> <span style=\"background-color:#ffd8d8\">.</span> \n"
      ],
      "text/plain": [
       "<IPython.core.display.HTML object>"
      ]
     },
     "metadata": {},
     "output_type": "display_data"
    },
    {
     "data": {
      "text/html": [
       "<span style=\"background-color:#ff0000\">I</span> <span style=\"background-color:#ffe6e6\">brought</span> <span style=\"background-color:#ff2424\">you</span> <span style=\"background-color:#fafaff\">flowers</span> <span style=\"background-color:#fff6f6\">.</span> \n"
      ],
      "text/plain": [
       "<IPython.core.display.HTML object>"
      ]
     },
     "metadata": {},
     "output_type": "display_data"
    },
    {
     "data": {
      "text/html": [
       "correct label: <b>if</b>"
      ],
      "text/plain": [
       "<IPython.core.display.HTML object>"
      ]
     },
     "metadata": {},
     "output_type": "display_data"
    },
    {
     "data": {
      "text/html": [
       "predict label: <b>if</b>"
      ],
      "text/plain": [
       "<IPython.core.display.HTML object>"
      ]
     },
     "metadata": {},
     "output_type": "display_data"
    },
    {
     "data": {
      "text/html": [
       "<span style=\"background-color:#fff2f2\">The</span> <span style=\"background-color:#ccccff\">phoenix</span> <span style=\"background-color:#f2f2ff\">energy</span> <span style=\"background-color:#ff0000\">could</span> <span style=\"background-color:#fcfcff\">pass</span> <span style=\"background-color:#e2e2ff\">her</span> <span style=\"background-color:#f8f8ff\">over</span> <span style=\"background-color:#dadaff\">if</span> <span style=\"background-color:#ffb6b6\">it</span> <span style=\"background-color:#f8f8ff\">found</span> <span style=\"background-color:#ffdede\">she</span> <span style=\"background-color:#bebeff\">was</span> <span style=\"background-color:#fff8f8\">the</span> <span style=\"background-color:#ffdcdc\">wrong</span> <span style=\"background-color:#f6f6ff\">person</span> <span style=\"background-color:#fff0f0\">for</span> <span style=\"background-color:#f6f6ff\">the</span> <span style=\"background-color:#ffeaea\">job</span> <span style=\"background-color:#ffdede\">after</span> <span style=\"background-color:#fff6f6\">all</span> <span style=\"background-color:#ffd0d0\">.</span> \n"
      ],
      "text/plain": [
       "<IPython.core.display.HTML object>"
      ]
     },
     "metadata": {},
     "output_type": "display_data"
    },
    {
     "data": {
      "text/html": [
       "<span style=\"background-color:#ff0000\">Even</span> <span style=\"background-color:#ffe4e4\">it</span> <span style=\"background-color:#ffa6a6\">killed</span> <span style=\"background-color:#fff8f8\">her</span> <span style=\"background-color:#ececff\">.</span> \n"
      ],
      "text/plain": [
       "<IPython.core.display.HTML object>"
      ]
     },
     "metadata": {},
     "output_type": "display_data"
    },
    {
     "data": {
      "text/html": [
       "correct label: <b>if</b>"
      ],
      "text/plain": [
       "<IPython.core.display.HTML object>"
      ]
     },
     "metadata": {},
     "output_type": "display_data"
    },
    {
     "data": {
      "text/html": [
       "predict label: <b>if</b>"
      ],
      "text/plain": [
       "<IPython.core.display.HTML object>"
      ]
     },
     "metadata": {},
     "output_type": "display_data"
    },
    {
     "data": {
      "text/html": [
       "<span style=\"background-color:#e0e0ff\">Fourteen</span> <span style=\"background-color:#fcfcff\">``</span> <span style=\"background-color:#dcdcff\">i</span> <span style=\"background-color:#d8d8ff\">was</span> <span style=\"background-color:#ff0000\">wondering</span> <span style=\"background-color:#ffbcbc\">.</span> \n"
      ],
      "text/plain": [
       "<IPython.core.display.HTML object>"
      ]
     },
     "metadata": {},
     "output_type": "display_data"
    },
    {
     "data": {
      "text/html": [
       "<span style=\"background-color:#ff0000\">You</span> <span style=\"background-color:#ffacac\">could</span> <span style=\"background-color:#a6a6ff\">tell</span> <span style=\"background-color:#ffecec\">me</span> <span style=\"background-color:#ffcaca\">where</span> <span style=\"background-color:#e8e8ff\">scarlet</span> <span style=\"background-color:#ffc6c6\">hughes</span> <span style=\"background-color:#f8f8ff\">is</span> <span style=\"background-color:#f0f0ff\">.</span> \n"
      ],
      "text/plain": [
       "<IPython.core.display.HTML object>"
      ]
     },
     "metadata": {},
     "output_type": "display_data"
    },
    {
     "data": {
      "text/html": [
       "correct label: <b>if</b>"
      ],
      "text/plain": [
       "<IPython.core.display.HTML object>"
      ]
     },
     "metadata": {},
     "output_type": "display_data"
    },
    {
     "data": {
      "text/html": [
       "predict label: <b>if</b>"
      ],
      "text/plain": [
       "<IPython.core.display.HTML object>"
      ]
     },
     "metadata": {},
     "output_type": "display_data"
    },
    {
     "data": {
      "text/html": [
       "<span style=\"background-color:#a6a6ff\">``</span> <span style=\"background-color:#ffa0a0\">an</span> <span style=\"background-color:#f8f8ff\">alaskan</span> <span style=\"background-color:#dadaff\">king</span> <span style=\"background-color:#b6b6ff\">crab</span> <span style=\"background-color:#ff2c2c\">could</span> <span style=\"background-color:#ff0000\">be</span> <span style=\"background-color:#fff8f8\">wrongly</span> <span style=\"background-color:#fffafa\">classified</span> <span style=\"background-color:#ffdada\">as</span> <span style=\"background-color:#ffc3c3\">a</span> <span style=\"background-color:#8a8aff\">giant</span> <span style=\"background-color:#ffb6b6\">spider</span> <span style=\"background-color:#ffc2c2\">.</span> <span style=\"background-color:#f6f6ff\">''</span> <span style=\"background-color:#ffacac\">.</span> \n"
      ],
      "text/plain": [
       "<IPython.core.display.HTML object>"
      ]
     },
     "metadata": {},
     "output_type": "display_data"
    },
    {
     "data": {
      "text/html": [
       "<span style=\"background-color:#ff0606\">We</span> <span style=\"background-color:#e0e0ff\">had</span> <span style=\"background-color:#d8d8ff\">limited</span> <span style=\"background-color:#ffdede\">fossil</span> <span style=\"background-color:#ff0000\">evidence</span> <span style=\"background-color:#ffaaaa\">.</span> \n"
      ],
      "text/plain": [
       "<IPython.core.display.HTML object>"
      ]
     },
     "metadata": {},
     "output_type": "display_data"
    },
    {
     "data": {
      "text/html": [
       "correct label: <b>if</b>"
      ],
      "text/plain": [
       "<IPython.core.display.HTML object>"
      ]
     },
     "metadata": {},
     "output_type": "display_data"
    },
    {
     "data": {
      "text/html": [
       "predict label: <b>if</b>"
      ],
      "text/plain": [
       "<IPython.core.display.HTML object>"
      ]
     },
     "metadata": {},
     "output_type": "display_data"
    },
    {
     "data": {
      "text/html": [
       "<span style=\"background-color:#ff0000\">However</span> <span style=\"background-color:#ffbebe\">the</span> <span style=\"background-color:#c8c8ff\">building</span> <span style=\"background-color:#5656ff\">is</span> <span style=\"background-color:#9393ff\">insured</span> <span style=\"background-color:#ffe6e6\">for</span> <span style=\"background-color:#ff2828\">$</span> <span style=\"background-color:#ff8a8a\">2.5</span> <span style=\"background-color:#d6d6ff\">million</span> <span style=\"background-color:#ff7171\">.</span> \n"
      ],
      "text/plain": [
       "<IPython.core.display.HTML object>"
      ]
     },
     "metadata": {},
     "output_type": "display_data"
    },
    {
     "data": {
      "text/html": [
       "<span style=\"background-color:#ff8a8a\">We</span> <span style=\"background-color:#fffafa\">can</span> <span style=\"background-color:#ffc0c0\">establish</span> <span style=\"background-color:#ffa8a8\">that</span> <span style=\"background-color:#e2e2ff\">it</span> <span style=\"background-color:#d8d8ff\">was</span> <span style=\"background-color:#fff6f6\">an</span> <span style=\"background-color:#ffd0d0\">accident</span> <span style=\"background-color:#ff0000\">or</span> <span style=\"background-color:#f3f3ff\">that</span> <span style=\"background-color:#ffeaea\">someone</span> <span style=\"background-color:#eaeaff\">else</span> <span style=\"background-color:#f8f8ff\">set</span> <span style=\"background-color:#ffeeee\">it</span> <span style=\"background-color:#ececff\">.</span> \n"
      ],
      "text/plain": [
       "<IPython.core.display.HTML object>"
      ]
     },
     "metadata": {},
     "output_type": "display_data"
    },
    {
     "data": {
      "text/html": [
       "correct label: <b>if</b>"
      ],
      "text/plain": [
       "<IPython.core.display.HTML object>"
      ]
     },
     "metadata": {},
     "output_type": "display_data"
    },
    {
     "data": {
      "text/html": [
       "predict label: <b>if</b>"
      ],
      "text/plain": [
       "<IPython.core.display.HTML object>"
      ]
     },
     "metadata": {},
     "output_type": "display_data"
    },
    {
     "data": {
      "text/html": [
       "<span style=\"background-color:#ff0000\">To</span> <span style=\"background-color:#6666ff\">get</span> <span style=\"background-color:#a6a6ff\">us</span> <span style=\"background-color:#ffdada\">an</span> <span style=\"background-color:#e8e8ff\">audition</span> <span style=\"background-color:#fffcfc\">with</span> <span style=\"background-color:#cacaff\">the</span> <span style=\"background-color:#fff2f2\">record</span> <span style=\"background-color:#ffbebe\">company</span> <span style=\"background-color:#ff8888\">.</span> \n"
      ],
      "text/plain": [
       "<IPython.core.display.HTML object>"
      ]
     },
     "metadata": {},
     "output_type": "display_data"
    },
    {
     "data": {
      "text/html": [
       "<span style=\"background-color:#ff8686\">You</span> <span style=\"background-color:#fffafa\">swallowed</span> <span style=\"background-color:#ffbcbc\">your</span> <span style=\"background-color:#a0a0ff\">pride</span> <span style=\"background-color:#ffeaea\">and</span> <span style=\"background-color:#ff0000\">asked</span> <span style=\"background-color:#ceceff\">.</span> \n"
      ],
      "text/plain": [
       "<IPython.core.display.HTML object>"
      ]
     },
     "metadata": {},
     "output_type": "display_data"
    },
    {
     "data": {
      "text/html": [
       "correct label: <b>if</b>"
      ],
      "text/plain": [
       "<IPython.core.display.HTML object>"
      ]
     },
     "metadata": {},
     "output_type": "display_data"
    },
    {
     "data": {
      "text/html": [
       "predict label: <b>when</b>"
      ],
      "text/plain": [
       "<IPython.core.display.HTML object>"
      ]
     },
     "metadata": {},
     "output_type": "display_data"
    },
    {
     "data": {
      "text/html": [
       "<span style=\"background-color:#fff6f6\">The</span> <span style=\"background-color:#d8d8ff\">car</span> <span style=\"background-color:#ff9a9a\">is</span> <span style=\"background-color:#0000ff\">stopped</span> <span style=\"background-color:#ffd2d2\">by</span> <span style=\"background-color:#f0f0ff\">remote</span> <span style=\"background-color:#d6d6ff\">satellite</span> <span style=\"background-color:#ff9898\">and</span> <span style=\"background-color:#d0d0ff\">youre</span> <span style=\"background-color:#e6e6ff\">left</span> <span style=\"background-color:#ffa8a8\">stranded</span> <span style=\"background-color:#ff6666\">.</span> \n"
      ],
      "text/plain": [
       "<IPython.core.display.HTML object>"
      ]
     },
     "metadata": {},
     "output_type": "display_data"
    },
    {
     "data": {
      "text/html": [
       "<span style=\"background-color:#ff0000\">You</span> <span style=\"background-color:#9898ff\">drive</span> <span style=\"background-color:#ff8686\">or</span> <span style=\"background-color:#eaeaff\">ride</span> <span style=\"background-color:#e8e8ff\">in</span> <span style=\"background-color:#ffd2d2\">a</span> <span style=\"background-color:#fff2f2\">car</span> <span style=\"background-color:#e3e3ff\">on</span> <span style=\"background-color:#fff4f4\">a</span> <span style=\"background-color:#fafaff\">day</span> <span style=\"background-color:#ff9393\">not</span> <span style=\"background-color:#fffafa\">assigned</span> <span style=\"background-color:#eaeaff\">to</span> <span style=\"background-color:#ffd6d6\">you</span> <span style=\"background-color:#eeeeff\">,</span> <span style=\"background-color:#ff4949\">or</span> <span style=\"background-color:#ff9e9e\">if</span> <span style=\"background-color:#ffd3d3\">you</span> <span style=\"background-color:#f2f2ff\">go</span> <span style=\"background-color:#fcfcff\">over</span> <span style=\"background-color:#dedeff\">your</span> <span style=\"background-color:#f6f6ff\">daily</span> <span style=\"background-color:#b3b3ff\">limit</span> <span style=\"background-color:#e6e6ff\">.</span> \n"
      ],
      "text/plain": [
       "<IPython.core.display.HTML object>"
      ]
     },
     "metadata": {},
     "output_type": "display_data"
    },
    {
     "data": {
      "text/html": [
       "correct label: <b>if</b>"
      ],
      "text/plain": [
       "<IPython.core.display.HTML object>"
      ]
     },
     "metadata": {},
     "output_type": "display_data"
    },
    {
     "data": {
      "text/html": [
       "predict label: <b>if</b>"
      ],
      "text/plain": [
       "<IPython.core.display.HTML object>"
      ]
     },
     "metadata": {},
     "output_type": "display_data"
    }
   ],
   "source": [
    "for i in range(10):\n",
    "    res = get_example_by_idx('if', i)\n",
    "    display(*bilstm.visualize_example(res[0], res[1], res[2], dis_labels))"
   ]
  },
  {
   "cell_type": "code",
   "execution_count": 20,
   "metadata": {},
   "outputs": [
    {
     "data": {
      "text/html": [
       "<span style=\"background-color:#fffefe\">She</span> <span style=\"background-color:#0000ff\">refused</span> <span style=\"background-color:#ffacac\">to</span> <span style=\"background-color:#e0e0ff\">surrender</span> <span style=\"background-color:#ffa3a3\">it</span> <span style=\"background-color:#ffbebe\">.</span> \n"
      ],
      "text/plain": [
       "<IPython.core.display.HTML object>"
      ]
     },
     "metadata": {},
     "output_type": "display_data"
    },
    {
     "data": {
      "text/html": [
       "<span style=\"background-color:#ff8080\">This</span> <span style=\"background-color:#fefeff\">man</span> <span style=\"background-color:#ff6c6c\">could</span> <span style=\"background-color:#ff0000\">help</span> <span style=\"background-color:#f2f2ff\">.</span> \n"
      ],
      "text/plain": [
       "<IPython.core.display.HTML object>"
      ]
     },
     "metadata": {},
     "output_type": "display_data"
    },
    {
     "data": {
      "text/html": [
       "correct label: <b>if</b>"
      ],
      "text/plain": [
       "<IPython.core.display.HTML object>"
      ]
     },
     "metadata": {},
     "output_type": "display_data"
    },
    {
     "data": {
      "text/html": [
       "predict label: <b>if</b>"
      ],
      "text/plain": [
       "<IPython.core.display.HTML object>"
      ]
     },
     "metadata": {},
     "output_type": "display_data"
    },
    {
     "data": {
      "text/html": [
       "<span style=\"background-color:#d0d0ff\">I</span> <span style=\"background-color:#ff0000\">would</span> <span style=\"background-color:#dadaff\">understand</span> <span style=\"background-color:#f3f3ff\">kingdom</span> <span style=\"background-color:#fffcfc\">issues</span> <span style=\"background-color:#ffe0e0\">.</span> \n"
      ],
      "text/plain": [
       "<IPython.core.display.HTML object>"
      ]
     },
     "metadata": {},
     "output_type": "display_data"
    },
    {
     "data": {
      "text/html": [
       "<span style=\"background-color:#ff0000\">Better</span> <span style=\"background-color:#ff7474\">i</span> <span style=\"background-color:#ffeaea\">understood</span> <span style=\"background-color:#e8e8ff\">our</span> <span style=\"background-color:#f6f6ff\">people</span> <span style=\"background-color:#eaeaff\">.</span> \n"
      ],
      "text/plain": [
       "<IPython.core.display.HTML object>"
      ]
     },
     "metadata": {},
     "output_type": "display_data"
    },
    {
     "data": {
      "text/html": [
       "correct label: <b>if</b>"
      ],
      "text/plain": [
       "<IPython.core.display.HTML object>"
      ]
     },
     "metadata": {},
     "output_type": "display_data"
    },
    {
     "data": {
      "text/html": [
       "predict label: <b>if</b>"
      ],
      "text/plain": [
       "<IPython.core.display.HTML object>"
      ]
     },
     "metadata": {},
     "output_type": "display_data"
    },
    {
     "data": {
      "text/html": [
       "<span style=\"background-color:#d2d2ff\">She</span> <span style=\"background-color:#ff0000\">would</span> <span style=\"background-color:#ffe0e0\">definitely</span> <span style=\"background-color:#e0e0ff\">think</span> <span style=\"background-color:#fafaff\">this</span> <span style=\"background-color:#d8d8ff\">was</span> <span style=\"background-color:#eaeaff\">rinky-dink</span> <span style=\"background-color:#ffe2e2\">.</span> \n"
      ],
      "text/plain": [
       "<IPython.core.display.HTML object>"
      ]
     },
     "metadata": {},
     "output_type": "display_data"
    },
    {
     "data": {
      "text/html": [
       "<span style=\"background-color:#fff4f4\">Krista</span> <span style=\"background-color:#ff0000\">were</span> <span style=\"background-color:#f8f8ff\">the</span> <span style=\"background-color:#ffb8b8\">client</span> <span style=\"background-color:#fefeff\">.</span> \n"
      ],
      "text/plain": [
       "<IPython.core.display.HTML object>"
      ]
     },
     "metadata": {},
     "output_type": "display_data"
    },
    {
     "data": {
      "text/html": [
       "correct label: <b>if</b>"
      ],
      "text/plain": [
       "<IPython.core.display.HTML object>"
      ]
     },
     "metadata": {},
     "output_type": "display_data"
    },
    {
     "data": {
      "text/html": [
       "predict label: <b>if</b>"
      ],
      "text/plain": [
       "<IPython.core.display.HTML object>"
      ]
     },
     "metadata": {},
     "output_type": "display_data"
    },
    {
     "data": {
      "text/html": [
       "<span style=\"background-color:#ffd3d3\">All</span> <span style=\"background-color:#ff7474\">manner</span> <span style=\"background-color:#fefeff\">of</span> <span style=\"background-color:#ffe6e6\">skills</span> <span style=\"background-color:#ffeeee\">and</span> <span style=\"background-color:#0000ff\">jaya</span> <span style=\"background-color:#ffe2e2\">didnt</span> <span style=\"background-color:#ffe8e8\">know</span> <span style=\"background-color:#ff0101\">.</span> \n"
      ],
      "text/plain": [
       "<IPython.core.display.HTML object>"
      ]
     },
     "metadata": {},
     "output_type": "display_data"
    },
    {
     "data": {
      "text/html": [
       "<span style=\"background-color:#ff0000\">was</span> <span style=\"background-color:#ffb0b0\">one</span> <span style=\"background-color:#ffd8d8\">of</span> <span style=\"background-color:#ff8c8c\">them</span> <span style=\"background-color:#fff0f0\">.</span> \n"
      ],
      "text/plain": [
       "<IPython.core.display.HTML object>"
      ]
     },
     "metadata": {},
     "output_type": "display_data"
    },
    {
     "data": {
      "text/html": [
       "correct label: <b>if</b>"
      ],
      "text/plain": [
       "<IPython.core.display.HTML object>"
      ]
     },
     "metadata": {},
     "output_type": "display_data"
    },
    {
     "data": {
      "text/html": [
       "predict label: <b>if</b>"
      ],
      "text/plain": [
       "<IPython.core.display.HTML object>"
      ]
     },
     "metadata": {},
     "output_type": "display_data"
    },
    {
     "data": {
      "text/html": [
       "<span style=\"background-color:#b6b6ff\">That</span> <span style=\"background-color:#ffd8d8\">'s</span> <span style=\"background-color:#ffdada\">the</span> <span style=\"background-color:#c8c8ff\">eight</span> <span style=\"background-color:#8080ff\">o'clock</span> <span style=\"background-color:#ff2020\">in</span> <span style=\"background-color:#fffcfc\">washington</span> <span style=\"background-color:#ff0000\">.</span> <span style=\"background-color:#ff8383\">'</span> <span style=\"background-color:#ff0101\">.</span> \n"
      ],
      "text/plain": [
       "<IPython.core.display.HTML object>"
      ]
     },
     "metadata": {},
     "output_type": "display_data"
    },
    {
     "data": {
      "text/html": [
       "<span style=\"background-color:#ffcece\">I</span> <span style=\"background-color:#ffcaca\">'m</span> <span style=\"background-color:#ececff\">not</span> <span style=\"background-color:#ff0000\">mistaken</span> <span style=\"background-color:#ffeaea\">.</span> \n"
      ],
      "text/plain": [
       "<IPython.core.display.HTML object>"
      ]
     },
     "metadata": {},
     "output_type": "display_data"
    },
    {
     "data": {
      "text/html": [
       "correct label: <b>if</b>"
      ],
      "text/plain": [
       "<IPython.core.display.HTML object>"
      ]
     },
     "metadata": {},
     "output_type": "display_data"
    },
    {
     "data": {
      "text/html": [
       "predict label: <b>if</b>"
      ],
      "text/plain": [
       "<IPython.core.display.HTML object>"
      ]
     },
     "metadata": {},
     "output_type": "display_data"
    },
    {
     "data": {
      "text/html": [
       "<span style=\"background-color:#ffd2d2\">It</span> <span style=\"background-color:#2e2eff\">was</span> <span style=\"background-color:#ff9898\">just</span> <span style=\"background-color:#ffbcbc\">that</span> <span style=\"background-color:#ff0000\">.</span> \n"
      ],
      "text/plain": [
       "<IPython.core.display.HTML object>"
      ]
     },
     "metadata": {},
     "output_type": "display_data"
    },
    {
     "data": {
      "text/html": [
       "<span style=\"background-color:#ff0000\">Even</span> <span style=\"background-color:#fff4f4\">he</span> <span style=\"background-color:#f6f6ff\">and</span> <span style=\"background-color:#ffd6d6\">lori</span> <span style=\"background-color:#fff4f4\">fulfilled</span> <span style=\"background-color:#f8f8ff\">the</span> <span style=\"background-color:#ffe4e4\">momentary</span> <span style=\"background-color:#fff8f8\">promise</span> <span style=\"background-color:#d3d3ff\">.</span> \n"
      ],
      "text/plain": [
       "<IPython.core.display.HTML object>"
      ]
     },
     "metadata": {},
     "output_type": "display_data"
    },
    {
     "data": {
      "text/html": [
       "correct label: <b>if</b>"
      ],
      "text/plain": [
       "<IPython.core.display.HTML object>"
      ]
     },
     "metadata": {},
     "output_type": "display_data"
    },
    {
     "data": {
      "text/html": [
       "predict label: <b>if</b>"
      ],
      "text/plain": [
       "<IPython.core.display.HTML object>"
      ]
     },
     "metadata": {},
     "output_type": "display_data"
    },
    {
     "data": {
      "text/html": [
       "<span style=\"background-color:#d0d0ff\">They</span> <span style=\"background-color:#ff0000\">will</span> <span style=\"background-color:#e8e8ff\">show</span> <span style=\"background-color:#dadaff\">neither</span> <span style=\"background-color:#d6d6ff\">love</span> <span style=\"background-color:#f3f3ff\">nor</span> <span style=\"background-color:#fff0f0\">mercy</span> <span style=\"background-color:#fefeff\">to</span> <span style=\"background-color:#dadaff\">you</span> <span style=\"background-color:#ffe4e4\">.</span> \n"
      ],
      "text/plain": [
       "<IPython.core.display.HTML object>"
      ]
     },
     "metadata": {},
     "output_type": "display_data"
    },
    {
     "data": {
      "text/html": [
       "<span style=\"background-color:#ff0000\">Your</span> <span style=\"background-color:#fcfcff\">quest</span> <span style=\"background-color:#ffb2b2\">be</span> <span style=\"background-color:#ff8e8e\">told</span> <span style=\"background-color:#ff9292\">.</span> \n"
      ],
      "text/plain": [
       "<IPython.core.display.HTML object>"
      ]
     },
     "metadata": {},
     "output_type": "display_data"
    },
    {
     "data": {
      "text/html": [
       "correct label: <b>if</b>"
      ],
      "text/plain": [
       "<IPython.core.display.HTML object>"
      ]
     },
     "metadata": {},
     "output_type": "display_data"
    },
    {
     "data": {
      "text/html": [
       "predict label: <b>if</b>"
      ],
      "text/plain": [
       "<IPython.core.display.HTML object>"
      ]
     },
     "metadata": {},
     "output_type": "display_data"
    },
    {
     "data": {
      "text/html": [
       "<span style=\"background-color:#e2e2ff\">He</span> <span style=\"background-color:#7878ff\">had</span> <span style=\"background-color:#ff8686\">failed</span> <span style=\"background-color:#ff9c9c\">as</span> <span style=\"background-color:#ff7070\">a</span> <span style=\"background-color:#8e8eff\">father</span> <span style=\"background-color:#ff0000\">and</span> <span style=\"background-color:#bebeff\">provider</span> <span style=\"background-color:#ff8686\">.</span> \n"
      ],
      "text/plain": [
       "<IPython.core.display.HTML object>"
      ]
     },
     "metadata": {},
     "output_type": "display_data"
    },
    {
     "data": {
      "text/html": [
       "<span style=\"background-color:#ffd0d0\">She</span> <span style=\"background-color:#ff0000\">were</span> <span style=\"background-color:#a0a0ff\">n't</span> <span style=\"background-color:#fffafa\">.</span> <span style=\"background-color:#fff8f8\">.</span> \n"
      ],
      "text/plain": [
       "<IPython.core.display.HTML object>"
      ]
     },
     "metadata": {},
     "output_type": "display_data"
    },
    {
     "data": {
      "text/html": [
       "correct label: <b>if</b>"
      ],
      "text/plain": [
       "<IPython.core.display.HTML object>"
      ]
     },
     "metadata": {},
     "output_type": "display_data"
    },
    {
     "data": {
      "text/html": [
       "predict label: <b>if</b>"
      ],
      "text/plain": [
       "<IPython.core.display.HTML object>"
      ]
     },
     "metadata": {},
     "output_type": "display_data"
    },
    {
     "data": {
      "text/html": [
       "<span style=\"background-color:#ccccff\">I</span> <span style=\"background-color:#cacaff\">'m</span> <span style=\"background-color:#ffe4e4\">not</span> <span style=\"background-color:#fff0f0\">even</span> <span style=\"background-color:#ff0000\">sure</span> <span style=\"background-color:#ffdada\">.</span> \n"
      ],
      "text/plain": [
       "<IPython.core.display.HTML object>"
      ]
     },
     "metadata": {},
     "output_type": "display_data"
    },
    {
     "data": {
      "text/html": [
       "<span style=\"background-color:#5858ff\">Peace</span> <span style=\"background-color:#ff0000\">is</span> <span style=\"background-color:#d3d3ff\">the</span> <span style=\"background-color:#ff1818\">right</span> <span style=\"background-color:#ffc8c8\">word</span> <span style=\"background-color:#ffeaea\">.</span> \n"
      ],
      "text/plain": [
       "<IPython.core.display.HTML object>"
      ]
     },
     "metadata": {},
     "output_type": "display_data"
    },
    {
     "data": {
      "text/html": [
       "correct label: <b>if</b>"
      ],
      "text/plain": [
       "<IPython.core.display.HTML object>"
      ]
     },
     "metadata": {},
     "output_type": "display_data"
    },
    {
     "data": {
      "text/html": [
       "predict label: <b>if</b>"
      ],
      "text/plain": [
       "<IPython.core.display.HTML object>"
      ]
     },
     "metadata": {},
     "output_type": "display_data"
    },
    {
     "data": {
      "text/html": [
       "<span style=\"background-color:#ff0000\">But</span> <span style=\"background-color:#ffe8e8\">,</span> <span style=\"background-color:#b8b8ff\">i</span> <span style=\"background-color:#ff9696\">'ll</span> <span style=\"background-color:#fff2f2\">be</span> <span style=\"background-color:#fffefe\">sure</span> <span style=\"background-color:#ffe6e6\">to</span> <span style=\"background-color:#ffe0e0\">let</span> <span style=\"background-color:#b3b3ff\">you</span> <span style=\"background-color:#ffeaea\">know</span> <span style=\"background-color:#ffe4e4\">.</span> <span style=\"background-color:#fefeff\">''</span> <span style=\"background-color:#fff4f4\">.</span> \n"
      ],
      "text/plain": [
       "<IPython.core.display.HTML object>"
      ]
     },
     "metadata": {},
     "output_type": "display_data"
    },
    {
     "data": {
      "text/html": [
       "<span style=\"background-color:#ff8686\">I</span> <span style=\"background-color:#5959ff\">think</span> <span style=\"background-color:#ffcece\">of</span> <span style=\"background-color:#ff0000\">anything</span> <span style=\"background-color:#fffafa\">that</span> <span style=\"background-color:#7878ff\">might</span> <span style=\"background-color:#ffcece\">help</span> <span style=\"background-color:#fcfcff\">.</span> \n"
      ],
      "text/plain": [
       "<IPython.core.display.HTML object>"
      ]
     },
     "metadata": {},
     "output_type": "display_data"
    },
    {
     "data": {
      "text/html": [
       "correct label: <b>if</b>"
      ],
      "text/plain": [
       "<IPython.core.display.HTML object>"
      ]
     },
     "metadata": {},
     "output_type": "display_data"
    },
    {
     "data": {
      "text/html": [
       "predict label: <b>if</b>"
      ],
      "text/plain": [
       "<IPython.core.display.HTML object>"
      ]
     },
     "metadata": {},
     "output_type": "display_data"
    }
   ],
   "source": [
    "for i in range(10, 20):\n",
    "    res = get_example_by_idx('if', i)\n",
    "    display(*bilstm.visualize_example(res[0], res[1], res[2], dis_labels))"
   ]
  },
  {
   "cell_type": "code",
   "execution_count": 22,
   "metadata": {},
   "outputs": [
    {
     "data": {
      "text/html": [
       "<span style=\"background-color:#ff8282\">Then</span> <span style=\"background-color:#a2a2ff\">i</span> <span style=\"background-color:#ff0000\">'ll</span> <span style=\"background-color:#c6c6ff\">hold</span> <span style=\"background-color:#f8f8ff\">back</span> <span style=\"background-color:#ffd6d6\">.</span> <span style=\"background-color:#fffcfc\">''</span> <span style=\"background-color:#fff6f6\">.</span> \n"
      ],
      "text/plain": [
       "<IPython.core.display.HTML object>"
      ]
     },
     "metadata": {},
     "output_type": "display_data"
    },
    {
     "data": {
      "text/html": [
       "<span style=\"background-color:#ff0000\">You</span> <span style=\"background-color:#ff9c9c\">think</span> <span style=\"background-color:#ffd8d8\">that</span> <span style=\"background-color:#6868ff\">pure</span> <span style=\"background-color:#ffeeee\">love</span> <span style=\"background-color:#ffe2e2\">is</span> <span style=\"background-color:#fffcfc\">about</span> <span style=\"background-color:#fff8f8\">holding</span> <span style=\"background-color:#ececff\">.</span> \n"
      ],
      "text/plain": [
       "<IPython.core.display.HTML object>"
      ]
     },
     "metadata": {},
     "output_type": "display_data"
    },
    {
     "data": {
      "text/html": [
       "correct label: <b>if</b>"
      ],
      "text/plain": [
       "<IPython.core.display.HTML object>"
      ]
     },
     "metadata": {},
     "output_type": "display_data"
    },
    {
     "data": {
      "text/html": [
       "predict label: <b>if</b>"
      ],
      "text/plain": [
       "<IPython.core.display.HTML object>"
      ]
     },
     "metadata": {},
     "output_type": "display_data"
    },
    {
     "data": {
      "text/html": [
       "<span style=\"background-color:#b3b3ff\">She</span> <span style=\"background-color:#ff0000\">would</span> <span style=\"background-color:#d8d8ff\">go</span> <span style=\"background-color:#ffdede\">to</span> <span style=\"background-color:#ffecec\">the</span> <span style=\"background-color:#f0f0ff\">college</span> <span style=\"background-color:#ffe8e8\">with</span> <span style=\"background-color:#f6f6ff\">them</span> <span style=\"background-color:#ffcece\">.</span> \n"
      ],
      "text/plain": [
       "<IPython.core.display.HTML object>"
      ]
     },
     "metadata": {},
     "output_type": "display_data"
    },
    {
     "data": {
      "text/html": [
       "<span style=\"background-color:#ff0000\">Even</span> <span style=\"background-color:#fff6f6\">her</span> <span style=\"background-color:#ffcece\">talent</span> <span style=\"background-color:#fffafa\">passed</span> <span style=\"background-color:#ececff\">to</span> <span style=\"background-color:#fffcfc\">her</span> <span style=\"background-color:#fcfcff\">baby</span> <span style=\"background-color:#f3f3ff\">.</span> \n"
      ],
      "text/plain": [
       "<IPython.core.display.HTML object>"
      ]
     },
     "metadata": {},
     "output_type": "display_data"
    },
    {
     "data": {
      "text/html": [
       "correct label: <b>if</b>"
      ],
      "text/plain": [
       "<IPython.core.display.HTML object>"
      ]
     },
     "metadata": {},
     "output_type": "display_data"
    },
    {
     "data": {
      "text/html": [
       "predict label: <b>if</b>"
      ],
      "text/plain": [
       "<IPython.core.display.HTML object>"
      ]
     },
     "metadata": {},
     "output_type": "display_data"
    },
    {
     "data": {
      "text/html": [
       "<span style=\"background-color:#d3d3ff\">He</span> <span style=\"background-color:#ff0000\">'d</span> <span style=\"background-color:#c0c0ff\">never</span> <span style=\"background-color:#ff8a8a\">be</span> <span style=\"background-color:#fafaff\">able</span> <span style=\"background-color:#ffcccc\">to</span> <span style=\"background-color:#ffbaba\">forgive</span> <span style=\"background-color:#fffefe\">himself</span> <span style=\"background-color:#ffd6d6\">.</span> \n"
      ],
      "text/plain": [
       "<IPython.core.display.HTML object>"
      ]
     },
     "metadata": {},
     "output_type": "display_data"
    },
    {
     "data": {
      "text/html": [
       "<span style=\"background-color:#ff0000\">Anything</span> <span style=\"background-color:#fcfcff\">had</span> <span style=\"background-color:#ff9c9c\">happened</span> <span style=\"background-color:#f6f6ff\">to</span> <span style=\"background-color:#f6f6ff\">his</span> <span style=\"background-color:#f0f0ff\">charge</span> <span style=\"background-color:#fff8f8\">.</span> \n"
      ],
      "text/plain": [
       "<IPython.core.display.HTML object>"
      ]
     },
     "metadata": {},
     "output_type": "display_data"
    },
    {
     "data": {
      "text/html": [
       "correct label: <b>if</b>"
      ],
      "text/plain": [
       "<IPython.core.display.HTML object>"
      ]
     },
     "metadata": {},
     "output_type": "display_data"
    },
    {
     "data": {
      "text/html": [
       "predict label: <b>if</b>"
      ],
      "text/plain": [
       "<IPython.core.display.HTML object>"
      ]
     },
     "metadata": {},
     "output_type": "display_data"
    },
    {
     "data": {
      "text/html": [
       "<span style=\"background-color:#ffc0c0\">Maybe</span> <span style=\"background-color:#c3c3ff\">i</span> <span style=\"background-color:#ff0000\">would</span> <span style=\"background-color:#ffd3d3\">be</span> <span style=\"background-color:#fff4f4\">at</span> <span style=\"background-color:#c3c3ff\">some</span> <span style=\"background-color:#ffe8e8\">point</span> <span style=\"background-color:#ffd8d8\">.</span> <span style=\"background-color:#fff8f8\">''</span> <span style=\"background-color:#fff2f2\">.</span> \n"
      ],
      "text/plain": [
       "<IPython.core.display.HTML object>"
      ]
     },
     "metadata": {},
     "output_type": "display_data"
    },
    {
     "data": {
      "text/html": [
       "<span style=\"background-color:#ff7070\">I</span> <span style=\"background-color:#ffecec\">had</span> <span style=\"background-color:#ffb2b2\">done</span> <span style=\"background-color:#dadaff\">it</span> <span style=\"background-color:#ff1c1c\">per</span> <span style=\"background-color:#ff0000\">these</span> <span style=\"background-color:#8383ff\">directives</span> <span style=\"background-color:#fff4f4\">.</span> \n"
      ],
      "text/plain": [
       "<IPython.core.display.HTML object>"
      ]
     },
     "metadata": {},
     "output_type": "display_data"
    },
    {
     "data": {
      "text/html": [
       "correct label: <b>if</b>"
      ],
      "text/plain": [
       "<IPython.core.display.HTML object>"
      ]
     },
     "metadata": {},
     "output_type": "display_data"
    },
    {
     "data": {
      "text/html": [
       "predict label: <b>if</b>"
      ],
      "text/plain": [
       "<IPython.core.display.HTML object>"
      ]
     },
     "metadata": {},
     "output_type": "display_data"
    },
    {
     "data": {
      "text/html": [
       "<span style=\"background-color:#ff0000\">Then</span> <span style=\"background-color:#bebeff\">you</span> <span style=\"background-color:#e0e0ff\">'ve</span> <span style=\"background-color:#ffe0e0\">nothing</span> <span style=\"background-color:#ffaeae\">to</span> <span style=\"background-color:#eeeeff\">hide</span> <span style=\"background-color:#ffd8d8\">.</span> \n"
      ],
      "text/plain": [
       "<IPython.core.display.HTML object>"
      ]
     },
     "metadata": {},
     "output_type": "display_data"
    },
    {
     "data": {
      "text/html": [
       "<span style=\"background-color:#ff0000\">You</span> <span style=\"background-color:#7171ff\">'ve</span> <span style=\"background-color:#ffcece\">done</span> <span style=\"background-color:#5e5eff\">nothing</span> <span style=\"background-color:#ff1e1e\">wrong</span> <span style=\"background-color:#fffafa\">.</span> \n"
      ],
      "text/plain": [
       "<IPython.core.display.HTML object>"
      ]
     },
     "metadata": {},
     "output_type": "display_data"
    },
    {
     "data": {
      "text/html": [
       "correct label: <b>if</b>"
      ],
      "text/plain": [
       "<IPython.core.display.HTML object>"
      ]
     },
     "metadata": {},
     "output_type": "display_data"
    },
    {
     "data": {
      "text/html": [
       "predict label: <b>if</b>"
      ],
      "text/plain": [
       "<IPython.core.display.HTML object>"
      ]
     },
     "metadata": {},
     "output_type": "display_data"
    },
    {
     "data": {
      "text/html": [
       "<span style=\"background-color:#e2e2ff\">It</span> <span style=\"background-color:#ffe2e2\">in</span> <span style=\"background-color:#ffeaea\">the</span> <span style=\"background-color:#fcfcff\">kind</span> <span style=\"background-color:#ffecec\">of</span> <span style=\"background-color:#7171ff\">excited</span> <span style=\"background-color:#ffecec\">tone</span> <span style=\"background-color:#dadaff\">i</span> <span style=\"background-color:#ff0000\">'d</span> <span style=\"background-color:#fff6f6\">expect</span> <span style=\"background-color:#ffb6b6\">.</span> \n"
      ],
      "text/plain": [
       "<IPython.core.display.HTML object>"
      ]
     },
     "metadata": {},
     "output_type": "display_data"
    },
    {
     "data": {
      "text/html": [
       "<span style=\"background-color:#ff1010\">We</span> <span style=\"background-color:#9898ff\">'d</span> <span style=\"background-color:#0000ff\">both</span> <span style=\"background-color:#e2e2ff\">just</span> <span style=\"background-color:#fffafa\">pledged</span> <span style=\"background-color:#eeeeff\">the</span> <span style=\"background-color:#fffcfc\">same</span> <span style=\"background-color:#ffc8c8\">sorority</span> <span style=\"background-color:#fff6f6\">.</span> \n"
      ],
      "text/plain": [
       "<IPython.core.display.HTML object>"
      ]
     },
     "metadata": {},
     "output_type": "display_data"
    },
    {
     "data": {
      "text/html": [
       "correct label: <b>if</b>"
      ],
      "text/plain": [
       "<IPython.core.display.HTML object>"
      ]
     },
     "metadata": {},
     "output_type": "display_data"
    },
    {
     "data": {
      "text/html": [
       "predict label: <b>if</b>"
      ],
      "text/plain": [
       "<IPython.core.display.HTML object>"
      ]
     },
     "metadata": {},
     "output_type": "display_data"
    },
    {
     "data": {
      "text/html": [
       "<span style=\"background-color:#fefeff\">She</span> <span style=\"background-color:#b0b0ff\">been</span> <span style=\"background-color:#ff0000\">wondering</span> <span style=\"background-color:#fafaff\">,</span> <span style=\"background-color:#ffd6d6\">but</span> <span style=\"background-color:#ffdada\">...</span> <span style=\"background-color:#fefeff\">``</span> <span style=\"background-color:#f6f6ff\">if</span> <span style=\"background-color:#fffcfc\">he</span> <span style=\"background-color:#fff4f4\">'s</span> <span style=\"background-color:#fefeff\">just</span> <span style=\"background-color:#fff8f8\">going</span> <span style=\"background-color:#fffefe\">to</span> <span style=\"background-color:#fcfcff\">the</span> <span style=\"background-color:#ffeeee\">crowne</span> <span style=\"background-color:#fafaff\">,</span> <span style=\"background-color:#fefeff\">why</span> <span style=\"background-color:#fff8f8\">am</span> <span style=\"background-color:#f8f8ff\">i</span> <span style=\"background-color:#f8f8ff\">picking</span> <span style=\"background-color:#fefeff\">him</span> <span style=\"background-color:#fefeff\">up</span> <span style=\"background-color:#fefeff\">.</span> \n"
      ],
      "text/plain": [
       "<IPython.core.display.HTML object>"
      ]
     },
     "metadata": {},
     "output_type": "display_data"
    },
    {
     "data": {
      "text/html": [
       "<span style=\"background-color:#ff3c3c\">He</span> <span style=\"background-color:#ff0000\">was</span> <span style=\"background-color:#ff4848\">as</span> <span style=\"background-color:#ff2020\">sexy</span> <span style=\"background-color:#8e8eff\">as</span> <span style=\"background-color:#a2a2ff\">his</span> <span style=\"background-color:#7878ff\">voice</span> <span style=\"background-color:#ffaeae\">.</span> \n"
      ],
      "text/plain": [
       "<IPython.core.display.HTML object>"
      ]
     },
     "metadata": {},
     "output_type": "display_data"
    },
    {
     "data": {
      "text/html": [
       "correct label: <b>if</b>"
      ],
      "text/plain": [
       "<IPython.core.display.HTML object>"
      ]
     },
     "metadata": {},
     "output_type": "display_data"
    },
    {
     "data": {
      "text/html": [
       "predict label: <b>if</b>"
      ],
      "text/plain": [
       "<IPython.core.display.HTML object>"
      ]
     },
     "metadata": {},
     "output_type": "display_data"
    },
    {
     "data": {
      "text/html": [
       "<span style=\"background-color:#c6c6ff\">They</span> <span style=\"background-color:#ff0000\">would</span> <span style=\"background-color:#f3f3ff\">make</span> <span style=\"background-color:#fffcfc\">the</span> <span style=\"background-color:#ffd0d0\">donation</span> <span style=\"background-color:#ffd8d8\">.</span> \n"
      ],
      "text/plain": [
       "<IPython.core.display.HTML object>"
      ]
     },
     "metadata": {},
     "output_type": "display_data"
    },
    {
     "data": {
      "text/html": [
       "<span style=\"background-color:#d2d2ff\">For</span> <span style=\"background-color:#ffbebe\">some</span> <span style=\"background-color:#ffc3c3\">reason</span> <span style=\"background-color:#d2d2ff\">,</span> <span style=\"background-color:#ff9e9e\">any</span> <span style=\"background-color:#fff2f2\">of</span> <span style=\"background-color:#f2f2ff\">the</span> <span style=\"background-color:#e2e2ff\">bachelors</span> <span style=\"background-color:#ff0000\">were</span> <span style=\"background-color:#ffb0b0\">unable</span> <span style=\"background-color:#f3f3ff\">to</span> <span style=\"background-color:#ffd2d2\">fulfill</span> <span style=\"background-color:#fff0f0\">their</span> <span style=\"background-color:#dcdcff\">obligation</span> <span style=\"background-color:#eaeaff\">.</span> \n"
      ],
      "text/plain": [
       "<IPython.core.display.HTML object>"
      ]
     },
     "metadata": {},
     "output_type": "display_data"
    },
    {
     "data": {
      "text/html": [
       "correct label: <b>if</b>"
      ],
      "text/plain": [
       "<IPython.core.display.HTML object>"
      ]
     },
     "metadata": {},
     "output_type": "display_data"
    },
    {
     "data": {
      "text/html": [
       "predict label: <b>if</b>"
      ],
      "text/plain": [
       "<IPython.core.display.HTML object>"
      ]
     },
     "metadata": {},
     "output_type": "display_data"
    },
    {
     "data": {
      "text/html": [
       "<span style=\"background-color:#ff0000\">And</span> <span style=\"background-color:#fefeff\">your</span> <span style=\"background-color:#ff6969\">life</span> <span style=\"background-color:#7c7cff\">is</span> <span style=\"background-color:#ffe0e0\">over</span> <span style=\"background-color:#ff7878\">anyway</span> <span style=\"background-color:#ff8c8c\">.</span> <span style=\"background-color:#fff0f0\">''</span> <span style=\"background-color:#ffbcbc\">.</span> \n"
      ],
      "text/plain": [
       "<IPython.core.display.HTML object>"
      ]
     },
     "metadata": {},
     "output_type": "display_data"
    },
    {
     "data": {
      "text/html": [
       "<span style=\"background-color:#ff0000\">You</span> <span style=\"background-color:#d0d0ff\">do</span> <span style=\"background-color:#ffb3b3\">kill</span> <span style=\"background-color:#f3f3ff\">me</span> <span style=\"background-color:#fff6f6\">.</span> \n"
      ],
      "text/plain": [
       "<IPython.core.display.HTML object>"
      ]
     },
     "metadata": {},
     "output_type": "display_data"
    },
    {
     "data": {
      "text/html": [
       "correct label: <b>if</b>"
      ],
      "text/plain": [
       "<IPython.core.display.HTML object>"
      ]
     },
     "metadata": {},
     "output_type": "display_data"
    },
    {
     "data": {
      "text/html": [
       "predict label: <b>if</b>"
      ],
      "text/plain": [
       "<IPython.core.display.HTML object>"
      ]
     },
     "metadata": {},
     "output_type": "display_data"
    },
    {
     "data": {
      "text/html": [
       "<span style=\"background-color:#f3f3ff\">First</span> <span style=\"background-color:#dadaff\">off</span> <span style=\"background-color:#d0d0ff\">he</span> <span style=\"background-color:#ff0000\">'d</span> <span style=\"background-color:#ffe8e8\">know</span> <span style=\"background-color:#ffeaea\">he</span> <span style=\"background-color:#dedeff\">was</span> <span style=\"background-color:#fffefe\">actually</span> <span style=\"background-color:#fffafa\">in</span> <span style=\"background-color:#fafaff\">the</span> <span style=\"background-color:#eeeeff\">market</span> <span style=\"background-color:#f8f8ff\">for</span> <span style=\"background-color:#fcfcff\">giant</span> <span style=\"background-color:#f2f2ff\">,</span> <span style=\"background-color:#ffeeee\">sand</span> <span style=\"background-color:#fffafa\">dollar-sized</span> <span style=\"background-color:#ffe8e8\">areolas</span> <span style=\"background-color:#e3e3ff\">not</span> <span style=\"background-color:#e6e6ff\">nipples</span> <span style=\"background-color:#ffeeee\">as</span> <span style=\"background-color:#fafaff\">a</span> <span style=\"background-color:#fff0f0\">whole</span> <span style=\"background-color:#ffdcdc\">.</span> \n"
      ],
      "text/plain": [
       "<IPython.core.display.HTML object>"
      ]
     },
     "metadata": {},
     "output_type": "display_data"
    },
    {
     "data": {
      "text/html": [
       "<span style=\"background-color:#ffaeae\">Mr.</span> <span style=\"background-color:#d0d0ff\">clean</span> <span style=\"background-color:#fefeff\">knew</span> <span style=\"background-color:#ff0000\">anything</span> <span style=\"background-color:#fcfcff\">about</span> <span style=\"background-color:#ffd8d8\">anatomy</span> <span style=\"background-color:#fffafa\">.</span> \n"
      ],
      "text/plain": [
       "<IPython.core.display.HTML object>"
      ]
     },
     "metadata": {},
     "output_type": "display_data"
    },
    {
     "data": {
      "text/html": [
       "correct label: <b>if</b>"
      ],
      "text/plain": [
       "<IPython.core.display.HTML object>"
      ]
     },
     "metadata": {},
     "output_type": "display_data"
    },
    {
     "data": {
      "text/html": [
       "predict label: <b>if</b>"
      ],
      "text/plain": [
       "<IPython.core.display.HTML object>"
      ]
     },
     "metadata": {},
     "output_type": "display_data"
    },
    {
     "data": {
      "text/html": [
       "<span style=\"background-color:#ff0000\">Then</span> <span style=\"background-color:#babaff\">i</span> <span style=\"background-color:#dcdcff\">was</span> <span style=\"background-color:#fff8f8\">in</span> <span style=\"background-color:#cacaff\">full</span> <span style=\"background-color:#ffc0c0\">support</span> <span style=\"background-color:#f2f2ff\">of</span> <span style=\"background-color:#ffbaba\">it</span> <span style=\"background-color:#ff9292\">.</span> \n"
      ],
      "text/plain": [
       "<IPython.core.display.HTML object>"
      ]
     },
     "metadata": {},
     "output_type": "display_data"
    },
    {
     "data": {
      "text/html": [
       "<span style=\"background-color:#0c0cff\">What</span> <span style=\"background-color:#e8e8ff\">he</span> <span style=\"background-color:#8c8cff\">'d</span> <span style=\"background-color:#ff0000\">revealed</span> <span style=\"background-color:#9c9cff\">helped</span> <span style=\"background-color:#ffe6e6\">her</span> <span style=\"background-color:#ffb6b6\">to</span> <span style=\"background-color:#bebeff\">feel</span> <span style=\"background-color:#fff6f6\">better</span> <span style=\"background-color:#f2f2ff\">about</span> <span style=\"background-color:#fff6f6\">herself</span> <span style=\"background-color:#d2d2ff\">.</span> \n"
      ],
      "text/plain": [
       "<IPython.core.display.HTML object>"
      ]
     },
     "metadata": {},
     "output_type": "display_data"
    },
    {
     "data": {
      "text/html": [
       "correct label: <b>if</b>"
      ],
      "text/plain": [
       "<IPython.core.display.HTML object>"
      ]
     },
     "metadata": {},
     "output_type": "display_data"
    },
    {
     "data": {
      "text/html": [
       "predict label: <b>if</b>"
      ],
      "text/plain": [
       "<IPython.core.display.HTML object>"
      ]
     },
     "metadata": {},
     "output_type": "display_data"
    },
    {
     "data": {
      "text/html": [
       "<span style=\"background-color:#ffdede\">Which</span> <span style=\"background-color:#e6e6ff\">for</span> <span style=\"background-color:#ceceff\">now</span> <span style=\"background-color:#d2d2ff\">i</span> <span style=\"background-color:#ff0000\">will</span> <span style=\"background-color:#ffe0e0\">sum</span> <span style=\"background-color:#f0f0ff\">up</span> <span style=\"background-color:#ffe8e8\">to</span> <span style=\"background-color:#ceceff\">you</span> <span style=\"background-color:#ffbebe\">.</span> \n"
      ],
      "text/plain": [
       "<IPython.core.display.HTML object>"
      ]
     },
     "metadata": {},
     "output_type": "display_data"
    },
    {
     "data": {
      "text/html": [
       "<span style=\"background-color:#ff0000\">You</span> <span style=\"background-color:#ff3030\">dont</span> <span style=\"background-color:#ffecec\">take</span> <span style=\"background-color:#eaeaff\">offence</span> <span style=\"background-color:#f0f0ff\">at</span> <span style=\"background-color:#ffeeee\">me</span> <span style=\"background-color:#d3d3ff\">.</span> \n"
      ],
      "text/plain": [
       "<IPython.core.display.HTML object>"
      ]
     },
     "metadata": {},
     "output_type": "display_data"
    },
    {
     "data": {
      "text/html": [
       "correct label: <b>if</b>"
      ],
      "text/plain": [
       "<IPython.core.display.HTML object>"
      ]
     },
     "metadata": {},
     "output_type": "display_data"
    },
    {
     "data": {
      "text/html": [
       "predict label: <b>if</b>"
      ],
      "text/plain": [
       "<IPython.core.display.HTML object>"
      ]
     },
     "metadata": {},
     "output_type": "display_data"
    },
    {
     "data": {
      "text/html": [
       "<span style=\"background-color:#fff0f0\">The</span> <span style=\"background-color:#cacaff\">car</span> <span style=\"background-color:#ff0000\">worth</span> <span style=\"background-color:#e3e3ff\">out</span> <span style=\"background-color:#ff8888\">.</span> \n"
      ],
      "text/plain": [
       "<IPython.core.display.HTML object>"
      ]
     },
     "metadata": {},
     "output_type": "display_data"
    },
    {
     "data": {
      "text/html": [
       "<span style=\"background-color:#ff7979\">I</span> <span style=\"background-color:#ff0000\">wanted</span> <span style=\"background-color:#fffafa\">to</span> <span style=\"background-color:#ff4e4e\">sell</span> <span style=\"background-color:#eaeaff\">it</span> <span style=\"background-color:#fefeff\">.</span> \n"
      ],
      "text/plain": [
       "<IPython.core.display.HTML object>"
      ]
     },
     "metadata": {},
     "output_type": "display_data"
    },
    {
     "data": {
      "text/html": [
       "correct label: <b>if</b>"
      ],
      "text/plain": [
       "<IPython.core.display.HTML object>"
      ]
     },
     "metadata": {},
     "output_type": "display_data"
    },
    {
     "data": {
      "text/html": [
       "predict label: <b>if</b>"
      ],
      "text/plain": [
       "<IPython.core.display.HTML object>"
      ]
     },
     "metadata": {},
     "output_type": "display_data"
    },
    {
     "data": {
      "text/html": [
       "<span style=\"background-color:#ff8e8e\">However</span> <span style=\"background-color:#fffefe\">,</span> <span style=\"background-color:#ffdada\">this</span> <span style=\"background-color:#ff0000\">would</span> <span style=\"background-color:#cacaff\">only</span> <span style=\"background-color:#fff8f8\">work</span> <span style=\"background-color:#ffcccc\">.</span> \n"
      ],
      "text/plain": [
       "<IPython.core.display.HTML object>"
      ]
     },
     "metadata": {},
     "output_type": "display_data"
    },
    {
     "data": {
      "text/html": [
       "<span style=\"background-color:#fff0f0\">The</span> <span style=\"background-color:#ff0000\">programmer</span> <span style=\"background-color:#ffcccc\">was</span> <span style=\"background-color:#ffe4e4\">lazy</span> <span style=\"background-color:#fff4f4\">.</span> \n"
      ],
      "text/plain": [
       "<IPython.core.display.HTML object>"
      ]
     },
     "metadata": {},
     "output_type": "display_data"
    },
    {
     "data": {
      "text/html": [
       "correct label: <b>if</b>"
      ],
      "text/plain": [
       "<IPython.core.display.HTML object>"
      ]
     },
     "metadata": {},
     "output_type": "display_data"
    },
    {
     "data": {
      "text/html": [
       "predict label: <b>if</b>"
      ],
      "text/plain": [
       "<IPython.core.display.HTML object>"
      ]
     },
     "metadata": {},
     "output_type": "display_data"
    },
    {
     "data": {
      "text/html": [
       "<span style=\"background-color:#b2b2ff\">He</span> <span style=\"background-color:#ff0000\">'ll</span> <span style=\"background-color:#ffbaba\">be</span> <span style=\"background-color:#7171ff\">pissed</span> <span style=\"background-color:#ffd2d2\">.</span> \n"
      ],
      "text/plain": [
       "<IPython.core.display.HTML object>"
      ]
     },
     "metadata": {},
     "output_type": "display_data"
    },
    {
     "data": {
      "text/html": [
       "<span style=\"background-color:#ff7474\">I</span> <span style=\"background-color:#ff9a9a\">bring</span> <span style=\"background-color:#ff0000\">you</span> <span style=\"background-color:#a8a8ff\">back</span> <span style=\"background-color:#fff6f6\">with</span> <span style=\"background-color:#ff5959\">one</span> <span style=\"background-color:#fff2f2\">little</span> <span style=\"background-color:#d6d6ff\">bag</span> <span style=\"background-color:#f0f0ff\">of</span> <span style=\"background-color:#ffacac\">stuff</span> <span style=\"background-color:#ccccff\">.</span> \n"
      ],
      "text/plain": [
       "<IPython.core.display.HTML object>"
      ]
     },
     "metadata": {},
     "output_type": "display_data"
    },
    {
     "data": {
      "text/html": [
       "correct label: <b>if</b>"
      ],
      "text/plain": [
       "<IPython.core.display.HTML object>"
      ]
     },
     "metadata": {},
     "output_type": "display_data"
    },
    {
     "data": {
      "text/html": [
       "predict label: <b>if</b>"
      ],
      "text/plain": [
       "<IPython.core.display.HTML object>"
      ]
     },
     "metadata": {},
     "output_type": "display_data"
    },
    {
     "data": {
      "text/html": [
       "<span style=\"background-color:#b2b2ff\">The</span> <span style=\"background-color:#ffbcbc\">only</span> <span style=\"background-color:#fffcfc\">way</span> <span style=\"background-color:#ffcece\">i</span> <span style=\"background-color:#ff3e3e\">'m</span> <span style=\"background-color:#8c8cff\">still</span> <span style=\"background-color:#ffd6d6\">managing</span> <span style=\"background-color:#f8f8ff\">to</span> <span style=\"background-color:#ffaaaa\">put</span> <span style=\"background-color:#fff8f8\">one</span> <span style=\"background-color:#ffbcbc\">heavy</span> <span style=\"background-color:#fffefe\">foot</span> <span style=\"background-color:#ffe6e6\">in</span> <span style=\"background-color:#fff4f4\">front</span> <span style=\"background-color:#d0d0ff\">of</span> <span style=\"background-color:#fcfcff\">the</span> <span style=\"background-color:#e6e6ff\">other</span> <span style=\"background-color:#ff0000\">is</span> <span style=\"background-color:#f2f2ff\">.</span> \n"
      ],
      "text/plain": [
       "<IPython.core.display.HTML object>"
      ]
     },
     "metadata": {},
     "output_type": "display_data"
    },
    {
     "data": {
      "text/html": [
       "<span style=\"background-color:#fffefe\">I</span> <span style=\"background-color:#ff0000\">'ve</span> <span style=\"background-color:#2222ff\">died</span> <span style=\"background-color:#ff8686\">and</span> <span style=\"background-color:#4c4cff\">this</span> <span style=\"background-color:#ff4848\">is</span> <span style=\"background-color:#ffdcdc\">my</span> <span style=\"background-color:#ccccff\">zombified</span> <span style=\"background-color:#ffcaca\">self</span> <span style=\"background-color:#7979ff\">plodding</span> <span style=\"background-color:#a2a2ff\">along</span> <span style=\"background-color:#ffcccc\">.</span> \n"
      ],
      "text/plain": [
       "<IPython.core.display.HTML object>"
      ]
     },
     "metadata": {},
     "output_type": "display_data"
    },
    {
     "data": {
      "text/html": [
       "correct label: <b>if</b>"
      ],
      "text/plain": [
       "<IPython.core.display.HTML object>"
      ]
     },
     "metadata": {},
     "output_type": "display_data"
    },
    {
     "data": {
      "text/html": [
       "predict label: <b>because</b>"
      ],
      "text/plain": [
       "<IPython.core.display.HTML object>"
      ]
     },
     "metadata": {},
     "output_type": "display_data"
    },
    {
     "data": {
      "text/html": [
       "<span style=\"background-color:#e8e8ff\">He</span> <span style=\"background-color:#ff0000\">could</span> <span style=\"background-color:#f3f3ff\">almost</span> <span style=\"background-color:#c0c0ff\">smell</span> <span style=\"background-color:#fefeff\">the</span> <span style=\"background-color:#ffd8d8\">elusive</span> <span style=\"background-color:#f2f2ff\">,</span> <span style=\"background-color:#fff2f2\">erotic</span> <span style=\"background-color:#e3e3ff\">scent</span> <span style=\"background-color:#fffafa\">that</span> <span style=\"background-color:#e8e8ff\">must</span> <span style=\"background-color:#ffd8d8\">surely</span> <span style=\"background-color:#fcfcff\">surround</span> <span style=\"background-color:#f0f0ff\">her</span> <span style=\"background-color:#fffcfc\">.</span> \n"
      ],
      "text/plain": [
       "<IPython.core.display.HTML object>"
      ]
     },
     "metadata": {},
     "output_type": "display_data"
    },
    {
     "data": {
      "text/html": [
       "<span style=\"background-color:#ff4e4e\">He</span> <span style=\"background-color:#ff0000\">closed</span> <span style=\"background-color:#ffaaaa\">his</span> <span style=\"background-color:#3c3cff\">eyes</span> <span style=\"background-color:#fcfcff\">.</span> \n"
      ],
      "text/plain": [
       "<IPython.core.display.HTML object>"
      ]
     },
     "metadata": {},
     "output_type": "display_data"
    },
    {
     "data": {
      "text/html": [
       "correct label: <b>if</b>"
      ],
      "text/plain": [
       "<IPython.core.display.HTML object>"
      ]
     },
     "metadata": {},
     "output_type": "display_data"
    },
    {
     "data": {
      "text/html": [
       "predict label: <b>if</b>"
      ],
      "text/plain": [
       "<IPython.core.display.HTML object>"
      ]
     },
     "metadata": {},
     "output_type": "display_data"
    },
    {
     "data": {
      "text/html": [
       "<span style=\"background-color:#fff0f0\">That</span> <span style=\"background-color:#ff0000\">would</span> <span style=\"background-color:#e2e2ff\">lead</span> <span style=\"background-color:#fff6f6\">to</span> <span style=\"background-color:#acacff\">further</span> <span style=\"background-color:#b3b3ff\">speculation</span> <span style=\"background-color:#ffc2c2\">.</span> <span style=\"background-color:#ececff\">''</span> <span style=\"background-color:#ffd6d6\">.</span> \n"
      ],
      "text/plain": [
       "<IPython.core.display.HTML object>"
      ]
     },
     "metadata": {},
     "output_type": "display_data"
    },
    {
     "data": {
      "text/html": [
       "<span style=\"background-color:#ffd2d2\">She</span> <span style=\"background-color:#fcfcff\">too</span> <span style=\"background-color:#ff0000\">were</span> <span style=\"background-color:#ffb6b6\">to</span> <span style=\"background-color:#d2d2ff\">be</span> <span style=\"background-color:#ffe8e8\">a</span> <span style=\"background-color:#ffc2c2\">victim</span> <span style=\"background-color:#fafaff\">.</span> \n"
      ],
      "text/plain": [
       "<IPython.core.display.HTML object>"
      ]
     },
     "metadata": {},
     "output_type": "display_data"
    },
    {
     "data": {
      "text/html": [
       "correct label: <b>if</b>"
      ],
      "text/plain": [
       "<IPython.core.display.HTML object>"
      ]
     },
     "metadata": {},
     "output_type": "display_data"
    },
    {
     "data": {
      "text/html": [
       "predict label: <b>if</b>"
      ],
      "text/plain": [
       "<IPython.core.display.HTML object>"
      ]
     },
     "metadata": {},
     "output_type": "display_data"
    },
    {
     "data": {
      "text/html": [
       "<span style=\"background-color:#d3d3ff\">Dante</span> <span style=\"background-color:#ff0000\">would</span> <span style=\"background-color:#e0e0ff\">have</span> <span style=\"background-color:#e3e3ff\">told</span> <span style=\"background-color:#d2d2ff\">me</span> <span style=\"background-color:#ffbebe\">.</span> \n"
      ],
      "text/plain": [
       "<IPython.core.display.HTML object>"
      ]
     },
     "metadata": {},
     "output_type": "display_data"
    },
    {
     "data": {
      "text/html": [
       "<span style=\"background-color:#fffefe\">It</span> <span style=\"background-color:#ff0000\">were</span> <span style=\"background-color:#ffe8e8\">going</span> <span style=\"background-color:#ffe0e0\">to</span> <span style=\"background-color:#fffafa\">be</span> <span style=\"background-color:#fff6f6\">a</span> <span style=\"background-color:#ffecec\">formal</span> <span style=\"background-color:#fff2f2\">date</span> <span style=\"background-color:#fffcfc\">.</span> \n"
      ],
      "text/plain": [
       "<IPython.core.display.HTML object>"
      ]
     },
     "metadata": {},
     "output_type": "display_data"
    },
    {
     "data": {
      "text/html": [
       "correct label: <b>if</b>"
      ],
      "text/plain": [
       "<IPython.core.display.HTML object>"
      ]
     },
     "metadata": {},
     "output_type": "display_data"
    },
    {
     "data": {
      "text/html": [
       "predict label: <b>if</b>"
      ],
      "text/plain": [
       "<IPython.core.display.HTML object>"
      ]
     },
     "metadata": {},
     "output_type": "display_data"
    },
    {
     "data": {
      "text/html": [
       "<span style=\"background-color:#ff3838\">Besides</span> <span style=\"background-color:#e0e0ff\">jimmy</span> <span style=\"background-color:#cacaff\">was</span> <span style=\"background-color:#ff0000\">probably</span> <span style=\"background-color:#d8d8ff\">more</span> <span style=\"background-color:#ffd8d8\">within</span> <span style=\"background-color:#cacaff\">my</span> <span style=\"background-color:#ffcece\">reach</span> <span style=\"background-color:#ffa8a8\">.</span> \n"
      ],
      "text/plain": [
       "<IPython.core.display.HTML object>"
      ]
     },
     "metadata": {},
     "output_type": "display_data"
    },
    {
     "data": {
      "text/html": [
       "<span style=\"background-color:#ffeeee\">Trina</span> <span style=\"background-color:#ff0000\">planned</span> <span style=\"background-color:#ffeeee\">to</span> <span style=\"background-color:#ff8686\">snag</span> <span style=\"background-color:#d8d8ff\">rigel</span> <span style=\"background-color:#ffeaea\">for</span> <span style=\"background-color:#fff0f0\">herself</span> <span style=\"background-color:#f0f0ff\">.</span> \n"
      ],
      "text/plain": [
       "<IPython.core.display.HTML object>"
      ]
     },
     "metadata": {},
     "output_type": "display_data"
    },
    {
     "data": {
      "text/html": [
       "correct label: <b>if</b>"
      ],
      "text/plain": [
       "<IPython.core.display.HTML object>"
      ]
     },
     "metadata": {},
     "output_type": "display_data"
    },
    {
     "data": {
      "text/html": [
       "predict label: <b>if</b>"
      ],
      "text/plain": [
       "<IPython.core.display.HTML object>"
      ]
     },
     "metadata": {},
     "output_type": "display_data"
    },
    {
     "data": {
      "text/html": [
       "<span style=\"background-color:#bcbcff\">I</span> <span style=\"background-color:#b8b8ff\">'m</span> <span style=\"background-color:#ffd0d0\">not</span> <span style=\"background-color:#ff0000\">sure</span> <span style=\"background-color:#ffc0c0\">.</span> \n"
      ],
      "text/plain": [
       "<IPython.core.display.HTML object>"
      ]
     },
     "metadata": {},
     "output_type": "display_data"
    },
    {
     "data": {
      "text/html": [
       "<span style=\"background-color:#ffd8d8\">It</span> <span style=\"background-color:#ffe4e4\">was</span> <span style=\"background-color:#fff6f6\">her</span> <span style=\"background-color:#ff0000\">or</span> <span style=\"background-color:#eaeaff\">the</span> <span style=\"background-color:#f3f3ff\">thought</span> <span style=\"background-color:#fafaff\">of</span> <span style=\"background-color:#e3e3ff\">real</span> <span style=\"background-color:#ffecec\">coffee</span> <span style=\"background-color:#fafaff\">that</span> <span style=\"background-color:#ffd0d0\">did</span> <span style=\"background-color:#f6f6ff\">it</span> <span style=\"background-color:#fffafa\">.</span> \n"
      ],
      "text/plain": [
       "<IPython.core.display.HTML object>"
      ]
     },
     "metadata": {},
     "output_type": "display_data"
    },
    {
     "data": {
      "text/html": [
       "correct label: <b>if</b>"
      ],
      "text/plain": [
       "<IPython.core.display.HTML object>"
      ]
     },
     "metadata": {},
     "output_type": "display_data"
    },
    {
     "data": {
      "text/html": [
       "predict label: <b>if</b>"
      ],
      "text/plain": [
       "<IPython.core.display.HTML object>"
      ]
     },
     "metadata": {},
     "output_type": "display_data"
    },
    {
     "data": {
      "text/html": [
       "<span style=\"background-color:#acacff\">You</span> <span style=\"background-color:#ff0000\">will</span> <span style=\"background-color:#ffd6d6\">die</span> <span style=\"background-color:#ffe8e8\">because</span> <span style=\"background-color:#fcfcff\">you</span> <span style=\"background-color:#e0e0ff\">are</span> <span style=\"background-color:#fffefe\">part</span> <span style=\"background-color:#f8f8ff\">vampire</span> <span style=\"background-color:#ffd0d0\">.</span> \n"
      ],
      "text/plain": [
       "<IPython.core.display.HTML object>"
      ]
     },
     "metadata": {},
     "output_type": "display_data"
    },
    {
     "data": {
      "text/html": [
       "<span style=\"background-color:#ffdcdc\">The</span> <span style=\"background-color:#ff9696\">wolf</span> <span style=\"background-color:#ffb6b6\">bites</span> <span style=\"background-color:#ff0000\">you</span> <span style=\"background-color:#e0e0ff\">.</span> \n"
      ],
      "text/plain": [
       "<IPython.core.display.HTML object>"
      ]
     },
     "metadata": {},
     "output_type": "display_data"
    },
    {
     "data": {
      "text/html": [
       "correct label: <b>if</b>"
      ],
      "text/plain": [
       "<IPython.core.display.HTML object>"
      ]
     },
     "metadata": {},
     "output_type": "display_data"
    },
    {
     "data": {
      "text/html": [
       "predict label: <b>if</b>"
      ],
      "text/plain": [
       "<IPython.core.display.HTML object>"
      ]
     },
     "metadata": {},
     "output_type": "display_data"
    },
    {
     "data": {
      "text/html": [
       "<span style=\"background-color:#ff7070\">And</span> <span style=\"background-color:#ff0000\">...</span> <span style=\"background-color:#ffd3d3\">well</span> <span style=\"background-color:#b8b8ff\">,</span> <span style=\"background-color:#ccccff\">you</span> <span style=\"background-color:#fff2f2\">know</span> <span style=\"background-color:#dedeff\">who</span> <span style=\"background-color:#ff3838\">'d</span> <span style=\"background-color:#d8d8ff\">they</span> <span style=\"background-color:#ff9e9e\">'d</span> <span style=\"background-color:#ffeeee\">pick</span> <span style=\"background-color:#ffd8d8\">.</span> <span style=\"background-color:#fafaff\">''</span> <span style=\"background-color:#fff6f6\">.</span> \n"
      ],
      "text/plain": [
       "<IPython.core.display.HTML object>"
      ]
     },
     "metadata": {},
     "output_type": "display_data"
    },
    {
     "data": {
      "text/html": [
       "<span style=\"background-color:#ff1818\">I</span> <span style=\"background-color:#8c8cff\">'d</span> <span style=\"background-color:#ff6161\">forced</span> <span style=\"background-color:#7e7eff\">them</span> <span style=\"background-color:#b8b8ff\">to</span> <span style=\"background-color:#ff0000\">choose</span> <span style=\"background-color:#eaeaff\">between</span> <span style=\"background-color:#ff7676\">us</span> <span style=\"background-color:#dcdcff\">.</span> \n"
      ],
      "text/plain": [
       "<IPython.core.display.HTML object>"
      ]
     },
     "metadata": {},
     "output_type": "display_data"
    },
    {
     "data": {
      "text/html": [
       "correct label: <b>if</b>"
      ],
      "text/plain": [
       "<IPython.core.display.HTML object>"
      ]
     },
     "metadata": {},
     "output_type": "display_data"
    },
    {
     "data": {
      "text/html": [
       "predict label: <b>if</b>"
      ],
      "text/plain": [
       "<IPython.core.display.HTML object>"
      ]
     },
     "metadata": {},
     "output_type": "display_data"
    },
    {
     "data": {
      "text/html": [
       "<span style=\"background-color:#e3e3ff\">That</span> <span style=\"background-color:#fff8f8\">person</span> <span style=\"background-color:#ff0000\">would</span> <span style=\"background-color:#fffefe\">have</span> <span style=\"background-color:#c0c0ff\">screamed</span> <span style=\"background-color:#ffecec\">bloody</span> <span style=\"background-color:#fafaff\">murder</span> <span style=\"background-color:#ffd6d6\">.</span> \n"
      ],
      "text/plain": [
       "<IPython.core.display.HTML object>"
      ]
     },
     "metadata": {},
     "output_type": "display_data"
    },
    {
     "data": {
      "text/html": [
       "<span style=\"background-color:#ff0000\">Someone</span> <span style=\"background-color:#e6e6ff\">had</span> <span style=\"background-color:#ff8a8a\">been</span> <span style=\"background-color:#ffe6e6\">awake</span> <span style=\"background-color:#ffd2d2\">when</span> <span style=\"background-color:#eeeeff\">all</span> <span style=\"background-color:#ffcaca\">those</span> <span style=\"background-color:#fafaff\">people</span> <span style=\"background-color:#ffdada\">were</span> <span style=\"background-color:#ceceff\">eliminated</span> <span style=\"background-color:#dedeff\">.</span> \n"
      ],
      "text/plain": [
       "<IPython.core.display.HTML object>"
      ]
     },
     "metadata": {},
     "output_type": "display_data"
    },
    {
     "data": {
      "text/html": [
       "correct label: <b>if</b>"
      ],
      "text/plain": [
       "<IPython.core.display.HTML object>"
      ]
     },
     "metadata": {},
     "output_type": "display_data"
    },
    {
     "data": {
      "text/html": [
       "predict label: <b>if</b>"
      ],
      "text/plain": [
       "<IPython.core.display.HTML object>"
      ]
     },
     "metadata": {},
     "output_type": "display_data"
    },
    {
     "data": {
      "text/html": [
       "<span style=\"background-color:#ff0000\">Then</span> <span style=\"background-color:#d2d2ff\">i</span> <span style=\"background-color:#ff2626\">doubt</span> <span style=\"background-color:#bcbcff\">anyone</span> <span style=\"background-color:#fff6f6\">else</span> <span style=\"background-color:#eeeeff\">is</span> <span style=\"background-color:#ffc3c3\">going</span> <span style=\"background-color:#fefeff\">to</span> <span style=\"background-color:#ffecec\">be</span> <span style=\"background-color:#f0f0ff\">able</span> <span style=\"background-color:#ffe0e0\">to</span> <span style=\"background-color:#f2f2ff\">pull</span> <span style=\"background-color:#fcfcff\">him</span> <span style=\"background-color:#fcfcff\">out</span> <span style=\"background-color:#e8e8ff\">of</span> <span style=\"background-color:#ffe8e8\">it</span> <span style=\"background-color:#ffe4e4\">.</span> \n"
      ],
      "text/plain": [
       "<IPython.core.display.HTML object>"
      ]
     },
     "metadata": {},
     "output_type": "display_data"
    },
    {
     "data": {
      "text/html": [
       "<span style=\"background-color:#ffeaea\">Henry</span> <span style=\"background-color:#ff0000\">really</span> <span style=\"background-color:#fefeff\">is</span> <span style=\"background-color:#ffd0d0\">as</span> <span style=\"background-color:#dedeff\">miserable</span> <span style=\"background-color:#eeeeff\">as</span> <span style=\"background-color:#ffd6d6\">he</span> <span style=\"background-color:#dedeff\">sounds</span> <span style=\"background-color:#fffafa\">.</span> \n"
      ],
      "text/plain": [
       "<IPython.core.display.HTML object>"
      ]
     },
     "metadata": {},
     "output_type": "display_data"
    },
    {
     "data": {
      "text/html": [
       "correct label: <b>if</b>"
      ],
      "text/plain": [
       "<IPython.core.display.HTML object>"
      ]
     },
     "metadata": {},
     "output_type": "display_data"
    },
    {
     "data": {
      "text/html": [
       "predict label: <b>if</b>"
      ],
      "text/plain": [
       "<IPython.core.display.HTML object>"
      ]
     },
     "metadata": {},
     "output_type": "display_data"
    },
    {
     "data": {
      "text/html": [
       "<span style=\"background-color:#ff7070\">Make</span> <span style=\"background-color:#f0f0ff\">some</span> <span style=\"background-color:#0000ff\">calls</span> <span style=\"background-color:#e3e3ff\">,</span> <span style=\"background-color:#ff9898\">even</span> <span style=\"background-color:#ffb3b3\">have</span> <span style=\"background-color:#fffefe\">a</span> <span style=\"background-color:#fafaff\">meal</span> <span style=\"background-color:#ffbaba\">or</span> <span style=\"background-color:#fff2f2\">a</span> <span style=\"background-color:#9898ff\">drink</span> <span style=\"background-color:#fff2f2\">,</span> <span style=\"background-color:#ffbebe\">you</span> <span style=\"background-color:#ceceff\">'ve</span> <span style=\"background-color:#e0e0ff\">got</span> <span style=\"background-color:#babaff\">some</span> <span style=\"background-color:#e3e3ff\">time</span> <span style=\"background-color:#ff9898\">.</span> <span style=\"background-color:#fff8f8\">''</span> <span style=\"background-color:#ffd2d2\">.</span> \n"
      ],
      "text/plain": [
       "<IPython.core.display.HTML object>"
      ]
     },
     "metadata": {},
     "output_type": "display_data"
    },
    {
     "data": {
      "text/html": [
       "<span style=\"background-color:#ff0000\">You</span> <span style=\"background-color:#ffa3a3\">want</span> <span style=\"background-color:#fffcfc\">to</span> <span style=\"background-color:#eeeeff\">kick</span> <span style=\"background-color:#e0e0ff\">back</span> <span style=\"background-color:#fcfcff\">in</span> <span style=\"background-color:#f6f6ff\">the</span> <span style=\"background-color:#fff8f8\">executive</span> <span style=\"background-color:#ffe4e4\">lounge</span> <span style=\"background-color:#f2f2ff\">.</span> \n"
      ],
      "text/plain": [
       "<IPython.core.display.HTML object>"
      ]
     },
     "metadata": {},
     "output_type": "display_data"
    },
    {
     "data": {
      "text/html": [
       "correct label: <b>if</b>"
      ],
      "text/plain": [
       "<IPython.core.display.HTML object>"
      ]
     },
     "metadata": {},
     "output_type": "display_data"
    },
    {
     "data": {
      "text/html": [
       "predict label: <b>if</b>"
      ],
      "text/plain": [
       "<IPython.core.display.HTML object>"
      ]
     },
     "metadata": {},
     "output_type": "display_data"
    },
    {
     "data": {
      "text/html": [
       "<span style=\"background-color:#ff0000\">What</span> <span style=\"background-color:#ff9393\">'ll</span> <span style=\"background-color:#fefeff\">happen</span> <span style=\"background-color:#fafaff\">to</span> <span style=\"background-color:#bcbcff\">them</span> <span style=\"background-color:#ffc8c8\">.</span> \n"
      ],
      "text/plain": [
       "<IPython.core.display.HTML object>"
      ]
     },
     "metadata": {},
     "output_type": "display_data"
    },
    {
     "data": {
      "text/html": [
       "<span style=\"background-color:#ff8686\">They</span> <span style=\"background-color:#ffdede\">rat</span> <span style=\"background-color:#ff7979\">out</span> <span style=\"background-color:#ffeaea\">a</span> <span style=\"background-color:#ff8c8c\">fellow</span> <span style=\"background-color:#ff0000\">member</span> <span style=\"background-color:#9898ff\">.</span> \n"
      ],
      "text/plain": [
       "<IPython.core.display.HTML object>"
      ]
     },
     "metadata": {},
     "output_type": "display_data"
    },
    {
     "data": {
      "text/html": [
       "correct label: <b>if</b>"
      ],
      "text/plain": [
       "<IPython.core.display.HTML object>"
      ]
     },
     "metadata": {},
     "output_type": "display_data"
    },
    {
     "data": {
      "text/html": [
       "predict label: <b>when</b>"
      ],
      "text/plain": [
       "<IPython.core.display.HTML object>"
      ]
     },
     "metadata": {},
     "output_type": "display_data"
    },
    {
     "data": {
      "text/html": [
       "<span style=\"background-color:#ff0000\">Then</span> <span style=\"background-color:#ff0404\">surely</span> <span style=\"background-color:#aaaaff\">she</span> <span style=\"background-color:#ff5050\">must</span> <span style=\"background-color:#f0f0ff\">see</span> <span style=\"background-color:#fefeff\">that</span> <span style=\"background-color:#eeeeff\">,</span> <span style=\"background-color:#fafaff\">too</span> <span style=\"background-color:#ffecec\">.</span> <span style=\"background-color:#fffefe\">''</span> <span style=\"background-color:#fff4f4\">.</span> \n"
      ],
      "text/plain": [
       "<IPython.core.display.HTML object>"
      ]
     },
     "metadata": {},
     "output_type": "display_data"
    },
    {
     "data": {
      "text/html": [
       "<span style=\"background-color:#e8e8ff\">My</span> <span style=\"background-color:#ffcece\">mother</span> <span style=\"background-color:#ff0000\">knows</span> <span style=\"background-color:#4646ff\">everything</span> <span style=\"background-color:#f8f8ff\">about</span> <span style=\"background-color:#ff4c4c\">you</span> <span style=\"background-color:#f8f8ff\">.</span> \n"
      ],
      "text/plain": [
       "<IPython.core.display.HTML object>"
      ]
     },
     "metadata": {},
     "output_type": "display_data"
    },
    {
     "data": {
      "text/html": [
       "correct label: <b>if</b>"
      ],
      "text/plain": [
       "<IPython.core.display.HTML object>"
      ]
     },
     "metadata": {},
     "output_type": "display_data"
    },
    {
     "data": {
      "text/html": [
       "predict label: <b>if</b>"
      ],
      "text/plain": [
       "<IPython.core.display.HTML object>"
      ]
     },
     "metadata": {},
     "output_type": "display_data"
    },
    {
     "data": {
      "text/html": [
       "<span style=\"background-color:#e0e0ff\">Of</span> <span style=\"background-color:#ffcccc\">course</span> <span style=\"background-color:#c0c0ff\">she</span> <span style=\"background-color:#ff0000\">will</span> <span style=\"background-color:#f2f2ff\">,</span> <span style=\"background-color:#d6d6ff\">no</span> <span style=\"background-color:#ffc0c0\">matter</span> <span style=\"background-color:#ff6161\">what</span> <span style=\"background-color:#ffbcbc\">.</span> <span style=\"background-color:#fafaff\">''</span> <span style=\"background-color:#ffe2e2\">.</span> \n"
      ],
      "text/plain": [
       "<IPython.core.display.HTML object>"
      ]
     },
     "metadata": {},
     "output_type": "display_data"
    },
    {
     "data": {
      "text/html": [
       "<span style=\"background-color:#ff9898\">She</span> <span style=\"background-color:#ff4e4e\">really</span> <span style=\"background-color:#ff0000\">wants</span> <span style=\"background-color:#ceceff\">to</span> <span style=\"background-color:#ffc8c8\">refuse</span> <span style=\"background-color:#f8f8ff\">.</span> \n"
      ],
      "text/plain": [
       "<IPython.core.display.HTML object>"
      ]
     },
     "metadata": {},
     "output_type": "display_data"
    },
    {
     "data": {
      "text/html": [
       "correct label: <b>if</b>"
      ],
      "text/plain": [
       "<IPython.core.display.HTML object>"
      ]
     },
     "metadata": {},
     "output_type": "display_data"
    },
    {
     "data": {
      "text/html": [
       "predict label: <b>if</b>"
      ],
      "text/plain": [
       "<IPython.core.display.HTML object>"
      ]
     },
     "metadata": {},
     "output_type": "display_data"
    },
    {
     "data": {
      "text/html": [
       "<span style=\"background-color:#a3a3ff\">The</span> <span style=\"background-color:#c3c3ff\">fifth</span> <span style=\"background-color:#ff9898\">bogey</span> <span style=\"background-color:#fefeff\">could</span> <span style=\"background-color:#0000ff\">have</span> <span style=\"background-color:#ff6464\">been</span> <span style=\"background-color:#9292ff\">intercepted</span> <span style=\"background-color:#ff9898\">.</span> \n"
      ],
      "text/plain": [
       "<IPython.core.display.HTML object>"
      ]
     },
     "metadata": {},
     "output_type": "display_data"
    },
    {
     "data": {
      "text/html": [
       "<span style=\"background-color:#ff8383\">Hunter</span> <span style=\"background-color:#ff0000\">and</span> <span style=\"background-color:#a0a0ff\">maverick</span> <span style=\"background-color:#0606ff\">had</span> <span style=\"background-color:#ff9696\">maneuvered</span> <span style=\"background-color:#ffc2c2\">close</span> <span style=\"background-color:#6969ff\">enough</span> <span style=\"background-color:#c3c3ff\">for</span> <span style=\"background-color:#ffbcbc\">converging</span> <span style=\"background-color:#c6c6ff\">fire</span> <span style=\"background-color:#9292ff\">.</span> \n"
      ],
      "text/plain": [
       "<IPython.core.display.HTML object>"
      ]
     },
     "metadata": {},
     "output_type": "display_data"
    },
    {
     "data": {
      "text/html": [
       "correct label: <b>if</b>"
      ],
      "text/plain": [
       "<IPython.core.display.HTML object>"
      ]
     },
     "metadata": {},
     "output_type": "display_data"
    },
    {
     "data": {
      "text/html": [
       "predict label: <b>when</b>"
      ],
      "text/plain": [
       "<IPython.core.display.HTML object>"
      ]
     },
     "metadata": {},
     "output_type": "display_data"
    }
   ],
   "source": [
    "for i in range(20, 50):\n",
    "    res = get_example_by_idx('if', i)\n",
    "    display(*bilstm.visualize_example(res[0], res[1], res[2], dis_labels))"
   ]
  },
  {
   "cell_type": "markdown",
   "metadata": {},
   "source": [
    "We can zoom in on `because` marker"
   ]
  },
  {
   "cell_type": "code",
   "execution_count": 8,
   "metadata": {},
   "outputs": [],
   "source": [
    "import json\n",
    "type_one = json.load(open('./type_one_error_list.json', 'rb'))\n",
    "type_two = json.load(open('./type_two_error_list.json', 'rb'))\n",
    "correct = json.load(open('./correct_list.json', 'rb'))"
   ]
  },
  {
   "cell_type": "code",
   "execution_count": 11,
   "metadata": {},
   "outputs": [
    {
     "data": {
      "text/html": [
       "<span style=\"background-color:#5e5eff\">The</span> <span style=\"background-color:#ffa0a0\">last</span> <span style=\"background-color:#cacaff\">sight</span> <span style=\"background-color:#c6c6ff\">of</span> <span style=\"background-color:#dedeff\">him</span> <span style=\"background-color:#fff2f2\">for</span> <span style=\"background-color:#ffd8d8\">the</span> <span style=\"background-color:#ffeaea\">past</span> <span style=\"background-color:#fff2f2\">few</span> <span style=\"background-color:#b3b3ff\">days</span> <span style=\"background-color:#2626ff\">had</span> <span style=\"background-color:#f2f2ff\">been</span> <span style=\"background-color:#ff1010\">when</span> <span style=\"background-color:#a3a3ff\">his</span> <span style=\"background-color:#dcdcff\">leader</span> <span style=\"background-color:#b8b8ff\">had</span> <span style=\"background-color:#ffcece\">been</span> <span style=\"background-color:#3030ff\">led</span> <span style=\"background-color:#fff2f2\">away</span> <span style=\"background-color:#fff2f2\">by</span> <span style=\"background-color:#ffdcdc\">some</span> <span style=\"background-color:#c2c2ff\">colonels</span> <span style=\"background-color:#ff0000\">or</span> <span style=\"background-color:#ff6464\">.</span> \n"
      ],
      "text/plain": [
       "<IPython.core.display.HTML object>"
      ]
     },
     "metadata": {},
     "output_type": "display_data"
    },
    {
     "data": {
      "text/html": [
       "<span style=\"background-color:#ff0000\">Probably</span> <span style=\"background-color:#fff6f6\">they</span> <span style=\"background-color:#ffbaba\">wanted</span> <span style=\"background-color:#ececff\">to</span> <span style=\"background-color:#d2d2ff\">enroll</span> <span style=\"background-color:#fffafa\">him</span> <span style=\"background-color:#fff2f2\">.</span> \n"
      ],
      "text/plain": [
       "<IPython.core.display.HTML object>"
      ]
     },
     "metadata": {},
     "output_type": "display_data"
    },
    {
     "data": {
      "text/html": [
       "correct label: <b>because</b>"
      ],
      "text/plain": [
       "<IPython.core.display.HTML object>"
      ]
     },
     "metadata": {},
     "output_type": "display_data"
    },
    {
     "data": {
      "text/html": [
       "predict label: <b>because</b>"
      ],
      "text/plain": [
       "<IPython.core.display.HTML object>"
      ]
     },
     "metadata": {},
     "output_type": "display_data"
    },
    {
     "data": {
      "text/html": [
       "<span style=\"background-color:#ff0000\">I</span> <span style=\"background-color:#3636ff\">had</span> <span style=\"background-color:#fefeff\">to</span> <span style=\"background-color:#ff2121\">kind</span> <span style=\"background-color:#8888ff\">of</span> <span style=\"background-color:#ff7878\">hide</span> <span style=\"background-color:#d6d6ff\">out</span> <span style=\"background-color:#ff3e3e\">.</span> \n"
      ],
      "text/plain": [
       "<IPython.core.display.HTML object>"
      ]
     },
     "metadata": {},
     "output_type": "display_data"
    },
    {
     "data": {
      "text/html": [
       "<span style=\"background-color:#d0d0ff\">I</span> <span style=\"background-color:#ff0000\">wasnt</span> <span style=\"background-color:#ff8e8e\">supposed</span> <span style=\"background-color:#eaeaff\">to</span> <span style=\"background-color:#fff2f2\">be</span> <span style=\"background-color:#babaff\">.</span> \n"
      ],
      "text/plain": [
       "<IPython.core.display.HTML object>"
      ]
     },
     "metadata": {},
     "output_type": "display_data"
    },
    {
     "data": {
      "text/html": [
       "correct label: <b>because</b>"
      ],
      "text/plain": [
       "<IPython.core.display.HTML object>"
      ]
     },
     "metadata": {},
     "output_type": "display_data"
    },
    {
     "data": {
      "text/html": [
       "predict label: <b>because</b>"
      ],
      "text/plain": [
       "<IPython.core.display.HTML object>"
      ]
     },
     "metadata": {},
     "output_type": "display_data"
    },
    {
     "data": {
      "text/html": [
       "<span style=\"background-color:#ff0000\">Im</span> <span style=\"background-color:#ffcaca\">alone</span> <span style=\"background-color:#ffbebe\">most</span> <span style=\"background-color:#cacaff\">of</span> <span style=\"background-color:#fff8f8\">the</span> <span style=\"background-color:#fffcfc\">time</span> <span style=\"background-color:#ffc8c8\">.</span> \n"
      ],
      "text/plain": [
       "<IPython.core.display.HTML object>"
      ]
     },
     "metadata": {},
     "output_type": "display_data"
    },
    {
     "data": {
      "text/html": [
       "<span style=\"background-color:#e3e3ff\">Perry</span> <span style=\"background-color:#ff0000\">is</span> <span style=\"background-color:#9393ff\">on</span> <span style=\"background-color:#f3f3ff\">the</span> <span style=\"background-color:#d6d6ff\">road</span> <span style=\"background-color:#cacaff\">a</span> <span style=\"background-color:#ff5151\">lot</span> <span style=\"background-color:#eeeeff\">.</span> \n"
      ],
      "text/plain": [
       "<IPython.core.display.HTML object>"
      ]
     },
     "metadata": {},
     "output_type": "display_data"
    },
    {
     "data": {
      "text/html": [
       "correct label: <b>because</b>"
      ],
      "text/plain": [
       "<IPython.core.display.HTML object>"
      ]
     },
     "metadata": {},
     "output_type": "display_data"
    },
    {
     "data": {
      "text/html": [
       "predict label: <b>because</b>"
      ],
      "text/plain": [
       "<IPython.core.display.HTML object>"
      ]
     },
     "metadata": {},
     "output_type": "display_data"
    },
    {
     "data": {
      "text/html": [
       "<span style=\"background-color:#fffcfc\">Many</span> <span style=\"background-color:#dadaff\">missiles</span> <span style=\"background-color:#7e7eff\">were</span> <span style=\"background-color:#ff0000\">never</span> <span style=\"background-color:#f8f8ff\">launched</span> <span style=\"background-color:#ffb8b8\">.</span> \n"
      ],
      "text/plain": [
       "<IPython.core.display.HTML object>"
      ]
     },
     "metadata": {},
     "output_type": "display_data"
    },
    {
     "data": {
      "text/html": [
       "<span style=\"background-color:#ff0000\">Simply</span> <span style=\"background-color:#f8f8ff\">the</span> <span style=\"background-color:#fff4f4\">people</span> <span style=\"background-color:#ffeaea\">responsible</span> <span style=\"background-color:#f8f8ff\">for</span> <span style=\"background-color:#eeeeff\">launching</span> <span style=\"background-color:#fffcfc\">them</span> <span style=\"background-color:#ffeeee\">had</span> <span style=\"background-color:#fefeff\">been</span> <span style=\"background-color:#ffdcdc\">distracted</span> <span style=\"background-color:#f2f2ff\">,</span> <span style=\"background-color:#fcfcff\">killed</span> <span style=\"background-color:#fff4f4\">,</span> <span style=\"background-color:#e2e2ff\">or</span> <span style=\"background-color:#fafaff\">injured</span> <span style=\"background-color:#fffefe\">in</span> <span style=\"background-color:#fffcfc\">the</span> <span style=\"background-color:#e6e6ff\">melee</span> <span style=\"background-color:#f2f2ff\">.</span> \n"
      ],
      "text/plain": [
       "<IPython.core.display.HTML object>"
      ]
     },
     "metadata": {},
     "output_type": "display_data"
    },
    {
     "data": {
      "text/html": [
       "correct label: <b>because</b>"
      ],
      "text/plain": [
       "<IPython.core.display.HTML object>"
      ]
     },
     "metadata": {},
     "output_type": "display_data"
    },
    {
     "data": {
      "text/html": [
       "predict label: <b>because</b>"
      ],
      "text/plain": [
       "<IPython.core.display.HTML object>"
      ]
     },
     "metadata": {},
     "output_type": "display_data"
    },
    {
     "data": {
      "text/html": [
       "<span style=\"background-color:#ff3939\">I</span> <span style=\"background-color:#ff4040\">also</span> <span style=\"background-color:#ff0000\">kept</span> <span style=\"background-color:#ff9898\">doing</span> <span style=\"background-color:#ff3838\">it</span> <span style=\"background-color:#fff6f6\">.</span> \n"
      ],
      "text/plain": [
       "<IPython.core.display.HTML object>"
      ]
     },
     "metadata": {},
     "output_type": "display_data"
    },
    {
     "data": {
      "text/html": [
       "<span style=\"background-color:#5959ff\">Hitting</span> <span style=\"background-color:#d0d0ff\">a</span> <span style=\"background-color:#eaeaff\">home</span> <span style=\"background-color:#ffc6c6\">run</span> <span style=\"background-color:#ffd3d3\">made</span> <span style=\"background-color:#ceceff\">it</span> <span style=\"background-color:#ff9292\">worth</span> <span style=\"background-color:#7474ff\">surviving</span> <span style=\"background-color:#ffd8d8\">the</span> <span style=\"background-color:#ff0000\">times</span> <span style=\"background-color:#ff2626\">things</span> <span style=\"background-color:#3434ff\">went</span> <span style=\"background-color:#f0f0ff\">.</span> \n"
      ],
      "text/plain": [
       "<IPython.core.display.HTML object>"
      ]
     },
     "metadata": {},
     "output_type": "display_data"
    },
    {
     "data": {
      "text/html": [
       "correct label: <b>because</b>"
      ],
      "text/plain": [
       "<IPython.core.display.HTML object>"
      ]
     },
     "metadata": {},
     "output_type": "display_data"
    },
    {
     "data": {
      "text/html": [
       "predict label: <b>because</b>"
      ],
      "text/plain": [
       "<IPython.core.display.HTML object>"
      ]
     },
     "metadata": {},
     "output_type": "display_data"
    },
    {
     "data": {
      "text/html": [
       "<span style=\"background-color:#ffb8b8\">She</span> <span style=\"background-color:#3030ff\">was</span> <span style=\"background-color:#ff3838\">feeling</span> <span style=\"background-color:#ff0000\">better</span> <span style=\"background-color:#ff5e5e\">than</span> <span style=\"background-color:#ffb6b6\">she</span> <span style=\"background-color:#7676ff\">'d</span> <span style=\"background-color:#b0b0ff\">felt</span> <span style=\"background-color:#eaeaff\">in</span> <span style=\"background-color:#2828ff\">ages</span> <span style=\"background-color:#ffe4e4\">.</span> \n"
      ],
      "text/plain": [
       "<IPython.core.display.HTML object>"
      ]
     },
     "metadata": {},
     "output_type": "display_data"
    },
    {
     "data": {
      "text/html": [
       "<span style=\"background-color:#ff0000\">Probably</span> <span style=\"background-color:#f6f6ff\">she</span> <span style=\"background-color:#ffcece\">was</span> <span style=\"background-color:#f3f3ff\">opening</span> <span style=\"background-color:#f8f8ff\">herself</span> <span style=\"background-color:#fefeff\">up</span> <span style=\"background-color:#f6f6ff\">to</span> <span style=\"background-color:#fffefe\">new</span> <span style=\"background-color:#fffcfc\">friendships</span> <span style=\"background-color:#ffeeee\">.</span> \n"
      ],
      "text/plain": [
       "<IPython.core.display.HTML object>"
      ]
     },
     "metadata": {},
     "output_type": "display_data"
    },
    {
     "data": {
      "text/html": [
       "correct label: <b>because</b>"
      ],
      "text/plain": [
       "<IPython.core.display.HTML object>"
      ]
     },
     "metadata": {},
     "output_type": "display_data"
    },
    {
     "data": {
      "text/html": [
       "predict label: <b>because</b>"
      ],
      "text/plain": [
       "<IPython.core.display.HTML object>"
      ]
     },
     "metadata": {},
     "output_type": "display_data"
    },
    {
     "data": {
      "text/html": [
       "<span style=\"background-color:#ff0808\">That</span> <span style=\"background-color:#5050ff\">was</span> <span style=\"background-color:#ccccff\">a</span> <span style=\"background-color:#ff0000\">shame</span> <span style=\"background-color:#ffe6e6\">.</span> \n"
      ],
      "text/plain": [
       "<IPython.core.display.HTML object>"
      ]
     },
     "metadata": {},
     "output_type": "display_data"
    },
    {
     "data": {
      "text/html": [
       "<span style=\"background-color:#ffe6e6\">Her</span> <span style=\"background-color:#ff5454\">recent</span> <span style=\"background-color:#1616ff\">transformation</span> <span style=\"background-color:#ff0000\">had</span> <span style=\"background-color:#aaaaff\">given</span> <span style=\"background-color:#fff6f6\">her</span> <span style=\"background-color:#a0a0ff\">new</span> <span style=\"background-color:#ffa6a6\">confidence</span> <span style=\"background-color:#e8e8ff\">in</span> <span style=\"background-color:#f2f2ff\">her</span> <span style=\"background-color:#ffeeee\">ability</span> <span style=\"background-color:#fff0f0\">to</span> <span style=\"background-color:#8080ff\">snag</span> <span style=\"background-color:#ffecec\">a</span> <span style=\"background-color:#ffe8e8\">good-looking</span> <span style=\"background-color:#ff9c9c\">guy</span> <span style=\"background-color:#fff6f6\">like</span> <span style=\"background-color:#fff8f8\">lex</span> <span style=\"background-color:#ffd3d3\">.</span> \n"
      ],
      "text/plain": [
       "<IPython.core.display.HTML object>"
      ]
     },
     "metadata": {},
     "output_type": "display_data"
    },
    {
     "data": {
      "text/html": [
       "correct label: <b>because</b>"
      ],
      "text/plain": [
       "<IPython.core.display.HTML object>"
      ]
     },
     "metadata": {},
     "output_type": "display_data"
    },
    {
     "data": {
      "text/html": [
       "predict label: <b>because</b>"
      ],
      "text/plain": [
       "<IPython.core.display.HTML object>"
      ]
     },
     "metadata": {},
     "output_type": "display_data"
    },
    {
     "data": {
      "text/html": [
       "<span style=\"background-color:#f0f0ff\">``</span> <span style=\"background-color:#ffc6c6\">not</span> <span style=\"background-color:#4e4eff\">long</span> <span style=\"background-color:#0e0eff\">after</span> <span style=\"background-color:#fff2f2\">i</span> <span style=\"background-color:#ff6e6e\">got</span> <span style=\"background-color:#ffd3d3\">here</span> <span style=\"background-color:#ffa6a6\">,</span> <span style=\"background-color:#ff5959\">you</span> <span style=\"background-color:#9e9eff\">asked</span> <span style=\"background-color:#ff7878\">me</span> <span style=\"background-color:#ff0000\">not</span> <span style=\"background-color:#e3e3ff\">to</span> <span style=\"background-color:#ececff\">call</span> <span style=\"background-color:#ffdede\">you</span> <span style=\"background-color:#e8e8ff\">master</span> <span style=\"background-color:#ff9e9e\">.</span> \n"
      ],
      "text/plain": [
       "<IPython.core.display.HTML object>"
      ]
     },
     "metadata": {},
     "output_type": "display_data"
    },
    {
     "data": {
      "text/html": [
       "<span style=\"background-color:#ff0000\">It</span> <span style=\"background-color:#eaeaff\">made</span> <span style=\"background-color:#ececff\">you</span> <span style=\"background-color:#ffd3d3\">feel</span> <span style=\"background-color:#ffd8d8\">like</span> <span style=\"background-color:#ffc8c8\">my</span> <span style=\"background-color:#fff2f2\">father</span> <span style=\"background-color:#d8d8ff\">.</span> \n"
      ],
      "text/plain": [
       "<IPython.core.display.HTML object>"
      ]
     },
     "metadata": {},
     "output_type": "display_data"
    },
    {
     "data": {
      "text/html": [
       "correct label: <b>because</b>"
      ],
      "text/plain": [
       "<IPython.core.display.HTML object>"
      ]
     },
     "metadata": {},
     "output_type": "display_data"
    },
    {
     "data": {
      "text/html": [
       "predict label: <b>because</b>"
      ],
      "text/plain": [
       "<IPython.core.display.HTML object>"
      ]
     },
     "metadata": {},
     "output_type": "display_data"
    },
    {
     "data": {
      "text/html": [
       "<span style=\"background-color:#fff4f4\">My</span> <span style=\"background-color:#ffb3b3\">gaydar</span> <span style=\"background-color:#ff0000\">must</span> <span style=\"background-color:#ffc2c2\">not</span> <span style=\"background-color:#a6a6ff\">be</span> <span style=\"background-color:#ffdede\">working</span> <span style=\"background-color:#dadaff\">at</span> <span style=\"background-color:#f6f6ff\">al</span> <span style=\"background-color:#ff7979\">,</span> <span style=\"background-color:#f0f0ff\">!</span> <span style=\"background-color:#ececff\">''</span> <span style=\"background-color:#ffe0e0\">.</span> \n"
      ],
      "text/plain": [
       "<IPython.core.display.HTML object>"
      ]
     },
     "metadata": {},
     "output_type": "display_data"
    },
    {
     "data": {
      "text/html": [
       "<span style=\"background-color:#6060ff\">I</span> <span style=\"background-color:#ff3939\">thought</span> <span style=\"background-color:#ffa6a6\">he</span> <span style=\"background-color:#ececff\">was</span> <span style=\"background-color:#8888ff\">total</span> <span style=\"background-color:#ff0000\">y</span> <span style=\"background-color:#8383ff\">straight</span> <span style=\"background-color:#ffb6b6\">.</span> \n"
      ],
      "text/plain": [
       "<IPython.core.display.HTML object>"
      ]
     },
     "metadata": {},
     "output_type": "display_data"
    },
    {
     "data": {
      "text/html": [
       "correct label: <b>because</b>"
      ],
      "text/plain": [
       "<IPython.core.display.HTML object>"
      ]
     },
     "metadata": {},
     "output_type": "display_data"
    },
    {
     "data": {
      "text/html": [
       "predict label: <b>because</b>"
      ],
      "text/plain": [
       "<IPython.core.display.HTML object>"
      ]
     },
     "metadata": {},
     "output_type": "display_data"
    },
    {
     "data": {
      "text/html": [
       "<span style=\"background-color:#b3b3ff\">To</span> <span style=\"background-color:#ff0000\">think</span> <span style=\"background-color:#cacaff\">about</span> <span style=\"background-color:#ff8a8a\">it</span> <span style=\"background-color:#fcfcff\">.</span> \n"
      ],
      "text/plain": [
       "<IPython.core.display.HTML object>"
      ]
     },
     "metadata": {},
     "output_type": "display_data"
    },
    {
     "data": {
      "text/html": [
       "<span style=\"background-color:#fefeff\">Long</span> <span style=\"background-color:#fffefe\">sienna</span> <span style=\"background-color:#ffd0d0\">,</span> <span style=\"background-color:#ccccff\">as</span> <span style=\"background-color:#ff0000\">always</span> <span style=\"background-color:#c6c6ff\">,</span> <span style=\"background-color:#ffc8c8\">was</span> <span style=\"background-color:#a0a0ff\">ready</span> <span style=\"background-color:#f0f0ff\">with</span> <span style=\"background-color:#fff6f6\">a</span> <span style=\"background-color:#ceceff\">response</span> <span style=\"background-color:#fefeff\">.</span> \n"
      ],
      "text/plain": [
       "<IPython.core.display.HTML object>"
      ]
     },
     "metadata": {},
     "output_type": "display_data"
    },
    {
     "data": {
      "text/html": [
       "correct label: <b>because</b>"
      ],
      "text/plain": [
       "<IPython.core.display.HTML object>"
      ]
     },
     "metadata": {},
     "output_type": "display_data"
    },
    {
     "data": {
      "text/html": [
       "predict label: <b>because</b>"
      ],
      "text/plain": [
       "<IPython.core.display.HTML object>"
      ]
     },
     "metadata": {},
     "output_type": "display_data"
    }
   ],
   "source": [
    "for i in range(10):\n",
    "    display(*bilstm.visualize_example(correct[i][0], correct[i][1], correct[i][2], dis_labels))"
   ]
  },
  {
   "cell_type": "code",
   "execution_count": 12,
   "metadata": {},
   "outputs": [
    {
     "data": {
      "text/html": [
       "<span style=\"background-color:#ececff\">His</span> <span style=\"background-color:#ff3939\">people</span> <span style=\"background-color:#0000ff\">were</span> <span style=\"background-color:#dadaff\">known</span> <span style=\"background-color:#9898ff\">as</span> <span style=\"background-color:#ffdede\">the</span> <span style=\"background-color:#ffa6a6\">blue</span> <span style=\"background-color:#ffcaca\">eli</span> <span style=\"background-color:#c2c2ff\">to</span> <span style=\"background-color:#ff8686\">all</span> <span style=\"background-color:#8383ff\">their</span> <span style=\"background-color:#1818ff\">enemies</span> <span style=\"background-color:#e6e6ff\">.</span> \n"
      ],
      "text/plain": [
       "<IPython.core.display.HTML object>"
      ]
     },
     "metadata": {},
     "output_type": "display_data"
    },
    {
     "data": {
      "text/html": [
       "<span style=\"background-color:#ff0000\">Mostly</span> <span style=\"background-color:#fffcfc\">their</span> <span style=\"background-color:#eaeaff\">eyes</span> <span style=\"background-color:#ffd0d0\">had</span> <span style=\"background-color:#fffcfc\">bright</span> <span style=\"background-color:#fff4f4\">blue</span> <span style=\"background-color:#fffafa\">centers</span> <span style=\"background-color:#e8e8ff\">circled</span> <span style=\"background-color:#e3e3ff\">by</span> <span style=\"background-color:#fcfcff\">a</span> <span style=\"background-color:#ececff\">blue-silver</span> <span style=\"background-color:#ffecec\">ring</span> <span style=\"background-color:#dcdcff\">that</span> <span style=\"background-color:#fffcfc\">were</span> <span style=\"background-color:#fffafa\">illuminated</span> <span style=\"background-color:#ffe4e4\">and</span> <span style=\"background-color:#ffe6e6\">glowed</span> <span style=\"background-color:#f6f6ff\">even</span> <span style=\"background-color:#e3e3ff\">more</span> <span style=\"background-color:#f6f6ff\">brightly</span> <span style=\"background-color:#fffefe\">in</span> <span style=\"background-color:#f8f8ff\">the</span> <span style=\"background-color:#fffefe\">dark</span> <span style=\"background-color:#fafaff\">.</span> \n"
      ],
      "text/plain": [
       "<IPython.core.display.HTML object>"
      ]
     },
     "metadata": {},
     "output_type": "display_data"
    },
    {
     "data": {
      "text/html": [
       "correct label: <b>because</b>"
      ],
      "text/plain": [
       "<IPython.core.display.HTML object>"
      ]
     },
     "metadata": {},
     "output_type": "display_data"
    },
    {
     "data": {
      "text/html": [
       "predict label: <b>because</b>"
      ],
      "text/plain": [
       "<IPython.core.display.HTML object>"
      ]
     },
     "metadata": {},
     "output_type": "display_data"
    },
    {
     "data": {
      "text/html": [
       "<span style=\"background-color:#ffcece\">If</span> <span style=\"background-color:#e2e2ff\">so</span> <span style=\"background-color:#fffefe\">,</span> <span style=\"background-color:#fcfcff\">they</span> <span style=\"background-color:#ff0000\">must</span> <span style=\"background-color:#e0e0ff\">have</span> <span style=\"background-color:#e3e3ff\">had</span> <span style=\"background-color:#e0e0ff\">a</span> <span style=\"background-color:#ffdcdc\">hard</span> <span style=\"background-color:#fff6f6\">time</span> <span style=\"background-color:#fff2f2\">keeping</span> <span style=\"background-color:#f8f8ff\">up</span> <span style=\"background-color:#fffcfc\">with</span> <span style=\"background-color:#fafaff\">the</span> <span style=\"background-color:#e2e2ff\">bouncing</span> <span style=\"background-color:#fff4f4\">spot</span> <span style=\"background-color:#eeeeff\">of</span> <span style=\"background-color:#fffcfc\">red</span> <span style=\"background-color:#fcfcff\">.</span> \n"
      ],
      "text/plain": [
       "<IPython.core.display.HTML object>"
      ]
     },
     "metadata": {},
     "output_type": "display_data"
    },
    {
     "data": {
      "text/html": [
       "<span style=\"background-color:#ff0000\">It</span> <span style=\"background-color:#ffc8c8\">was</span> <span style=\"background-color:#ff0000\">moving</span> <span style=\"background-color:#ff8e8e\">fast</span> <span style=\"background-color:#f8f8ff\">in</span> <span style=\"background-color:#fff0f0\">the</span> <span style=\"background-color:#e6e6ff\">land</span> <span style=\"background-color:#ffe0e0\">rover</span> <span style=\"background-color:#eaeaff\">driven</span> <span style=\"background-color:#b3b3ff\">by</span> <span style=\"background-color:#ffc8c8\">her</span> <span style=\"background-color:#9c9cff\">assistant</span> <span style=\"background-color:#ff9393\">wildlife</span> <span style=\"background-color:#ffbebe\">biologist</span> <span style=\"background-color:#e0e0ff\">,</span> <span style=\"background-color:#ffa0a0\">damian</span> <span style=\"background-color:#ececff\">.</span> \n"
      ],
      "text/plain": [
       "<IPython.core.display.HTML object>"
      ]
     },
     "metadata": {},
     "output_type": "display_data"
    },
    {
     "data": {
      "text/html": [
       "correct label: <b>because</b>"
      ],
      "text/plain": [
       "<IPython.core.display.HTML object>"
      ]
     },
     "metadata": {},
     "output_type": "display_data"
    },
    {
     "data": {
      "text/html": [
       "predict label: <b>because</b>"
      ],
      "text/plain": [
       "<IPython.core.display.HTML object>"
      ]
     },
     "metadata": {},
     "output_type": "display_data"
    },
    {
     "data": {
      "text/html": [
       "<span style=\"background-color:#fff6f6\">``</span> <span style=\"background-color:#ffc0c0\">you</span> <span style=\"background-color:#ff0000\">better</span> <span style=\"background-color:#9c9cff\">be</span> <span style=\"background-color:#babaff\">wrong</span> <span style=\"background-color:#e6e6ff\">about</span> <span style=\"background-color:#f2f2ff\">that</span> <span style=\"background-color:#fcfcff\">,</span> <span style=\"background-color:#fcfcff\">''</span> <span style=\"background-color:#fafaff\">cuthbert</span> <span style=\"background-color:#f3f3ff\">said</span> <span style=\"background-color:#ffc2c2\">,</span> <span style=\"background-color:#ff5454\">``</span> <span style=\"background-color:#dedeff\">.</span> <span style=\"background-color:#ffdcdc\">''</span> <span style=\"background-color:#ffeeee\">.</span> \n"
      ],
      "text/plain": [
       "<IPython.core.display.HTML object>"
      ]
     },
     "metadata": {},
     "output_type": "display_data"
    },
    {
     "data": {
      "text/html": [
       "<span style=\"background-color:#6e6eff\">Men</span> <span style=\"background-color:#ff5858\">'s</span> <span style=\"background-color:#9e9eff\">work</span> <span style=\"background-color:#ff0000\">is</span> <span style=\"background-color:#ff7676\">coming</span> <span style=\"background-color:#5151ff\">.</span> \n"
      ],
      "text/plain": [
       "<IPython.core.display.HTML object>"
      ]
     },
     "metadata": {},
     "output_type": "display_data"
    },
    {
     "data": {
      "text/html": [
       "correct label: <b>because</b>"
      ],
      "text/plain": [
       "<IPython.core.display.HTML object>"
      ]
     },
     "metadata": {},
     "output_type": "display_data"
    },
    {
     "data": {
      "text/html": [
       "predict label: <b>because</b>"
      ],
      "text/plain": [
       "<IPython.core.display.HTML object>"
      ]
     },
     "metadata": {},
     "output_type": "display_data"
    },
    {
     "data": {
      "text/html": [
       "<span style=\"background-color:#dadaff\">His</span> <span style=\"background-color:#ff3838\">pay</span> <span style=\"background-color:#0000ff\">was</span> <span style=\"background-color:#e0e0ff\">at</span> <span style=\"background-color:#fff0f0\">the</span> <span style=\"background-color:#ffe0e0\">bottom</span> <span style=\"background-color:#bcbcff\">of</span> <span style=\"background-color:#ffd8d8\">the</span> <span style=\"background-color:#e2e2ff\">scale</span> <span style=\"background-color:#ff8e8e\">.</span> \n"
      ],
      "text/plain": [
       "<IPython.core.display.HTML object>"
      ]
     },
     "metadata": {},
     "output_type": "display_data"
    },
    {
     "data": {
      "text/html": [
       "<span style=\"background-color:#fefeff\">He</span> <span style=\"background-color:#ff8888\">knew</span> <span style=\"background-color:#ff0000\">so</span> <span style=\"background-color:#ff5c5c\">little</span> <span style=\"background-color:#ffeeee\">about</span> <span style=\"background-color:#fffcfc\">computers</span> <span style=\"background-color:#fff0f0\">.</span> \n"
      ],
      "text/plain": [
       "<IPython.core.display.HTML object>"
      ]
     },
     "metadata": {},
     "output_type": "display_data"
    },
    {
     "data": {
      "text/html": [
       "correct label: <b>because</b>"
      ],
      "text/plain": [
       "<IPython.core.display.HTML object>"
      ]
     },
     "metadata": {},
     "output_type": "display_data"
    },
    {
     "data": {
      "text/html": [
       "predict label: <b>because</b>"
      ],
      "text/plain": [
       "<IPython.core.display.HTML object>"
      ]
     },
     "metadata": {},
     "output_type": "display_data"
    },
    {
     "data": {
      "text/html": [
       "<span style=\"background-color:#ff0000\">I</span> <span style=\"background-color:#d6d6ff\">left</span> <span style=\"background-color:#d8d8ff\">.</span> <span style=\"background-color:#ff3939\">''</span> <span style=\"background-color:#ffd2d2\">.</span> \n"
      ],
      "text/plain": [
       "<IPython.core.display.HTML object>"
      ]
     },
     "metadata": {},
     "output_type": "display_data"
    },
    {
     "data": {
      "text/html": [
       "<span style=\"background-color:#ff5e5e\">That</span> <span style=\"background-color:#ff0000\">'s</span> <span style=\"background-color:#e2e2ff\">what</span> <span style=\"background-color:#e6e6ff\">your</span> <span style=\"background-color:#fff0f0\">sister</span> <span style=\"background-color:#ff6161\">wants</span> <span style=\"background-color:#ffe2e2\">.</span> \n"
      ],
      "text/plain": [
       "<IPython.core.display.HTML object>"
      ]
     },
     "metadata": {},
     "output_type": "display_data"
    },
    {
     "data": {
      "text/html": [
       "correct label: <b>because</b>"
      ],
      "text/plain": [
       "<IPython.core.display.HTML object>"
      ]
     },
     "metadata": {},
     "output_type": "display_data"
    },
    {
     "data": {
      "text/html": [
       "predict label: <b>because</b>"
      ],
      "text/plain": [
       "<IPython.core.display.HTML object>"
      ]
     },
     "metadata": {},
     "output_type": "display_data"
    },
    {
     "data": {
      "text/html": [
       "<span style=\"background-color:#ffbcbc\">You</span> <span style=\"background-color:#ffcaca\">'re</span> <span style=\"background-color:#ff5151\">resisting</span> <span style=\"background-color:#f0f0ff\">the</span> <span style=\"background-color:#dedeff\">memory</span> <span style=\"background-color:#ff0000\">but</span> <span style=\"background-color:#ffeeee\">it</span> <span style=\"background-color:#ffd6d6\">'s</span> <span style=\"background-color:#fff8f8\">there</span> <span style=\"background-color:#ececff\">.</span> <span style=\"background-color:#f0f0ff\">''</span> <span style=\"background-color:#ffe4e4\">.</span> \n"
      ],
      "text/plain": [
       "<IPython.core.display.HTML object>"
      ]
     },
     "metadata": {},
     "output_type": "display_data"
    },
    {
     "data": {
      "text/html": [
       "<span style=\"background-color:#ff7878\">It</span> <span style=\"background-color:#ff9c9c\">'s</span> <span style=\"background-color:#ff0000\">so</span> <span style=\"background-color:#f0f0ff\">painful</span> <span style=\"background-color:#f3f3ff\">.</span> \n"
      ],
      "text/plain": [
       "<IPython.core.display.HTML object>"
      ]
     },
     "metadata": {},
     "output_type": "display_data"
    },
    {
     "data": {
      "text/html": [
       "correct label: <b>because</b>"
      ],
      "text/plain": [
       "<IPython.core.display.HTML object>"
      ]
     },
     "metadata": {},
     "output_type": "display_data"
    },
    {
     "data": {
      "text/html": [
       "predict label: <b>because</b>"
      ],
      "text/plain": [
       "<IPython.core.display.HTML object>"
      ]
     },
     "metadata": {},
     "output_type": "display_data"
    },
    {
     "data": {
      "text/html": [
       "<span style=\"background-color:#4040ff\">What</span> <span style=\"background-color:#ff0000\">you</span> <span style=\"background-color:#ff3030\">'ve</span> <span style=\"background-color:#3c3cff\">told</span> <span style=\"background-color:#ff2626\">me</span> <span style=\"background-color:#ff4141\">.</span> \n"
      ],
      "text/plain": [
       "<IPython.core.display.HTML object>"
      ]
     },
     "metadata": {},
     "output_type": "display_data"
    },
    {
     "data": {
      "text/html": [
       "<span style=\"background-color:#ff6161\">They</span> <span style=\"background-color:#ff8686\">'re</span> <span style=\"background-color:#e2e2ff\">very</span> <span style=\"background-color:#ff0c0c\">good</span> <span style=\"background-color:#ffdada\">at</span> <span style=\"background-color:#1212ff\">finding</span> <span style=\"background-color:#ffc0c0\">people</span> <span style=\"background-color:#0000ff\">,</span> <span style=\"background-color:#ff3434\">and</span> <span style=\"background-color:#c8c8ff\">a</span> <span style=\"background-color:#8888ff\">false</span> <span style=\"background-color:#ffdada\">sense</span> <span style=\"background-color:#ffe8e8\">of</span> <span style=\"background-color:#fffefe\">security</span> <span style=\"background-color:#ffdcdc\">could</span> <span style=\"background-color:#c2c2ff\">kill</span> <span style=\"background-color:#ffd3d3\">me</span> <span style=\"background-color:#ff6c6c\">.</span> <span style=\"background-color:#ff6c6c\">''</span> <span style=\"background-color:#ffd2d2\">.</span> \n"
      ],
      "text/plain": [
       "<IPython.core.display.HTML object>"
      ]
     },
     "metadata": {},
     "output_type": "display_data"
    },
    {
     "data": {
      "text/html": [
       "correct label: <b>because</b>"
      ],
      "text/plain": [
       "<IPython.core.display.HTML object>"
      ]
     },
     "metadata": {},
     "output_type": "display_data"
    },
    {
     "data": {
      "text/html": [
       "predict label: <b>because</b>"
      ],
      "text/plain": [
       "<IPython.core.display.HTML object>"
      ]
     },
     "metadata": {},
     "output_type": "display_data"
    },
    {
     "data": {
      "text/html": [
       "<span style=\"background-color:#ff8e8e\">I</span> <span style=\"background-color:#0000ff\">'d</span> <span style=\"background-color:#f6f6ff\">recognize</span> <span style=\"background-color:#ffb2b2\">it</span> <span style=\"background-color:#ffeeee\">.</span> \n"
      ],
      "text/plain": [
       "<IPython.core.display.HTML object>"
      ]
     },
     "metadata": {},
     "output_type": "display_data"
    },
    {
     "data": {
      "text/html": [
       "<span style=\"background-color:#ff0000\">Partly</span> <span style=\"background-color:#fefeff\">it</span> <span style=\"background-color:#fff8f8\">'s</span> <span style=\"background-color:#ffd0d0\">so</span> <span style=\"background-color:#ffd3d3\">rare</span> <span style=\"background-color:#ffd3d3\">and</span> <span style=\"background-color:#fff2f2\">partly</span> <span style=\"background-color:#ffecec\">because</span> <span style=\"background-color:#f8f8ff\">it</span> <span style=\"background-color:#fff8f8\">'s</span> <span style=\"background-color:#f0f0ff\">trick</span> <span style=\"background-color:#ececff\">'s</span> <span style=\"background-color:#fffefe\">.</span> \n"
      ],
      "text/plain": [
       "<IPython.core.display.HTML object>"
      ]
     },
     "metadata": {},
     "output_type": "display_data"
    },
    {
     "data": {
      "text/html": [
       "correct label: <b>because</b>"
      ],
      "text/plain": [
       "<IPython.core.display.HTML object>"
      ]
     },
     "metadata": {},
     "output_type": "display_data"
    },
    {
     "data": {
      "text/html": [
       "predict label: <b>because</b>"
      ],
      "text/plain": [
       "<IPython.core.display.HTML object>"
      ]
     },
     "metadata": {},
     "output_type": "display_data"
    },
    {
     "data": {
      "text/html": [
       "<span style=\"background-color:#f6f6ff\">He</span> <span style=\"background-color:#f6f6ff\">needed</span> <span style=\"background-color:#fffcfc\">the</span> <span style=\"background-color:#ff0000\">handyman</span> <span style=\"background-color:#ff7979\">job</span> <span style=\"background-color:#ffd3d3\">.</span> \n"
      ],
      "text/plain": [
       "<IPython.core.display.HTML object>"
      ]
     },
     "metadata": {},
     "output_type": "display_data"
    },
    {
     "data": {
      "text/html": [
       "<span style=\"background-color:#ffd3d3\">He</span> <span style=\"background-color:#ff0000\">was</span> <span style=\"background-color:#ff3c3c\">bored</span> <span style=\"background-color:#ff4949\">without</span> <span style=\"background-color:#6666ff\">work</span> <span style=\"background-color:#ffacac\">.</span> \n"
      ],
      "text/plain": [
       "<IPython.core.display.HTML object>"
      ]
     },
     "metadata": {},
     "output_type": "display_data"
    },
    {
     "data": {
      "text/html": [
       "correct label: <b>because</b>"
      ],
      "text/plain": [
       "<IPython.core.display.HTML object>"
      ]
     },
     "metadata": {},
     "output_type": "display_data"
    },
    {
     "data": {
      "text/html": [
       "predict label: <b>because</b>"
      ],
      "text/plain": [
       "<IPython.core.display.HTML object>"
      ]
     },
     "metadata": {},
     "output_type": "display_data"
    },
    {
     "data": {
      "text/html": [
       "<span style=\"background-color:#ff0000\">Is</span> <span style=\"background-color:#ff6e6e\">this</span> <span style=\"background-color:#ff8a8a\">?</span> <span style=\"background-color:#ff7474\">''</span> <span style=\"background-color:#ffc3c3\">.</span> \n"
      ],
      "text/plain": [
       "<IPython.core.display.HTML object>"
      ]
     },
     "metadata": {},
     "output_type": "display_data"
    },
    {
     "data": {
      "text/html": [
       "<span style=\"background-color:#ffd2d2\">I</span> <span style=\"background-color:#ff0000\">helped</span> <span style=\"background-color:#a6a6ff\">the</span> <span style=\"background-color:#aaaaff\">man</span> <span style=\"background-color:#a2a2ff\">who</span> <span style=\"background-color:#9393ff\">tried</span> <span style=\"background-color:#bcbcff\">to</span> <span style=\"background-color:#ffbaba\">rape</span> <span style=\"background-color:#f3f3ff\">you</span> <span style=\"background-color:#d6d6ff\">.</span> \n"
      ],
      "text/plain": [
       "<IPython.core.display.HTML object>"
      ]
     },
     "metadata": {},
     "output_type": "display_data"
    },
    {
     "data": {
      "text/html": [
       "correct label: <b>because</b>"
      ],
      "text/plain": [
       "<IPython.core.display.HTML object>"
      ]
     },
     "metadata": {},
     "output_type": "display_data"
    },
    {
     "data": {
      "text/html": [
       "predict label: <b>because</b>"
      ],
      "text/plain": [
       "<IPython.core.display.HTML object>"
      ]
     },
     "metadata": {},
     "output_type": "display_data"
    }
   ],
   "source": [
    "for i in range(10, 20):\n",
    "    display(*bilstm.visualize_example(correct[i][0], correct[i][1], correct[i][2], dis_labels))"
   ]
  },
  {
   "cell_type": "code",
   "execution_count": 23,
   "metadata": {},
   "outputs": [
    {
     "data": {
      "text/html": [
       "<span style=\"background-color:#d6d6ff\">Just</span> <span style=\"background-color:#ff9e9e\">cant</span> <span style=\"background-color:#fff6f6\">talk</span> <span style=\"background-color:#d3d3ff\">about</span> <span style=\"background-color:#ffc0c0\">it</span> <span style=\"background-color:#9e9eff\">right</span> <span style=\"background-color:#ffeeee\">now</span> <span style=\"background-color:#ff6464\">and</span> <span style=\"background-color:#ffd0d0\">i</span> <span style=\"background-color:#ffd2d2\">am</span> <span style=\"background-color:#ff0000\">not</span> <span style=\"background-color:#fff8f8\">going</span> <span style=\"background-color:#fafaff\">to</span> <span style=\"background-color:#ffb2b2\">push</span> <span style=\"background-color:#bebeff\">him</span> <span style=\"background-color:#ffd0d0\">.</span> \n"
      ],
      "text/plain": [
       "<IPython.core.display.HTML object>"
      ]
     },
     "metadata": {},
     "output_type": "display_data"
    },
    {
     "data": {
      "text/html": [
       "<span style=\"background-color:#ff5050\">It</span> <span style=\"background-color:#ff0909\">will</span> <span style=\"background-color:#ff8888\">only</span> <span style=\"background-color:#8e8eff\">cause</span> <span style=\"background-color:#ffa6a6\">him</span> <span style=\"background-color:#f3f3ff\">to</span> <span style=\"background-color:#fffafa\">build</span> <span style=\"background-color:#ffcccc\">his</span> <span style=\"background-color:#2a2aff\">resolve</span> <span style=\"background-color:#ff0000\">and</span> <span style=\"background-color:#b0b0ff\">i</span> <span style=\"background-color:#ffe0e0\">dont</span> <span style=\"background-color:#dcdcff\">think</span> <span style=\"background-color:#9393ff\">either</span> <span style=\"background-color:#ffe8e8\">of</span> <span style=\"background-color:#d0d0ff\">us</span> <span style=\"background-color:#ffc3c3\">has</span> <span style=\"background-color:#eaeaff\">enough</span> <span style=\"background-color:#ffd3d3\">information</span> <span style=\"background-color:#f6f6ff\">to</span> <span style=\"background-color:#ffeaea\">solve</span> <span style=\"background-color:#ffc6c6\">this</span> <span style=\"background-color:#ffd2d2\">surreal</span> <span style=\"background-color:#ffe8e8\">puzzle</span> <span style=\"background-color:#fff2f2\">.</span> \n"
      ],
      "text/plain": [
       "<IPython.core.display.HTML object>"
      ]
     },
     "metadata": {},
     "output_type": "display_data"
    },
    {
     "data": {
      "text/html": [
       "correct label: <b>because</b>"
      ],
      "text/plain": [
       "<IPython.core.display.HTML object>"
      ]
     },
     "metadata": {},
     "output_type": "display_data"
    },
    {
     "data": {
      "text/html": [
       "predict label: <b>because</b>"
      ],
      "text/plain": [
       "<IPython.core.display.HTML object>"
      ]
     },
     "metadata": {},
     "output_type": "display_data"
    },
    {
     "data": {
      "text/html": [
       "<span style=\"background-color:#ffe4e4\">Your</span> <span style=\"background-color:#ff8383\">father</span> <span style=\"background-color:#9c9cff\">let</span> <span style=\"background-color:#ff9292\">you</span> <span style=\"background-color:#8282ff\">go</span> <span style=\"background-color:#ff0000\">that</span> <span style=\"background-color:#a0a0ff\">night</span> <span style=\"background-color:#ffa3a3\">.</span> \n"
      ],
      "text/plain": [
       "<IPython.core.display.HTML object>"
      ]
     },
     "metadata": {},
     "output_type": "display_data"
    },
    {
     "data": {
      "text/html": [
       "<span style=\"background-color:#fff6f6\">He</span> <span style=\"background-color:#ff6666\">dearly</span> <span style=\"background-color:#ff0000\">wanted</span> <span style=\"background-color:#e8e8ff\">that</span> <span style=\"background-color:#eaeaff\">spark</span> <span style=\"background-color:#fffcfc\">in</span> <span style=\"background-color:#fffafa\">you</span> <span style=\"background-color:#e2e2ff\">to</span> <span style=\"background-color:#eeeeff\">live</span> <span style=\"background-color:#babaff\">on</span> <span style=\"background-color:#f8f8ff\">,</span> <span style=\"background-color:#ffe8e8\">to</span> <span style=\"background-color:#e3e3ff\">survive</span> <span style=\"background-color:#dcdcff\">.</span> \n"
      ],
      "text/plain": [
       "<IPython.core.display.HTML object>"
      ]
     },
     "metadata": {},
     "output_type": "display_data"
    },
    {
     "data": {
      "text/html": [
       "correct label: <b>because</b>"
      ],
      "text/plain": [
       "<IPython.core.display.HTML object>"
      ]
     },
     "metadata": {},
     "output_type": "display_data"
    },
    {
     "data": {
      "text/html": [
       "predict label: <b>because</b>"
      ],
      "text/plain": [
       "<IPython.core.display.HTML object>"
      ]
     },
     "metadata": {},
     "output_type": "display_data"
    },
    {
     "data": {
      "text/html": [
       "<span style=\"background-color:#7878ff\">``</span> <span style=\"background-color:#ff6e6e\">if</span> <span style=\"background-color:#ffa2a2\">you</span> <span style=\"background-color:#ffcccc\">feel</span> <span style=\"background-color:#ff0000\">guilty</span> <span style=\"background-color:#ff5e5e\">,</span> <span style=\"background-color:#ff3636\">it</span> <span style=\"background-color:#dedeff\">'s</span> <span style=\"background-color:#eeeeff\">.</span> \n"
      ],
      "text/plain": [
       "<IPython.core.display.HTML object>"
      ]
     },
     "metadata": {},
     "output_type": "display_data"
    },
    {
     "data": {
      "text/html": [
       "<span style=\"background-color:#b3b3ff\">You</span> <span style=\"background-color:#0000ff\">put</span> <span style=\"background-color:#1818ff\">it</span> <span style=\"background-color:#7171ff\">there</span> <span style=\"background-color:#ff3030\">,</span> <span style=\"background-color:#6868ff\">not</span> <span style=\"background-color:#ffb3b3\">me</span> <span style=\"background-color:#fcfcff\">.</span> \n"
      ],
      "text/plain": [
       "<IPython.core.display.HTML object>"
      ]
     },
     "metadata": {},
     "output_type": "display_data"
    },
    {
     "data": {
      "text/html": [
       "correct label: <b>because</b>"
      ],
      "text/plain": [
       "<IPython.core.display.HTML object>"
      ]
     },
     "metadata": {},
     "output_type": "display_data"
    },
    {
     "data": {
      "text/html": [
       "predict label: <b>because</b>"
      ],
      "text/plain": [
       "<IPython.core.display.HTML object>"
      ]
     },
     "metadata": {},
     "output_type": "display_data"
    },
    {
     "data": {
      "text/html": [
       "<span style=\"background-color:#0000ff\">There</span> <span style=\"background-color:#1a1aff\">was</span> <span style=\"background-color:#ff1111\">something</span> <span style=\"background-color:#fefeff\">about</span> <span style=\"background-color:#ffcaca\">her</span> <span style=\"background-color:#ff6868\">that</span> <span style=\"background-color:#c6c6ff\">made</span> <span style=\"background-color:#fff8f8\">it</span> <span style=\"background-color:#e8e8ff\">so</span> <span style=\"background-color:#ffb6b6\">hard</span> <span style=\"background-color:#e6e6ff\">to</span> <span style=\"background-color:#ffb2b2\">tell</span> <span style=\"background-color:#d3d3ff\">her</span> <span style=\"background-color:#ff8c8c\">no</span> <span style=\"background-color:#ffcccc\">.</span> \n"
      ],
      "text/plain": [
       "<IPython.core.display.HTML object>"
      ]
     },
     "metadata": {},
     "output_type": "display_data"
    },
    {
     "data": {
      "text/html": [
       "<span style=\"background-color:#ff0000\">Possibly</span> <span style=\"background-color:#f2f2ff\">she</span> <span style=\"background-color:#ffa2a2\">never</span> <span style=\"background-color:#d8d8ff\">spoke</span> <span style=\"background-color:#fafaff\">up</span> <span style=\"background-color:#f8f8ff\">unless</span> <span style=\"background-color:#f6f6ff\">she</span> <span style=\"background-color:#fff8f8\">meant</span> <span style=\"background-color:#fcfcff\">to</span> <span style=\"background-color:#f8f8ff\">follow</span> <span style=\"background-color:#fafaff\">through</span> <span style=\"background-color:#fff6f6\">.</span> \n"
      ],
      "text/plain": [
       "<IPython.core.display.HTML object>"
      ]
     },
     "metadata": {},
     "output_type": "display_data"
    },
    {
     "data": {
      "text/html": [
       "correct label: <b>because</b>"
      ],
      "text/plain": [
       "<IPython.core.display.HTML object>"
      ]
     },
     "metadata": {},
     "output_type": "display_data"
    },
    {
     "data": {
      "text/html": [
       "predict label: <b>because</b>"
      ],
      "text/plain": [
       "<IPython.core.display.HTML object>"
      ]
     },
     "metadata": {},
     "output_type": "display_data"
    },
    {
     "data": {
      "text/html": [
       "<span style=\"background-color:#fefeff\">He</span> <span style=\"background-color:#ff0000\">chose</span> <span style=\"background-color:#f2f2ff\">the</span> <span style=\"background-color:#ffb8b8\">latter</span> <span style=\"background-color:#f3f3ff\">.</span> \n"
      ],
      "text/plain": [
       "<IPython.core.display.HTML object>"
      ]
     },
     "metadata": {},
     "output_type": "display_data"
    },
    {
     "data": {
      "text/html": [
       "<span style=\"background-color:#ffbebe\">He</span> <span style=\"background-color:#ff0000\">felt</span> <span style=\"background-color:#b3b3ff\">that</span> <span style=\"background-color:#f2f2ff\">a</span> <span style=\"background-color:#ffecec\">mouth</span> <span style=\"background-color:#ff9898\">and</span> <span style=\"background-color:#b0b0ff\">nose</span> <span style=\"background-color:#ffb3b3\">mask</span> <span style=\"background-color:#ffbaba\">,</span> <span style=\"background-color:#7070ff\">which</span> <span style=\"background-color:#ffa6a6\">would</span> <span style=\"background-color:#ff3838\">require</span> <span style=\"background-color:#eaeaff\">a</span> <span style=\"background-color:#2e2eff\">more</span> <span style=\"background-color:#ff9090\">complex</span> <span style=\"background-color:#8e8eff\">fixing</span> <span style=\"background-color:#ffaeae\">device</span> <span style=\"background-color:#f2f2ff\">,</span> <span style=\"background-color:#e0e0ff\">would</span> <span style=\"background-color:#ececff\">complicate</span> <span style=\"background-color:#ff8888\">my</span> <span style=\"background-color:#aaaaff\">task</span> <span style=\"background-color:#9898ff\">.</span> \n"
      ],
      "text/plain": [
       "<IPython.core.display.HTML object>"
      ]
     },
     "metadata": {},
     "output_type": "display_data"
    },
    {
     "data": {
      "text/html": [
       "correct label: <b>because</b>"
      ],
      "text/plain": [
       "<IPython.core.display.HTML object>"
      ]
     },
     "metadata": {},
     "output_type": "display_data"
    },
    {
     "data": {
      "text/html": [
       "predict label: <b>because</b>"
      ],
      "text/plain": [
       "<IPython.core.display.HTML object>"
      ]
     },
     "metadata": {},
     "output_type": "display_data"
    },
    {
     "data": {
      "text/html": [
       "<span style=\"background-color:#ff0000\">But</span> <span style=\"background-color:#ffa6a6\">they</span> <span style=\"background-color:#aeaeff\">should</span> <span style=\"background-color:#acacff\">go</span> <span style=\"background-color:#ffb6b6\">.</span> \n"
      ],
      "text/plain": [
       "<IPython.core.display.HTML object>"
      ]
     },
     "metadata": {},
     "output_type": "display_data"
    },
    {
     "data": {
      "text/html": [
       "<span style=\"background-color:#fffefe\">I</span> <span style=\"background-color:#ff0000\">'m</span> <span style=\"background-color:#ffdcdc\">going</span> <span style=\"background-color:#8888ff\">to</span> <span style=\"background-color:#fafaff\">kiss</span> <span style=\"background-color:#eaeaff\">you</span> <span style=\"background-color:#f3f3ff\">,</span> <span style=\"background-color:#ff8080\">slade</span> <span style=\"background-color:#eaeaff\">james</span> <span style=\"background-color:#fff2f2\">.</span> \n"
      ],
      "text/plain": [
       "<IPython.core.display.HTML object>"
      ]
     },
     "metadata": {},
     "output_type": "display_data"
    },
    {
     "data": {
      "text/html": [
       "correct label: <b>because</b>"
      ],
      "text/plain": [
       "<IPython.core.display.HTML object>"
      ]
     },
     "metadata": {},
     "output_type": "display_data"
    },
    {
     "data": {
      "text/html": [
       "predict label: <b>because</b>"
      ],
      "text/plain": [
       "<IPython.core.display.HTML object>"
      ]
     },
     "metadata": {},
     "output_type": "display_data"
    },
    {
     "data": {
      "text/html": [
       "<span style=\"background-color:#c3c3ff\">Ingrid</span> <span style=\"background-color:#ff0000\">only</span> <span style=\"background-color:#ff9090\">missed</span> <span style=\"background-color:#ffb6b6\">it</span> <span style=\"background-color:#f0f0ff\">.</span> \n"
      ],
      "text/plain": [
       "<IPython.core.display.HTML object>"
      ]
     },
     "metadata": {},
     "output_type": "display_data"
    },
    {
     "data": {
      "text/html": [
       "<span style=\"background-color:#fcfcff\">She</span> <span style=\"background-color:#ff0000\">so</span> <span style=\"background-color:#e3e3ff\">concentrated</span> <span style=\"background-color:#babaff\">on</span> <span style=\"background-color:#e3e3ff\">her</span> <span style=\"background-color:#fffcfc\">factory</span> <span style=\"background-color:#fff0f0\">.</span> \n"
      ],
      "text/plain": [
       "<IPython.core.display.HTML object>"
      ]
     },
     "metadata": {},
     "output_type": "display_data"
    },
    {
     "data": {
      "text/html": [
       "correct label: <b>because</b>"
      ],
      "text/plain": [
       "<IPython.core.display.HTML object>"
      ]
     },
     "metadata": {},
     "output_type": "display_data"
    },
    {
     "data": {
      "text/html": [
       "predict label: <b>because</b>"
      ],
      "text/plain": [
       "<IPython.core.display.HTML object>"
      ]
     },
     "metadata": {},
     "output_type": "display_data"
    },
    {
     "data": {
      "text/html": [
       "<span style=\"background-color:#ff0000\">I</span> <span style=\"background-color:#9292ff\">moved</span> <span style=\"background-color:#7979ff\">to</span> <span style=\"background-color:#ffbcbc\">bayport</span> <span style=\"background-color:#ff8e8e\">.</span> \n"
      ],
      "text/plain": [
       "<IPython.core.display.HTML object>"
      ]
     },
     "metadata": {},
     "output_type": "display_data"
    },
    {
     "data": {
      "text/html": [
       "<span style=\"background-color:#ffdada\">Somebody</span> <span style=\"background-color:#ff0000\">wanted</span> <span style=\"background-color:#fff2f2\">me</span> <span style=\"background-color:#fff6f6\">to</span> <span style=\"background-color:#7070ff\">eventually</span> <span style=\"background-color:#ffa6a6\">be</span> <span style=\"background-color:#f8f8ff\">squad</span> <span style=\"background-color:#fff0f0\">girl</span> <span style=\"background-color:#eeeeff\">.</span> \n"
      ],
      "text/plain": [
       "<IPython.core.display.HTML object>"
      ]
     },
     "metadata": {},
     "output_type": "display_data"
    },
    {
     "data": {
      "text/html": [
       "correct label: <b>because</b>"
      ],
      "text/plain": [
       "<IPython.core.display.HTML object>"
      ]
     },
     "metadata": {},
     "output_type": "display_data"
    },
    {
     "data": {
      "text/html": [
       "predict label: <b>because</b>"
      ],
      "text/plain": [
       "<IPython.core.display.HTML object>"
      ]
     },
     "metadata": {},
     "output_type": "display_data"
    },
    {
     "data": {
      "text/html": [
       "<span style=\"background-color:#fff6f6\">So</span> <span style=\"background-color:#ffeeee\">my</span> <span style=\"background-color:#ffdcdc\">nagging</span> <span style=\"background-color:#ff0000\">must</span> <span style=\"background-color:#fff6f6\">'ve</span> <span style=\"background-color:#fffafa\">worked</span> <span style=\"background-color:#f2f2ff\">.</span> <span style=\"background-color:#fefeff\">''</span> <span style=\"background-color:#ffeeee\">.</span> \n"
      ],
      "text/plain": [
       "<IPython.core.display.HTML object>"
      ]
     },
     "metadata": {},
     "output_type": "display_data"
    },
    {
     "data": {
      "text/html": [
       "<span style=\"background-color:#fff2f2\">She</span> <span style=\"background-color:#ff0000\">is</span> <span style=\"background-color:#c6c6ff\">bringing</span> <span style=\"background-color:#c3c3ff\">another</span> <span style=\"background-color:#f0f0ff\">doctor</span> <span style=\"background-color:#dadaff\">into</span> <span style=\"background-color:#f2f2ff\">her</span> <span style=\"background-color:#c3c3ff\">practice</span> <span style=\"background-color:#f6f6ff\">.</span> \n"
      ],
      "text/plain": [
       "<IPython.core.display.HTML object>"
      ]
     },
     "metadata": {},
     "output_type": "display_data"
    },
    {
     "data": {
      "text/html": [
       "correct label: <b>because</b>"
      ],
      "text/plain": [
       "<IPython.core.display.HTML object>"
      ]
     },
     "metadata": {},
     "output_type": "display_data"
    },
    {
     "data": {
      "text/html": [
       "predict label: <b>because</b>"
      ],
      "text/plain": [
       "<IPython.core.display.HTML object>"
      ]
     },
     "metadata": {},
     "output_type": "display_data"
    },
    {
     "data": {
      "text/html": [
       "<span style=\"background-color:#5959ff\">Jack</span> <span style=\"background-color:#4040ff\">nodded</span> <span style=\"background-color:#ff0000\">and</span> <span style=\"background-color:#d2d2ff\">went</span> <span style=\"background-color:#7171ff\">over</span> <span style=\"background-color:#f0f0ff\">to</span> <span style=\"background-color:#ffd0d0\">the</span> <span style=\"background-color:#ff1111\">painting</span> <span style=\"background-color:#ff9090\">.</span> \n"
      ],
      "text/plain": [
       "<IPython.core.display.HTML object>"
      ]
     },
     "metadata": {},
     "output_type": "display_data"
    },
    {
     "data": {
      "text/html": [
       "<span style=\"background-color:#ff0000\">Mainly</span> <span style=\"background-color:#e8e8ff\">jim</span> <span style=\"background-color:#ffd6d6\">was</span> <span style=\"background-color:#ffe4e4\">too</span> <span style=\"background-color:#fffefe\">clumsy</span> <span style=\"background-color:#f2f2ff\">to</span> <span style=\"background-color:#fcfcff\">be</span> <span style=\"background-color:#fafaff\">trusted</span> <span style=\"background-color:#fffefe\">with</span> <span style=\"background-color:#fcfcff\">a</span> <span style=\"background-color:#fff6f6\">multi-million</span> <span style=\"background-color:#fff8f8\">dollar</span> <span style=\"background-color:#fcfcff\">piece</span> <span style=\"background-color:#fffefe\">of</span> <span style=\"background-color:#fff4f4\">art</span> <span style=\"background-color:#e0e0ff\">.</span> \n"
      ],
      "text/plain": [
       "<IPython.core.display.HTML object>"
      ]
     },
     "metadata": {},
     "output_type": "display_data"
    },
    {
     "data": {
      "text/html": [
       "correct label: <b>because</b>"
      ],
      "text/plain": [
       "<IPython.core.display.HTML object>"
      ]
     },
     "metadata": {},
     "output_type": "display_data"
    },
    {
     "data": {
      "text/html": [
       "predict label: <b>because</b>"
      ],
      "text/plain": [
       "<IPython.core.display.HTML object>"
      ]
     },
     "metadata": {},
     "output_type": "display_data"
    }
   ],
   "source": [
    "for i in range(20, 30):\n",
    "    display(*bilstm.visualize_example(correct[i][0], correct[i][1], correct[i][2], dis_labels))"
   ]
  },
  {
   "cell_type": "code",
   "execution_count": 24,
   "metadata": {},
   "outputs": [
    {
     "data": {
      "text/html": [
       "<span style=\"background-color:#ffcaca\">So</span> <span style=\"background-color:#2020ff\">you</span> <span style=\"background-color:#ffc6c6\">think</span> <span style=\"background-color:#ffa2a2\">,</span> <span style=\"background-color:#ff0000\">?</span> <span style=\"background-color:#ffb0b0\">''</span> <span style=\"background-color:#ff8080\">.</span> \n"
      ],
      "text/plain": [
       "<IPython.core.display.HTML object>"
      ]
     },
     "metadata": {},
     "output_type": "display_data"
    },
    {
     "data": {
      "text/html": [
       "<span style=\"background-color:#ff0000\">You</span> <span style=\"background-color:#ffd8d8\">chose</span> <span style=\"background-color:#ffd3d3\">mother</span> <span style=\"background-color:#ffc8c8\">nature</span> <span style=\"background-color:#d0d0ff\">as</span> <span style=\"background-color:#ffc2c2\">your</span> <span style=\"background-color:#c8c8ff\">superhero</span> <span style=\"background-color:#f0f0ff\">on</span> <span style=\"background-color:#ffe2e2\">that</span> <span style=\"background-color:#ffecec\">questionnaire</span> <span style=\"background-color:#fcfcff\">,</span> <span style=\"background-color:#ffeaea\">that</span> <span style=\"background-color:#fffafa\">you</span> <span style=\"background-color:#ffdede\">somehow</span> <span style=\"background-color:#eaeaff\">became</span> <span style=\"background-color:#f2f2ff\">mother</span> <span style=\"background-color:#fff8f8\">nature</span> <span style=\"background-color:#babaff\">,</span> <span style=\"background-color:#fff6f6\">is</span> <span style=\"background-color:#ffcccc\">that</span> <span style=\"background-color:#e6e6ff\">it</span> <span style=\"background-color:#f3f3ff\">.</span> \n"
      ],
      "text/plain": [
       "<IPython.core.display.HTML object>"
      ]
     },
     "metadata": {},
     "output_type": "display_data"
    },
    {
     "data": {
      "text/html": [
       "correct label: <b>because</b>"
      ],
      "text/plain": [
       "<IPython.core.display.HTML object>"
      ]
     },
     "metadata": {},
     "output_type": "display_data"
    },
    {
     "data": {
      "text/html": [
       "predict label: <b>if</b>"
      ],
      "text/plain": [
       "<IPython.core.display.HTML object>"
      ]
     },
     "metadata": {},
     "output_type": "display_data"
    },
    {
     "data": {
      "text/html": [
       "<span style=\"background-color:#ff9a9a\">I</span> <span style=\"background-color:#ff0000\">bought</span> <span style=\"background-color:#ffa3a3\">this</span> <span style=\"background-color:#f0f0ff\">place</span> <span style=\"background-color:#ffc2c2\">.</span> \n"
      ],
      "text/plain": [
       "<IPython.core.display.HTML object>"
      ]
     },
     "metadata": {},
     "output_type": "display_data"
    },
    {
     "data": {
      "text/html": [
       "<span style=\"background-color:#ff0000\">It</span> <span style=\"background-color:#ff3838\">fit</span> <span style=\"background-color:#ffd0d0\">my</span> <span style=\"background-color:#ff4e4e\">needs</span> <span style=\"background-color:#a0a0ff\">.</span> \n"
      ],
      "text/plain": [
       "<IPython.core.display.HTML object>"
      ]
     },
     "metadata": {},
     "output_type": "display_data"
    },
    {
     "data": {
      "text/html": [
       "correct label: <b>because</b>"
      ],
      "text/plain": [
       "<IPython.core.display.HTML object>"
      ]
     },
     "metadata": {},
     "output_type": "display_data"
    },
    {
     "data": {
      "text/html": [
       "predict label: <b>because</b>"
      ],
      "text/plain": [
       "<IPython.core.display.HTML object>"
      ]
     },
     "metadata": {},
     "output_type": "display_data"
    },
    {
     "data": {
      "text/html": [
       "<span style=\"background-color:#ff0000\">That</span> <span style=\"background-color:#fff0f0\">'s</span> <span style=\"background-color:#c0c0ff\">.</span> <span style=\"background-color:#ff4949\">''</span> <span style=\"background-color:#fcfcff\">.</span> \n"
      ],
      "text/plain": [
       "<IPython.core.display.HTML object>"
      ]
     },
     "metadata": {},
     "output_type": "display_data"
    },
    {
     "data": {
      "text/html": [
       "<span style=\"background-color:#fff4f4\">Chase</span> <span style=\"background-color:#2a2aff\">looks</span> <span style=\"background-color:#ff0000\">like</span> <span style=\"background-color:#ffcccc\">his</span> <span style=\"background-color:#fffefe\">father</span> <span style=\"background-color:#ffd3d3\">.</span> \n"
      ],
      "text/plain": [
       "<IPython.core.display.HTML object>"
      ]
     },
     "metadata": {},
     "output_type": "display_data"
    },
    {
     "data": {
      "text/html": [
       "correct label: <b>because</b>"
      ],
      "text/plain": [
       "<IPython.core.display.HTML object>"
      ]
     },
     "metadata": {},
     "output_type": "display_data"
    },
    {
     "data": {
      "text/html": [
       "predict label: <b>because</b>"
      ],
      "text/plain": [
       "<IPython.core.display.HTML object>"
      ]
     },
     "metadata": {},
     "output_type": "display_data"
    },
    {
     "data": {
      "text/html": [
       "<span style=\"background-color:#3636ff\">The</span> <span style=\"background-color:#ff0000\">fools</span> <span style=\"background-color:#8a8aff\">have</span> <span style=\"background-color:#ff7676\">him</span> <span style=\"background-color:#ffd2d2\">by</span> <span style=\"background-color:#acacff\">the</span> <span style=\"background-color:#ffb3b3\">testicles</span> <span style=\"background-color:#fefeff\">,</span> <span style=\"background-color:#ffa0a0\">jenny</span> <span style=\"background-color:#ff9c9c\">.</span> \n"
      ],
      "text/plain": [
       "<IPython.core.display.HTML object>"
      ]
     },
     "metadata": {},
     "output_type": "display_data"
    },
    {
     "data": {
      "text/html": [
       "<span style=\"background-color:#ffc6c6\">They</span> <span style=\"background-color:#ff0000\">assume</span> <span style=\"background-color:#9393ff\">that</span> <span style=\"background-color:#7979ff\">we</span> <span style=\"background-color:#ff8383\">will</span> <span style=\"background-color:#3a3aff\">back</span> <span style=\"background-color:#ffd0d0\">them</span> <span style=\"background-color:#f0f0ff\">up</span> <span style=\"background-color:#dcdcff\">again</span> <span style=\"background-color:#b0b0ff\">,</span> <span style=\"background-color:#ffe8e8\">like</span> <span style=\"background-color:#d6d6ff\">phillip</span> <span style=\"background-color:#eaeaff\">hammer</span> <span style=\"background-color:#ffeeee\">did</span> <span style=\"background-color:#ffa2a2\">during</span> <span style=\"background-color:#e6e6ff\">the</span> <span style=\"background-color:#d0d0ff\">last</span> <span style=\"background-color:#ff8383\">crisis</span> <span style=\"background-color:#ececff\">.</span> \n"
      ],
      "text/plain": [
       "<IPython.core.display.HTML object>"
      ]
     },
     "metadata": {},
     "output_type": "display_data"
    },
    {
     "data": {
      "text/html": [
       "correct label: <b>because</b>"
      ],
      "text/plain": [
       "<IPython.core.display.HTML object>"
      ]
     },
     "metadata": {},
     "output_type": "display_data"
    },
    {
     "data": {
      "text/html": [
       "predict label: <b>because</b>"
      ],
      "text/plain": [
       "<IPython.core.display.HTML object>"
      ]
     },
     "metadata": {},
     "output_type": "display_data"
    },
    {
     "data": {
      "text/html": [
       "<span style=\"background-color:#ff0000\">You</span> <span style=\"background-color:#ff5656\">'re</span> <span style=\"background-color:#eeeeff\">with</span> <span style=\"background-color:#ff8686\">me</span> <span style=\"background-color:#ff9898\">.</span> \n"
      ],
      "text/plain": [
       "<IPython.core.display.HTML object>"
      ]
     },
     "metadata": {},
     "output_type": "display_data"
    },
    {
     "data": {
      "text/html": [
       "<span style=\"background-color:#fafaff\">There</span> <span style=\"background-color:#ff9696\">'s</span> <span style=\"background-color:#ff2929\">nowhere</span> <span style=\"background-color:#ffe2e2\">else</span> <span style=\"background-color:#6666ff\">i</span> <span style=\"background-color:#ff0000\">want</span> <span style=\"background-color:#dadaff\">you</span> <span style=\"background-color:#ffbcbc\">to</span> <span style=\"background-color:#d3d3ff\">be</span> <span style=\"background-color:#e0e0ff\">.</span> \n"
      ],
      "text/plain": [
       "<IPython.core.display.HTML object>"
      ]
     },
     "metadata": {},
     "output_type": "display_data"
    },
    {
     "data": {
      "text/html": [
       "correct label: <b>because</b>"
      ],
      "text/plain": [
       "<IPython.core.display.HTML object>"
      ]
     },
     "metadata": {},
     "output_type": "display_data"
    },
    {
     "data": {
      "text/html": [
       "predict label: <b>because</b>"
      ],
      "text/plain": [
       "<IPython.core.display.HTML object>"
      ]
     },
     "metadata": {},
     "output_type": "display_data"
    },
    {
     "data": {
      "text/html": [
       "<span style=\"background-color:#ff0000\">If</span> <span style=\"background-color:#ff8e8e\">i</span> <span style=\"background-color:#8c8cff\">did</span> <span style=\"background-color:#ffb3b3\">,</span> <span style=\"background-color:#ff3131\">it</span> <span style=\"background-color:#ff7878\">'s</span> <span style=\"background-color:#ffdada\">.</span> \n"
      ],
      "text/plain": [
       "<IPython.core.display.HTML object>"
      ]
     },
     "metadata": {},
     "output_type": "display_data"
    },
    {
     "data": {
      "text/html": [
       "<span style=\"background-color:#9a9aff\">That</span> <span style=\"background-color:#ff0000\">'s</span> <span style=\"background-color:#ff6161\">all</span> <span style=\"background-color:#fff8f8\">i</span> <span style=\"background-color:#0000ff\">hear</span> <span style=\"background-color:#9393ff\">out</span> <span style=\"background-color:#fff6f6\">of</span> <span style=\"background-color:#b0b0ff\">you</span> <span style=\"background-color:#ffeaea\">.</span> \n"
      ],
      "text/plain": [
       "<IPython.core.display.HTML object>"
      ]
     },
     "metadata": {},
     "output_type": "display_data"
    },
    {
     "data": {
      "text/html": [
       "correct label: <b>because</b>"
      ],
      "text/plain": [
       "<IPython.core.display.HTML object>"
      ]
     },
     "metadata": {},
     "output_type": "display_data"
    },
    {
     "data": {
      "text/html": [
       "predict label: <b>because</b>"
      ],
      "text/plain": [
       "<IPython.core.display.HTML object>"
      ]
     },
     "metadata": {},
     "output_type": "display_data"
    },
    {
     "data": {
      "text/html": [
       "<span style=\"background-color:#ff0000\">``</span> <span style=\"background-color:#fff2f2\">,</span> <span style=\"background-color:#ff3c3c\">''</span> <span style=\"background-color:#ffa2a2\">answered</span> <span style=\"background-color:#ffe8e8\">.</span> \n"
      ],
      "text/plain": [
       "<IPython.core.display.HTML object>"
      ]
     },
     "metadata": {},
     "output_type": "display_data"
    },
    {
     "data": {
      "text/html": [
       "<span style=\"background-color:#ffdcdc\">I</span> <span style=\"background-color:#ff0000\">'ve</span> <span style=\"background-color:#ff6969\">been</span> <span style=\"background-color:#a8a8ff\">with</span> <span style=\"background-color:#b3b3ff\">your</span> <span style=\"background-color:#ff7e7e\">brothers</span> <span style=\"background-color:#fff0f0\">for</span> <span style=\"background-color:#e2e2ff\">.</span> \n"
      ],
      "text/plain": [
       "<IPython.core.display.HTML object>"
      ]
     },
     "metadata": {},
     "output_type": "display_data"
    },
    {
     "data": {
      "text/html": [
       "correct label: <b>because</b>"
      ],
      "text/plain": [
       "<IPython.core.display.HTML object>"
      ]
     },
     "metadata": {},
     "output_type": "display_data"
    },
    {
     "data": {
      "text/html": [
       "predict label: <b>because</b>"
      ],
      "text/plain": [
       "<IPython.core.display.HTML object>"
      ]
     },
     "metadata": {},
     "output_type": "display_data"
    },
    {
     "data": {
      "text/html": [
       "<span style=\"background-color:#ff8383\">When</span> <span style=\"background-color:#ffc8c8\">we</span> <span style=\"background-color:#4c4cff\">were</span> <span style=\"background-color:#ff0000\">only</span> <span style=\"background-color:#babaff\">children</span> <span style=\"background-color:#ffcaca\">.</span> \n"
      ],
      "text/plain": [
       "<IPython.core.display.HTML object>"
      ]
     },
     "metadata": {},
     "output_type": "display_data"
    },
    {
     "data": {
      "text/html": [
       "<span style=\"background-color:#ffa6a6\">You</span> <span style=\"background-color:#ff9696\">gave</span> <span style=\"background-color:#ff0000\">too</span> <span style=\"background-color:#ff7e7e\">much</span> <span style=\"background-color:#4444ff\">away</span> <span style=\"background-color:#eaeaff\">to</span> <span style=\"background-color:#fefeff\">me</span> <span style=\"background-color:#fff8f8\">.</span> \n"
      ],
      "text/plain": [
       "<IPython.core.display.HTML object>"
      ]
     },
     "metadata": {},
     "output_type": "display_data"
    },
    {
     "data": {
      "text/html": [
       "correct label: <b>because</b>"
      ],
      "text/plain": [
       "<IPython.core.display.HTML object>"
      ]
     },
     "metadata": {},
     "output_type": "display_data"
    },
    {
     "data": {
      "text/html": [
       "predict label: <b>because</b>"
      ],
      "text/plain": [
       "<IPython.core.display.HTML object>"
      ]
     },
     "metadata": {},
     "output_type": "display_data"
    },
    {
     "data": {
      "text/html": [
       "<span style=\"background-color:#f3f3ff\">He</span> <span style=\"background-color:#0000ff\">motioned</span> <span style=\"background-color:#ffe8e8\">towards</span> <span style=\"background-color:#c6c6ff\">the</span> <span style=\"background-color:#fff0f0\">door</span> <span style=\"background-color:#ffb8b8\">.</span> \n"
      ],
      "text/plain": [
       "<IPython.core.display.HTML object>"
      ]
     },
     "metadata": {},
     "output_type": "display_data"
    },
    {
     "data": {
      "text/html": [
       "<span style=\"background-color:#ff0000\">Partially</span> <span style=\"background-color:#f0f0ff\">he</span> <span style=\"background-color:#ffacac\">needed</span> <span style=\"background-color:#fafaff\">their</span> <span style=\"background-color:#dedeff\">aid</span> <span style=\"background-color:#f8f8ff\">in</span> <span style=\"background-color:#f6f6ff\">order</span> <span style=\"background-color:#fffefe\">to</span> <span style=\"background-color:#ececff\">escape</span> <span style=\"background-color:#ffdede\">without</span> <span style=\"background-color:#fafaff\">falling</span> <span style=\"background-color:#fffefe\">on</span> <span style=\"background-color:#fff2f2\">his</span> <span style=\"background-color:#fefeff\">face</span> <span style=\"background-color:#fffefe\">.</span> \n"
      ],
      "text/plain": [
       "<IPython.core.display.HTML object>"
      ]
     },
     "metadata": {},
     "output_type": "display_data"
    },
    {
     "data": {
      "text/html": [
       "correct label: <b>because</b>"
      ],
      "text/plain": [
       "<IPython.core.display.HTML object>"
      ]
     },
     "metadata": {},
     "output_type": "display_data"
    },
    {
     "data": {
      "text/html": [
       "predict label: <b>because</b>"
      ],
      "text/plain": [
       "<IPython.core.display.HTML object>"
      ]
     },
     "metadata": {},
     "output_type": "display_data"
    },
    {
     "data": {
      "text/html": [
       "<span style=\"background-color:#f8f8ff\">She</span> <span style=\"background-color:#fafaff\">'s</span> <span style=\"background-color:#ffb6b6\">just</span> <span style=\"background-color:#ff0000\">pissed</span> <span style=\"background-color:#e8e8ff\">.</span> <span style=\"background-color:#ffd3d3\">''</span> <span style=\"background-color:#ffe4e4\">.</span> \n"
      ],
      "text/plain": [
       "<IPython.core.display.HTML object>"
      ]
     },
     "metadata": {},
     "output_type": "display_data"
    },
    {
     "data": {
      "text/html": [
       "<span style=\"background-color:#dedeff\">She</span> <span style=\"background-color:#ffa2a2\">'ll</span> <span style=\"background-color:#ff0000\">never</span> <span style=\"background-color:#ffeeee\">have</span> <span style=\"background-color:#ffd3d3\">what</span> <span style=\"background-color:#ceceff\">we</span> <span style=\"background-color:#fefeff\">have</span> <span style=\"background-color:#ececff\">.</span> \n"
      ],
      "text/plain": [
       "<IPython.core.display.HTML object>"
      ]
     },
     "metadata": {},
     "output_type": "display_data"
    },
    {
     "data": {
      "text/html": [
       "correct label: <b>because</b>"
      ],
      "text/plain": [
       "<IPython.core.display.HTML object>"
      ]
     },
     "metadata": {},
     "output_type": "display_data"
    },
    {
     "data": {
      "text/html": [
       "predict label: <b>because</b>"
      ],
      "text/plain": [
       "<IPython.core.display.HTML object>"
      ]
     },
     "metadata": {},
     "output_type": "display_data"
    },
    {
     "data": {
      "text/html": [
       "<span style=\"background-color:#ff5656\">I</span> <span style=\"background-color:#ff6e6e\">just</span> <span style=\"background-color:#ff0000\">assumed</span> <span style=\"background-color:#dcdcff\">.</span> <span style=\"background-color:#ff2828\">''</span> <span style=\"background-color:#ffdcdc\">.</span> \n"
      ],
      "text/plain": [
       "<IPython.core.display.HTML object>"
      ]
     },
     "metadata": {},
     "output_type": "display_data"
    },
    {
     "data": {
      "text/html": [
       "<span style=\"background-color:#fff4f4\">The</span> <span style=\"background-color:#d2d2ff\">two</span> <span style=\"background-color:#ffe0e0\">of</span> <span style=\"background-color:#f2f2ff\">you</span> <span style=\"background-color:#ffd0d0\">are</span> <span style=\"background-color:#ff0000\">always</span> <span style=\"background-color:#b6b6ff\">together</span> <span style=\"background-color:#ffecec\">and</span> <span style=\"background-color:#fffcfc\">all</span> <span style=\"background-color:#dadaff\">.</span> \n"
      ],
      "text/plain": [
       "<IPython.core.display.HTML object>"
      ]
     },
     "metadata": {},
     "output_type": "display_data"
    },
    {
     "data": {
      "text/html": [
       "correct label: <b>because</b>"
      ],
      "text/plain": [
       "<IPython.core.display.HTML object>"
      ]
     },
     "metadata": {},
     "output_type": "display_data"
    },
    {
     "data": {
      "text/html": [
       "predict label: <b>because</b>"
      ],
      "text/plain": [
       "<IPython.core.display.HTML object>"
      ]
     },
     "metadata": {},
     "output_type": "display_data"
    },
    {
     "data": {
      "text/html": [
       "<span style=\"background-color:#ff0000\">``</span> <span style=\"background-color:#ffcece\">,</span> <span style=\"background-color:#ff2020\">''</span> <span style=\"background-color:#f3f3ff\">she</span> <span style=\"background-color:#eeeeff\">said</span> <span style=\"background-color:#d8d8ff\">,</span> <span style=\"background-color:#fff6f6\">her</span> <span style=\"background-color:#cacaff\">lips</span> <span style=\"background-color:#c6c6ff\">twisted</span> <span style=\"background-color:#fefeff\">into</span> <span style=\"background-color:#f2f2ff\">a</span> <span style=\"background-color:#ececff\">fake</span> <span style=\"background-color:#ffdada\">smile</span> <span style=\"background-color:#ffe2e2\">,</span> <span style=\"background-color:#ffeaea\">her</span> <span style=\"background-color:#ccccff\">eyes</span> <span style=\"background-color:#ffe6e6\">sparkling</span> <span style=\"background-color:#e6e6ff\">.</span> \n"
      ],
      "text/plain": [
       "<IPython.core.display.HTML object>"
      ]
     },
     "metadata": {},
     "output_type": "display_data"
    },
    {
     "data": {
      "text/html": [
       "<span style=\"background-color:#fff6f6\">He</span> <span style=\"background-color:#0000ff\">asked</span> <span style=\"background-color:#ff7171\">me</span> <span style=\"background-color:#3e3eff\">out</span> <span style=\"background-color:#ff3030\">and</span> <span style=\"background-color:#6161ff\">i</span> <span style=\"background-color:#ff5e5e\">wanted</span> <span style=\"background-color:#e3e3ff\">to</span> <span style=\"background-color:#eeeeff\">make</span> <span style=\"background-color:#bebeff\">sure</span> <span style=\"background-color:#e3e3ff\">that</span> <span style=\"background-color:#ffd6d6\">was</span> <span style=\"background-color:#f6f6ff\">cool</span> <span style=\"background-color:#f0f0ff\">with</span> <span style=\"background-color:#ffe0e0\">you</span> <span style=\"background-color:#f3f3ff\">.</span> \n"
      ],
      "text/plain": [
       "<IPython.core.display.HTML object>"
      ]
     },
     "metadata": {},
     "output_type": "display_data"
    },
    {
     "data": {
      "text/html": [
       "correct label: <b>because</b>"
      ],
      "text/plain": [
       "<IPython.core.display.HTML object>"
      ]
     },
     "metadata": {},
     "output_type": "display_data"
    },
    {
     "data": {
      "text/html": [
       "predict label: <b>because</b>"
      ],
      "text/plain": [
       "<IPython.core.display.HTML object>"
      ]
     },
     "metadata": {},
     "output_type": "display_data"
    },
    {
     "data": {
      "text/html": [
       "<span style=\"background-color:#ffb2b2\">My</span> <span style=\"background-color:#fff8f8\">entire</span> <span style=\"background-color:#7c7cff\">body</span> <span style=\"background-color:#1212ff\">fills</span> <span style=\"background-color:#ff6969\">with</span> <span style=\"background-color:#ff4040\">grief</span> <span style=\"background-color:#fff2f2\">,</span> <span style=\"background-color:#ff1010\">and</span> <span style=\"background-color:#ff9393\">it</span> <span style=\"background-color:#e2e2ff\">'s</span> <span style=\"background-color:#e8e8ff\">all</span> <span style=\"background-color:#ffb2b2\">my</span> <span style=\"background-color:#ff0000\">fault</span> <span style=\"background-color:#dedeff\">.</span> \n"
      ],
      "text/plain": [
       "<IPython.core.display.HTML object>"
      ]
     },
     "metadata": {},
     "output_type": "display_data"
    },
    {
     "data": {
      "text/html": [
       "<span style=\"background-color:#a6a6ff\">Wes</span> <span style=\"background-color:#ffe2e2\">and</span> <span style=\"background-color:#dedeff\">coop</span> <span style=\"background-color:#ff0000\">are</span> <span style=\"background-color:#ff6060\">both</span> <span style=\"background-color:#ffa6a6\">bottling</span> <span style=\"background-color:#e0e0ff\">up</span> <span style=\"background-color:#e8e8ff\">their</span> <span style=\"background-color:#c6c6ff\">rage</span> <span style=\"background-color:#ffa8a8\">just</span> <span style=\"background-color:#fff6f6\">like</span> <span style=\"background-color:#ffc3c3\">jax</span> <span style=\"background-color:#ffd0d0\">.</span> \n"
      ],
      "text/plain": [
       "<IPython.core.display.HTML object>"
      ]
     },
     "metadata": {},
     "output_type": "display_data"
    },
    {
     "data": {
      "text/html": [
       "correct label: <b>because</b>"
      ],
      "text/plain": [
       "<IPython.core.display.HTML object>"
      ]
     },
     "metadata": {},
     "output_type": "display_data"
    },
    {
     "data": {
      "text/html": [
       "predict label: <b>because</b>"
      ],
      "text/plain": [
       "<IPython.core.display.HTML object>"
      ]
     },
     "metadata": {},
     "output_type": "display_data"
    },
    {
     "data": {
      "text/html": [
       "<span style=\"background-color:#ff0000\">I</span> <span style=\"background-color:#ff1c1c\">couldnt</span> <span style=\"background-color:#d3d3ff\">remember</span> <span style=\"background-color:#fffefe\">her</span> <span style=\"background-color:#f8f8ff\">at</span> <span style=\"background-color:#ff7c7c\">.</span> \n"
      ],
      "text/plain": [
       "<IPython.core.display.HTML object>"
      ]
     },
     "metadata": {},
     "output_type": "display_data"
    },
    {
     "data": {
      "text/html": [
       "<span style=\"background-color:#7979ff\">Id</span> <span style=\"background-color:#f2f2ff\">worked</span> <span style=\"background-color:#ff0000\">so</span> <span style=\"background-color:#ff9292\">hard</span> <span style=\"background-color:#f3f3ff\">to</span> <span style=\"background-color:#f6f6ff\">forget</span> <span style=\"background-color:#ffcccc\">her</span> <span style=\"background-color:#ff9e9e\">.</span> \n"
      ],
      "text/plain": [
       "<IPython.core.display.HTML object>"
      ]
     },
     "metadata": {},
     "output_type": "display_data"
    },
    {
     "data": {
      "text/html": [
       "correct label: <b>because</b>"
      ],
      "text/plain": [
       "<IPython.core.display.HTML object>"
      ]
     },
     "metadata": {},
     "output_type": "display_data"
    },
    {
     "data": {
      "text/html": [
       "predict label: <b>because</b>"
      ],
      "text/plain": [
       "<IPython.core.display.HTML object>"
      ]
     },
     "metadata": {},
     "output_type": "display_data"
    },
    {
     "data": {
      "text/html": [
       "<span style=\"background-color:#ff3434\">What</span> <span style=\"background-color:#8686ff\">he</span> <span style=\"background-color:#4444ff\">was</span> <span style=\"background-color:#ff0000\">thinking</span> <span style=\"background-color:#ffaeae\">.</span> \n"
      ],
      "text/plain": [
       "<IPython.core.display.HTML object>"
      ]
     },
     "metadata": {},
     "output_type": "display_data"
    },
    {
     "data": {
      "text/html": [
       "<span style=\"background-color:#fff2f2\">She</span> <span style=\"background-color:#ff0606\">was</span> <span style=\"background-color:#e8e8ff\">thinking</span> <span style=\"background-color:#9090ff\">the</span> <span style=\"background-color:#ff0000\">same</span> <span style=\"background-color:#ffc0c0\">thing</span> <span style=\"background-color:#7474ff\">.</span> \n"
      ],
      "text/plain": [
       "<IPython.core.display.HTML object>"
      ]
     },
     "metadata": {},
     "output_type": "display_data"
    },
    {
     "data": {
      "text/html": [
       "correct label: <b>because</b>"
      ],
      "text/plain": [
       "<IPython.core.display.HTML object>"
      ]
     },
     "metadata": {},
     "output_type": "display_data"
    },
    {
     "data": {
      "text/html": [
       "predict label: <b>because</b>"
      ],
      "text/plain": [
       "<IPython.core.display.HTML object>"
      ]
     },
     "metadata": {},
     "output_type": "display_data"
    },
    {
     "data": {
      "text/html": [
       "<span style=\"background-color:#0000ff\">Daemon</span> <span style=\"background-color:#ffe6e6\">,</span> <span style=\"background-color:#ff7171\">who</span> <span style=\"background-color:#ffc2c2\">patiently</span> <span style=\"background-color:#f3f3ff\">read</span> <span style=\"background-color:#fff6f6\">the</span> <span style=\"background-color:#9393ff\">same</span> <span style=\"background-color:#ffdcdc\">book</span> <span style=\"background-color:#ffe8e8\">to</span> <span style=\"background-color:#f3f3ff\">him</span> <span style=\"background-color:#ffa6a6\">,</span> <span style=\"background-color:#ffecec\">over</span> <span style=\"background-color:#f8f8ff\">and</span> <span style=\"background-color:#fafaff\">over</span> <span style=\"background-color:#ececff\">and</span> <span style=\"background-color:#e3e3ff\">over</span> <span style=\"background-color:#ffa3a3\">.</span> \n"
      ],
      "text/plain": [
       "<IPython.core.display.HTML object>"
      ]
     },
     "metadata": {},
     "output_type": "display_data"
    },
    {
     "data": {
      "text/html": [
       "<span style=\"background-color:#ffaaaa\">It</span> <span style=\"background-color:#ffa3a3\">was</span> <span style=\"background-color:#ffd6d6\">his</span> <span style=\"background-color:#ff0000\">favorite</span> <span style=\"background-color:#8c8cff\">.</span> \n"
      ],
      "text/plain": [
       "<IPython.core.display.HTML object>"
      ]
     },
     "metadata": {},
     "output_type": "display_data"
    },
    {
     "data": {
      "text/html": [
       "correct label: <b>because</b>"
      ],
      "text/plain": [
       "<IPython.core.display.HTML object>"
      ]
     },
     "metadata": {},
     "output_type": "display_data"
    },
    {
     "data": {
      "text/html": [
       "predict label: <b>because</b>"
      ],
      "text/plain": [
       "<IPython.core.display.HTML object>"
      ]
     },
     "metadata": {},
     "output_type": "display_data"
    },
    {
     "data": {
      "text/html": [
       "<span style=\"background-color:#ff6c6c\">But</span> <span style=\"background-color:#eaeaff\">some</span> <span style=\"background-color:#fefeff\">sense</span> <span style=\"background-color:#f8f8ff\">of</span> <span style=\"background-color:#ff8686\">self-preservation</span> <span style=\"background-color:#ff0000\">must</span> <span style=\"background-color:#eeeeff\">have</span> <span style=\"background-color:#e2e2ff\">kicked</span> <span style=\"background-color:#f6f6ff\">in</span> <span style=\"background-color:#ccccff\">.</span> \n"
      ],
      "text/plain": [
       "<IPython.core.display.HTML object>"
      ]
     },
     "metadata": {},
     "output_type": "display_data"
    },
    {
     "data": {
      "text/html": [
       "<span style=\"background-color:#ffd3d3\">The</span> <span style=\"background-color:#ff0000\">beefy</span> <span style=\"background-color:#d0d0ff\">half</span> <span style=\"background-color:#ffbebe\">giant</span> <span style=\"background-color:#b0b0ff\">jerked</span> <span style=\"background-color:#a3a3ff\">his</span> <span style=\"background-color:#fff2f2\">head</span> <span style=\"background-color:#ffcece\">.</span> \n"
      ],
      "text/plain": [
       "<IPython.core.display.HTML object>"
      ]
     },
     "metadata": {},
     "output_type": "display_data"
    },
    {
     "data": {
      "text/html": [
       "correct label: <b>because</b>"
      ],
      "text/plain": [
       "<IPython.core.display.HTML object>"
      ]
     },
     "metadata": {},
     "output_type": "display_data"
    },
    {
     "data": {
      "text/html": [
       "predict label: <b>because</b>"
      ],
      "text/plain": [
       "<IPython.core.display.HTML object>"
      ]
     },
     "metadata": {},
     "output_type": "display_data"
    },
    {
     "data": {
      "text/html": [
       "<span style=\"background-color:#ff0000\">I</span> <span style=\"background-color:#7878ff\">did</span> <span style=\"background-color:#ff0404\">not</span> <span style=\"background-color:#2020ff\">hear</span> <span style=\"background-color:#9a9aff\">him</span> <span style=\"background-color:#ff8c8c\">.</span> \n"
      ],
      "text/plain": [
       "<IPython.core.display.HTML object>"
      ]
     },
     "metadata": {},
     "output_type": "display_data"
    },
    {
     "data": {
      "text/html": [
       "<span style=\"background-color:#fefeff\">I</span> <span style=\"background-color:#ff0000\">was</span> <span style=\"background-color:#1010ff\">peering</span> <span style=\"background-color:#7070ff\">around</span> <span style=\"background-color:#ffcece\">the</span> <span style=\"background-color:#eaeaff\">bodyguard</span> <span style=\"background-color:#e0e0ff\">of</span> <span style=\"background-color:#ffe0e0\">the</span> <span style=\"background-color:#ffaeae\">right</span> <span style=\"background-color:#ffa6a6\">side</span> <span style=\"background-color:#ffeeee\">to</span> <span style=\"background-color:#9393ff\">get</span> <span style=\"background-color:#eaeaff\">a</span> <span style=\"background-color:#bcbcff\">better</span> <span style=\"background-color:#ffe0e0\">look</span> <span style=\"background-color:#c6c6ff\">at</span> <span style=\"background-color:#ccccff\">them</span> <span style=\"background-color:#a6a6ff\">.</span> \n"
      ],
      "text/plain": [
       "<IPython.core.display.HTML object>"
      ]
     },
     "metadata": {},
     "output_type": "display_data"
    },
    {
     "data": {
      "text/html": [
       "correct label: <b>because</b>"
      ],
      "text/plain": [
       "<IPython.core.display.HTML object>"
      ]
     },
     "metadata": {},
     "output_type": "display_data"
    },
    {
     "data": {
      "text/html": [
       "predict label: <b>because</b>"
      ],
      "text/plain": [
       "<IPython.core.display.HTML object>"
      ]
     },
     "metadata": {},
     "output_type": "display_data"
    },
    {
     "data": {
      "text/html": [
       "<span style=\"background-color:#c8c8ff\">You</span> <span style=\"background-color:#ffa2a2\">'re</span> <span style=\"background-color:#ff3c3c\">only</span> <span style=\"background-color:#0000ff\">breathing</span> <span style=\"background-color:#8383ff\">now</span> <span style=\"background-color:#ff3636\">.</span> <span style=\"background-color:#aeaeff\">''</span> <span style=\"background-color:#ffd6d6\">.</span> \n"
      ],
      "text/plain": [
       "<IPython.core.display.HTML object>"
      ]
     },
     "metadata": {},
     "output_type": "display_data"
    },
    {
     "data": {
      "text/html": [
       "<span style=\"background-color:#ff7070\">She</span> <span style=\"background-color:#ffa3a3\">let</span> <span style=\"background-color:#ff0000\">you</span> <span style=\"background-color:#eeeeff\">go</span> <span style=\"background-color:#dadaff\">.</span> \n"
      ],
      "text/plain": [
       "<IPython.core.display.HTML object>"
      ]
     },
     "metadata": {},
     "output_type": "display_data"
    },
    {
     "data": {
      "text/html": [
       "correct label: <b>because</b>"
      ],
      "text/plain": [
       "<IPython.core.display.HTML object>"
      ]
     },
     "metadata": {},
     "output_type": "display_data"
    },
    {
     "data": {
      "text/html": [
       "predict label: <b>if</b>"
      ],
      "text/plain": [
       "<IPython.core.display.HTML object>"
      ]
     },
     "metadata": {},
     "output_type": "display_data"
    },
    {
     "data": {
      "text/html": [
       "<span style=\"background-color:#ffe4e4\">She</span> <span style=\"background-color:#f0f0ff\">had</span> <span style=\"background-color:#ffecec\">to</span> <span style=\"background-color:#fcfcff\">have</span> <span style=\"background-color:#b2b2ff\">remembered</span> <span style=\"background-color:#f6f6ff\">what</span> <span style=\"background-color:#ff8080\">i</span> <span style=\"background-color:#ff5151\">said</span> <span style=\"background-color:#acacff\">to</span> <span style=\"background-color:#9a9aff\">much</span> <span style=\"background-color:#ff0000\">i</span> <span style=\"background-color:#ffeeee\">hurt</span> <span style=\"background-color:#ffc8c8\">her</span> <span style=\"background-color:#ffd2d2\">.</span> \n"
      ],
      "text/plain": [
       "<IPython.core.display.HTML object>"
      ]
     },
     "metadata": {},
     "output_type": "display_data"
    },
    {
     "data": {
      "text/html": [
       "<span style=\"background-color:#ffdcdc\">She</span> <span style=\"background-color:#ff5959\">was</span> <span style=\"background-color:#ff0000\">so</span> <span style=\"background-color:#b0b0ff\">drunk</span> <span style=\"background-color:#8a8aff\">.</span> \n"
      ],
      "text/plain": [
       "<IPython.core.display.HTML object>"
      ]
     },
     "metadata": {},
     "output_type": "display_data"
    },
    {
     "data": {
      "text/html": [
       "correct label: <b>because</b>"
      ],
      "text/plain": [
       "<IPython.core.display.HTML object>"
      ]
     },
     "metadata": {},
     "output_type": "display_data"
    },
    {
     "data": {
      "text/html": [
       "predict label: <b>because</b>"
      ],
      "text/plain": [
       "<IPython.core.display.HTML object>"
      ]
     },
     "metadata": {},
     "output_type": "display_data"
    }
   ],
   "source": [
    "for i in range(30, 50):\n",
    "    display(*bilstm.visualize_example(correct[i][0], correct[i][1], correct[i][2], dis_labels))"
   ]
  },
  {
   "cell_type": "markdown",
   "metadata": {},
   "source": [
    "We then take a look at `when` and `and` "
   ]
  },
  {
   "cell_type": "code",
   "execution_count": 25,
   "metadata": {},
   "outputs": [
    {
     "data": {
      "text/html": [
       "<span style=\"background-color:#3030ff\">Some</span> <span style=\"background-color:#c3c3ff\">were</span> <span style=\"background-color:#5858ff\">not</span> <span style=\"background-color:#ffc6c6\">as</span> <span style=\"background-color:#ff8a8a\">friendly</span> <span style=\"background-color:#ff0000\">.</span> \n"
      ],
      "text/plain": [
       "<IPython.core.display.HTML object>"
      ]
     },
     "metadata": {},
     "output_type": "display_data"
    },
    {
     "data": {
      "text/html": [
       "<span style=\"background-color:#ffaeae\">They</span> <span style=\"background-color:#ff0000\">saw</span> <span style=\"background-color:#dedeff\">my</span> <span style=\"background-color:#ff3e3e\">baby</span> <span style=\"background-color:#fff0f0\">bump</span> <span style=\"background-color:#d6d6ff\">.</span> \n"
      ],
      "text/plain": [
       "<IPython.core.display.HTML object>"
      ]
     },
     "metadata": {},
     "output_type": "display_data"
    },
    {
     "data": {
      "text/html": [
       "correct label: <b>when</b>"
      ],
      "text/plain": [
       "<IPython.core.display.HTML object>"
      ]
     },
     "metadata": {},
     "output_type": "display_data"
    },
    {
     "data": {
      "text/html": [
       "predict label: <b>when</b>"
      ],
      "text/plain": [
       "<IPython.core.display.HTML object>"
      ]
     },
     "metadata": {},
     "output_type": "display_data"
    },
    {
     "data": {
      "text/html": [
       "<span style=\"background-color:#eeeeff\">I</span> <span style=\"background-color:#eeeeff\">called</span> <span style=\"background-color:#c2c2ff\">her</span> <span style=\"background-color:#3434ff\">name</span> <span style=\"background-color:#ff0000\">.</span> \n"
      ],
      "text/plain": [
       "<IPython.core.display.HTML object>"
      ]
     },
     "metadata": {},
     "output_type": "display_data"
    },
    {
     "data": {
      "text/html": [
       "<span style=\"background-color:#ffb8b8\">I</span> <span style=\"background-color:#ff0000\">noticed</span> <span style=\"background-color:#f0f0ff\">her</span> <span style=\"background-color:#ff8080\">exiting</span> <span style=\"background-color:#f3f3ff\">a</span> <span style=\"background-color:#ffc2c2\">room</span> <span style=\"background-color:#f6f6ff\">.</span> \n"
      ],
      "text/plain": [
       "<IPython.core.display.HTML object>"
      ]
     },
     "metadata": {},
     "output_type": "display_data"
    },
    {
     "data": {
      "text/html": [
       "correct label: <b>when</b>"
      ],
      "text/plain": [
       "<IPython.core.display.HTML object>"
      ]
     },
     "metadata": {},
     "output_type": "display_data"
    },
    {
     "data": {
      "text/html": [
       "predict label: <b>when</b>"
      ],
      "text/plain": [
       "<IPython.core.display.HTML object>"
      ]
     },
     "metadata": {},
     "output_type": "display_data"
    },
    {
     "data": {
      "text/html": [
       "<span style=\"background-color:#ff1414\">Flipping</span> <span style=\"background-color:#a2a2ff\">through</span> <span style=\"background-color:#fefeff\">my</span> <span style=\"background-color:#fffcfc\">photo</span> <span style=\"background-color:#2424ff\">album</span> <span style=\"background-color:#7e7eff\">from</span> <span style=\"background-color:#8686ff\">last</span> <span style=\"background-color:#ff0000\">summer</span> <span style=\"background-color:#ff4c4c\">.</span> \n"
      ],
      "text/plain": [
       "<IPython.core.display.HTML object>"
      ]
     },
     "metadata": {},
     "output_type": "display_data"
    },
    {
     "data": {
      "text/html": [
       "<span style=\"background-color:#ffdada\">I</span> <span style=\"background-color:#ff0000\">finally</span> <span style=\"background-color:#fff2f2\">made</span> <span style=\"background-color:#c8c8ff\">it</span> <span style=\"background-color:#fafaff\">.</span> \n"
      ],
      "text/plain": [
       "<IPython.core.display.HTML object>"
      ]
     },
     "metadata": {},
     "output_type": "display_data"
    },
    {
     "data": {
      "text/html": [
       "correct label: <b>when</b>"
      ],
      "text/plain": [
       "<IPython.core.display.HTML object>"
      ]
     },
     "metadata": {},
     "output_type": "display_data"
    },
    {
     "data": {
      "text/html": [
       "predict label: <b>when</b>"
      ],
      "text/plain": [
       "<IPython.core.display.HTML object>"
      ]
     },
     "metadata": {},
     "output_type": "display_data"
    },
    {
     "data": {
      "text/html": [
       "<span style=\"background-color:#7878ff\">Okay</span> <span style=\"background-color:#b0b0ff\">,</span> <span style=\"background-color:#ff0000\">how</span> <span style=\"background-color:#cacaff\">old</span> <span style=\"background-color:#fff2f2\">were</span> <span style=\"background-color:#fffcfc\">you</span> <span style=\"background-color:#ffbebe\">?</span> <span style=\"background-color:#fcfcff\">''</span> <span style=\"background-color:#ffe4e4\">.</span> \n"
      ],
      "text/plain": [
       "<IPython.core.display.HTML object>"
      ]
     },
     "metadata": {},
     "output_type": "display_data"
    },
    {
     "data": {
      "text/html": [
       "<span style=\"background-color:#ffb6b6\">You</span> <span style=\"background-color:#ffdada\">drank</span> <span style=\"background-color:#e0e0ff\">for</span> <span style=\"background-color:#f6f6ff\">the</span> <span style=\"background-color:#ff0000\">first</span> <span style=\"background-color:#cacaff\">time</span> <span style=\"background-color:#fffefe\">.</span> \n"
      ],
      "text/plain": [
       "<IPython.core.display.HTML object>"
      ]
     },
     "metadata": {},
     "output_type": "display_data"
    },
    {
     "data": {
      "text/html": [
       "correct label: <b>when</b>"
      ],
      "text/plain": [
       "<IPython.core.display.HTML object>"
      ]
     },
     "metadata": {},
     "output_type": "display_data"
    },
    {
     "data": {
      "text/html": [
       "predict label: <b>when</b>"
      ],
      "text/plain": [
       "<IPython.core.display.HTML object>"
      ]
     },
     "metadata": {},
     "output_type": "display_data"
    },
    {
     "data": {
      "text/html": [
       "<span style=\"background-color:#0000ff\">Called</span> <span style=\"background-color:#ffe8e8\">in</span> <span style=\"background-color:#d8d8ff\">sick</span> <span style=\"background-color:#aeaeff\">on</span> <span style=\"background-color:#ff8e8e\">wednesday</span> <span style=\"background-color:#ff6e6e\">.</span> \n"
      ],
      "text/plain": [
       "<IPython.core.display.HTML object>"
      ]
     },
     "metadata": {},
     "output_type": "display_data"
    },
    {
     "data": {
      "text/html": [
       "<span style=\"background-color:#ff1010\">We</span> <span style=\"background-color:#9c9cff\">were</span> <span style=\"background-color:#ff0000\">supposed</span> <span style=\"background-color:#e0e0ff\">to</span> <span style=\"background-color:#7c7cff\">be</span> <span style=\"background-color:#ffe0e0\">at</span> <span style=\"background-color:#e0e0ff\">the</span> <span style=\"background-color:#ffcaca\">new</span> <span style=\"background-color:#ff4646\">shop</span> <span style=\"background-color:#ccccff\">.</span> \n"
      ],
      "text/plain": [
       "<IPython.core.display.HTML object>"
      ]
     },
     "metadata": {},
     "output_type": "display_data"
    },
    {
     "data": {
      "text/html": [
       "correct label: <b>when</b>"
      ],
      "text/plain": [
       "<IPython.core.display.HTML object>"
      ]
     },
     "metadata": {},
     "output_type": "display_data"
    },
    {
     "data": {
      "text/html": [
       "predict label: <b>when</b>"
      ],
      "text/plain": [
       "<IPython.core.display.HTML object>"
      ]
     },
     "metadata": {},
     "output_type": "display_data"
    },
    {
     "data": {
      "text/html": [
       "<span style=\"background-color:#ff0000\">I</span> <span style=\"background-color:#5656ff\">was</span> <span style=\"background-color:#ff4949\">just</span> <span style=\"background-color:#ffc8c8\">inside</span> <span style=\"background-color:#e8e8ff\">the</span> <span style=\"background-color:#fffefe\">living</span> <span style=\"background-color:#ffeeee\">room</span> <span style=\"background-color:#ff6464\">.</span> \n"
      ],
      "text/plain": [
       "<IPython.core.display.HTML object>"
      ]
     },
     "metadata": {},
     "output_type": "display_data"
    },
    {
     "data": {
      "text/html": [
       "<span style=\"background-color:#ff9a9a\">I</span> <span style=\"background-color:#d8d8ff\">backed</span> <span style=\"background-color:#ff0000\">into</span> <span style=\"background-color:#b8b8ff\">something</span> <span style=\"background-color:#ffe4e4\">solid</span> <span style=\"background-color:#ffe2e2\">.</span> \n"
      ],
      "text/plain": [
       "<IPython.core.display.HTML object>"
      ]
     },
     "metadata": {},
     "output_type": "display_data"
    },
    {
     "data": {
      "text/html": [
       "correct label: <b>when</b>"
      ],
      "text/plain": [
       "<IPython.core.display.HTML object>"
      ]
     },
     "metadata": {},
     "output_type": "display_data"
    },
    {
     "data": {
      "text/html": [
       "predict label: <b>when</b>"
      ],
      "text/plain": [
       "<IPython.core.display.HTML object>"
      ]
     },
     "metadata": {},
     "output_type": "display_data"
    },
    {
     "data": {
      "text/html": [
       "<span style=\"background-color:#ff0000\">Was</span> <span style=\"background-color:#ff7474\">about</span> <span style=\"background-color:#ffc2c2\">to</span> <span style=\"background-color:#ff9898\">slip</span> <span style=\"background-color:#b6b6ff\">off</span> <span style=\"background-color:#b3b3ff\">his</span> <span style=\"background-color:#b2b2ff\">shirt</span> <span style=\"background-color:#ffc3c3\">.</span> \n"
      ],
      "text/plain": [
       "<IPython.core.display.HTML object>"
      ]
     },
     "metadata": {},
     "output_type": "display_data"
    },
    {
     "data": {
      "text/html": [
       "<span style=\"background-color:#ff9696\">She</span> <span style=\"background-color:#ff0000\">said</span> <span style=\"background-color:#6e6eff\">,</span> <span style=\"background-color:#ffe2e2\">``</span> <span style=\"background-color:#ffdede\">my</span> <span style=\"background-color:#ff5656\">turn</span> <span style=\"background-color:#ffe6e6\">,</span> <span style=\"background-color:#c0c0ff\">''</span> <span style=\"background-color:#ff7878\">and</span> <span style=\"background-color:#e2e2ff\">with</span> <span style=\"background-color:#fffafa\">hands</span> <span style=\"background-color:#ffd2d2\">that</span> <span style=\"background-color:#e6e6ff\">trembled</span> <span style=\"background-color:#d2d2ff\">with</span> <span style=\"background-color:#fff8f8\">eager</span> <span style=\"background-color:#f3f3ff\">excitement</span> <span style=\"background-color:#cacaff\">,</span> <span style=\"background-color:#ffe0e0\">she</span> <span style=\"background-color:#ffd0d0\">removed</span> <span style=\"background-color:#fefeff\">his</span> <span style=\"background-color:#ffd8d8\">shirt</span> <span style=\"background-color:#ffe8e8\">,</span> <span style=\"background-color:#fff8f8\">trousers</span> <span style=\"background-color:#8c8cff\">,</span> <span style=\"background-color:#d3d3ff\">and</span> <span style=\"background-color:#ff7e7e\">briefs</span> <span style=\"background-color:#fff8f8\">.</span> \n"
      ],
      "text/plain": [
       "<IPython.core.display.HTML object>"
      ]
     },
     "metadata": {},
     "output_type": "display_data"
    },
    {
     "data": {
      "text/html": [
       "correct label: <b>when</b>"
      ],
      "text/plain": [
       "<IPython.core.display.HTML object>"
      ]
     },
     "metadata": {},
     "output_type": "display_data"
    },
    {
     "data": {
      "text/html": [
       "predict label: <b>when</b>"
      ],
      "text/plain": [
       "<IPython.core.display.HTML object>"
      ]
     },
     "metadata": {},
     "output_type": "display_data"
    },
    {
     "data": {
      "text/html": [
       "<span style=\"background-color:#ffecec\">He</span> <span style=\"background-color:#0000ff\">materialized</span> <span style=\"background-color:#ff7171\">and</span> <span style=\"background-color:#6e6eff\">put</span> <span style=\"background-color:#fff0f0\">the</span> <span style=\"background-color:#ffaeae\">whammy</span> <span style=\"background-color:#f2f2ff\">on</span> <span style=\"background-color:#fff2f2\">her</span> <span style=\"background-color:#ff8a8a\">.</span> \n"
      ],
      "text/plain": [
       "<IPython.core.display.HTML object>"
      ]
     },
     "metadata": {},
     "output_type": "display_data"
    },
    {
     "data": {
      "text/html": [
       "<span style=\"background-color:#ffdcdc\">The</span> <span style=\"background-color:#ff0e0e\">door</span> <span style=\"background-color:#7070ff\">was</span> <span style=\"background-color:#ff0000\">shut</span> <span style=\"background-color:#ffc0c0\">.</span> \n"
      ],
      "text/plain": [
       "<IPython.core.display.HTML object>"
      ]
     },
     "metadata": {},
     "output_type": "display_data"
    },
    {
     "data": {
      "text/html": [
       "correct label: <b>when</b>"
      ],
      "text/plain": [
       "<IPython.core.display.HTML object>"
      ]
     },
     "metadata": {},
     "output_type": "display_data"
    },
    {
     "data": {
      "text/html": [
       "predict label: <b>when</b>"
      ],
      "text/plain": [
       "<IPython.core.display.HTML object>"
      ]
     },
     "metadata": {},
     "output_type": "display_data"
    },
    {
     "data": {
      "text/html": [
       "<span style=\"background-color:#d0d0ff\">Sometimes</span> <span style=\"background-color:#ffbcbc\">they</span> <span style=\"background-color:#5959ff\">were</span> <span style=\"background-color:#ff0000\">lucky</span> <span style=\"background-color:#cacaff\">.</span> \n"
      ],
      "text/plain": [
       "<IPython.core.display.HTML object>"
      ]
     },
     "metadata": {},
     "output_type": "display_data"
    },
    {
     "data": {
      "text/html": [
       "<span style=\"background-color:#ffbcbc\">The</span> <span style=\"background-color:#0000ff\">aircrew</span> <span style=\"background-color:#ff4c4c\">served</span> <span style=\"background-color:#ff6464\">them</span> <span style=\"background-color:#ffe4e4\">coffee</span> <span style=\"background-color:#ff4c4c\">and</span> <span style=\"background-color:#ff5858\">shared</span> <span style=\"background-color:#c2c2ff\">food</span> <span style=\"background-color:#ffe8e8\">with</span> <span style=\"background-color:#dcdcff\">them</span> <span style=\"background-color:#fffefe\">.</span> \n"
      ],
      "text/plain": [
       "<IPython.core.display.HTML object>"
      ]
     },
     "metadata": {},
     "output_type": "display_data"
    },
    {
     "data": {
      "text/html": [
       "correct label: <b>when</b>"
      ],
      "text/plain": [
       "<IPython.core.display.HTML object>"
      ]
     },
     "metadata": {},
     "output_type": "display_data"
    },
    {
     "data": {
      "text/html": [
       "predict label: <b>because</b>"
      ],
      "text/plain": [
       "<IPython.core.display.HTML object>"
      ]
     },
     "metadata": {},
     "output_type": "display_data"
    },
    {
     "data": {
      "text/html": [
       "<span style=\"background-color:#ff5656\">I</span> <span style=\"background-color:#6464ff\">could</span> <span style=\"background-color:#f6f6ff\">hear</span> <span style=\"background-color:#0000ff\">music</span> <span style=\"background-color:#7171ff\">playing</span> <span style=\"background-color:#ff5151\">.</span> \n"
      ],
      "text/plain": [
       "<IPython.core.display.HTML object>"
      ]
     },
     "metadata": {},
     "output_type": "display_data"
    },
    {
     "data": {
      "text/html": [
       "<span style=\"background-color:#ffe8e8\">I</span> <span style=\"background-color:#ff0000\">reached</span> <span style=\"background-color:#c2c2ff\">his</span> <span style=\"background-color:#ffc0c0\">door</span> <span style=\"background-color:#f2f2ff\">.</span> \n"
      ],
      "text/plain": [
       "<IPython.core.display.HTML object>"
      ]
     },
     "metadata": {},
     "output_type": "display_data"
    },
    {
     "data": {
      "text/html": [
       "correct label: <b>when</b>"
      ],
      "text/plain": [
       "<IPython.core.display.HTML object>"
      ]
     },
     "metadata": {},
     "output_type": "display_data"
    },
    {
     "data": {
      "text/html": [
       "predict label: <b>when</b>"
      ],
      "text/plain": [
       "<IPython.core.display.HTML object>"
      ]
     },
     "metadata": {},
     "output_type": "display_data"
    },
    {
     "data": {
      "text/html": [
       "<span style=\"background-color:#acacff\">Snapping</span> <span style=\"background-color:#ffd0d0\">the</span> <span style=\"background-color:#ffd0d0\">odd</span> <span style=\"background-color:#ffcece\">photo</span> <span style=\"background-color:#ffcccc\">,</span> <span style=\"background-color:#ff0000\">but</span> <span style=\"background-color:#ff4c4c\">mainly</span> <span style=\"background-color:#bebeff\">to</span> <span style=\"background-color:#fff6f6\">make</span> <span style=\"background-color:#ffb2b2\">it</span> <span style=\"background-color:#c8c8ff\">look</span> <span style=\"background-color:#ccccff\">as</span> <span style=\"background-color:#ff9090\">though</span> <span style=\"background-color:#ececff\">he</span> <span style=\"background-color:#c0c0ff\">was</span> <span style=\"background-color:#f6f6ff\">a</span> <span style=\"background-color:#9393ff\">tourist</span> <span style=\"background-color:#ffdada\">.</span> \n"
      ],
      "text/plain": [
       "<IPython.core.display.HTML object>"
      ]
     },
     "metadata": {},
     "output_type": "display_data"
    },
    {
     "data": {
      "text/html": [
       "<span style=\"background-color:#ffc0c0\">He</span> <span style=\"background-color:#ff0000\">thought</span> <span style=\"background-color:#d8d8ff\">he</span> <span style=\"background-color:#ffc3c3\">may</span> <span style=\"background-color:#ffe2e2\">have</span> <span style=\"background-color:#9696ff\">gotten</span> <span style=\"background-color:#9e9eff\">a</span> <span style=\"background-color:#b2b2ff\">decent</span> <span style=\"background-color:#cacaff\">shot</span> <span style=\"background-color:#ffc8c8\">.</span> \n"
      ],
      "text/plain": [
       "<IPython.core.display.HTML object>"
      ]
     },
     "metadata": {},
     "output_type": "display_data"
    },
    {
     "data": {
      "text/html": [
       "correct label: <b>when</b>"
      ],
      "text/plain": [
       "<IPython.core.display.HTML object>"
      ]
     },
     "metadata": {},
     "output_type": "display_data"
    },
    {
     "data": {
      "text/html": [
       "predict label: <b>because</b>"
      ],
      "text/plain": [
       "<IPython.core.display.HTML object>"
      ]
     },
     "metadata": {},
     "output_type": "display_data"
    },
    {
     "data": {
      "text/html": [
       "<span style=\"background-color:#7171ff\">The</span> <span style=\"background-color:#fff2f2\">judge</span> <span style=\"background-color:#6060ff\">twisted</span> <span style=\"background-color:#f2f2ff\">the</span> <span style=\"background-color:#fff0f0\">small</span> <span style=\"background-color:#ffecec\">microphone</span> <span style=\"background-color:#ffe0e0\">to</span> <span style=\"background-color:#f0f0ff\">the</span> <span style=\"background-color:#dedeff\">right</span> <span style=\"background-color:#ff0000\">and</span> <span style=\"background-color:#ccccff\">covered</span> <span style=\"background-color:#ffc6c6\">it</span> <span style=\"background-color:#d0d0ff\">from</span> <span style=\"background-color:#ececff\">view</span> <span style=\"background-color:#fff0f0\">with</span> <span style=\"background-color:#e8e8ff\">his</span> <span style=\"background-color:#f0f0ff\">right</span> <span style=\"background-color:#ceceff\">hand</span> <span style=\"background-color:#ff9292\">.</span> \n"
      ],
      "text/plain": [
       "<IPython.core.display.HTML object>"
      ]
     },
     "metadata": {},
     "output_type": "display_data"
    },
    {
     "data": {
      "text/html": [
       "<span style=\"background-color:#ff0000\">Hanson</span> <span style=\"background-color:#ff4e4e\">and</span> <span style=\"background-color:#c0c0ff\">jorgensen</span> <span style=\"background-color:#acacff\">were</span> <span style=\"background-color:#ff6060\">in</span> <span style=\"background-color:#ff7979\">front</span> <span style=\"background-color:#ceceff\">of</span> <span style=\"background-color:#cacaff\">him</span> <span style=\"background-color:#ffdada\">.</span> \n"
      ],
      "text/plain": [
       "<IPython.core.display.HTML object>"
      ]
     },
     "metadata": {},
     "output_type": "display_data"
    },
    {
     "data": {
      "text/html": [
       "correct label: <b>when</b>"
      ],
      "text/plain": [
       "<IPython.core.display.HTML object>"
      ]
     },
     "metadata": {},
     "output_type": "display_data"
    },
    {
     "data": {
      "text/html": [
       "predict label: <b>when</b>"
      ],
      "text/plain": [
       "<IPython.core.display.HTML object>"
      ]
     },
     "metadata": {},
     "output_type": "display_data"
    },
    {
     "data": {
      "text/html": [
       "<span style=\"background-color:#b0b0ff\">Her</span> <span style=\"background-color:#0808ff\">eyes</span> <span style=\"background-color:#ff6c6c\">lit</span> <span style=\"background-color:#ffb2b2\">up</span> <span style=\"background-color:#ff0000\">.</span> \n"
      ],
      "text/plain": [
       "<IPython.core.display.HTML object>"
      ]
     },
     "metadata": {},
     "output_type": "display_data"
    },
    {
     "data": {
      "text/html": [
       "<span style=\"background-color:#ffb3b3\">She</span> <span style=\"background-color:#ff0000\">realized</span> <span style=\"background-color:#7878ff\">that</span> <span style=\"background-color:#f2f2ff\">it</span> <span style=\"background-color:#ffe6e6\">was</span> <span style=\"background-color:#fefeff\">donovan</span> <span style=\"background-color:#fefeff\">.</span> \n"
      ],
      "text/plain": [
       "<IPython.core.display.HTML object>"
      ]
     },
     "metadata": {},
     "output_type": "display_data"
    },
    {
     "data": {
      "text/html": [
       "correct label: <b>when</b>"
      ],
      "text/plain": [
       "<IPython.core.display.HTML object>"
      ]
     },
     "metadata": {},
     "output_type": "display_data"
    },
    {
     "data": {
      "text/html": [
       "predict label: <b>when</b>"
      ],
      "text/plain": [
       "<IPython.core.display.HTML object>"
      ]
     },
     "metadata": {},
     "output_type": "display_data"
    },
    {
     "data": {
      "text/html": [
       "<span style=\"background-color:#b0b0ff\">-</span> <span style=\"background-color:#fffefe\">,</span> <span style=\"background-color:#ffe4e4\">he</span> <span style=\"background-color:#0000ff\">said</span> <span style=\"background-color:#ffbebe\">that</span> <span style=\"background-color:#ff4c4c\">.</span> \n"
      ],
      "text/plain": [
       "<IPython.core.display.HTML object>"
      ]
     },
     "metadata": {},
     "output_type": "display_data"
    },
    {
     "data": {
      "text/html": [
       "<span style=\"background-color:#ff8282\">He</span> <span style=\"background-color:#ff1c1c\">took</span> <span style=\"background-color:#f8f8ff\">me</span> <span style=\"background-color:#4444ff\">on</span> <span style=\"background-color:#fffefe\">his</span> <span style=\"background-color:#ff0000\">bike</span> <span style=\"background-color:#bebeff\">.</span> \n"
      ],
      "text/plain": [
       "<IPython.core.display.HTML object>"
      ]
     },
     "metadata": {},
     "output_type": "display_data"
    },
    {
     "data": {
      "text/html": [
       "correct label: <b>when</b>"
      ],
      "text/plain": [
       "<IPython.core.display.HTML object>"
      ]
     },
     "metadata": {},
     "output_type": "display_data"
    },
    {
     "data": {
      "text/html": [
       "predict label: <b>when</b>"
      ],
      "text/plain": [
       "<IPython.core.display.HTML object>"
      ]
     },
     "metadata": {},
     "output_type": "display_data"
    },
    {
     "data": {
      "text/html": [
       "<span style=\"background-color:#ff2424\">He</span> <span style=\"background-color:#4646ff\">raised</span> <span style=\"background-color:#aaaaff\">his</span> <span style=\"background-color:#8282ff\">hand</span> <span style=\"background-color:#ffe8e8\">a</span> <span style=\"background-color:#9e9eff\">little</span> <span style=\"background-color:#ff0000\">.</span> \n"
      ],
      "text/plain": [
       "<IPython.core.display.HTML object>"
      ]
     },
     "metadata": {},
     "output_type": "display_data"
    },
    {
     "data": {
      "text/html": [
       "<span style=\"background-color:#ffacac\">He</span> <span style=\"background-color:#ff0000\">saw</span> <span style=\"background-color:#ffe0e0\">emma</span> <span style=\"background-color:#ff8e8e\">approach</span> <span style=\"background-color:#dadaff\">.</span> \n"
      ],
      "text/plain": [
       "<IPython.core.display.HTML object>"
      ]
     },
     "metadata": {},
     "output_type": "display_data"
    },
    {
     "data": {
      "text/html": [
       "correct label: <b>when</b>"
      ],
      "text/plain": [
       "<IPython.core.display.HTML object>"
      ]
     },
     "metadata": {},
     "output_type": "display_data"
    },
    {
     "data": {
      "text/html": [
       "predict label: <b>when</b>"
      ],
      "text/plain": [
       "<IPython.core.display.HTML object>"
      ]
     },
     "metadata": {},
     "output_type": "display_data"
    },
    {
     "data": {
      "text/html": [
       "<span style=\"background-color:#ff0000\">Why</span> <span style=\"background-color:#a6a6ff\">david</span> <span style=\"background-color:#ff8383\">had</span> <span style=\"background-color:#d8d8ff\">looked</span> <span style=\"background-color:#e8e8ff\">at</span> <span style=\"background-color:#b3b3ff\">'s</span> <span style=\"background-color:#d3d3ff\">collar</span> <span style=\"background-color:#ff9e9e\">.</span> \n"
      ],
      "text/plain": [
       "<IPython.core.display.HTML object>"
      ]
     },
     "metadata": {},
     "output_type": "display_data"
    },
    {
     "data": {
      "text/html": [
       "<span style=\"background-color:#ffd2d2\">Zoya</span> <span style=\"background-color:#ff0000\">asked</span> <span style=\"background-color:#8c8cff\">if</span> <span style=\"background-color:#8a8aff\">any</span> <span style=\"background-color:#fcfcff\">had</span> <span style=\"background-color:#9e9eff\">ever</span> <span style=\"background-color:#ffdede\">had</span> <span style=\"background-color:#c2c2ff\">such</span> <span style=\"background-color:#ffe2e2\">power</span> <span style=\"background-color:#f3f3ff\">.</span> \n"
      ],
      "text/plain": [
       "<IPython.core.display.HTML object>"
      ]
     },
     "metadata": {},
     "output_type": "display_data"
    },
    {
     "data": {
      "text/html": [
       "correct label: <b>when</b>"
      ],
      "text/plain": [
       "<IPython.core.display.HTML object>"
      ]
     },
     "metadata": {},
     "output_type": "display_data"
    },
    {
     "data": {
      "text/html": [
       "predict label: <b>when</b>"
      ],
      "text/plain": [
       "<IPython.core.display.HTML object>"
      ]
     },
     "metadata": {},
     "output_type": "display_data"
    },
    {
     "data": {
      "text/html": [
       "<span style=\"background-color:#0000ff\">Rory</span> <span style=\"background-color:#fff4f4\">was</span> <span style=\"background-color:#ff5858\">updating</span> <span style=\"background-color:#8686ff\">her</span> <span style=\"background-color:#b2b2ff\">latest</span> <span style=\"background-color:#ff9696\">files</span> <span style=\"background-color:#ffeaea\">in</span> <span style=\"background-color:#cacaff\">the</span> <span style=\"background-color:#3434ff\">guest</span> <span style=\"background-color:#b0b0ff\">bedroom</span> <span style=\"background-color:#ff7878\">.</span> \n"
      ],
      "text/plain": [
       "<IPython.core.display.HTML object>"
      ]
     },
     "metadata": {},
     "output_type": "display_data"
    },
    {
     "data": {
      "text/html": [
       "<span style=\"background-color:#fffcfc\">Her</span> <span style=\"background-color:#ff7070\">mom</span> <span style=\"background-color:#ff0000\">knocked</span> <span style=\"background-color:#1e1eff\">once</span> <span style=\"background-color:#ffb0b0\">and</span> <span style=\"background-color:#ff7676\">poked</span> <span style=\"background-color:#fff0f0\">her</span> <span style=\"background-color:#ffd6d6\">head</span> <span style=\"background-color:#d8d8ff\">in</span> <span style=\"background-color:#fff4f4\">.</span> \n"
      ],
      "text/plain": [
       "<IPython.core.display.HTML object>"
      ]
     },
     "metadata": {},
     "output_type": "display_data"
    },
    {
     "data": {
      "text/html": [
       "correct label: <b>when</b>"
      ],
      "text/plain": [
       "<IPython.core.display.HTML object>"
      ]
     },
     "metadata": {},
     "output_type": "display_data"
    },
    {
     "data": {
      "text/html": [
       "predict label: <b>when</b>"
      ],
      "text/plain": [
       "<IPython.core.display.HTML object>"
      ]
     },
     "metadata": {},
     "output_type": "display_data"
    },
    {
     "data": {
      "text/html": [
       "<span style=\"background-color:#ff3e3e\">She</span> <span style=\"background-color:#ff6060\">turned</span> <span style=\"background-color:#7070ff\">her</span> <span style=\"background-color:#c6c6ff\">head</span> <span style=\"background-color:#c3c3ff\">away</span> <span style=\"background-color:#4c4cff\">with</span> <span style=\"background-color:#ff0000\">irritation</span> <span style=\"background-color:#ff7676\">.</span> \n"
      ],
      "text/plain": [
       "<IPython.core.display.HTML object>"
      ]
     },
     "metadata": {},
     "output_type": "display_data"
    },
    {
     "data": {
      "text/html": [
       "<span style=\"background-color:#ff0000\">He</span> <span style=\"background-color:#ffacac\">held</span> <span style=\"background-color:#b6b6ff\">it</span> <span style=\"background-color:#fafaff\">toward</span> <span style=\"background-color:#ffe2e2\">her</span> <span style=\"background-color:#e2e2ff\">.</span> \n"
      ],
      "text/plain": [
       "<IPython.core.display.HTML object>"
      ]
     },
     "metadata": {},
     "output_type": "display_data"
    },
    {
     "data": {
      "text/html": [
       "correct label: <b>when</b>"
      ],
      "text/plain": [
       "<IPython.core.display.HTML object>"
      ]
     },
     "metadata": {},
     "output_type": "display_data"
    },
    {
     "data": {
      "text/html": [
       "predict label: <b>when</b>"
      ],
      "text/plain": [
       "<IPython.core.display.HTML object>"
      ]
     },
     "metadata": {},
     "output_type": "display_data"
    },
    {
     "data": {
      "text/html": [
       "<span style=\"background-color:#d8d8ff\">We</span> <span style=\"background-color:#ff0101\">got</span> <span style=\"background-color:#ffaaaa\">in</span> <span style=\"background-color:#ff0000\">the</span> <span style=\"background-color:#ff0c0c\">car</span> <span style=\"background-color:#5656ff\">.</span> \n"
      ],
      "text/plain": [
       "<IPython.core.display.HTML object>"
      ]
     },
     "metadata": {},
     "output_type": "display_data"
    },
    {
     "data": {
      "text/html": [
       "<span style=\"background-color:#0000ff\">Jonathan</span> <span style=\"background-color:#e8e8ff\">turned</span> <span style=\"background-color:#ff8e8e\">to</span> <span style=\"background-color:#6666ff\">me</span> <span style=\"background-color:#ffe0e0\">.</span> \n"
      ],
      "text/plain": [
       "<IPython.core.display.HTML object>"
      ]
     },
     "metadata": {},
     "output_type": "display_data"
    },
    {
     "data": {
      "text/html": [
       "correct label: <b>when</b>"
      ],
      "text/plain": [
       "<IPython.core.display.HTML object>"
      ]
     },
     "metadata": {},
     "output_type": "display_data"
    },
    {
     "data": {
      "text/html": [
       "predict label: <b>and</b>"
      ],
      "text/plain": [
       "<IPython.core.display.HTML object>"
      ]
     },
     "metadata": {},
     "output_type": "display_data"
    },
    {
     "data": {
      "text/html": [
       "<span style=\"background-color:#ffc6c6\">``</span> <span style=\"background-color:#ff0000\">feed</span> <span style=\"background-color:#ffe0e0\">them</span> <span style=\"background-color:#aeaeff\">to</span> <span style=\"background-color:#cacaff\">you</span> <span style=\"background-color:#aeaeff\">for</span> <span style=\"background-color:#fcfcff\">dinner</span> <span style=\"background-color:#e8e8ff\">,</span> <span style=\"background-color:#f6f6ff\">''</span> <span style=\"background-color:#ffe0e0\">her</span> <span style=\"background-color:#fff6f6\">shag</span> <span style=\"background-color:#ffe8e8\">of</span> <span style=\"background-color:#ffecec\">wild</span> <span style=\"background-color:#ffd3d3\">hair</span> <span style=\"background-color:#ff3e3e\">flexes</span> <span style=\"background-color:#5959ff\">.</span> \n"
      ],
      "text/plain": [
       "<IPython.core.display.HTML object>"
      ]
     },
     "metadata": {},
     "output_type": "display_data"
    },
    {
     "data": {
      "text/html": [
       "<span style=\"background-color:#0000ff\">She</span> <span style=\"background-color:#2e2eff\">says</span> <span style=\"background-color:#fefeff\">it</span> <span style=\"background-color:#ff4444\">as</span> <span style=\"background-color:#ccccff\">though</span> <span style=\"background-color:#ffbaba\">it</span> <span style=\"background-color:#bebeff\">has</span> <span style=\"background-color:#ffd2d2\">a</span> <span style=\"background-color:#fcfcff\">life</span> <span style=\"background-color:#ffc6c6\">of</span> <span style=\"background-color:#ffdada\">its</span> <span style=\"background-color:#d6d6ff\">own</span> <span style=\"background-color:#ffc8c8\">.</span> \n"
      ],
      "text/plain": [
       "<IPython.core.display.HTML object>"
      ]
     },
     "metadata": {},
     "output_type": "display_data"
    },
    {
     "data": {
      "text/html": [
       "correct label: <b>when</b>"
      ],
      "text/plain": [
       "<IPython.core.display.HTML object>"
      ]
     },
     "metadata": {},
     "output_type": "display_data"
    },
    {
     "data": {
      "text/html": [
       "predict label: <b>and</b>"
      ],
      "text/plain": [
       "<IPython.core.display.HTML object>"
      ]
     },
     "metadata": {},
     "output_type": "display_data"
    },
    {
     "data": {
      "text/html": [
       "<span style=\"background-color:#c0c0ff\">Bobbie</span> <span style=\"background-color:#ff0000\">raised</span> <span style=\"background-color:#e6e6ff\">her</span> <span style=\"background-color:#ffd2d2\">hand</span> <span style=\"background-color:#7878ff\">.</span> \n"
      ],
      "text/plain": [
       "<IPython.core.display.HTML object>"
      ]
     },
     "metadata": {},
     "output_type": "display_data"
    },
    {
     "data": {
      "text/html": [
       "<span style=\"background-color:#fcfcff\">The</span> <span style=\"background-color:#eaeaff\">meeting</span> <span style=\"background-color:#ffcece\">'s</span> <span style=\"background-color:#0000ff\">attendees</span> <span style=\"background-color:#ceceff\">had</span> <span style=\"background-color:#b3b3ff\">shuffled</span> <span style=\"background-color:#e3e3ff\">back</span> <span style=\"background-color:#f0f0ff\">into</span> <span style=\"background-color:#e0e0ff\">the</span> <span style=\"background-color:#c3c3ff\">room</span> <span style=\"background-color:#ffa0a0\">and</span> <span style=\"background-color:#ffd3d3\">taken</span> <span style=\"background-color:#f6f6ff\">their</span> <span style=\"background-color:#ffdada\">places</span> <span style=\"background-color:#fff8f8\">around</span> <span style=\"background-color:#ffd6d6\">the</span> <span style=\"background-color:#fefeff\">table</span> <span style=\"background-color:#ffb2b2\">.</span> \n"
      ],
      "text/plain": [
       "<IPython.core.display.HTML object>"
      ]
     },
     "metadata": {},
     "output_type": "display_data"
    },
    {
     "data": {
      "text/html": [
       "correct label: <b>when</b>"
      ],
      "text/plain": [
       "<IPython.core.display.HTML object>"
      ]
     },
     "metadata": {},
     "output_type": "display_data"
    },
    {
     "data": {
      "text/html": [
       "predict label: <b>but</b>"
      ],
      "text/plain": [
       "<IPython.core.display.HTML object>"
      ]
     },
     "metadata": {},
     "output_type": "display_data"
    },
    {
     "data": {
      "text/html": [
       "<span style=\"background-color:#acacff\">There</span> <span style=\"background-color:#ff0000\">was</span> <span style=\"background-color:#eeeeff\">a</span> <span style=\"background-color:#8e8eff\">line</span> <span style=\"background-color:#e3e3ff\">of</span> <span style=\"background-color:#0000ff\">cars</span> <span style=\"background-color:#ffe6e6\">waiting</span> <span style=\"background-color:#e8e8ff\">to</span> <span style=\"background-color:#3232ff\">pass</span> <span style=\"background-color:#5c5cff\">by</span> <span style=\"background-color:#fefeff\">the</span> <span style=\"background-color:#ff5151\">parking</span> <span style=\"background-color:#ffcccc\">ramp</span> <span style=\"background-color:#ff7070\">attendant</span> <span style=\"background-color:#ff4949\">and</span> <span style=\"background-color:#ffe0e0\">the</span> <span style=\"background-color:#ff9898\">wooden</span> <span style=\"background-color:#4c4cff\">gate</span> <span style=\"background-color:#ff6666\">that</span> <span style=\"background-color:#9e9eff\">he</span> <span style=\"background-color:#9898ff\">controlled</span> <span style=\"background-color:#ff6c6c\">.</span> \n"
      ],
      "text/plain": [
       "<IPython.core.display.HTML object>"
      ]
     },
     "metadata": {},
     "output_type": "display_data"
    },
    {
     "data": {
      "text/html": [
       "<span style=\"background-color:#fff4f4\">I</span> <span style=\"background-color:#ff0000\">got</span> <span style=\"background-color:#ffc8c8\">to</span> <span style=\"background-color:#fffcfc\">the</span> <span style=\"background-color:#ffcece\">bottom</span> <span style=\"background-color:#dadaff\">of</span> <span style=\"background-color:#fff8f8\">the</span> <span style=\"background-color:#ffa8a8\">ramp</span> <span style=\"background-color:#ffdada\">.</span> \n"
      ],
      "text/plain": [
       "<IPython.core.display.HTML object>"
      ]
     },
     "metadata": {},
     "output_type": "display_data"
    },
    {
     "data": {
      "text/html": [
       "correct label: <b>when</b>"
      ],
      "text/plain": [
       "<IPython.core.display.HTML object>"
      ]
     },
     "metadata": {},
     "output_type": "display_data"
    },
    {
     "data": {
      "text/html": [
       "predict label: <b>when</b>"
      ],
      "text/plain": [
       "<IPython.core.display.HTML object>"
      ]
     },
     "metadata": {},
     "output_type": "display_data"
    },
    {
     "data": {
      "text/html": [
       "<span style=\"background-color:#ff9292\">She</span> <span style=\"background-color:#ff0000\">discovered</span> <span style=\"background-color:#eaeaff\">her</span> <span style=\"background-color:#ffd8d8\">passion</span> <span style=\"background-color:#aeaeff\">for</span> <span style=\"background-color:#bebeff\">footwear</span> <span style=\"background-color:#ffd8d8\">.</span> \n"
      ],
      "text/plain": [
       "<IPython.core.display.HTML object>"
      ]
     },
     "metadata": {},
     "output_type": "display_data"
    },
    {
     "data": {
      "text/html": [
       "<span style=\"background-color:#ff1616\">She</span> <span style=\"background-color:#ff8383\">battled</span> <span style=\"background-color:#ff8686\">her</span> <span style=\"background-color:#fff6f6\">weight</span> <span style=\"background-color:#0000ff\">problem</span> <span style=\"background-color:#ffdcdc\">.</span> \n"
      ],
      "text/plain": [
       "<IPython.core.display.HTML object>"
      ]
     },
     "metadata": {},
     "output_type": "display_data"
    },
    {
     "data": {
      "text/html": [
       "correct label: <b>when</b>"
      ],
      "text/plain": [
       "<IPython.core.display.HTML object>"
      ]
     },
     "metadata": {},
     "output_type": "display_data"
    },
    {
     "data": {
      "text/html": [
       "predict label: <b>when</b>"
      ],
      "text/plain": [
       "<IPython.core.display.HTML object>"
      ]
     },
     "metadata": {},
     "output_type": "display_data"
    },
    {
     "data": {
      "text/html": [
       "<span style=\"background-color:#ff4e4e\">Throwing</span> <span style=\"background-color:#3e3eff\">another</span> <span style=\"background-color:#ff2929\">temptation</span> <span style=\"background-color:#fff0f0\">in</span> <span style=\"background-color:#8282ff\">his</span> <span style=\"background-color:#9090ff\">face</span> <span style=\"background-color:#ff0000\">.</span> \n"
      ],
      "text/plain": [
       "<IPython.core.display.HTML object>"
      ]
     },
     "metadata": {},
     "output_type": "display_data"
    },
    {
     "data": {
      "text/html": [
       "<span style=\"background-color:#dedeff\">He</span> <span style=\"background-color:#ff0000\">already</span> <span style=\"background-color:#ff5858\">feels</span> <span style=\"background-color:#fafaff\">like</span> <span style=\"background-color:#ffeeee\">garbage</span> <span style=\"background-color:#ececff\">for</span> <span style=\"background-color:#e8e8ff\">giving</span> <span style=\"background-color:#f0f0ff\">in</span> <span style=\"background-color:#ececff\">to</span> <span style=\"background-color:#ffecec\">the</span> <span style=\"background-color:#ffdada\">one</span> <span style=\"background-color:#d0d0ff\">that</span> <span style=\"background-color:#d0d0ff\">got</span> <span style=\"background-color:#fafaff\">him</span> <span style=\"background-color:#e8e8ff\">.</span> \n"
      ],
      "text/plain": [
       "<IPython.core.display.HTML object>"
      ]
     },
     "metadata": {},
     "output_type": "display_data"
    },
    {
     "data": {
      "text/html": [
       "correct label: <b>when</b>"
      ],
      "text/plain": [
       "<IPython.core.display.HTML object>"
      ]
     },
     "metadata": {},
     "output_type": "display_data"
    },
    {
     "data": {
      "text/html": [
       "predict label: <b>because</b>"
      ],
      "text/plain": [
       "<IPython.core.display.HTML object>"
      ]
     },
     "metadata": {},
     "output_type": "display_data"
    },
    {
     "data": {
      "text/html": [
       "<span style=\"background-color:#aaaaff\">It</span> <span style=\"background-color:#ffa8a8\">never</span> <span style=\"background-color:#5858ff\">could</span> <span style=\"background-color:#5050ff\">be</span> <span style=\"background-color:#ff0000\">.</span> \n"
      ],
      "text/plain": [
       "<IPython.core.display.HTML object>"
      ]
     },
     "metadata": {},
     "output_type": "display_data"
    },
    {
     "data": {
      "text/html": [
       "<span style=\"background-color:#8e8eff\">It</span> <span style=\"background-color:#ff0000\">came</span> <span style=\"background-color:#ffa3a3\">to</span> <span style=\"background-color:#f8f8ff\">his</span> <span style=\"background-color:#c3c3ff\">feelings</span> <span style=\"background-color:#f8f8ff\">for</span> <span style=\"background-color:#fefeff\">this</span> <span style=\"background-color:#e8e8ff\">extraordinary</span> <span style=\"background-color:#ffdada\">female</span> <span style=\"background-color:#fefeff\">.</span> \n"
      ],
      "text/plain": [
       "<IPython.core.display.HTML object>"
      ]
     },
     "metadata": {},
     "output_type": "display_data"
    },
    {
     "data": {
      "text/html": [
       "correct label: <b>when</b>"
      ],
      "text/plain": [
       "<IPython.core.display.HTML object>"
      ]
     },
     "metadata": {},
     "output_type": "display_data"
    },
    {
     "data": {
      "text/html": [
       "predict label: <b>when</b>"
      ],
      "text/plain": [
       "<IPython.core.display.HTML object>"
      ]
     },
     "metadata": {},
     "output_type": "display_data"
    },
    {
     "data": {
      "text/html": [
       "<span style=\"background-color:#dedeff\">He</span> <span style=\"background-color:#fff6f6\">quickly</span> <span style=\"background-color:#ff0000\">shook</span> <span style=\"background-color:#ff8a8a\">the</span> <span style=\"background-color:#ffd6d6\">water</span> <span style=\"background-color:#ffe2e2\">out</span> <span style=\"background-color:#fffcfc\">of</span> <span style=\"background-color:#f6f6ff\">his</span> <span style=\"background-color:#ffaeae\">hair</span> <span style=\"background-color:#ffb3b3\">into</span> <span style=\"background-color:#ffdede\">his</span> <span style=\"background-color:#d6d6ff\">fathers</span> <span style=\"background-color:#ffcece\">eyes</span> <span style=\"background-color:#7070ff\">.</span> \n"
      ],
      "text/plain": [
       "<IPython.core.display.HTML object>"
      ]
     },
     "metadata": {},
     "output_type": "display_data"
    },
    {
     "data": {
      "text/html": [
       "<span style=\"background-color:#ffd0d0\">poured</span> <span style=\"background-color:#dadaff\">a</span> <span style=\"background-color:#ffa3a3\">little</span> <span style=\"background-color:#8686ff\">more</span> <span style=\"background-color:#f0f0ff\">on</span> <span style=\"background-color:#ff6161\">the</span> <span style=\"background-color:#ceceff\">boys</span> <span style=\"background-color:#eeeeff\">head</span> <span style=\"background-color:#ff0000\">.</span> \n"
      ],
      "text/plain": [
       "<IPython.core.display.HTML object>"
      ]
     },
     "metadata": {},
     "output_type": "display_data"
    },
    {
     "data": {
      "text/html": [
       "correct label: <b>when</b>"
      ],
      "text/plain": [
       "<IPython.core.display.HTML object>"
      ]
     },
     "metadata": {},
     "output_type": "display_data"
    },
    {
     "data": {
      "text/html": [
       "predict label: <b>and</b>"
      ],
      "text/plain": [
       "<IPython.core.display.HTML object>"
      ]
     },
     "metadata": {},
     "output_type": "display_data"
    },
    {
     "data": {
      "text/html": [
       "<span style=\"background-color:#ff9696\">My</span> <span style=\"background-color:#ff3838\">stepfather</span> <span style=\"background-color:#7e7eff\">hated</span> <span style=\"background-color:#ff8080\">it</span> <span style=\"background-color:#ff0000\">.</span> \n"
      ],
      "text/plain": [
       "<IPython.core.display.HTML object>"
      ]
     },
     "metadata": {},
     "output_type": "display_data"
    },
    {
     "data": {
      "text/html": [
       "<span style=\"background-color:#9898ff\">My</span> <span style=\"background-color:#ff0000\">mom</span> <span style=\"background-color:#ff5050\">tried</span> <span style=\"background-color:#ff7e7e\">to</span> <span style=\"background-color:#4444ff\">console</span> <span style=\"background-color:#fcfcff\">me</span> <span style=\"background-color:#b2b2ff\">.</span> \n"
      ],
      "text/plain": [
       "<IPython.core.display.HTML object>"
      ]
     },
     "metadata": {},
     "output_type": "display_data"
    },
    {
     "data": {
      "text/html": [
       "correct label: <b>when</b>"
      ],
      "text/plain": [
       "<IPython.core.display.HTML object>"
      ]
     },
     "metadata": {},
     "output_type": "display_data"
    },
    {
     "data": {
      "text/html": [
       "predict label: <b>when</b>"
      ],
      "text/plain": [
       "<IPython.core.display.HTML object>"
      ]
     },
     "metadata": {},
     "output_type": "display_data"
    },
    {
     "data": {
      "text/html": [
       "<span style=\"background-color:#ffd2d2\">My</span> <span style=\"background-color:#ff7e7e\">sickening</span> <span style=\"background-color:#ffbebe\">feeling</span> <span style=\"background-color:#ff0000\">nearly</span> <span style=\"background-color:#ff2828\">exploded</span> <span style=\"background-color:#d8d8ff\">out</span> <span style=\"background-color:#fff0f0\">of</span> <span style=\"background-color:#ffeaea\">me</span> <span style=\"background-color:#d8d8ff\">,</span> <span style=\"background-color:#fff2f2\">tubes</span> <span style=\"background-color:#e8e8ff\">jabbing</span> <span style=\"background-color:#f2f2ff\">out</span> <span style=\"background-color:#e3e3ff\">of</span> <span style=\"background-color:#babaff\">him</span> <span style=\"background-color:#ff9696\">.</span> \n"
      ],
      "text/plain": [
       "<IPython.core.display.HTML object>"
      ]
     },
     "metadata": {},
     "output_type": "display_data"
    },
    {
     "data": {
      "text/html": [
       "<span style=\"background-color:#ffd8d8\">I</span> <span style=\"background-color:#ff0000\">spotted</span> <span style=\"background-color:#fefeff\">alex</span> <span style=\"background-color:#ffcccc\">chained</span> <span style=\"background-color:#fff6f6\">to</span> <span style=\"background-color:#fffcfc\">the</span> <span style=\"background-color:#fefeff\">crystal</span> <span style=\"background-color:#fffefe\">ball</span> <span style=\"background-color:#d8d8ff\">.</span> \n"
      ],
      "text/plain": [
       "<IPython.core.display.HTML object>"
      ]
     },
     "metadata": {},
     "output_type": "display_data"
    },
    {
     "data": {
      "text/html": [
       "correct label: <b>when</b>"
      ],
      "text/plain": [
       "<IPython.core.display.HTML object>"
      ]
     },
     "metadata": {},
     "output_type": "display_data"
    },
    {
     "data": {
      "text/html": [
       "predict label: <b>when</b>"
      ],
      "text/plain": [
       "<IPython.core.display.HTML object>"
      ]
     },
     "metadata": {},
     "output_type": "display_data"
    },
    {
     "data": {
      "text/html": [
       "<span style=\"background-color:#ff4040\">So</span> <span style=\"background-color:#9393ff\">right</span> <span style=\"background-color:#c2c2ff\">and</span> <span style=\"background-color:#ff7c7c\">natural</span> <span style=\"background-color:#ff0000\">.</span> \n"
      ],
      "text/plain": [
       "<IPython.core.display.HTML object>"
      ]
     },
     "metadata": {},
     "output_type": "display_data"
    },
    {
     "data": {
      "text/html": [
       "<span style=\"background-color:#ff0000\">Especially</span> <span style=\"background-color:#ff9e9e\">she</span> <span style=\"background-color:#ccccff\">wanted</span> <span style=\"background-color:#ffe6e6\">to</span> <span style=\"background-color:#ffb8b8\">wrap</span> <span style=\"background-color:#fffefe\">her</span> <span style=\"background-color:#ffd3d3\">tongue</span> <span style=\"background-color:#fcfcff\">with</span> <span style=\"background-color:#fff0f0\">his</span> <span style=\"background-color:#d8d8ff\">.</span> \n"
      ],
      "text/plain": [
       "<IPython.core.display.HTML object>"
      ]
     },
     "metadata": {},
     "output_type": "display_data"
    },
    {
     "data": {
      "text/html": [
       "correct label: <b>when</b>"
      ],
      "text/plain": [
       "<IPython.core.display.HTML object>"
      ]
     },
     "metadata": {},
     "output_type": "display_data"
    },
    {
     "data": {
      "text/html": [
       "predict label: <b>when</b>"
      ],
      "text/plain": [
       "<IPython.core.display.HTML object>"
      ]
     },
     "metadata": {},
     "output_type": "display_data"
    },
    {
     "data": {
      "text/html": [
       "<span style=\"background-color:#ffacac\">Mortimer</span> <span style=\"background-color:#ffe6e6\">slammed</span> <span style=\"background-color:#ff9696\">viggo</span> <span style=\"background-color:#8080ff\">'s</span> <span style=\"background-color:#9090ff\">hand</span> <span style=\"background-color:#c3c3ff\">away</span> <span style=\"background-color:#ceceff\">with</span> <span style=\"background-color:#ff9e9e\">such</span> <span style=\"background-color:#ceceff\">force</span> <span style=\"background-color:#ffeaea\">that</span> <span style=\"background-color:#ffa0a0\">it</span> <span style=\"background-color:#6464ff\">sent</span> <span style=\"background-color:#cacaff\">viggo</span> <span style=\"background-color:#ff9393\">back</span> <span style=\"background-color:#fffcfc\">a</span> <span style=\"background-color:#e3e3ff\">few</span> <span style=\"background-color:#ff5656\">steps</span> <span style=\"background-color:#ff0000\">.</span> \n"
      ],
      "text/plain": [
       "<IPython.core.display.HTML object>"
      ]
     },
     "metadata": {},
     "output_type": "display_data"
    },
    {
     "data": {
      "text/html": [
       "<span style=\"background-color:#ffe8e8\">Viggo</span> <span style=\"background-color:#ff0000\">appeared</span> <span style=\"background-color:#8e8eff\">in</span> <span style=\"background-color:#ff7676\">front</span> <span style=\"background-color:#f6f6ff\">of</span> <span style=\"background-color:#a0a0ff\">mortimer</span> <span style=\"background-color:#fff0f0\">'s</span> <span style=\"background-color:#fff0f0\">face</span> <span style=\"background-color:#f6f6ff\">to</span> <span style=\"background-color:#ff6060\">rudely</span> <span style=\"background-color:#ffdcdc\">snap</span> <span style=\"background-color:#fff6f6\">his</span> <span style=\"background-color:#c6c6ff\">fingers</span> <span style=\"background-color:#fff2f2\">under</span> <span style=\"background-color:#fff0f0\">his</span> <span style=\"background-color:#d3d3ff\">nose</span> <span style=\"background-color:#e6e6ff\">.</span> \n"
      ],
      "text/plain": [
       "<IPython.core.display.HTML object>"
      ]
     },
     "metadata": {},
     "output_type": "display_data"
    },
    {
     "data": {
      "text/html": [
       "correct label: <b>when</b>"
      ],
      "text/plain": [
       "<IPython.core.display.HTML object>"
      ]
     },
     "metadata": {},
     "output_type": "display_data"
    },
    {
     "data": {
      "text/html": [
       "predict label: <b>when</b>"
      ],
      "text/plain": [
       "<IPython.core.display.HTML object>"
      ]
     },
     "metadata": {},
     "output_type": "display_data"
    },
    {
     "data": {
      "text/html": [
       "<span style=\"background-color:#7474ff\">The</span> <span style=\"background-color:#9696ff\">overhead</span> <span style=\"background-color:#dadaff\">light</span> <span style=\"background-color:#ffeeee\">in</span> <span style=\"background-color:#c3c3ff\">the</span> <span style=\"background-color:#8080ff\">car</span> <span style=\"background-color:#ff1414\">came</span> <span style=\"background-color:#ff0000\">.</span> \n"
      ],
      "text/plain": [
       "<IPython.core.display.HTML object>"
      ]
     },
     "metadata": {},
     "output_type": "display_data"
    },
    {
     "data": {
      "text/html": [
       "<span style=\"background-color:#fffcfc\">Kevin</span> <span style=\"background-color:#ff0000\">opened</span> <span style=\"background-color:#c8c8ff\">his</span> <span style=\"background-color:#ffa6a6\">door</span> <span style=\"background-color:#f3f3ff\">.</span> \n"
      ],
      "text/plain": [
       "<IPython.core.display.HTML object>"
      ]
     },
     "metadata": {},
     "output_type": "display_data"
    },
    {
     "data": {
      "text/html": [
       "correct label: <b>when</b>"
      ],
      "text/plain": [
       "<IPython.core.display.HTML object>"
      ]
     },
     "metadata": {},
     "output_type": "display_data"
    },
    {
     "data": {
      "text/html": [
       "predict label: <b>when</b>"
      ],
      "text/plain": [
       "<IPython.core.display.HTML object>"
      ]
     },
     "metadata": {},
     "output_type": "display_data"
    },
    {
     "data": {
      "text/html": [
       "<span style=\"background-color:#c2c2ff\">Her</span> <span style=\"background-color:#6868ff\">eyes</span> <span style=\"background-color:#0000ff\">skimmed</span> <span style=\"background-color:#ff6161\">right</span> <span style=\"background-color:#ffc8c8\">past</span> <span style=\"background-color:#d0d0ff\">it</span> <span style=\"background-color:#ff7c7c\">.</span> \n"
      ],
      "text/plain": [
       "<IPython.core.display.HTML object>"
      ]
     },
     "metadata": {},
     "output_type": "display_data"
    },
    {
     "data": {
      "text/html": [
       "<span style=\"background-color:#ff8888\">She</span> <span style=\"background-color:#ff0000\">noticed</span> <span style=\"background-color:#d3d3ff\">the</span> <span style=\"background-color:#f2f2ff\">name</span> <span style=\"background-color:#f6f6ff\">.</span> \n"
      ],
      "text/plain": [
       "<IPython.core.display.HTML object>"
      ]
     },
     "metadata": {},
     "output_type": "display_data"
    },
    {
     "data": {
      "text/html": [
       "correct label: <b>when</b>"
      ],
      "text/plain": [
       "<IPython.core.display.HTML object>"
      ]
     },
     "metadata": {},
     "output_type": "display_data"
    },
    {
     "data": {
      "text/html": [
       "predict label: <b>when</b>"
      ],
      "text/plain": [
       "<IPython.core.display.HTML object>"
      ]
     },
     "metadata": {},
     "output_type": "display_data"
    },
    {
     "data": {
      "text/html": [
       "<span style=\"background-color:#ff0000\">Which</span> <span style=\"background-color:#1c1cff\">directed</span> <span style=\"background-color:#babaff\">its</span> <span style=\"background-color:#5454ff\">efforts</span> <span style=\"background-color:#ff5c5c\">.</span> \n"
      ],
      "text/plain": [
       "<IPython.core.display.HTML object>"
      ]
     },
     "metadata": {},
     "output_type": "display_data"
    },
    {
     "data": {
      "text/html": [
       "<span style=\"background-color:#ff5959\">A</span> <span style=\"background-color:#ffc6c6\">manned</span> <span style=\"background-color:#ffb0b0\">bomber</span> <span style=\"background-color:#ececff\">,</span> <span style=\"background-color:#c8c8ff\">even</span> <span style=\"background-color:#e2e2ff\">at</span> <span style=\"background-color:#e6e6ff\">fantastic</span> <span style=\"background-color:#ffd3d3\">altitude</span> <span style=\"background-color:#e2e2ff\">,</span> <span style=\"background-color:#ff0000\">came</span> <span style=\"background-color:#d3d3ff\">.</span> \n"
      ],
      "text/plain": [
       "<IPython.core.display.HTML object>"
      ]
     },
     "metadata": {},
     "output_type": "display_data"
    },
    {
     "data": {
      "text/html": [
       "correct label: <b>when</b>"
      ],
      "text/plain": [
       "<IPython.core.display.HTML object>"
      ]
     },
     "metadata": {},
     "output_type": "display_data"
    },
    {
     "data": {
      "text/html": [
       "predict label: <b>when</b>"
      ],
      "text/plain": [
       "<IPython.core.display.HTML object>"
      ]
     },
     "metadata": {},
     "output_type": "display_data"
    },
    {
     "data": {
      "text/html": [
       "<span style=\"background-color:#ff0000\">1958</span> <span style=\"background-color:#ff3030\">had</span> <span style=\"background-color:#fffcfc\">been</span> <span style=\"background-color:#a3a3ff\">a</span> <span style=\"background-color:#aeaeff\">pip</span> <span style=\"background-color:#eeeeff\">.</span> \n"
      ],
      "text/plain": [
       "<IPython.core.display.HTML object>"
      ]
     },
     "metadata": {},
     "output_type": "display_data"
    },
    {
     "data": {
      "text/html": [
       "<span style=\"background-color:#8c8cff\">It</span> <span style=\"background-color:#ff0000\">came</span> <span style=\"background-color:#ffacac\">to</span> <span style=\"background-color:#c3c3ff\">murder</span> <span style=\"background-color:#ffe2e2\">trials</span> <span style=\"background-color:#eaeaff\">.</span> \n"
      ],
      "text/plain": [
       "<IPython.core.display.HTML object>"
      ]
     },
     "metadata": {},
     "output_type": "display_data"
    },
    {
     "data": {
      "text/html": [
       "correct label: <b>when</b>"
      ],
      "text/plain": [
       "<IPython.core.display.HTML object>"
      ]
     },
     "metadata": {},
     "output_type": "display_data"
    },
    {
     "data": {
      "text/html": [
       "predict label: <b>when</b>"
      ],
      "text/plain": [
       "<IPython.core.display.HTML object>"
      ]
     },
     "metadata": {},
     "output_type": "display_data"
    },
    {
     "data": {
      "text/html": [
       "<span style=\"background-color:#ff0000\">That</span> <span style=\"background-color:#fff4f4\">had</span> <span style=\"background-color:#f0f0ff\">been</span> <span style=\"background-color:#f0f0ff\">taken</span> <span style=\"background-color:#9292ff\">of</span> <span style=\"background-color:#fffefe\">her</span> <span style=\"background-color:#b0b0ff\">leg</span> <span style=\"background-color:#ffd8d8\">.</span> \n"
      ],
      "text/plain": [
       "<IPython.core.display.HTML object>"
      ]
     },
     "metadata": {},
     "output_type": "display_data"
    },
    {
     "data": {
      "text/html": [
       "<span style=\"background-color:#ff3131\">She</span> <span style=\"background-color:#0000ff\">'d</span> <span style=\"background-color:#c2c2ff\">had</span> <span style=\"background-color:#eeeeff\">that</span> <span style=\"background-color:#ff8e8e\">waterskiing</span> <span style=\"background-color:#ffd3d3\">accident</span> <span style=\"background-color:#d6d6ff\">.</span> \n"
      ],
      "text/plain": [
       "<IPython.core.display.HTML object>"
      ]
     },
     "metadata": {},
     "output_type": "display_data"
    },
    {
     "data": {
      "text/html": [
       "correct label: <b>when</b>"
      ],
      "text/plain": [
       "<IPython.core.display.HTML object>"
      ]
     },
     "metadata": {},
     "output_type": "display_data"
    },
    {
     "data": {
      "text/html": [
       "predict label: <b>when</b>"
      ],
      "text/plain": [
       "<IPython.core.display.HTML object>"
      ]
     },
     "metadata": {},
     "output_type": "display_data"
    },
    {
     "data": {
      "text/html": [
       "<span style=\"background-color:#ff4e4e\">Then</span> <span style=\"background-color:#cacaff\">he</span> <span style=\"background-color:#ff0000\">remembered</span> <span style=\"background-color:#d8d8ff\">her</span> <span style=\"background-color:#a0a0ff\">,</span> <span style=\"background-color:#fff2f2\">this</span> <span style=\"background-color:#ffaeae\">solemn</span> <span style=\"background-color:#6464ff\">eyed</span> <span style=\"background-color:#ffb6b6\">girl</span> <span style=\"background-color:#f6f6ff\">of</span> <span style=\"background-color:#6969ff\">six</span> <span style=\"background-color:#6060ff\">,</span> <span style=\"background-color:#ffeeee\">his</span> <span style=\"background-color:#ff7171\">instant</span> <span style=\"background-color:#ffdcdc\">ally</span> <span style=\"background-color:#ffcaca\">and</span> <span style=\"background-color:#a0a0ff\">friend</span> <span style=\"background-color:#ff9393\">.</span> \n"
      ],
      "text/plain": [
       "<IPython.core.display.HTML object>"
      ]
     },
     "metadata": {},
     "output_type": "display_data"
    },
    {
     "data": {
      "text/html": [
       "<span style=\"background-color:#ffd6d6\">He</span> <span style=\"background-color:#ff0000\">returned</span> <span style=\"background-color:#fefeff\">to</span> <span style=\"background-color:#fafaff\">lizzie</span> <span style=\"background-color:#fff8f8\">in</span> <span style=\"background-color:#f6f6ff\">the</span> <span style=\"background-color:#ffd2d2\">desert</span> <span style=\"background-color:#f3f3ff\">.</span> \n"
      ],
      "text/plain": [
       "<IPython.core.display.HTML object>"
      ]
     },
     "metadata": {},
     "output_type": "display_data"
    },
    {
     "data": {
      "text/html": [
       "correct label: <b>when</b>"
      ],
      "text/plain": [
       "<IPython.core.display.HTML object>"
      ]
     },
     "metadata": {},
     "output_type": "display_data"
    },
    {
     "data": {
      "text/html": [
       "predict label: <b>when</b>"
      ],
      "text/plain": [
       "<IPython.core.display.HTML object>"
      ]
     },
     "metadata": {},
     "output_type": "display_data"
    },
    {
     "data": {
      "text/html": [
       "<span style=\"background-color:#ffc3c3\">I</span> <span style=\"background-color:#9e9eff\">'d</span> <span style=\"background-color:#d2d2ff\">loved</span> <span style=\"background-color:#4040ff\">this</span> <span style=\"background-color:#0000ff\">apartment</span> <span style=\"background-color:#ff1010\">.</span> \n"
      ],
      "text/plain": [
       "<IPython.core.display.HTML object>"
      ]
     },
     "metadata": {},
     "output_type": "display_data"
    },
    {
     "data": {
      "text/html": [
       "<span style=\"background-color:#ffcece\">We</span> <span style=\"background-color:#ff0000\">first</span> <span style=\"background-color:#fcfcff\">moved</span> <span style=\"background-color:#eeeeff\">in</span> <span style=\"background-color:#fafaff\">with</span> <span style=\"background-color:#fffefe\">its</span> <span style=\"background-color:#ffeaea\">new</span> <span style=\"background-color:#fffcfc\">carpet</span> <span style=\"background-color:#eeeeff\">and</span> <span style=\"background-color:#fcfcff\">freshly</span> <span style=\"background-color:#fafaff\">painted</span> <span style=\"background-color:#f0f0ff\">walls</span> <span style=\"background-color:#f2f2ff\">.</span> \n"
      ],
      "text/plain": [
       "<IPython.core.display.HTML object>"
      ]
     },
     "metadata": {},
     "output_type": "display_data"
    },
    {
     "data": {
      "text/html": [
       "correct label: <b>when</b>"
      ],
      "text/plain": [
       "<IPython.core.display.HTML object>"
      ]
     },
     "metadata": {},
     "output_type": "display_data"
    },
    {
     "data": {
      "text/html": [
       "predict label: <b>when</b>"
      ],
      "text/plain": [
       "<IPython.core.display.HTML object>"
      ]
     },
     "metadata": {},
     "output_type": "display_data"
    },
    {
     "data": {
      "text/html": [
       "<span style=\"background-color:#ff0000\">To</span> <span style=\"background-color:#ff8080\">inspect</span> <span style=\"background-color:#fff2f2\">their</span> <span style=\"background-color:#fcfcff\">delivery</span> <span style=\"background-color:#ececff\">the</span> <span style=\"background-color:#ffc2c2\">only</span> <span style=\"background-color:#9292ff\">markings</span> <span style=\"background-color:#f6f6ff\">to</span> <span style=\"background-color:#f8f8ff\">be</span> <span style=\"background-color:#ffc3c3\">found</span> <span style=\"background-color:#ffe0e0\">on</span> <span style=\"background-color:#f2f2ff\">the</span> <span style=\"background-color:#ceceff\">ten</span> <span style=\"background-color:#d3d3ff\">cylindrical</span> <span style=\"background-color:#eeeeff\">shells</span> <span style=\"background-color:#ceceff\">appeared</span> <span style=\"background-color:#fafaff\">to</span> <span style=\"background-color:#c6c6ff\">be</span> <span style=\"background-color:#fff0f0\">in</span> <span style=\"background-color:#aaaaff\">some</span> <span style=\"background-color:#fcfcff\">sort</span> <span style=\"background-color:#eeeeff\">of</span> <span style=\"background-color:#aaaaff\">code</span> <span style=\"background-color:#ffa0a0\">.</span> \n"
      ],
      "text/plain": [
       "<IPython.core.display.HTML object>"
      ]
     },
     "metadata": {},
     "output_type": "display_data"
    },
    {
     "data": {
      "text/html": [
       "<span style=\"background-color:#ff7171\">He</span> <span style=\"background-color:#ff8c8c\">and</span> <span style=\"background-color:#fefeff\">the</span> <span style=\"background-color:#5151ff\">other</span> <span style=\"background-color:#ff0000\">directors</span> <span style=\"background-color:#6c6cff\">had</span> <span style=\"background-color:#ff1414\">opened</span> <span style=\"background-color:#ffe2e2\">up</span> <span style=\"background-color:#f3f3ff\">the</span> <span style=\"background-color:#ffcece\">steel</span> <span style=\"background-color:#ffe6e6\">crates</span> <span style=\"background-color:#f6f6ff\">.</span> \n"
      ],
      "text/plain": [
       "<IPython.core.display.HTML object>"
      ]
     },
     "metadata": {},
     "output_type": "display_data"
    },
    {
     "data": {
      "text/html": [
       "correct label: <b>when</b>"
      ],
      "text/plain": [
       "<IPython.core.display.HTML object>"
      ]
     },
     "metadata": {},
     "output_type": "display_data"
    },
    {
     "data": {
      "text/html": [
       "predict label: <b>when</b>"
      ],
      "text/plain": [
       "<IPython.core.display.HTML object>"
      ]
     },
     "metadata": {},
     "output_type": "display_data"
    },
    {
     "data": {
      "text/html": [
       "<span style=\"background-color:#ff0000\">But</span> <span style=\"background-color:#b2b2ff\">they</span> <span style=\"background-color:#0606ff\">'re</span> <span style=\"background-color:#ffcece\">both</span> <span style=\"background-color:#ff5959\">impassive</span> <span style=\"background-color:#a2a2ff\">,</span> <span style=\"background-color:#ff8383\">and</span> <span style=\"background-color:#ffe0e0\">i</span> <span style=\"background-color:#6060ff\">suspect</span> <span style=\"background-color:#fafaff\">andrew</span> <span style=\"background-color:#fefeff\">'s</span> <span style=\"background-color:#ffe4e4\">like</span> <span style=\"background-color:#d0d0ff\">his</span> <span style=\"background-color:#ffcaca\">dad</span> <span style=\"background-color:#d2d2ff\">in</span> <span style=\"background-color:#ffcece\">that</span> <span style=\"background-color:#6c6cff\">respect</span> <span style=\"background-color:#ffcaca\">.</span> \n"
      ],
      "text/plain": [
       "<IPython.core.display.HTML object>"
      ]
     },
     "metadata": {},
     "output_type": "display_data"
    },
    {
     "data": {
      "text/html": [
       "<span style=\"background-color:#babaff\">It</span> <span style=\"background-color:#ff0000\">comes</span> <span style=\"background-color:#ffbcbc\">to</span> <span style=\"background-color:#ffb3b3\">expressing</span> <span style=\"background-color:#c2c2ff\">emotion</span> <span style=\"background-color:#f3f3ff\">in</span> <span style=\"background-color:#eeeeff\">a</span> <span style=\"background-color:#ffe4e4\">business</span> <span style=\"background-color:#f8f8ff\">setting</span> <span style=\"background-color:#fff2f2\">.</span> \n"
      ],
      "text/plain": [
       "<IPython.core.display.HTML object>"
      ]
     },
     "metadata": {},
     "output_type": "display_data"
    },
    {
     "data": {
      "text/html": [
       "correct label: <b>when</b>"
      ],
      "text/plain": [
       "<IPython.core.display.HTML object>"
      ]
     },
     "metadata": {},
     "output_type": "display_data"
    },
    {
     "data": {
      "text/html": [
       "predict label: <b>when</b>"
      ],
      "text/plain": [
       "<IPython.core.display.HTML object>"
      ]
     },
     "metadata": {},
     "output_type": "display_data"
    },
    {
     "data": {
      "text/html": [
       "<span style=\"background-color:#ff6464\">Well</span> <span style=\"background-color:#ff8a8a\">,</span> <span style=\"background-color:#ffa2a2\">i</span> <span style=\"background-color:#bcbcff\">have</span> <span style=\"background-color:#ff1010\">worked</span> <span style=\"background-color:#f6f6ff\">on</span> <span style=\"background-color:#0000ff\">,</span> <span style=\"background-color:#ff6868\">we</span> <span style=\"background-color:#6969ff\">just</span> <span style=\"background-color:#ff3434\">roped</span> <span style=\"background-color:#e8e8ff\">off</span> <span style=\"background-color:#b3b3ff\">the</span> <span style=\"background-color:#ff6c6c\">area</span> <span style=\"background-color:#0404ff\">.</span> \n"
      ],
      "text/plain": [
       "<IPython.core.display.HTML object>"
      ]
     },
     "metadata": {},
     "output_type": "display_data"
    },
    {
     "data": {
      "text/html": [
       "<span style=\"background-color:#f3f3ff\">Weve</span> <span style=\"background-color:#3e3eff\">had</span> <span style=\"background-color:#ffa3a3\">this</span> <span style=\"background-color:#ff7474\">before</span> <span style=\"background-color:#2c2cff\">at</span> <span style=\"background-color:#ff0000\">other</span> <span style=\"background-color:#3c3cff\">sites</span> <span style=\"background-color:#c3c3ff\">.</span> \n"
      ],
      "text/plain": [
       "<IPython.core.display.HTML object>"
      ]
     },
     "metadata": {},
     "output_type": "display_data"
    },
    {
     "data": {
      "text/html": [
       "correct label: <b>when</b>"
      ],
      "text/plain": [
       "<IPython.core.display.HTML object>"
      ]
     },
     "metadata": {},
     "output_type": "display_data"
    },
    {
     "data": {
      "text/html": [
       "predict label: <b>but</b>"
      ],
      "text/plain": [
       "<IPython.core.display.HTML object>"
      ]
     },
     "metadata": {},
     "output_type": "display_data"
    },
    {
     "data": {
      "text/html": [
       "<span style=\"background-color:#b0b0ff\">Prax</span> <span style=\"background-color:#ffcece\">made</span> <span style=\"background-color:#ffe6e6\">a</span> <span style=\"background-color:#eaeaff\">sharp</span> <span style=\"background-color:#ffe6e6\">noise</span> <span style=\"background-color:#ff3838\">like</span> <span style=\"background-color:#c8c8ff\">the</span> <span style=\"background-color:#babaff\">intake</span> <span style=\"background-color:#fff2f2\">of</span> <span style=\"background-color:#ffa0a0\">breath</span> <span style=\"background-color:#1010ff\">before</span> <span style=\"background-color:#e8e8ff\">a</span> <span style=\"background-color:#f2f2ff\">scream</span> <span style=\"background-color:#ff0000\">.</span> \n"
      ],
      "text/plain": [
       "<IPython.core.display.HTML object>"
      ]
     },
     "metadata": {},
     "output_type": "display_data"
    },
    {
     "data": {
      "text/html": [
       "<span style=\"background-color:#ff9696\">He</span> <span style=\"background-color:#ff0000\">lifted</span> <span style=\"background-color:#dadaff\">the</span> <span style=\"background-color:#ffcaca\">sheet</span> <span style=\"background-color:#f8f8ff\">to</span> <span style=\"background-color:#f6f6ff\">look</span> <span style=\"background-color:#e2e2ff\">under</span> <span style=\"background-color:#fffafa\">.</span> \n"
      ],
      "text/plain": [
       "<IPython.core.display.HTML object>"
      ]
     },
     "metadata": {},
     "output_type": "display_data"
    },
    {
     "data": {
      "text/html": [
       "correct label: <b>when</b>"
      ],
      "text/plain": [
       "<IPython.core.display.HTML object>"
      ]
     },
     "metadata": {},
     "output_type": "display_data"
    },
    {
     "data": {
      "text/html": [
       "predict label: <b>when</b>"
      ],
      "text/plain": [
       "<IPython.core.display.HTML object>"
      ]
     },
     "metadata": {},
     "output_type": "display_data"
    },
    {
     "data": {
      "text/html": [
       "<span style=\"background-color:#ff6666\">He</span> <span style=\"background-color:#ff9c9c\">was</span> <span style=\"background-color:#0000ff\">prepared</span> <span style=\"background-color:#fefeff\">to</span> <span style=\"background-color:#5050ff\">take</span> <span style=\"background-color:#fff4f4\">on</span> <span style=\"background-color:#fffefe\">the</span> <span style=\"background-color:#5959ff\">other</span> <span style=\"background-color:#fff6f6\">two</span> <span style=\"background-color:#ff4949\">.</span> \n"
      ],
      "text/plain": [
       "<IPython.core.display.HTML object>"
      ]
     },
     "metadata": {},
     "output_type": "display_data"
    },
    {
     "data": {
      "text/html": [
       "<span style=\"background-color:#ff0808\">He</span> <span style=\"background-color:#ff0000\">sprang</span> <span style=\"background-color:#ff8e8e\">up</span> <span style=\"background-color:#ff8282\">onto</span> <span style=\"background-color:#ff8a8a\">his</span> <span style=\"background-color:#9c9cff\">feet</span> <span style=\"background-color:#ffeaea\">.</span> \n"
      ],
      "text/plain": [
       "<IPython.core.display.HTML object>"
      ]
     },
     "metadata": {},
     "output_type": "display_data"
    },
    {
     "data": {
      "text/html": [
       "correct label: <b>when</b>"
      ],
      "text/plain": [
       "<IPython.core.display.HTML object>"
      ]
     },
     "metadata": {},
     "output_type": "display_data"
    },
    {
     "data": {
      "text/html": [
       "predict label: <b>when</b>"
      ],
      "text/plain": [
       "<IPython.core.display.HTML object>"
      ]
     },
     "metadata": {},
     "output_type": "display_data"
    },
    {
     "data": {
      "text/html": [
       "<span style=\"background-color:#4e4eff\">Ulath</span> <span style=\"background-color:#8a8aff\">shorten</span> <span style=\"background-color:#ffeaea\">a</span> <span style=\"background-color:#0000ff\">bit</span> <span style=\"background-color:#ff0909\">.</span> \n"
      ],
      "text/plain": [
       "<IPython.core.display.HTML object>"
      ]
     },
     "metadata": {},
     "output_type": "display_data"
    },
    {
     "data": {
      "text/html": [
       "<span style=\"background-color:#ff1e1e\">We</span> <span style=\"background-color:#ff0000\">get</span> <span style=\"background-color:#ff9a9a\">to</span> <span style=\"background-color:#c3c3ff\">the</span> <span style=\"background-color:#ff7676\">palace</span> <span style=\"background-color:#c0c0ff\">.</span> \n"
      ],
      "text/plain": [
       "<IPython.core.display.HTML object>"
      ]
     },
     "metadata": {},
     "output_type": "display_data"
    },
    {
     "data": {
      "text/html": [
       "correct label: <b>when</b>"
      ],
      "text/plain": [
       "<IPython.core.display.HTML object>"
      ]
     },
     "metadata": {},
     "output_type": "display_data"
    },
    {
     "data": {
      "text/html": [
       "predict label: <b>when</b>"
      ],
      "text/plain": [
       "<IPython.core.display.HTML object>"
      ]
     },
     "metadata": {},
     "output_type": "display_data"
    },
    {
     "data": {
      "text/html": [
       "<span style=\"background-color:#eaeaff\">Her</span> <span style=\"background-color:#9e9eff\">words</span> <span style=\"background-color:#ff0000\">reminded</span> <span style=\"background-color:#a6a6ff\">him</span> <span style=\"background-color:#ff7474\">.</span> \n"
      ],
      "text/plain": [
       "<IPython.core.display.HTML object>"
      ]
     },
     "metadata": {},
     "output_type": "display_data"
    },
    {
     "data": {
      "text/html": [
       "<span style=\"background-color:#ffc8c8\">She</span> <span style=\"background-color:#b2b2ff\">had</span> <span style=\"background-color:#ff0000\">cleaned</span> <span style=\"background-color:#fff6f6\">his</span> <span style=\"background-color:#e3e3ff\">wounds</span> <span style=\"background-color:#ffe6e6\">after</span> <span style=\"background-color:#fff4f4\">dev</span> <span style=\"background-color:#fff4f4\">'s</span> <span style=\"background-color:#fff4f4\">punch</span> <span style=\"background-color:#d0d0ff\">.</span> \n"
      ],
      "text/plain": [
       "<IPython.core.display.HTML object>"
      ]
     },
     "metadata": {},
     "output_type": "display_data"
    },
    {
     "data": {
      "text/html": [
       "correct label: <b>when</b>"
      ],
      "text/plain": [
       "<IPython.core.display.HTML object>"
      ]
     },
     "metadata": {},
     "output_type": "display_data"
    },
    {
     "data": {
      "text/html": [
       "predict label: <b>when</b>"
      ],
      "text/plain": [
       "<IPython.core.display.HTML object>"
      ]
     },
     "metadata": {},
     "output_type": "display_data"
    },
    {
     "data": {
      "text/html": [
       "<span style=\"background-color:#ffbebe\">Despite</span> <span style=\"background-color:#0000ff\">the</span> <span style=\"background-color:#ff5656\">fact</span> <span style=\"background-color:#ffdede\">that</span> <span style=\"background-color:#d0d0ff\">it</span> <span style=\"background-color:#ff2020\">had</span> <span style=\"background-color:#ffbaba\">been</span> <span style=\"background-color:#ff5050\">years</span> <span style=\"background-color:#4c4cff\">since</span> <span style=\"background-color:#c3c3ff\">jenna</span> <span style=\"background-color:#ceceff\">wore</span> <span style=\"background-color:#e8e8ff\">the</span> <span style=\"background-color:#a6a6ff\">badge</span> <span style=\"background-color:#ff7878\">and</span> <span style=\"background-color:#eaeaff\">uniform</span> <span style=\"background-color:#fff0f0\">of</span> <span style=\"background-color:#ffdada\">an</span> <span style=\"background-color:#ffd0d0\">alaska</span> <span style=\"background-color:#ffc6c6\">state</span> <span style=\"background-color:#7171ff\">trooper</span> <span style=\"background-color:#b6b6ff\">,</span> <span style=\"background-color:#dadaff\">she</span> <span style=\"background-color:#7171ff\">knew</span> <span style=\"background-color:#ffc0c0\">.</span> \n"
      ],
      "text/plain": [
       "<IPython.core.display.HTML object>"
      ]
     },
     "metadata": {},
     "output_type": "display_data"
    },
    {
     "data": {
      "text/html": [
       "<span style=\"background-color:#ff0000\">Someone</span> <span style=\"background-color:#c0c0ff\">was</span> <span style=\"background-color:#d6d6ff\">sidestepping</span> <span style=\"background-color:#f3f3ff\">the</span> <span style=\"background-color:#ff9e9e\">facts</span> <span style=\"background-color:#fafaff\">.</span> \n"
      ],
      "text/plain": [
       "<IPython.core.display.HTML object>"
      ]
     },
     "metadata": {},
     "output_type": "display_data"
    },
    {
     "data": {
      "text/html": [
       "correct label: <b>when</b>"
      ],
      "text/plain": [
       "<IPython.core.display.HTML object>"
      ]
     },
     "metadata": {},
     "output_type": "display_data"
    },
    {
     "data": {
      "text/html": [
       "predict label: <b>when</b>"
      ],
      "text/plain": [
       "<IPython.core.display.HTML object>"
      ]
     },
     "metadata": {},
     "output_type": "display_data"
    },
    {
     "data": {
      "text/html": [
       "<span style=\"background-color:#ff5656\">Saw</span> <span style=\"background-color:#9898ff\">tears</span> <span style=\"background-color:#ffdede\">in</span> <span style=\"background-color:#c3c3ff\">mrs.</span> <span style=\"background-color:#fafaff\">wells</span> <span style=\"background-color:#b6b6ff\">'</span> <span style=\"background-color:#ff6868\">eyes</span> <span style=\"background-color:#ff0000\">.</span> \n"
      ],
      "text/plain": [
       "<IPython.core.display.HTML object>"
      ]
     },
     "metadata": {},
     "output_type": "display_data"
    },
    {
     "data": {
      "text/html": [
       "<span style=\"background-color:#ffe0e0\">She</span> <span style=\"background-color:#ff0000\">saw</span> <span style=\"background-color:#dcdcff\">her</span> <span style=\"background-color:#9090ff\">only</span> <span style=\"background-color:#fff2f2\">daughter</span> <span style=\"background-color:#ff7e7e\">turn</span> <span style=\"background-color:#d2d2ff\">toward</span> <span style=\"background-color:#fffefe\">her</span> <span style=\"background-color:#eaeaff\">in</span> <span style=\"background-color:#fffefe\">her</span> <span style=\"background-color:#fff4f4\">wedding</span> <span style=\"background-color:#fff0f0\">dress</span> <span style=\"background-color:#d6d6ff\">.</span> \n"
      ],
      "text/plain": [
       "<IPython.core.display.HTML object>"
      ]
     },
     "metadata": {},
     "output_type": "display_data"
    },
    {
     "data": {
      "text/html": [
       "correct label: <b>when</b>"
      ],
      "text/plain": [
       "<IPython.core.display.HTML object>"
      ]
     },
     "metadata": {},
     "output_type": "display_data"
    },
    {
     "data": {
      "text/html": [
       "predict label: <b>when</b>"
      ],
      "text/plain": [
       "<IPython.core.display.HTML object>"
      ]
     },
     "metadata": {},
     "output_type": "display_data"
    },
    {
     "data": {
      "text/html": [
       "<span style=\"background-color:#ffdada\">Both</span> <span style=\"background-color:#f0f0ff\">positive</span> <span style=\"background-color:#babaff\">and</span> <span style=\"background-color:#ffd8d8\">negative</span> <span style=\"background-color:#1a1aff\">charges</span> <span style=\"background-color:#bebeff\">were</span> <span style=\"background-color:#fff4f4\">of</span> <span style=\"background-color:#ff9292\">equal</span> <span style=\"background-color:#ffdcdc\">importance</span> <span style=\"background-color:#ff0000\">.</span> \n"
      ],
      "text/plain": [
       "<IPython.core.display.HTML object>"
      ]
     },
     "metadata": {},
     "output_type": "display_data"
    },
    {
     "data": {
      "text/html": [
       "<span style=\"background-color:#a8a8ff\">It</span> <span style=\"background-color:#ff0000\">came</span> <span style=\"background-color:#ffc0c0\">to</span> <span style=\"background-color:#c3c3ff\">magnetic</span> <span style=\"background-color:#ffe8e8\">currents</span> <span style=\"background-color:#fefeff\">.</span> \n"
      ],
      "text/plain": [
       "<IPython.core.display.HTML object>"
      ]
     },
     "metadata": {},
     "output_type": "display_data"
    },
    {
     "data": {
      "text/html": [
       "correct label: <b>when</b>"
      ],
      "text/plain": [
       "<IPython.core.display.HTML object>"
      ]
     },
     "metadata": {},
     "output_type": "display_data"
    },
    {
     "data": {
      "text/html": [
       "predict label: <b>when</b>"
      ],
      "text/plain": [
       "<IPython.core.display.HTML object>"
      ]
     },
     "metadata": {},
     "output_type": "display_data"
    },
    {
     "data": {
      "text/html": [
       "<span style=\"background-color:#9e9eff\">They</span> <span style=\"background-color:#ff1c1c\">made</span> <span style=\"background-color:#3232ff\">him</span> <span style=\"background-color:#ffa2a2\">carry</span> <span style=\"background-color:#fff6f6\">his</span> <span style=\"background-color:#ff5454\">own</span> <span style=\"background-color:#fff8f8\">cross</span> <span style=\"background-color:#e8e8ff\">to</span> <span style=\"background-color:#f6f6ff\">calvary</span> <span style=\"background-color:#5656ff\">hill</span> <span style=\"background-color:#ff4040\">,</span> <span style=\"background-color:#ffe4e4\">where</span> <span style=\"background-color:#fffefe\">he</span> <span style=\"background-color:#acacff\">died</span> <span style=\"background-color:#fff8f8\">in</span> <span style=\"background-color:#ff1616\">blood</span> <span style=\"background-color:#6969ff\">and</span> <span style=\"background-color:#ffa6a6\">dust</span> <span style=\"background-color:#ffcaca\">.</span> <span style=\"background-color:#0000ff\">'</span> <span style=\"background-color:#ffd0d0\">.</span> \n"
      ],
      "text/plain": [
       "<IPython.core.display.HTML object>"
      ]
     },
     "metadata": {},
     "output_type": "display_data"
    },
    {
     "data": {
      "text/html": [
       "<span style=\"background-color:#ffd2d2\">Christ</span> <span style=\"background-color:#ff0000\">came</span> <span style=\"background-color:#f0f0ff\">to</span> <span style=\"background-color:#ffcece\">redeem</span> <span style=\"background-color:#fcfcff\">mankind</span> <span style=\"background-color:#fefeff\">.</span> \n"
      ],
      "text/plain": [
       "<IPython.core.display.HTML object>"
      ]
     },
     "metadata": {},
     "output_type": "display_data"
    },
    {
     "data": {
      "text/html": [
       "correct label: <b>when</b>"
      ],
      "text/plain": [
       "<IPython.core.display.HTML object>"
      ]
     },
     "metadata": {},
     "output_type": "display_data"
    },
    {
     "data": {
      "text/html": [
       "predict label: <b>when</b>"
      ],
      "text/plain": [
       "<IPython.core.display.HTML object>"
      ]
     },
     "metadata": {},
     "output_type": "display_data"
    },
    {
     "data": {
      "text/html": [
       "<span style=\"background-color:#0000ff\">That</span> <span style=\"background-color:#ff6161\">created</span> <span style=\"background-color:#ffa6a6\">the</span> <span style=\"background-color:#f6f6ff\">unnamed</span> <span style=\"background-color:#ff8e8e\">square</span> <span style=\"background-color:#6666ff\">.</span> \n"
      ],
      "text/plain": [
       "<IPython.core.display.HTML object>"
      ]
     },
     "metadata": {},
     "output_type": "display_data"
    },
    {
     "data": {
      "text/html": [
       "<span style=\"background-color:#2222ff\">It</span> <span style=\"background-color:#ffb3b3\">reduced</span> <span style=\"background-color:#ffcccc\">the</span> <span style=\"background-color:#fffafa\">five</span> <span style=\"background-color:#fff2f2\">city</span> <span style=\"background-color:#9393ff\">blocks</span> <span style=\"background-color:#ffe8e8\">to</span> <span style=\"background-color:#ff6868\">rubble</span> <span style=\"background-color:#ff9696\">in</span> <span style=\"background-color:#ff3939\">its</span> <span style=\"background-color:#0000ff\">failed</span> <span style=\"background-color:#8a8aff\">attempt</span> <span style=\"background-color:#ffdede\">to</span> <span style=\"background-color:#c0c0ff\">break</span> <span style=\"background-color:#fff4f4\">through</span> <span style=\"background-color:#fefeff\">the</span> <span style=\"background-color:#fffafa\">capitol</span> <span style=\"background-color:#f6f6ff\">'s</span> <span style=\"background-color:#ffd3d3\">wards</span> <span style=\"background-color:#ffdcdc\">.</span> \n"
      ],
      "text/plain": [
       "<IPython.core.display.HTML object>"
      ]
     },
     "metadata": {},
     "output_type": "display_data"
    },
    {
     "data": {
      "text/html": [
       "correct label: <b>when</b>"
      ],
      "text/plain": [
       "<IPython.core.display.HTML object>"
      ]
     },
     "metadata": {},
     "output_type": "display_data"
    },
    {
     "data": {
      "text/html": [
       "predict label: <b>and</b>"
      ],
      "text/plain": [
       "<IPython.core.display.HTML object>"
      ]
     },
     "metadata": {},
     "output_type": "display_data"
    },
    {
     "data": {
      "text/html": [
       "<span style=\"background-color:#ffcaca\">Seeing</span> <span style=\"background-color:#ffd2d2\">it</span> <span style=\"background-color:#ff8a8a\">was</span> <span style=\"background-color:#ff3131\">who</span> <span style=\"background-color:#3838ff\">was</span> <span style=\"background-color:#b2b2ff\">calling</span> <span style=\"background-color:#ff0000\">.</span> \n"
      ],
      "text/plain": [
       "<IPython.core.display.HTML object>"
      ]
     },
     "metadata": {},
     "output_type": "display_data"
    },
    {
     "data": {
      "text/html": [
       "<span style=\"background-color:#ff4444\">He</span> <span style=\"background-color:#ff0000\">put</span> <span style=\"background-color:#c8c8ff\">the</span> <span style=\"background-color:#ffb0b0\">phone</span> <span style=\"background-color:#ffd8d8\">to</span> <span style=\"background-color:#ffe0e0\">his</span> <span style=\"background-color:#ffe8e8\">ear</span> <span style=\"background-color:#9393ff\">.</span> \n"
      ],
      "text/plain": [
       "<IPython.core.display.HTML object>"
      ]
     },
     "metadata": {},
     "output_type": "display_data"
    },
    {
     "data": {
      "text/html": [
       "correct label: <b>when</b>"
      ],
      "text/plain": [
       "<IPython.core.display.HTML object>"
      ]
     },
     "metadata": {},
     "output_type": "display_data"
    },
    {
     "data": {
      "text/html": [
       "predict label: <b>when</b>"
      ],
      "text/plain": [
       "<IPython.core.display.HTML object>"
      ]
     },
     "metadata": {},
     "output_type": "display_data"
    }
   ],
   "source": [
    "for i in range(50):\n",
    "    res = get_example_by_idx('when', i)\n",
    "    display(*bilstm.visualize_example(res[0], res[1], res[2], dis_labels))"
   ]
  },
  {
   "cell_type": "code",
   "execution_count": 26,
   "metadata": {},
   "outputs": [
    {
     "data": {
      "text/html": [
       "<span style=\"background-color:#ffb3b3\">I</span> <span style=\"background-color:#7e7eff\">'ll</span> <span style=\"background-color:#ff1616\">have</span> <span style=\"background-color:#9a9aff\">it</span> <span style=\"background-color:#f2f2ff\">tonight</span> <span style=\"background-color:#ff0000\">or</span> <span style=\"background-color:#d8d8ff\">.</span> <span style=\"background-color:#e3e3ff\">''</span> <span style=\"background-color:#babaff\">.</span> \n"
      ],
      "text/plain": [
       "<IPython.core.display.HTML object>"
      ]
     },
     "metadata": {},
     "output_type": "display_data"
    },
    {
     "data": {
      "text/html": [
       "<span style=\"background-color:#5858ff\">You</span> <span style=\"background-color:#ff0000\">'ll</span> <span style=\"background-color:#dedeff\">see</span> <span style=\"background-color:#ffb2b2\">why</span> <span style=\"background-color:#f6f6ff\">they</span> <span style=\"background-color:#f2f2ff\">truly</span> <span style=\"background-color:#ffe8e8\">call</span> <span style=\"background-color:#fff4f4\">me</span> <span style=\"background-color:#fffafa\">the</span> <span style=\"background-color:#e3e3ff\">beast</span> <span style=\"background-color:#fff8f8\">.</span> \n"
      ],
      "text/plain": [
       "<IPython.core.display.HTML object>"
      ]
     },
     "metadata": {},
     "output_type": "display_data"
    },
    {
     "data": {
      "text/html": [
       "correct label: <b>and</b>"
      ],
      "text/plain": [
       "<IPython.core.display.HTML object>"
      ]
     },
     "metadata": {},
     "output_type": "display_data"
    },
    {
     "data": {
      "text/html": [
       "predict label: <b>but</b>"
      ],
      "text/plain": [
       "<IPython.core.display.HTML object>"
      ]
     },
     "metadata": {},
     "output_type": "display_data"
    },
    {
     "data": {
      "text/html": [
       "<span style=\"background-color:#ff0000\">Madame</span> <span style=\"background-color:#ffeeee\">blavatsky</span> <span style=\"background-color:#d3d3ff\">smiled</span> <span style=\"background-color:#dedeff\">scrawling</span> <span style=\"background-color:#ffe8e8\">a</span> <span style=\"background-color:#ff2424\">few</span> <span style=\"background-color:#9696ff\">strange</span> <span style=\"background-color:#ccccff\">symbols</span> <span style=\"background-color:#e3e3ff\">onto</span> <span style=\"background-color:#ff7e7e\">the</span> <span style=\"background-color:#ffecec\">page</span> <span style=\"background-color:#dedeff\">.</span> \n"
      ],
      "text/plain": [
       "<IPython.core.display.HTML object>"
      ]
     },
     "metadata": {},
     "output_type": "display_data"
    },
    {
     "data": {
      "text/html": [
       "<span style=\"background-color:#6868ff\">Picking</span> <span style=\"background-color:#ff1e1e\">up</span> <span style=\"background-color:#a2a2ff\">a</span> <span style=\"background-color:#9393ff\">felt-tipped</span> <span style=\"background-color:#ff0000\">pen</span> <span style=\"background-color:#ff4646\">.</span> \n"
      ],
      "text/plain": [
       "<IPython.core.display.HTML object>"
      ]
     },
     "metadata": {},
     "output_type": "display_data"
    },
    {
     "data": {
      "text/html": [
       "correct label: <b>and</b>"
      ],
      "text/plain": [
       "<IPython.core.display.HTML object>"
      ]
     },
     "metadata": {},
     "output_type": "display_data"
    },
    {
     "data": {
      "text/html": [
       "predict label: <b>and</b>"
      ],
      "text/plain": [
       "<IPython.core.display.HTML object>"
      ]
     },
     "metadata": {},
     "output_type": "display_data"
    },
    {
     "data": {
      "text/html": [
       "<span style=\"background-color:#ff5454\">The</span> <span style=\"background-color:#ffd6d6\">son</span> <span style=\"background-color:#ffaaaa\">followed</span> <span style=\"background-color:#d8d8ff\">in</span> <span style=\"background-color:#eaeaff\">his</span> <span style=\"background-color:#ccccff\">dads</span> <span style=\"background-color:#ff0000\">footsteps</span> <span style=\"background-color:#7171ff\">.</span> \n"
      ],
      "text/plain": [
       "<IPython.core.display.HTML object>"
      ]
     },
     "metadata": {},
     "output_type": "display_data"
    },
    {
     "data": {
      "text/html": [
       "<span style=\"background-color:#ff0000\">Went</span> <span style=\"background-color:#fff8f8\">to</span> <span style=\"background-color:#dadaff\">oxford</span> <span style=\"background-color:#e3e3ff\">university</span> <span style=\"background-color:#ffe8e8\">.</span> \n"
      ],
      "text/plain": [
       "<IPython.core.display.HTML object>"
      ]
     },
     "metadata": {},
     "output_type": "display_data"
    },
    {
     "data": {
      "text/html": [
       "correct label: <b>and</b>"
      ],
      "text/plain": [
       "<IPython.core.display.HTML object>"
      ]
     },
     "metadata": {},
     "output_type": "display_data"
    },
    {
     "data": {
      "text/html": [
       "predict label: <b>and</b>"
      ],
      "text/plain": [
       "<IPython.core.display.HTML object>"
      ]
     },
     "metadata": {},
     "output_type": "display_data"
    },
    {
     "data": {
      "text/html": [
       "<span style=\"background-color:#ffdada\">Sean</span> <span style=\"background-color:#ff5151\">sheathed</span> <span style=\"background-color:#f3f3ff\">the</span> <span style=\"background-color:#ffeeee\">sword</span> <span style=\"background-color:#ff0000\">walked</span> <span style=\"background-color:#ffa6a6\">out</span> <span style=\"background-color:#ff7c7c\">of</span> <span style=\"background-color:#ffcece\">the</span> <span style=\"background-color:#eeeeff\">house</span> <span style=\"background-color:#8686ff\">,</span> <span style=\"background-color:#fffefe\">clutching</span> <span style=\"background-color:#ffe8e8\">the</span> <span style=\"background-color:#ff4949\">sword</span> <span style=\"background-color:#d6d6ff\">in</span> <span style=\"background-color:#ffd6d6\">a</span> <span style=\"background-color:#cacaff\">tight</span> <span style=\"background-color:#fff2f2\">hand</span> <span style=\"background-color:#8c8cff\">.</span> \n"
      ],
      "text/plain": [
       "<IPython.core.display.HTML object>"
      ]
     },
     "metadata": {},
     "output_type": "display_data"
    },
    {
     "data": {
      "text/html": [
       "<span style=\"background-color:#ff0000\">Turned</span> <span style=\"background-color:#f6f6ff\">on</span> <span style=\"background-color:#fff2f2\">his</span> <span style=\"background-color:#ffeaea\">heel</span> <span style=\"background-color:#ffd2d2\">.</span> \n"
      ],
      "text/plain": [
       "<IPython.core.display.HTML object>"
      ]
     },
     "metadata": {},
     "output_type": "display_data"
    },
    {
     "data": {
      "text/html": [
       "correct label: <b>and</b>"
      ],
      "text/plain": [
       "<IPython.core.display.HTML object>"
      ]
     },
     "metadata": {},
     "output_type": "display_data"
    },
    {
     "data": {
      "text/html": [
       "predict label: <b>and</b>"
      ],
      "text/plain": [
       "<IPython.core.display.HTML object>"
      ]
     },
     "metadata": {},
     "output_type": "display_data"
    },
    {
     "data": {
      "text/html": [
       "<span style=\"background-color:#aeaeff\">All</span> <span style=\"background-color:#ff0000\">right</span> <span style=\"background-color:#1212ff\">,</span> <span style=\"background-color:#1a1aff\">throw</span> <span style=\"background-color:#bcbcff\">in</span> <span style=\"background-color:#b8b8ff\">a</span> <span style=\"background-color:#ffaaaa\">hand</span> <span style=\"background-color:#5959ff\">that</span> <span style=\"background-color:#ff5959\">walks</span> <span style=\"background-color:#ff6e6e\">around</span> <span style=\"background-color:#ffd8d8\">and</span> <span style=\"background-color:#f8f8ff\">a</span> <span style=\"background-color:#5e5eff\">creepy</span> <span style=\"background-color:#ff2828\">victorian</span> <span style=\"background-color:#ffe4e4\">house</span> <span style=\"background-color:#6e6eff\">.</span> <span style=\"background-color:#bebeff\">''</span> <span style=\"background-color:#8282ff\">.</span> \n"
      ],
      "text/plain": [
       "<IPython.core.display.HTML object>"
      ]
     },
     "metadata": {},
     "output_type": "display_data"
    },
    {
     "data": {
      "text/html": [
       "<span style=\"background-color:#4e4eff\">I</span> <span style=\"background-color:#ff2424\">'m</span> <span style=\"background-color:#ff3030\">good</span> <span style=\"background-color:#2222ff\">to</span> <span style=\"background-color:#ff0000\">go</span> <span style=\"background-color:#e2e2ff\">.</span> \n"
      ],
      "text/plain": [
       "<IPython.core.display.HTML object>"
      ]
     },
     "metadata": {},
     "output_type": "display_data"
    },
    {
     "data": {
      "text/html": [
       "correct label: <b>and</b>"
      ],
      "text/plain": [
       "<IPython.core.display.HTML object>"
      ]
     },
     "metadata": {},
     "output_type": "display_data"
    },
    {
     "data": {
      "text/html": [
       "predict label: <b>but</b>"
      ],
      "text/plain": [
       "<IPython.core.display.HTML object>"
      ]
     },
     "metadata": {},
     "output_type": "display_data"
    },
    {
     "data": {
      "text/html": [
       "<span style=\"background-color:#ccccff\">I</span> <span style=\"background-color:#ffdcdc\">have</span> <span style=\"background-color:#ff0000\">heard</span> <span style=\"background-color:#ff6060\">several</span> <span style=\"background-color:#babaff\">tales</span> <span style=\"background-color:#c8c8ff\">of</span> <span style=\"background-color:#ffb3b3\">what</span> <span style=\"background-color:#fffefe\">happened</span> <span style=\"background-color:#f0f0ff\">out</span> <span style=\"background-color:#ffecec\">in</span> <span style=\"background-color:#ffcccc\">calderon</span> <span style=\"background-color:#a2a2ff\">.</span> \n"
      ],
      "text/plain": [
       "<IPython.core.display.HTML object>"
      ]
     },
     "metadata": {},
     "output_type": "display_data"
    },
    {
     "data": {
      "text/html": [
       "<span style=\"background-color:#cacaff\">Each</span> <span style=\"background-color:#fffefe\">seemed</span> <span style=\"background-color:#ff0000\">less</span> <span style=\"background-color:#fefeff\">plausible</span> <span style=\"background-color:#ffc8c8\">than</span> <span style=\"background-color:#ececff\">the</span> <span style=\"background-color:#c6c6ff\">last</span> <span style=\"background-color:#e6e6ff\">.</span> \n"
      ],
      "text/plain": [
       "<IPython.core.display.HTML object>"
      ]
     },
     "metadata": {},
     "output_type": "display_data"
    },
    {
     "data": {
      "text/html": [
       "correct label: <b>and</b>"
      ],
      "text/plain": [
       "<IPython.core.display.HTML object>"
      ]
     },
     "metadata": {},
     "output_type": "display_data"
    },
    {
     "data": {
      "text/html": [
       "predict label: <b>but</b>"
      ],
      "text/plain": [
       "<IPython.core.display.HTML object>"
      ]
     },
     "metadata": {},
     "output_type": "display_data"
    },
    {
     "data": {
      "text/html": [
       "<span style=\"background-color:#f2f2ff\">I</span> <span style=\"background-color:#ff0000\">pull</span> <span style=\"background-color:#9a9aff\">outfit</span> <span style=\"background-color:#ffb0b0\">after</span> <span style=\"background-color:#8686ff\">outfit</span> <span style=\"background-color:#ff7171\">from</span> <span style=\"background-color:#f0f0ff\">the</span> <span style=\"background-color:#fff8f8\">closet</span> <span style=\"background-color:#bcbcff\">.</span> \n"
      ],
      "text/plain": [
       "<IPython.core.display.HTML object>"
      ]
     },
     "metadata": {},
     "output_type": "display_data"
    },
    {
     "data": {
      "text/html": [
       "<span style=\"background-color:#ff0000\">Settle</span> <span style=\"background-color:#ffaeae\">on</span> <span style=\"background-color:#f2f2ff\">a</span> <span style=\"background-color:#f0f0ff\">pair</span> <span style=\"background-color:#fffafa\">of</span> <span style=\"background-color:#ffeeee\">jean</span> <span style=\"background-color:#fcfcff\">shorts</span> <span style=\"background-color:#7979ff\">and</span> <span style=\"background-color:#fcfcff\">a</span> <span style=\"background-color:#f0f0ff\">tight</span> <span style=\"background-color:#fcfcff\">white</span> <span style=\"background-color:#fcfcff\">t-shirt</span> <span style=\"background-color:#fffcfc\">that</span> <span style=\"background-color:#ccccff\">'s</span> <span style=\"background-color:#ffd3d3\">perfectly</span> <span style=\"background-color:#f2f2ff\">see-through</span> <span style=\"background-color:#ffcece\">.</span> \n"
      ],
      "text/plain": [
       "<IPython.core.display.HTML object>"
      ]
     },
     "metadata": {},
     "output_type": "display_data"
    },
    {
     "data": {
      "text/html": [
       "correct label: <b>and</b>"
      ],
      "text/plain": [
       "<IPython.core.display.HTML object>"
      ]
     },
     "metadata": {},
     "output_type": "display_data"
    },
    {
     "data": {
      "text/html": [
       "predict label: <b>and</b>"
      ],
      "text/plain": [
       "<IPython.core.display.HTML object>"
      ]
     },
     "metadata": {},
     "output_type": "display_data"
    },
    {
     "data": {
      "text/html": [
       "<span style=\"background-color:#ff1919\">Where</span> <span style=\"background-color:#f0f0ff\">they</span> <span style=\"background-color:#8e8eff\">were</span> <span style=\"background-color:#0000ff\">growing</span> <span style=\"background-color:#ceceff\">up</span> <span style=\"background-color:#ff9696\">.</span> \n"
      ],
      "text/plain": [
       "<IPython.core.display.HTML object>"
      ]
     },
     "metadata": {},
     "output_type": "display_data"
    },
    {
     "data": {
      "text/html": [
       "<span style=\"background-color:#d2d2ff\">Yang</span> <span style=\"background-color:#8a8aff\">was</span> <span style=\"background-color:#c6c6ff\">doing</span> <span style=\"background-color:#0000ff\">some</span> <span style=\"background-color:#ff2020\">planning</span> <span style=\"background-color:#ffb0b0\">or</span> <span style=\"background-color:#fff8f8\">something</span> <span style=\"background-color:#f2f2ff\">.</span> \n"
      ],
      "text/plain": [
       "<IPython.core.display.HTML object>"
      ]
     },
     "metadata": {},
     "output_type": "display_data"
    },
    {
     "data": {
      "text/html": [
       "correct label: <b>and</b>"
      ],
      "text/plain": [
       "<IPython.core.display.HTML object>"
      ]
     },
     "metadata": {},
     "output_type": "display_data"
    },
    {
     "data": {
      "text/html": [
       "predict label: <b>when</b>"
      ],
      "text/plain": [
       "<IPython.core.display.HTML object>"
      ]
     },
     "metadata": {},
     "output_type": "display_data"
    },
    {
     "data": {
      "text/html": [
       "<span style=\"background-color:#aaaaff\">I</span> <span style=\"background-color:#ff8e8e\">got</span> <span style=\"background-color:#ffc0c0\">shakily</span> <span style=\"background-color:#b3b3ff\">to</span> <span style=\"background-color:#ffd2d2\">my</span> <span style=\"background-color:#ff0000\">feet</span> <span style=\"background-color:#6161ff\">.</span> \n"
      ],
      "text/plain": [
       "<IPython.core.display.HTML object>"
      ]
     },
     "metadata": {},
     "output_type": "display_data"
    },
    {
     "data": {
      "text/html": [
       "<span style=\"background-color:#ff0000\">Went</span> <span style=\"background-color:#f8f8ff\">to</span> <span style=\"background-color:#fff2f2\">the</span> <span style=\"background-color:#e3e3ff\">corner</span> <span style=\"background-color:#fefeff\">of</span> <span style=\"background-color:#fffcfc\">the</span> <span style=\"background-color:#ffeaea\">room</span> <span style=\"background-color:#fffafa\">that</span> <span style=\"background-color:#e8e8ff\">held</span> <span style=\"background-color:#fffcfc\">the</span> <span style=\"background-color:#dedeff\">twenty-first</span> <span style=\"background-color:#f3f3ff\">century</span> <span style=\"background-color:#fff2f2\">.</span> \n"
      ],
      "text/plain": [
       "<IPython.core.display.HTML object>"
      ]
     },
     "metadata": {},
     "output_type": "display_data"
    },
    {
     "data": {
      "text/html": [
       "correct label: <b>and</b>"
      ],
      "text/plain": [
       "<IPython.core.display.HTML object>"
      ]
     },
     "metadata": {},
     "output_type": "display_data"
    },
    {
     "data": {
      "text/html": [
       "predict label: <b>and</b>"
      ],
      "text/plain": [
       "<IPython.core.display.HTML object>"
      ]
     },
     "metadata": {},
     "output_type": "display_data"
    },
    {
     "data": {
      "text/html": [
       "<span style=\"background-color:#9696ff\">He</span> <span style=\"background-color:#ff9a9a\">held</span> <span style=\"background-color:#ff8686\">up</span> <span style=\"background-color:#ceceff\">an</span> <span style=\"background-color:#f8f8ff\">empty</span> <span style=\"background-color:#ceceff\">syringe</span> <span style=\"background-color:#ff0000\">,</span> <span style=\"background-color:#c3c3ff\">making</span> <span style=\"background-color:#1414ff\">sure</span> <span style=\"background-color:#ffdede\">he</span> <span style=\"background-color:#ffecec\">had</span> <span style=\"background-color:#ffe8e8\">my</span> <span style=\"background-color:#fafaff\">attention</span> <span style=\"background-color:#7878ff\">.</span> \n"
      ],
      "text/plain": [
       "<IPython.core.display.HTML object>"
      ]
     },
     "metadata": {},
     "output_type": "display_data"
    },
    {
     "data": {
      "text/html": [
       "<span style=\"background-color:#ff0000\">Waved</span> <span style=\"background-color:#ffa0a0\">the</span> <span style=\"background-color:#bebeff\">needle</span> <span style=\"background-color:#fffcfc\">in</span> <span style=\"background-color:#fcfcff\">front</span> <span style=\"background-color:#fffcfc\">of</span> <span style=\"background-color:#f6f6ff\">my</span> <span style=\"background-color:#fff6f6\">face</span> <span style=\"background-color:#ffdcdc\">.</span> \n"
      ],
      "text/plain": [
       "<IPython.core.display.HTML object>"
      ]
     },
     "metadata": {},
     "output_type": "display_data"
    },
    {
     "data": {
      "text/html": [
       "correct label: <b>and</b>"
      ],
      "text/plain": [
       "<IPython.core.display.HTML object>"
      ]
     },
     "metadata": {},
     "output_type": "display_data"
    },
    {
     "data": {
      "text/html": [
       "predict label: <b>and</b>"
      ],
      "text/plain": [
       "<IPython.core.display.HTML object>"
      ]
     },
     "metadata": {},
     "output_type": "display_data"
    },
    {
     "data": {
      "text/html": [
       "<span style=\"background-color:#ff3c3c\">Before</span> <span style=\"background-color:#ffb3b3\">his</span> <span style=\"background-color:#a6a6ff\">buddy</span> <span style=\"background-color:#6464ff\">could</span> <span style=\"background-color:#e3e3ff\">spout</span> <span style=\"background-color:#0000ff\">anything</span> <span style=\"background-color:#c2c2ff\">else</span> <span style=\"background-color:#ffc6c6\">,</span> <span style=\"background-color:#ff3030\">clapped</span> <span style=\"background-color:#ffd0d0\">palms</span> <span style=\"background-color:#f2f2ff\">with</span> <span style=\"background-color:#fffafa\">bails</span> <span style=\"background-color:#c3c3ff\">.</span> \n"
      ],
      "text/plain": [
       "<IPython.core.display.HTML object>"
      ]
     },
     "metadata": {},
     "output_type": "display_data"
    },
    {
     "data": {
      "text/html": [
       "<span style=\"background-color:#ff0000\">Nodded</span> <span style=\"background-color:#fff0f0\">at</span> <span style=\"background-color:#e3e3ff\">de</span> <span style=\"background-color:#eaeaff\">la</span> <span style=\"background-color:#fcfcff\">cruz</span> <span style=\"background-color:#ffe4e4\">.</span> \n"
      ],
      "text/plain": [
       "<IPython.core.display.HTML object>"
      ]
     },
     "metadata": {},
     "output_type": "display_data"
    },
    {
     "data": {
      "text/html": [
       "correct label: <b>and</b>"
      ],
      "text/plain": [
       "<IPython.core.display.HTML object>"
      ]
     },
     "metadata": {},
     "output_type": "display_data"
    },
    {
     "data": {
      "text/html": [
       "predict label: <b>and</b>"
      ],
      "text/plain": [
       "<IPython.core.display.HTML object>"
      ]
     },
     "metadata": {},
     "output_type": "display_data"
    },
    {
     "data": {
      "text/html": [
       "<span style=\"background-color:#0000ff\">As</span> <span style=\"background-color:#ff8686\">he</span> <span style=\"background-color:#ffcece\">spun</span> <span style=\"background-color:#fafaff\">,</span> <span style=\"background-color:#d3d3ff\">there</span> <span style=\"background-color:#0606ff\">was</span> <span style=\"background-color:#e6e6ff\">suddenly</span> <span style=\"background-color:#ffe0e0\">a</span> <span style=\"background-color:#e6e6ff\">drop</span> <span style=\"background-color:#e8e8ff\">below</span> <span style=\"background-color:#ff0e0e\">him-the</span> <span style=\"background-color:#fcfcff\">hard</span> <span style=\"background-color:#5858ff\">floor</span> <span style=\"background-color:#fffcfc\">vanished</span> <span style=\"background-color:#ffbebe\">.</span> \n"
      ],
      "text/plain": [
       "<IPython.core.display.HTML object>"
      ]
     },
     "metadata": {},
     "output_type": "display_data"
    },
    {
     "data": {
      "text/html": [
       "<span style=\"background-color:#ff1616\">He</span> <span style=\"background-color:#b6b6ff\">was</span> <span style=\"background-color:#ff1616\">in</span> <span style=\"background-color:#ff0000\">open</span> <span style=\"background-color:#fafaff\">air</span> <span style=\"background-color:#ffe0e0\">.</span> \n"
      ],
      "text/plain": [
       "<IPython.core.display.HTML object>"
      ]
     },
     "metadata": {},
     "output_type": "display_data"
    },
    {
     "data": {
      "text/html": [
       "correct label: <b>and</b>"
      ],
      "text/plain": [
       "<IPython.core.display.HTML object>"
      ]
     },
     "metadata": {},
     "output_type": "display_data"
    },
    {
     "data": {
      "text/html": [
       "predict label: <b>when</b>"
      ],
      "text/plain": [
       "<IPython.core.display.HTML object>"
      ]
     },
     "metadata": {},
     "output_type": "display_data"
    },
    {
     "data": {
      "text/html": [
       "<span style=\"background-color:#7474ff\">That</span> <span style=\"background-color:#ff0000\">led</span> <span style=\"background-color:#ceceff\">away</span> <span style=\"background-color:#ffb6b6\">from</span> <span style=\"background-color:#fff6f6\">the</span> <span style=\"background-color:#ff5050\">river</span> <span style=\"background-color:#9393ff\">.</span> \n"
      ],
      "text/plain": [
       "<IPython.core.display.HTML object>"
      ]
     },
     "metadata": {},
     "output_type": "display_data"
    },
    {
     "data": {
      "text/html": [
       "<span style=\"background-color:#ff0000\">Followed</span> <span style=\"background-color:#eeeeff\">it</span> <span style=\"background-color:#e8e8ff\">to</span> <span style=\"background-color:#fefeff\">a</span> <span style=\"background-color:#fff6f6\">small</span> <span style=\"background-color:#fff0f0\">clearing</span> <span style=\"background-color:#ffeeee\">.</span> \n"
      ],
      "text/plain": [
       "<IPython.core.display.HTML object>"
      ]
     },
     "metadata": {},
     "output_type": "display_data"
    },
    {
     "data": {
      "text/html": [
       "correct label: <b>and</b>"
      ],
      "text/plain": [
       "<IPython.core.display.HTML object>"
      ]
     },
     "metadata": {},
     "output_type": "display_data"
    },
    {
     "data": {
      "text/html": [
       "predict label: <b>and</b>"
      ],
      "text/plain": [
       "<IPython.core.display.HTML object>"
      ]
     },
     "metadata": {},
     "output_type": "display_data"
    },
    {
     "data": {
      "text/html": [
       "<span style=\"background-color:#acacff\">I</span> <span style=\"background-color:#ff0000\">moved</span> <span style=\"background-color:#fcfcff\">back</span> <span style=\"background-color:#d2d2ff\">,</span> <span style=\"background-color:#f2f2ff\">exposed</span> <span style=\"background-color:#eeeeff\">to</span> <span style=\"background-color:#fffefe\">the</span> <span style=\"background-color:#ffa2a2\">moonlight</span> <span style=\"background-color:#c0c0ff\">.</span> \n"
      ],
      "text/plain": [
       "<IPython.core.display.HTML object>"
      ]
     },
     "metadata": {},
     "output_type": "display_data"
    },
    {
     "data": {
      "text/html": [
       "<span style=\"background-color:#ff0000\">Stared</span> <span style=\"background-color:#e8e8ff\">at</span> <span style=\"background-color:#ffdcdc\">the</span> <span style=\"background-color:#ffc6c6\">smooth</span> <span style=\"background-color:#d2d2ff\">line</span> <span style=\"background-color:#f8f8ff\">of</span> <span style=\"background-color:#fcfcff\">his</span> <span style=\"background-color:#fff4f4\">neck</span> <span style=\"background-color:#ffdede\">.</span> \n"
      ],
      "text/plain": [
       "<IPython.core.display.HTML object>"
      ]
     },
     "metadata": {},
     "output_type": "display_data"
    },
    {
     "data": {
      "text/html": [
       "correct label: <b>and</b>"
      ],
      "text/plain": [
       "<IPython.core.display.HTML object>"
      ]
     },
     "metadata": {},
     "output_type": "display_data"
    },
    {
     "data": {
      "text/html": [
       "predict label: <b>and</b>"
      ],
      "text/plain": [
       "<IPython.core.display.HTML object>"
      ]
     },
     "metadata": {},
     "output_type": "display_data"
    },
    {
     "data": {
      "text/html": [
       "<span style=\"background-color:#b3b3ff\">``</span> <span style=\"background-color:#ff4c4c\">we</span> <span style=\"background-color:#ff0000\">checked</span> <span style=\"background-color:#ffd2d2\">the</span> <span style=\"background-color:#ffdcdc\">bars</span> <span style=\"background-color:#b3b3ff\">on</span> <span style=\"background-color:#ffb3b3\">the</span> <span style=\"background-color:#ffd2d2\">window</span> <span style=\"background-color:#7878ff\">.</span> \n"
      ],
      "text/plain": [
       "<IPython.core.display.HTML object>"
      ]
     },
     "metadata": {},
     "output_type": "display_data"
    },
    {
     "data": {
      "text/html": [
       "<span style=\"background-color:#ff0000\">Did</span> <span style=\"background-color:#ffe6e6\">a</span> <span style=\"background-color:#ffcaca\">complete</span> <span style=\"background-color:#f2f2ff\">sweep</span> <span style=\"background-color:#fff4f4\">of</span> <span style=\"background-color:#fff0f0\">the</span> <span style=\"background-color:#ffe4e4\">wing</span> <span style=\"background-color:#acacff\">and</span> <span style=\"background-color:#ffe4e4\">the</span> <span style=\"background-color:#d6d6ff\">outside</span> <span style=\"background-color:#ffc8c8\">.</span> \n"
      ],
      "text/plain": [
       "<IPython.core.display.HTML object>"
      ]
     },
     "metadata": {},
     "output_type": "display_data"
    },
    {
     "data": {
      "text/html": [
       "correct label: <b>and</b>"
      ],
      "text/plain": [
       "<IPython.core.display.HTML object>"
      ]
     },
     "metadata": {},
     "output_type": "display_data"
    },
    {
     "data": {
      "text/html": [
       "predict label: <b>and</b>"
      ],
      "text/plain": [
       "<IPython.core.display.HTML object>"
      ]
     },
     "metadata": {},
     "output_type": "display_data"
    },
    {
     "data": {
      "text/html": [
       "<span style=\"background-color:#ffc0c0\">You</span> <span style=\"background-color:#ff0000\">helped</span> <span style=\"background-color:#f6f6ff\">me</span> <span style=\"background-color:#8c8cff\">hide</span> <span style=\"background-color:#ffaeae\">from</span> <span style=\"background-color:#ffdada\">the</span> <span style=\"background-color:#ff6c6c\">hand</span> <span style=\"background-color:#6060ff\">.</span> \n"
      ],
      "text/plain": [
       "<IPython.core.display.HTML object>"
      ]
     },
     "metadata": {},
     "output_type": "display_data"
    },
    {
     "data": {
      "text/html": [
       "<span style=\"background-color:#0000ff\">You</span> <span style=\"background-color:#6868ff\">saved</span> <span style=\"background-color:#ffb8b8\">my</span> <span style=\"background-color:#e6e6ff\">cousin</span> <span style=\"background-color:#ffeeee\">.</span> \n"
      ],
      "text/plain": [
       "<IPython.core.display.HTML object>"
      ]
     },
     "metadata": {},
     "output_type": "display_data"
    },
    {
     "data": {
      "text/html": [
       "correct label: <b>and</b>"
      ],
      "text/plain": [
       "<IPython.core.display.HTML object>"
      ]
     },
     "metadata": {},
     "output_type": "display_data"
    },
    {
     "data": {
      "text/html": [
       "predict label: <b>and</b>"
      ],
      "text/plain": [
       "<IPython.core.display.HTML object>"
      ]
     },
     "metadata": {},
     "output_type": "display_data"
    },
    {
     "data": {
      "text/html": [
       "<span style=\"background-color:#ff6c6c\">Servants</span> <span style=\"background-color:#ff0000\">came</span> <span style=\"background-color:#ffbaba\">out</span> <span style=\"background-color:#7878ff\">to</span> <span style=\"background-color:#eaeaff\">lead</span> <span style=\"background-color:#c8c8ff\">away</span> <span style=\"background-color:#ffd8d8\">the</span> <span style=\"background-color:#ff3636\">horses</span> <span style=\"background-color:#9c9cff\">.</span> \n"
      ],
      "text/plain": [
       "<IPython.core.display.HTML object>"
      ]
     },
     "metadata": {},
     "output_type": "display_data"
    },
    {
     "data": {
      "text/html": [
       "<span style=\"background-color:#1a1aff\">A</span> <span style=\"background-color:#aaaaff\">priest</span> <span style=\"background-color:#ffb0b0\">in</span> <span style=\"background-color:#ffe2e2\">a</span> <span style=\"background-color:#ff0000\">hastily</span> <span style=\"background-color:#fff4f4\">donned</span> <span style=\"background-color:#e3e3ff\">frock</span> <span style=\"background-color:#c2c2ff\">rushed</span> <span style=\"background-color:#dedeff\">out</span> <span style=\"background-color:#ffd6d6\">to</span> <span style=\"background-color:#e3e3ff\">greet</span> <span style=\"background-color:#f0f0ff\">his</span> <span style=\"background-color:#e6e6ff\">visitors</span> <span style=\"background-color:#ffb8b8\">.</span> \n"
      ],
      "text/plain": [
       "<IPython.core.display.HTML object>"
      ]
     },
     "metadata": {},
     "output_type": "display_data"
    },
    {
     "data": {
      "text/html": [
       "correct label: <b>and</b>"
      ],
      "text/plain": [
       "<IPython.core.display.HTML object>"
      ]
     },
     "metadata": {},
     "output_type": "display_data"
    },
    {
     "data": {
      "text/html": [
       "predict label: <b>and</b>"
      ],
      "text/plain": [
       "<IPython.core.display.HTML object>"
      ]
     },
     "metadata": {},
     "output_type": "display_data"
    },
    {
     "data": {
      "text/html": [
       "<span style=\"background-color:#0000ff\">Should</span> <span style=\"background-color:#ffaeae\">i</span> <span style=\"background-color:#ff8e8e\">go</span> <span style=\"background-color:#9090ff\">jump</span> <span style=\"background-color:#eaeaff\">onto</span> <span style=\"background-color:#ff4848\">gus</span> <span style=\"background-color:#7474ff\">.</span> \n"
      ],
      "text/plain": [
       "<IPython.core.display.HTML object>"
      ]
     },
     "metadata": {},
     "output_type": "display_data"
    },
    {
     "data": {
      "text/html": [
       "<span style=\"background-color:#ff0000\">Ride</span> <span style=\"background-color:#ff2929\">the</span> <span style=\"background-color:#f8f8ff\">night</span> <span style=\"background-color:#f2f2ff\">through</span> <span style=\"background-color:#ffd8d8\">to</span> <span style=\"background-color:#d2d2ff\">go</span> <span style=\"background-color:#ffd2d2\">fetch</span> <span style=\"background-color:#fffefe\">the</span> <span style=\"background-color:#e2e2ff\">doctor</span> <span style=\"background-color:#fefeff\">.</span> \n"
      ],
      "text/plain": [
       "<IPython.core.display.HTML object>"
      ]
     },
     "metadata": {},
     "output_type": "display_data"
    },
    {
     "data": {
      "text/html": [
       "correct label: <b>and</b>"
      ],
      "text/plain": [
       "<IPython.core.display.HTML object>"
      ]
     },
     "metadata": {},
     "output_type": "display_data"
    },
    {
     "data": {
      "text/html": [
       "predict label: <b>and</b>"
      ],
      "text/plain": [
       "<IPython.core.display.HTML object>"
      ]
     },
     "metadata": {},
     "output_type": "display_data"
    },
    {
     "data": {
      "text/html": [
       "<span style=\"background-color:#ececff\">The</span> <span style=\"background-color:#a3a3ff\">staff</span> <span style=\"background-color:#eaeaff\">again</span> <span style=\"background-color:#ff0000\">worked</span> <span style=\"background-color:#dcdcff\">the</span> <span style=\"background-color:#ffbcbc\">phone</span> <span style=\"background-color:#8c8cff\">.</span> \n"
      ],
      "text/plain": [
       "<IPython.core.display.HTML object>"
      ]
     },
     "metadata": {},
     "output_type": "display_data"
    },
    {
     "data": {
      "text/html": [
       "<span style=\"background-color:#ff0e0e\">Just</span> <span style=\"background-color:#fff8f8\">as</span> <span style=\"background-color:#ff0000\">quickly</span> <span style=\"background-color:#e2e2ff\">two</span> <span style=\"background-color:#8c8cff\">helicopters</span> <span style=\"background-color:#9090ff\">began</span> <span style=\"background-color:#ffbcbc\">warming</span> <span style=\"background-color:#dadaff\">up</span> <span style=\"background-color:#ffd6d6\">.</span> \n"
      ],
      "text/plain": [
       "<IPython.core.display.HTML object>"
      ]
     },
     "metadata": {},
     "output_type": "display_data"
    },
    {
     "data": {
      "text/html": [
       "correct label: <b>and</b>"
      ],
      "text/plain": [
       "<IPython.core.display.HTML object>"
      ]
     },
     "metadata": {},
     "output_type": "display_data"
    },
    {
     "data": {
      "text/html": [
       "predict label: <b>but</b>"
      ],
      "text/plain": [
       "<IPython.core.display.HTML object>"
      ]
     },
     "metadata": {},
     "output_type": "display_data"
    },
    {
     "data": {
      "text/html": [
       "<span style=\"background-color:#b0b0ff\">I</span> <span style=\"background-color:#ff0000\">threw</span> <span style=\"background-color:#fffafa\">a</span> <span style=\"background-color:#3c3cff\">slicing</span> <span style=\"background-color:#ffeeee\">cut</span> <span style=\"background-color:#ffe4e4\">of</span> <span style=\"background-color:#ffd8d8\">light</span> <span style=\"background-color:#ffecec\">high</span> <span style=\"background-color:#ffb2b2\">,</span> <span style=\"background-color:#9a9aff\">hoping</span> <span style=\"background-color:#ceceff\">to</span> <span style=\"background-color:#ffeaea\">hit</span> <span style=\"background-color:#fff8f8\">something</span> <span style=\"background-color:#fff6f6\">other</span> <span style=\"background-color:#b6b6ff\">than</span> <span style=\"background-color:#fcfcff\">the</span> <span style=\"background-color:#ffa8a8\">staircase</span> <span style=\"background-color:#9090ff\">.</span> \n"
      ],
      "text/plain": [
       "<IPython.core.display.HTML object>"
      ]
     },
     "metadata": {},
     "output_type": "display_data"
    },
    {
     "data": {
      "text/html": [
       "<span style=\"background-color:#8686ff\">We</span> <span style=\"background-color:#ff0000\">tumbled</span> <span style=\"background-color:#fafaff\">down</span> <span style=\"background-color:#fffcfc\">the</span> <span style=\"background-color:#7070ff\">final</span> <span style=\"background-color:#ffcaca\">flight</span> <span style=\"background-color:#ffbcbc\">.</span> \n"
      ],
      "text/plain": [
       "<IPython.core.display.HTML object>"
      ]
     },
     "metadata": {},
     "output_type": "display_data"
    },
    {
     "data": {
      "text/html": [
       "correct label: <b>and</b>"
      ],
      "text/plain": [
       "<IPython.core.display.HTML object>"
      ]
     },
     "metadata": {},
     "output_type": "display_data"
    },
    {
     "data": {
      "text/html": [
       "predict label: <b>and</b>"
      ],
      "text/plain": [
       "<IPython.core.display.HTML object>"
      ]
     },
     "metadata": {},
     "output_type": "display_data"
    },
    {
     "data": {
      "text/html": [
       "<span style=\"background-color:#dadaff\">Something</span> <span style=\"background-color:#ffd8d8\">settle</span> <span style=\"background-color:#ff9c9c\">in</span> <span style=\"background-color:#ffacac\">his</span> <span style=\"background-color:#0000ff\">gut</span> <span style=\"background-color:#ffc8c8\">at</span> <span style=\"background-color:#ffd2d2\">hearing</span> <span style=\"background-color:#9e9eff\">those</span> <span style=\"background-color:#6161ff\">sounds</span> <span style=\"background-color:#fefeff\">in</span> <span style=\"background-color:#fff2f2\">his</span> <span style=\"background-color:#c3c3ff\">home</span> <span style=\"background-color:#ff6161\">.</span> \n"
      ],
      "text/plain": [
       "<IPython.core.display.HTML object>"
      ]
     },
     "metadata": {},
     "output_type": "display_data"
    },
    {
     "data": {
      "text/html": [
       "<span style=\"background-color:#ff0000\">Something</span> <span style=\"background-color:#c8c8ff\">,</span> <span style=\"background-color:#ffe4e4\">to</span> <span style=\"background-color:#dcdcff\">his</span> <span style=\"background-color:#f0f0ff\">surprise</span> <span style=\"background-color:#a8a8ff\">,</span> <span style=\"background-color:#ffcccc\">was</span> <span style=\"background-color:#f3f3ff\">not</span> <span style=\"background-color:#ffb6b6\">unpleasant</span> <span style=\"background-color:#fff8f8\">.</span> \n"
      ],
      "text/plain": [
       "<IPython.core.display.HTML object>"
      ]
     },
     "metadata": {},
     "output_type": "display_data"
    },
    {
     "data": {
      "text/html": [
       "correct label: <b>and</b>"
      ],
      "text/plain": [
       "<IPython.core.display.HTML object>"
      ]
     },
     "metadata": {},
     "output_type": "display_data"
    },
    {
     "data": {
      "text/html": [
       "predict label: <b>if</b>"
      ],
      "text/plain": [
       "<IPython.core.display.HTML object>"
      ]
     },
     "metadata": {},
     "output_type": "display_data"
    },
    {
     "data": {
      "text/html": [
       "<span style=\"background-color:#ff5c5c\">I</span> <span style=\"background-color:#ff6464\">dont</span> <span style=\"background-color:#0c0cff\">love</span> <span style=\"background-color:#ff0000\">you</span> <span style=\"background-color:#ff9a9a\">that</span> <span style=\"background-color:#ffdede\">way</span> <span style=\"background-color:#ffdada\">.</span> \n"
      ],
      "text/plain": [
       "<IPython.core.display.HTML object>"
      ]
     },
     "metadata": {},
     "output_type": "display_data"
    },
    {
     "data": {
      "text/html": [
       "<span style=\"background-color:#ff9696\">Maybe</span> <span style=\"background-color:#d8d8ff\">i</span> <span style=\"background-color:#ff0000\">never</span> <span style=\"background-color:#ffdada\">have</span> <span style=\"background-color:#e8e8ff\">.</span> \n"
      ],
      "text/plain": [
       "<IPython.core.display.HTML object>"
      ]
     },
     "metadata": {},
     "output_type": "display_data"
    },
    {
     "data": {
      "text/html": [
       "correct label: <b>and</b>"
      ],
      "text/plain": [
       "<IPython.core.display.HTML object>"
      ]
     },
     "metadata": {},
     "output_type": "display_data"
    },
    {
     "data": {
      "text/html": [
       "predict label: <b>because</b>"
      ],
      "text/plain": [
       "<IPython.core.display.HTML object>"
      ]
     },
     "metadata": {},
     "output_type": "display_data"
    },
    {
     "data": {
      "text/html": [
       "<span style=\"background-color:#ff9a9a\">The</span> <span style=\"background-color:#ffa2a2\">band</span> <span style=\"background-color:#ff0000\">reached</span> <span style=\"background-color:#ffecec\">the</span> <span style=\"background-color:#bcbcff\">end</span> <span style=\"background-color:#fff8f8\">of</span> <span style=\"background-color:#8686ff\">its</span> <span style=\"background-color:#ff7979\">set</span> <span style=\"background-color:#b3b3ff\">.</span> \n"
      ],
      "text/plain": [
       "<IPython.core.display.HTML object>"
      ]
     },
     "metadata": {},
     "output_type": "display_data"
    },
    {
     "data": {
      "text/html": [
       "<span style=\"background-color:#0000ff\">The</span> <span style=\"background-color:#0000ff\">singer</span> <span style=\"background-color:#0606ff\">made</span> <span style=\"background-color:#ff8c8c\">the</span> <span style=\"background-color:#ffe6e6\">dinner</span> <span style=\"background-color:#ff4040\">announcement</span> <span style=\"background-color:#ff4848\">in</span> <span style=\"background-color:#fffefe\">three</span> <span style=\"background-color:#5050ff\">languages</span> <span style=\"background-color:#ff3131\">.</span> \n"
      ],
      "text/plain": [
       "<IPython.core.display.HTML object>"
      ]
     },
     "metadata": {},
     "output_type": "display_data"
    },
    {
     "data": {
      "text/html": [
       "correct label: <b>and</b>"
      ],
      "text/plain": [
       "<IPython.core.display.HTML object>"
      ]
     },
     "metadata": {},
     "output_type": "display_data"
    },
    {
     "data": {
      "text/html": [
       "predict label: <b>and</b>"
      ],
      "text/plain": [
       "<IPython.core.display.HTML object>"
      ]
     },
     "metadata": {},
     "output_type": "display_data"
    },
    {
     "data": {
      "text/html": [
       "<span style=\"background-color:#ffbebe\">A</span> <span style=\"background-color:#ffbebe\">rice</span> <span style=\"background-color:#fff8f8\">packet</span> <span style=\"background-color:#ff0000\">flew</span> <span style=\"background-color:#e8e8ff\">out</span> <span style=\"background-color:#ffe2e2\">of</span> <span style=\"background-color:#ffd0d0\">one</span> <span style=\"background-color:#fff8f8\">of</span> <span style=\"background-color:#ffeaea\">the</span> <span style=\"background-color:#ffdcdc\">open</span> <span style=\"background-color:#ff9292\">cupboards</span> <span style=\"background-color:#c6c6ff\">.</span> \n"
      ],
      "text/plain": [
       "<IPython.core.display.HTML object>"
      ]
     },
     "metadata": {},
     "output_type": "display_data"
    },
    {
     "data": {
      "text/html": [
       "<span style=\"background-color:#ff0000\">Whacked</span> <span style=\"background-color:#8c8cff\">rachel</span> <span style=\"background-color:#ffb0b0\">across</span> <span style=\"background-color:#ffb6b6\">the</span> <span style=\"background-color:#ffeeee\">head</span> <span style=\"background-color:#ff9696\">.</span> \n"
      ],
      "text/plain": [
       "<IPython.core.display.HTML object>"
      ]
     },
     "metadata": {},
     "output_type": "display_data"
    },
    {
     "data": {
      "text/html": [
       "correct label: <b>and</b>"
      ],
      "text/plain": [
       "<IPython.core.display.HTML object>"
      ]
     },
     "metadata": {},
     "output_type": "display_data"
    },
    {
     "data": {
      "text/html": [
       "predict label: <b>and</b>"
      ],
      "text/plain": [
       "<IPython.core.display.HTML object>"
      ]
     },
     "metadata": {},
     "output_type": "display_data"
    },
    {
     "data": {
      "text/html": [
       "<span style=\"background-color:#c0c0ff\">Josie</span> <span style=\"background-color:#ff0000\">hopped</span> <span style=\"background-color:#ff5151\">atop</span> <span style=\"background-color:#ffe8e8\">a</span> <span style=\"background-color:#ffa0a0\">stool</span> <span style=\"background-color:#f3f3ff\">.</span> \n"
      ],
      "text/plain": [
       "<IPython.core.display.HTML object>"
      ]
     },
     "metadata": {},
     "output_type": "display_data"
    },
    {
     "data": {
      "text/html": [
       "<span style=\"background-color:#ff0000\">Began</span> <span style=\"background-color:#f2f2ff\">swiveling</span> <span style=\"background-color:#ffeeee\">back</span> <span style=\"background-color:#fff0f0\">and</span> <span style=\"background-color:#ffdede\">.</span> \n"
      ],
      "text/plain": [
       "<IPython.core.display.HTML object>"
      ]
     },
     "metadata": {},
     "output_type": "display_data"
    },
    {
     "data": {
      "text/html": [
       "correct label: <b>and</b>"
      ],
      "text/plain": [
       "<IPython.core.display.HTML object>"
      ]
     },
     "metadata": {},
     "output_type": "display_data"
    },
    {
     "data": {
      "text/html": [
       "predict label: <b>and</b>"
      ],
      "text/plain": [
       "<IPython.core.display.HTML object>"
      ]
     },
     "metadata": {},
     "output_type": "display_data"
    },
    {
     "data": {
      "text/html": [
       "<span style=\"background-color:#c0c0ff\">I</span> <span style=\"background-color:#ff0000\">opened</span> <span style=\"background-color:#fffafa\">a</span> <span style=\"background-color:#ffcaca\">box</span> <span style=\"background-color:#d3d3ff\">.</span> \n"
      ],
      "text/plain": [
       "<IPython.core.display.HTML object>"
      ]
     },
     "metadata": {},
     "output_type": "display_data"
    },
    {
     "data": {
      "text/html": [
       "<span style=\"background-color:#ff0000\">Found</span> <span style=\"background-color:#f0f0ff\">row</span> <span style=\"background-color:#f0f0ff\">upon</span> <span style=\"background-color:#fffafa\">row</span> <span style=\"background-color:#f3f3ff\">of</span> <span style=\"background-color:#9e9eff\">pill</span> <span style=\"background-color:#ffecec\">bottles</span> <span style=\"background-color:#ffd2d2\">.</span> \n"
      ],
      "text/plain": [
       "<IPython.core.display.HTML object>"
      ]
     },
     "metadata": {},
     "output_type": "display_data"
    },
    {
     "data": {
      "text/html": [
       "correct label: <b>and</b>"
      ],
      "text/plain": [
       "<IPython.core.display.HTML object>"
      ]
     },
     "metadata": {},
     "output_type": "display_data"
    },
    {
     "data": {
      "text/html": [
       "predict label: <b>and</b>"
      ],
      "text/plain": [
       "<IPython.core.display.HTML object>"
      ]
     },
     "metadata": {},
     "output_type": "display_data"
    },
    {
     "data": {
      "text/html": [
       "<span style=\"background-color:#eeeeff\">Working</span> <span style=\"background-color:#7474ff\">with</span> <span style=\"background-color:#ff0000\">raw</span> <span style=\"background-color:#ffb6b6\">ore</span> <span style=\"background-color:#9696ff\">.</span> \n"
      ],
      "text/plain": [
       "<IPython.core.display.HTML object>"
      ]
     },
     "metadata": {},
     "output_type": "display_data"
    },
    {
     "data": {
      "text/html": [
       "<span style=\"background-color:#f6f6ff\">Shaping</span> <span style=\"background-color:#ff0000\">it</span> <span style=\"background-color:#ffeaea\">into</span> <span style=\"background-color:#a2a2ff\">something</span> <span style=\"background-color:#ffdada\">smooth</span> <span style=\"background-color:#ffeeee\">,</span> <span style=\"background-color:#a8a8ff\">supple</span> <span style=\"background-color:#eeeeff\">,</span> <span style=\"background-color:#b3b3ff\">and</span> <span style=\"background-color:#ff7979\">wondrous</span> <span style=\"background-color:#ff9a9a\">.</span> \n"
      ],
      "text/plain": [
       "<IPython.core.display.HTML object>"
      ]
     },
     "metadata": {},
     "output_type": "display_data"
    },
    {
     "data": {
      "text/html": [
       "correct label: <b>and</b>"
      ],
      "text/plain": [
       "<IPython.core.display.HTML object>"
      ]
     },
     "metadata": {},
     "output_type": "display_data"
    },
    {
     "data": {
      "text/html": [
       "predict label: <b>and</b>"
      ],
      "text/plain": [
       "<IPython.core.display.HTML object>"
      ]
     },
     "metadata": {},
     "output_type": "display_data"
    },
    {
     "data": {
      "text/html": [
       "<span style=\"background-color:#e0e0ff\">Ill</span> <span style=\"background-color:#0000ff\">go</span> <span style=\"background-color:#9292ff\">with</span> <span style=\"background-color:#ff6464\">you</span> <span style=\"background-color:#ff0000\">.</span> \n"
      ],
      "text/plain": [
       "<IPython.core.display.HTML object>"
      ]
     },
     "metadata": {},
     "output_type": "display_data"
    },
    {
     "data": {
      "text/html": [
       "<span style=\"background-color:#ffe0e0\">Morales</span> <span style=\"background-color:#ff5959\">voice</span> <span style=\"background-color:#ffd2d2\">trailed</span> <span style=\"background-color:#ffcaca\">off</span> <span style=\"background-color:#0000ff\">as</span> <span style=\"background-color:#ffeaea\">she</span> <span style=\"background-color:#ffc2c2\">looked</span> <span style=\"background-color:#ffe6e6\">up</span> <span style=\"background-color:#fefeff\">at</span> <span style=\"background-color:#ffcece\">ethan</span> <span style=\"background-color:#ececff\">.</span> \n"
      ],
      "text/plain": [
       "<IPython.core.display.HTML object>"
      ]
     },
     "metadata": {},
     "output_type": "display_data"
    },
    {
     "data": {
      "text/html": [
       "correct label: <b>and</b>"
      ],
      "text/plain": [
       "<IPython.core.display.HTML object>"
      ]
     },
     "metadata": {},
     "output_type": "display_data"
    },
    {
     "data": {
      "text/html": [
       "predict label: <b>when</b>"
      ],
      "text/plain": [
       "<IPython.core.display.HTML object>"
      ]
     },
     "metadata": {},
     "output_type": "display_data"
    },
    {
     "data": {
      "text/html": [
       "<span style=\"background-color:#ff9e9e\">,</span> <span style=\"background-color:#ffaeae\">i</span> <span style=\"background-color:#ff7979\">rose</span> <span style=\"background-color:#ffe0e0\">from</span> <span style=\"background-color:#fff4f4\">the</span> <span style=\"background-color:#ffe6e6\">bed</span> <span style=\"background-color:#ffeeee\">,</span> <span style=\"background-color:#c8c8ff\">nerves</span> <span style=\"background-color:#ffe4e4\">singing</span> <span style=\"background-color:#0000ff\">and</span> <span style=\"background-color:#f6f6ff\">head</span> <span style=\"background-color:#fff8f8\">floating</span> <span style=\"background-color:#a2a2ff\">.</span> \n"
      ],
      "text/plain": [
       "<IPython.core.display.HTML object>"
      ]
     },
     "metadata": {},
     "output_type": "display_data"
    },
    {
     "data": {
      "text/html": [
       "<span style=\"background-color:#ff0000\">over</span> <span style=\"background-color:#dedeff\">to</span> <span style=\"background-color:#ffd3d3\">the</span> <span style=\"background-color:#1212ff\">landline</span> <span style=\"background-color:#ffd2d2\">.</span> \n"
      ],
      "text/plain": [
       "<IPython.core.display.HTML object>"
      ]
     },
     "metadata": {},
     "output_type": "display_data"
    },
    {
     "data": {
      "text/html": [
       "correct label: <b>and</b>"
      ],
      "text/plain": [
       "<IPython.core.display.HTML object>"
      ]
     },
     "metadata": {},
     "output_type": "display_data"
    },
    {
     "data": {
      "text/html": [
       "predict label: <b>and</b>"
      ],
      "text/plain": [
       "<IPython.core.display.HTML object>"
      ]
     },
     "metadata": {},
     "output_type": "display_data"
    },
    {
     "data": {
      "text/html": [
       "<span style=\"background-color:#a2a2ff\">Corbin</span> <span style=\"background-color:#ff0000\">cleared</span> <span style=\"background-color:#ffc3c3\">his</span> <span style=\"background-color:#fefeff\">throat</span> <span style=\"background-color:#ffd8d8\">,</span> <span style=\"background-color:#ffb8b8\">but</span> <span style=\"background-color:#b0b0ff\">still</span> <span style=\"background-color:#eeeeff\">exercising</span> <span style=\"background-color:#fff0f0\">extreme</span> <span style=\"background-color:#9393ff\">caution</span> <span style=\"background-color:#c8c8ff\">.</span> \n"
      ],
      "text/plain": [
       "<IPython.core.display.HTML object>"
      ]
     },
     "metadata": {},
     "output_type": "display_data"
    },
    {
     "data": {
      "text/html": [
       "<span style=\"background-color:#ff0000\">Gave</span> <span style=\"background-color:#ffc8c8\">it</span> <span style=\"background-color:#f2f2ff\">a</span> <span style=\"background-color:#fcfcff\">little</span> <span style=\"background-color:#ffeeee\">more</span> <span style=\"background-color:#fcfcff\">effort</span> <span style=\"background-color:#fff8f8\">.</span> \n"
      ],
      "text/plain": [
       "<IPython.core.display.HTML object>"
      ]
     },
     "metadata": {},
     "output_type": "display_data"
    },
    {
     "data": {
      "text/html": [
       "correct label: <b>and</b>"
      ],
      "text/plain": [
       "<IPython.core.display.HTML object>"
      ]
     },
     "metadata": {},
     "output_type": "display_data"
    },
    {
     "data": {
      "text/html": [
       "predict label: <b>and</b>"
      ],
      "text/plain": [
       "<IPython.core.display.HTML object>"
      ]
     },
     "metadata": {},
     "output_type": "display_data"
    },
    {
     "data": {
      "text/html": [
       "<span style=\"background-color:#ff8080\">Ethan</span> <span style=\"background-color:#ff0000\">tapped</span> <span style=\"background-color:#ffe4e4\">his</span> <span style=\"background-color:#ffb0b0\">fingers</span> <span style=\"background-color:#fffefe\">on</span> <span style=\"background-color:#ffe4e4\">his</span> <span style=\"background-color:#f6f6ff\">desk</span> <span style=\"background-color:#9898ff\">.</span> \n"
      ],
      "text/plain": [
       "<IPython.core.display.HTML object>"
      ]
     },
     "metadata": {},
     "output_type": "display_data"
    },
    {
     "data": {
      "text/html": [
       "<span style=\"background-color:#ff0000\">Considered</span> <span style=\"background-color:#ffcccc\">his</span> <span style=\"background-color:#ffd6d6\">best</span> <span style=\"background-color:#ccccff\">course</span> <span style=\"background-color:#ffcccc\">of</span> <span style=\"background-color:#ffdcdc\">action</span> <span style=\"background-color:#ffe0e0\">.</span> \n"
      ],
      "text/plain": [
       "<IPython.core.display.HTML object>"
      ]
     },
     "metadata": {},
     "output_type": "display_data"
    },
    {
     "data": {
      "text/html": [
       "correct label: <b>and</b>"
      ],
      "text/plain": [
       "<IPython.core.display.HTML object>"
      ]
     },
     "metadata": {},
     "output_type": "display_data"
    },
    {
     "data": {
      "text/html": [
       "predict label: <b>and</b>"
      ],
      "text/plain": [
       "<IPython.core.display.HTML object>"
      ]
     },
     "metadata": {},
     "output_type": "display_data"
    },
    {
     "data": {
      "text/html": [
       "<span style=\"background-color:#ccccff\">Who</span> <span style=\"background-color:#ff2828\">seized</span> <span style=\"background-color:#ffcaca\">lord</span> <span style=\"background-color:#ffc6c6\">'s</span> <span style=\"background-color:#acacff\">severed</span> <span style=\"background-color:#ffc8c8\">head</span> <span style=\"background-color:#b6b6ff\">by</span> <span style=\"background-color:#e2e2ff\">the</span> <span style=\"background-color:#ffdada\">hair</span> <span style=\"background-color:#ffd8d8\">,</span> <span style=\"background-color:#ffdada\">while</span> <span style=\"background-color:#fff2f2\">sansa</span> <span style=\"background-color:#8080ff\">wept</span> <span style=\"background-color:#0000ff\">and</span> <span style=\"background-color:#fff8f8\">screamed</span> <span style=\"background-color:#6868ff\">.</span> \n"
      ],
      "text/plain": [
       "<IPython.core.display.HTML object>"
      ]
     },
     "metadata": {},
     "output_type": "display_data"
    },
    {
     "data": {
      "text/html": [
       "<span style=\"background-color:#ff0000\">Raised</span> <span style=\"background-color:#ff4040\">it</span> <span style=\"background-color:#ff5656\">on</span> <span style=\"background-color:#ffd6d6\">high</span> <span style=\"background-color:#eaeaff\">for</span> <span style=\"background-color:#ffa6a6\">king</span> <span style=\"background-color:#9696ff\">and</span> <span style=\"background-color:#e8e8ff\">crowd</span> <span style=\"background-color:#f8f8ff\">to</span> <span style=\"background-color:#ff9e9e\">behold</span> <span style=\"background-color:#ffbaba\">.</span> \n"
      ],
      "text/plain": [
       "<IPython.core.display.HTML object>"
      ]
     },
     "metadata": {},
     "output_type": "display_data"
    },
    {
     "data": {
      "text/html": [
       "correct label: <b>and</b>"
      ],
      "text/plain": [
       "<IPython.core.display.HTML object>"
      ]
     },
     "metadata": {},
     "output_type": "display_data"
    },
    {
     "data": {
      "text/html": [
       "predict label: <b>and</b>"
      ],
      "text/plain": [
       "<IPython.core.display.HTML object>"
      ]
     },
     "metadata": {},
     "output_type": "display_data"
    },
    {
     "data": {
      "text/html": [
       "<span style=\"background-color:#ff3434\">As</span> <span style=\"background-color:#8e8eff\">it</span> <span style=\"background-color:#ff7e7e\">strolled</span> <span style=\"background-color:#aeaeff\">towards</span> <span style=\"background-color:#e2e2ff\">him</span> <span style=\"background-color:#ffe6e6\">the</span> <span style=\"background-color:#7c7cff\">figure</span> <span style=\"background-color:#ff0000\">reached</span> <span style=\"background-color:#fefeff\">both</span> <span style=\"background-color:#ff9292\">hands</span> <span style=\"background-color:#ffbaba\">behind</span> <span style=\"background-color:#f0f0ff\">it</span> <span style=\"background-color:#eeeeff\">.</span> \n"
      ],
      "text/plain": [
       "<IPython.core.display.HTML object>"
      ]
     },
     "metadata": {},
     "output_type": "display_data"
    },
    {
     "data": {
      "text/html": [
       "<span style=\"background-color:#5e5eff\">They</span> <span style=\"background-color:#0000ff\">came</span> <span style=\"background-color:#ffd0d0\">back</span> <span style=\"background-color:#ff8888\">each</span> <span style=\"background-color:#ffb8b8\">holding</span> <span style=\"background-color:#d8d8ff\">a</span> <span style=\"background-color:#f2f2ff\">small</span> <span style=\"background-color:#ffecec\">pistol</span> <span style=\"background-color:#ff6e6e\">bow</span> <span style=\"background-color:#ff9292\">.</span> \n"
      ],
      "text/plain": [
       "<IPython.core.display.HTML object>"
      ]
     },
     "metadata": {},
     "output_type": "display_data"
    },
    {
     "data": {
      "text/html": [
       "correct label: <b>and</b>"
      ],
      "text/plain": [
       "<IPython.core.display.HTML object>"
      ]
     },
     "metadata": {},
     "output_type": "display_data"
    },
    {
     "data": {
      "text/html": [
       "predict label: <b>and</b>"
      ],
      "text/plain": [
       "<IPython.core.display.HTML object>"
      ]
     },
     "metadata": {},
     "output_type": "display_data"
    },
    {
     "data": {
      "text/html": [
       "<span style=\"background-color:#fff2f2\">All</span> <span style=\"background-color:#fff2f2\">of</span> <span style=\"background-color:#ffcaca\">nazareth</span> <span style=\"background-color:#ffe2e2\">was</span> <span style=\"background-color:#fafaff\">beautifully</span> <span style=\"background-color:#fff0f0\">covered</span> <span style=\"background-color:#fcfcff\">with</span> <span style=\"background-color:#c6c6ff\">it</span> <span style=\"background-color:#f2f2ff\">,</span> <span style=\"background-color:#0000ff\">and</span> <span style=\"background-color:#fafaff\">the</span> <span style=\"background-color:#fff6f6\">children</span> <span style=\"background-color:#fffcfc\">ran</span> <span style=\"background-color:#fcfcff\">out</span> <span style=\"background-color:#eaeaff\">to</span> <span style=\"background-color:#fff0f0\">gather</span> <span style=\"background-color:#f8f8ff\">the</span> <span style=\"background-color:#ffeeee\">flakes</span> <span style=\"background-color:#fff4f4\">as</span> <span style=\"background-color:#cacaff\">if</span> <span style=\"background-color:#fcfcff\">they</span> <span style=\"background-color:#fff2f2\">were</span> <span style=\"background-color:#fff6f6\">leaves</span> <span style=\"background-color:#fff8f8\">,</span> <span style=\"background-color:#ff9090\">but</span> <span style=\"background-color:#fff0f0\">the</span> <span style=\"background-color:#fff0f0\">flakes</span> <span style=\"background-color:#ffcccc\">melted</span> <span style=\"background-color:#ececff\">.</span> \n"
      ],
      "text/plain": [
       "<IPython.core.display.HTML object>"
      ]
     },
     "metadata": {},
     "output_type": "display_data"
    },
    {
     "data": {
      "text/html": [
       "<span style=\"background-color:#6e6eff\">It</span> <span style=\"background-color:#0000ff\">came</span> <span style=\"background-color:#ff9696\">down</span> <span style=\"background-color:#ffeaea\">in</span> <span style=\"background-color:#e3e3ff\">big</span> <span style=\"background-color:#b0b0ff\">flakes</span> <span style=\"background-color:#ffecec\">.</span> \n"
      ],
      "text/plain": [
       "<IPython.core.display.HTML object>"
      ]
     },
     "metadata": {},
     "output_type": "display_data"
    },
    {
     "data": {
      "text/html": [
       "correct label: <b>and</b>"
      ],
      "text/plain": [
       "<IPython.core.display.HTML object>"
      ]
     },
     "metadata": {},
     "output_type": "display_data"
    },
    {
     "data": {
      "text/html": [
       "predict label: <b>and</b>"
      ],
      "text/plain": [
       "<IPython.core.display.HTML object>"
      ]
     },
     "metadata": {},
     "output_type": "display_data"
    },
    {
     "data": {
      "text/html": [
       "<span style=\"background-color:#ff3434\">Robbie</span> <span style=\"background-color:#c8c8ff\">thats</span> <span style=\"background-color:#5959ff\">a</span> <span style=\"background-color:#ff0000\">great</span> <span style=\"background-color:#ffa3a3\">help</span> <span style=\"background-color:#2424ff\">.</span> \n"
      ],
      "text/plain": [
       "<IPython.core.display.HTML object>"
      ]
     },
     "metadata": {},
     "output_type": "display_data"
    },
    {
     "data": {
      "text/html": [
       "<span style=\"background-color:#3a3aff\">Youre</span> <span style=\"background-color:#bebeff\">right</span> <span style=\"background-color:#ff2e2e\">most</span> <span style=\"background-color:#ccccff\">of</span> <span style=\"background-color:#ffb3b3\">that</span> <span style=\"background-color:#dedeff\">stuff</span> <span style=\"background-color:#aaaaff\">i</span> <span style=\"background-color:#ff0000\">certainly</span> <span style=\"background-color:#ff0404\">didnt</span> <span style=\"background-color:#fffafa\">know</span> <span style=\"background-color:#fff4f4\">,</span> <span style=\"background-color:#c8c8ff\">answered</span> <span style=\"background-color:#e8e8ff\">jennie</span> <span style=\"background-color:#ffdada\">.</span> \n"
      ],
      "text/plain": [
       "<IPython.core.display.HTML object>"
      ]
     },
     "metadata": {},
     "output_type": "display_data"
    },
    {
     "data": {
      "text/html": [
       "correct label: <b>and</b>"
      ],
      "text/plain": [
       "<IPython.core.display.HTML object>"
      ]
     },
     "metadata": {},
     "output_type": "display_data"
    },
    {
     "data": {
      "text/html": [
       "predict label: <b>but</b>"
      ],
      "text/plain": [
       "<IPython.core.display.HTML object>"
      ]
     },
     "metadata": {},
     "output_type": "display_data"
    },
    {
     "data": {
      "text/html": [
       "<span style=\"background-color:#e3e3ff\">I</span> <span style=\"background-color:#ff7878\">'m</span> <span style=\"background-color:#eeeeff\">a</span> <span style=\"background-color:#ff3636\">strong</span> <span style=\"background-color:#ff6c6c\">enough</span> <span style=\"background-color:#a8a8ff\">shifter</span> <span style=\"background-color:#eeeeff\">to</span> <span style=\"background-color:#fff4f4\">take</span> <span style=\"background-color:#ffeaea\">the</span> <span style=\"background-color:#dcdcff\">experiment</span> <span style=\"background-color:#0000ff\">.</span> \n"
      ],
      "text/plain": [
       "<IPython.core.display.HTML object>"
      ]
     },
     "metadata": {},
     "output_type": "display_data"
    },
    {
     "data": {
      "text/html": [
       "<span style=\"background-color:#ff0000\">If</span> <span style=\"background-color:#aaaaff\">something</span> <span style=\"background-color:#fffafa\">irreversible</span> <span style=\"background-color:#a8a8ff\">happens</span> <span style=\"background-color:#fff0f0\">to</span> <span style=\"background-color:#ffd8d8\">me</span> <span style=\"background-color:#ffeeee\">,</span> <span style=\"background-color:#f3f3ff\">my</span> <span style=\"background-color:#fff8f8\">dad</span> <span style=\"background-color:#fff2f2\">and</span> <span style=\"background-color:#fefeff\">my</span> <span style=\"background-color:#fcfcff\">aunt</span> <span style=\"background-color:#fcfcff\">cass</span> <span style=\"background-color:#fff6f6\">are</span> <span style=\"background-color:#ffdede\">already</span> <span style=\"background-color:#ffdede\">running</span> <span style=\"background-color:#f3f3ff\">our</span> <span style=\"background-color:#fffcfc\">.</span> \n"
      ],
      "text/plain": [
       "<IPython.core.display.HTML object>"
      ]
     },
     "metadata": {},
     "output_type": "display_data"
    },
    {
     "data": {
      "text/html": [
       "correct label: <b>and</b>"
      ],
      "text/plain": [
       "<IPython.core.display.HTML object>"
      ]
     },
     "metadata": {},
     "output_type": "display_data"
    },
    {
     "data": {
      "text/html": [
       "predict label: <b>but</b>"
      ],
      "text/plain": [
       "<IPython.core.display.HTML object>"
      ]
     },
     "metadata": {},
     "output_type": "display_data"
    },
    {
     "data": {
      "text/html": [
       "<span style=\"background-color:#ff0000\">But</span> <span style=\"background-color:#ffa8a8\">now</span> <span style=\"background-color:#ffa3a3\">lily</span> <span style=\"background-color:#fffafa\">looked</span> <span style=\"background-color:#ffc3c3\">beaten</span> <span style=\"background-color:#8a8aff\">.</span> \n"
      ],
      "text/plain": [
       "<IPython.core.display.HTML object>"
      ]
     },
     "metadata": {},
     "output_type": "display_data"
    },
    {
     "data": {
      "text/html": [
       "<span style=\"background-color:#5c5cff\">He</span> <span style=\"background-color:#3434ff\">was</span> <span style=\"background-color:#ff0000\">very</span> <span style=\"background-color:#fffefe\">certain</span> <span style=\"background-color:#ff4646\">that</span> <span style=\"background-color:#ffeeee\">this</span> <span style=\"background-color:#d6d6ff\">was</span> <span style=\"background-color:#ffe4e4\">the</span> <span style=\"background-color:#ffb2b2\">worst</span> <span style=\"background-color:#fff6f6\">time</span> <span style=\"background-color:#ffe8e8\">in</span> <span style=\"background-color:#fffefe\">her</span> <span style=\"background-color:#ffbebe\">entire</span> <span style=\"background-color:#ececff\">human</span> <span style=\"background-color:#f8f8ff\">life</span> <span style=\"background-color:#ffdede\">.</span> \n"
      ],
      "text/plain": [
       "<IPython.core.display.HTML object>"
      ]
     },
     "metadata": {},
     "output_type": "display_data"
    },
    {
     "data": {
      "text/html": [
       "correct label: <b>and</b>"
      ],
      "text/plain": [
       "<IPython.core.display.HTML object>"
      ]
     },
     "metadata": {},
     "output_type": "display_data"
    },
    {
     "data": {
      "text/html": [
       "predict label: <b>and</b>"
      ],
      "text/plain": [
       "<IPython.core.display.HTML object>"
      ]
     },
     "metadata": {},
     "output_type": "display_data"
    },
    {
     "data": {
      "text/html": [
       "<span style=\"background-color:#ffbebe\">He</span> <span style=\"background-color:#fff0f0\">brought</span> <span style=\"background-color:#bebeff\">his</span> <span style=\"background-color:#0000ff\">hands</span> <span style=\"background-color:#ff2424\">.</span> \n"
      ],
      "text/plain": [
       "<IPython.core.display.HTML object>"
      ]
     },
     "metadata": {},
     "output_type": "display_data"
    },
    {
     "data": {
      "text/html": [
       "<span style=\"background-color:#dedeff\">There</span> <span style=\"background-color:#ffbebe\">was</span> <span style=\"background-color:#ffeaea\">a</span> <span style=\"background-color:#ceceff\">sound</span> <span style=\"background-color:#0000ff\">like</span> <span style=\"background-color:#f6f6ff\">a</span> <span style=\"background-color:#ff1616\">thunderclap</span> <span style=\"background-color:#ccccff\">.</span> \n"
      ],
      "text/plain": [
       "<IPython.core.display.HTML object>"
      ]
     },
     "metadata": {},
     "output_type": "display_data"
    },
    {
     "data": {
      "text/html": [
       "correct label: <b>and</b>"
      ],
      "text/plain": [
       "<IPython.core.display.HTML object>"
      ]
     },
     "metadata": {},
     "output_type": "display_data"
    },
    {
     "data": {
      "text/html": [
       "predict label: <b>when</b>"
      ],
      "text/plain": [
       "<IPython.core.display.HTML object>"
      ]
     },
     "metadata": {},
     "output_type": "display_data"
    },
    {
     "data": {
      "text/html": [
       "<span style=\"background-color:#ffe6e6\">I</span> <span style=\"background-color:#ffa0a0\">was</span> <span style=\"background-color:#ff1818\">downstairs</span> <span style=\"background-color:#acacff\">.</span> <span style=\"background-color:#4c4cff\">''</span> <span style=\"background-color:#0000ff\">.</span> \n"
      ],
      "text/plain": [
       "<IPython.core.display.HTML object>"
      ]
     },
     "metadata": {},
     "output_type": "display_data"
    },
    {
     "data": {
      "text/html": [
       "<span style=\"background-color:#9696ff\">I</span> <span style=\"background-color:#ff0000\">just</span> <span style=\"background-color:#2e2eff\">walked</span> <span style=\"background-color:#a3a3ff\">in</span> <span style=\"background-color:#d2d2ff\">here</span> <span style=\"background-color:#ffcece\">when</span> <span style=\"background-color:#bcbcff\">i</span> <span style=\"background-color:#ff9a9a\">saw</span> <span style=\"background-color:#c2c2ff\">some</span> <span style=\"background-color:#f8f8ff\">movement</span> <span style=\"background-color:#ffe0e0\">out</span> <span style=\"background-color:#ffe8e8\">the</span> <span style=\"background-color:#e6e6ff\">window</span> <span style=\"background-color:#ffeaea\">.</span> \n"
      ],
      "text/plain": [
       "<IPython.core.display.HTML object>"
      ]
     },
     "metadata": {},
     "output_type": "display_data"
    },
    {
     "data": {
      "text/html": [
       "correct label: <b>and</b>"
      ],
      "text/plain": [
       "<IPython.core.display.HTML object>"
      ]
     },
     "metadata": {},
     "output_type": "display_data"
    },
    {
     "data": {
      "text/html": [
       "predict label: <b>but</b>"
      ],
      "text/plain": [
       "<IPython.core.display.HTML object>"
      ]
     },
     "metadata": {},
     "output_type": "display_data"
    },
    {
     "data": {
      "text/html": [
       "<span style=\"background-color:#ffc6c6\">The</span> <span style=\"background-color:#ffdada\">west</span> <span style=\"background-color:#ffb6b6\">tower</span> <span style=\"background-color:#fffcfc\">,</span> <span style=\"background-color:#ffeaea\">standing</span> <span style=\"background-color:#dadaff\">as</span> <span style=\"background-color:#fffefe\">high</span> <span style=\"background-color:#fafaff\">as</span> <span style=\"background-color:#f6f6ff\">one</span> <span style=\"background-color:#ffeeee\">hundred</span> <span style=\"background-color:#ffacac\">and</span> <span style=\"background-color:#ffe8e8\">fifty</span> <span style=\"background-color:#d3d3ff\">feet</span> <span style=\"background-color:#0000ff\">and</span> <span style=\"background-color:#ffd0d0\">roofed</span> <span style=\"background-color:#fcfcff\">with</span> <span style=\"background-color:#ffe4e4\">pointed</span> <span style=\"background-color:#dcdcff\">,</span> <span style=\"background-color:#fffefe\">was</span> <span style=\"background-color:#f0f0ff\">one</span> <span style=\"background-color:#f3f3ff\">of</span> <span style=\"background-color:#f6f6ff\">the</span> <span style=\"background-color:#ffdede\">first</span> <span style=\"background-color:#ffeaea\">buildings</span> <span style=\"background-color:#ffecec\">erected</span> <span style=\"background-color:#fcfcff\">in</span> <span style=\"background-color:#ffe8e8\">the</span> <span style=\"background-color:#ffd6d6\">fortress</span> <span style=\"background-color:#b2b2ff\">.</span> \n"
      ],
      "text/plain": [
       "<IPython.core.display.HTML object>"
      ]
     },
     "metadata": {},
     "output_type": "display_data"
    },
    {
     "data": {
      "text/html": [
       "<span style=\"background-color:#ff0000\">Had</span> <span style=\"background-color:#f0f0ff\">already</span> <span style=\"background-color:#fff6f6\">witnessed</span> <span style=\"background-color:#ffd2d2\">many</span> <span style=\"background-color:#fff4f4\">battles</span> <span style=\"background-color:#fffcfc\">in</span> <span style=\"background-color:#fafaff\">defense</span> <span style=\"background-color:#ffeeee\">of</span> <span style=\"background-color:#fff6f6\">the</span> <span style=\"background-color:#d8d8ff\">island</span> <span style=\"background-color:#ffe8e8\">.</span> \n"
      ],
      "text/plain": [
       "<IPython.core.display.HTML object>"
      ]
     },
     "metadata": {},
     "output_type": "display_data"
    },
    {
     "data": {
      "text/html": [
       "correct label: <b>and</b>"
      ],
      "text/plain": [
       "<IPython.core.display.HTML object>"
      ]
     },
     "metadata": {},
     "output_type": "display_data"
    },
    {
     "data": {
      "text/html": [
       "predict label: <b>and</b>"
      ],
      "text/plain": [
       "<IPython.core.display.HTML object>"
      ]
     },
     "metadata": {},
     "output_type": "display_data"
    },
    {
     "data": {
      "text/html": [
       "<span style=\"background-color:#fffafa\">There</span> <span style=\"background-color:#ff0000\">were</span> <span style=\"background-color:#eeeeff\">gobs</span> <span style=\"background-color:#ffd8d8\">of</span> <span style=\"background-color:#eeeeff\">mud</span> <span style=\"background-color:#eaeaff\">in</span> <span style=\"background-color:#fefeff\">her</span> <span style=\"background-color:#ffbcbc\">hair</span> <span style=\"background-color:#ffacac\">,</span> <span style=\"background-color:#ffcece\">something</span> <span style=\"background-color:#fffefe\">she</span> <span style=\"background-color:#7676ff\">hated</span> <span style=\"background-color:#7e7eff\">.</span> \n"
      ],
      "text/plain": [
       "<IPython.core.display.HTML object>"
      ]
     },
     "metadata": {},
     "output_type": "display_data"
    },
    {
     "data": {
      "text/html": [
       "<span style=\"background-color:#a2a2ff\">She</span> <span style=\"background-color:#0000ff\">shampooed</span> <span style=\"background-color:#ececff\">it</span> <span style=\"background-color:#ff8282\">several</span> <span style=\"background-color:#ffbcbc\">times</span> <span style=\"background-color:#ffe2e2\">to</span> <span style=\"background-color:#ffecec\">make</span> <span style=\"background-color:#e2e2ff\">certain</span> <span style=\"background-color:#fafaff\">it</span> <span style=\"background-color:#e3e3ff\">was</span> <span style=\"background-color:#fff4f4\">clean</span> <span style=\"background-color:#ffd8d8\">.</span> \n"
      ],
      "text/plain": [
       "<IPython.core.display.HTML object>"
      ]
     },
     "metadata": {},
     "output_type": "display_data"
    },
    {
     "data": {
      "text/html": [
       "correct label: <b>and</b>"
      ],
      "text/plain": [
       "<IPython.core.display.HTML object>"
      ]
     },
     "metadata": {},
     "output_type": "display_data"
    },
    {
     "data": {
      "text/html": [
       "predict label: <b>and</b>"
      ],
      "text/plain": [
       "<IPython.core.display.HTML object>"
      ]
     },
     "metadata": {},
     "output_type": "display_data"
    },
    {
     "data": {
      "text/html": [
       "<span style=\"background-color:#f2f2ff\">She</span> <span style=\"background-color:#ffb3b3\">squared</span> <span style=\"background-color:#ffe8e8\">her</span> <span style=\"background-color:#ffdcdc\">shoulders</span> <span style=\"background-color:#ffa6a6\">,</span> <span style=\"background-color:#fff8f8\">''</span> <span style=\"background-color:#0000ff\">and</span> <span style=\"background-color:#fffcfc\">she</span> <span style=\"background-color:#e8e8ff\">was</span> <span style=\"background-color:#d6d6ff\">pleased</span> <span style=\"background-color:#eaeaff\">to</span> <span style=\"background-color:#fffefe\">hear</span> <span style=\"background-color:#f8f8ff\">her</span> <span style=\"background-color:#eaeaff\">voice</span> <span style=\"background-color:#ffd8d8\">sounded</span> <span style=\"background-color:#e6e6ff\">stronger</span> <span style=\"background-color:#dcdcff\">.</span> \n"
      ],
      "text/plain": [
       "<IPython.core.display.HTML object>"
      ]
     },
     "metadata": {},
     "output_type": "display_data"
    },
    {
     "data": {
      "text/html": [
       "<span style=\"background-color:#ff0000\">Announced</span> <span style=\"background-color:#ff5e5e\">,</span> <span style=\"background-color:#f2f2ff\">``</span> <span style=\"background-color:#5c5cff\">i</span> <span style=\"background-color:#9393ff\">'m</span> <span style=\"background-color:#ffe6e6\">leaving</span> <span style=\"background-color:#ffdada\">.</span> \n"
      ],
      "text/plain": [
       "<IPython.core.display.HTML object>"
      ]
     },
     "metadata": {},
     "output_type": "display_data"
    },
    {
     "data": {
      "text/html": [
       "correct label: <b>and</b>"
      ],
      "text/plain": [
       "<IPython.core.display.HTML object>"
      ]
     },
     "metadata": {},
     "output_type": "display_data"
    },
    {
     "data": {
      "text/html": [
       "predict label: <b>and</b>"
      ],
      "text/plain": [
       "<IPython.core.display.HTML object>"
      ]
     },
     "metadata": {},
     "output_type": "display_data"
    },
    {
     "data": {
      "text/html": [
       "<span style=\"background-color:#ff9898\">Dutifully</span> <span style=\"background-color:#ffdede\">,</span> <span style=\"background-color:#bcbcff\">he</span> <span style=\"background-color:#ff0000\">parted</span> <span style=\"background-color:#ffc6c6\">his</span> <span style=\"background-color:#bebeff\">lips</span> <span style=\"background-color:#babaff\">.</span> \n"
      ],
      "text/plain": [
       "<IPython.core.display.HTML object>"
      ]
     },
     "metadata": {},
     "output_type": "display_data"
    },
    {
     "data": {
      "text/html": [
       "<span style=\"background-color:#ff0000\">Let</span> <span style=\"background-color:#ff7676\">her</span> <span style=\"background-color:#e3e3ff\">feed</span> <span style=\"background-color:#f6f6ff\">him</span> <span style=\"background-color:#ffd8d8\">.</span> \n"
      ],
      "text/plain": [
       "<IPython.core.display.HTML object>"
      ]
     },
     "metadata": {},
     "output_type": "display_data"
    },
    {
     "data": {
      "text/html": [
       "correct label: <b>and</b>"
      ],
      "text/plain": [
       "<IPython.core.display.HTML object>"
      ]
     },
     "metadata": {},
     "output_type": "display_data"
    },
    {
     "data": {
      "text/html": [
       "predict label: <b>and</b>"
      ],
      "text/plain": [
       "<IPython.core.display.HTML object>"
      ]
     },
     "metadata": {},
     "output_type": "display_data"
    },
    {
     "data": {
      "text/html": [
       "<span style=\"background-color:#ff5959\">Above</span> <span style=\"background-color:#6c6cff\">this</span> <span style=\"background-color:#ffb2b2\">immense</span> <span style=\"background-color:#3636ff\">space</span> <span style=\"background-color:#d8d8ff\">,</span> <span style=\"background-color:#ffb0b0\">rising</span> <span style=\"background-color:#ffd6d6\">in</span> <span style=\"background-color:#e8e8ff\">the</span> <span style=\"background-color:#ffd6d6\">centre</span> <span style=\"background-color:#ffcccc\">to</span> <span style=\"background-color:#ffc2c2\">a</span> <span style=\"background-color:#ff7171\">height</span> <span style=\"background-color:#ffb0b0\">of</span> <span style=\"background-color:#a8a8ff\">more</span> <span style=\"background-color:#2222ff\">than</span> <span style=\"background-color:#dedeff\">a</span> <span style=\"background-color:#ff7e7e\">thousand</span> <span style=\"background-color:#a2a2ff\">feet</span> <span style=\"background-color:#e8e8ff\">,</span> <span style=\"background-color:#ff0000\">was</span> <span style=\"background-color:#ff7070\">anchored</span> <span style=\"background-color:#f3f3ff\">a</span> <span style=\"background-color:#ffaeae\">vast</span> <span style=\"background-color:#dedeff\">number</span> <span style=\"background-color:#fff6f6\">of</span> <span style=\"background-color:#fff8f8\">balloons</span> <span style=\"background-color:#e2e2ff\">,</span> <span style=\"background-color:#ffaeae\">all</span> <span style=\"background-color:#ffcaca\">aglow</span> <span style=\"background-color:#fff8f8\">with</span> <span style=\"background-color:#ff6969\">lights</span> <span style=\"background-color:#3838ff\">.</span> \n"
      ],
      "text/plain": [
       "<IPython.core.display.HTML object>"
      ]
     },
     "metadata": {},
     "output_type": "display_data"
    },
    {
     "data": {
      "text/html": [
       "<span style=\"background-color:#e0e0ff\">Forming</span> <span style=\"background-color:#c3c3ff\">a</span> <span style=\"background-color:#ff0000\">tremendous</span> <span style=\"background-color:#a8a8ff\">dome</span> <span style=\"background-color:#fafaff\">,</span> <span style=\"background-color:#fffefe\">in</span> <span style=\"background-color:#fffefe\">which</span> <span style=\"background-color:#d0d0ff\">brilliant</span> <span style=\"background-color:#fffcfc\">lamps</span> <span style=\"background-color:#6969ff\">were</span> <span style=\"background-color:#fff4f4\">arranged</span> <span style=\"background-color:#ffd8d8\">in</span> <span style=\"background-color:#9e9eff\">such</span> <span style=\"background-color:#dedeff\">a</span> <span style=\"background-color:#eeeeff\">manner</span> <span style=\"background-color:#ffa3a3\">as</span> <span style=\"background-color:#fafaff\">to</span> <span style=\"background-color:#dadaff\">exhibit</span> <span style=\"background-color:#cacaff\">,</span> <span style=\"background-color:#fffefe\">in</span> <span style=\"background-color:#ffeaea\">an</span> <span style=\"background-color:#fff4f4\">endless</span> <span style=\"background-color:#fcfcff\">succession</span> <span style=\"background-color:#ffecec\">of</span> <span style=\"background-color:#e6e6ff\">combinations</span> <span style=\"background-color:#ffbebe\">,</span> <span style=\"background-color:#f3f3ff\">all</span> <span style=\"background-color:#fffcfc\">the</span> <span style=\"background-color:#e2e2ff\">national</span> <span style=\"background-color:#ffd8d8\">colors</span> <span style=\"background-color:#f2f2ff\">,</span> <span style=\"background-color:#ff9696\">ensigns</span> <span style=\"background-color:#ffeaea\">and</span> <span style=\"background-color:#fff6f6\">insignia</span> <span style=\"background-color:#fefeff\">of</span> <span style=\"background-color:#fff2f2\">the</span> <span style=\"background-color:#fff0f0\">various</span> <span style=\"background-color:#9696ff\">countries</span> <span style=\"background-color:#e2e2ff\">represented</span> <span style=\"background-color:#fff8f8\">at</span> <span style=\"background-color:#ffeaea\">the</span> <span style=\"background-color:#f8f8ff\">congress</span> <span style=\"background-color:#ffc3c3\">.</span> \n"
      ],
      "text/plain": [
       "<IPython.core.display.HTML object>"
      ]
     },
     "metadata": {},
     "output_type": "display_data"
    },
    {
     "data": {
      "text/html": [
       "correct label: <b>and</b>"
      ],
      "text/plain": [
       "<IPython.core.display.HTML object>"
      ]
     },
     "metadata": {},
     "output_type": "display_data"
    },
    {
     "data": {
      "text/html": [
       "predict label: <b>and</b>"
      ],
      "text/plain": [
       "<IPython.core.display.HTML object>"
      ]
     },
     "metadata": {},
     "output_type": "display_data"
    },
    {
     "data": {
      "text/html": [
       "<span style=\"background-color:#ff0000\">After</span> <span style=\"background-color:#fff6f6\">the</span> <span style=\"background-color:#ff7676\">ten</span> <span style=\"background-color:#5454ff\">lashes</span> <span style=\"background-color:#f3f3ff\">,</span> <span style=\"background-color:#ffb0b0\">francis</span> <span style=\"background-color:#a6a6ff\">questioned</span> <span style=\"background-color:#ffa2a2\">tahir</span> <span style=\"background-color:#6666ff\">.</span> \n"
      ],
      "text/plain": [
       "<IPython.core.display.HTML object>"
      ]
     },
     "metadata": {},
     "output_type": "display_data"
    },
    {
     "data": {
      "text/html": [
       "<span style=\"background-color:#ff0000\">Got</span> <span style=\"background-color:#ff4c4c\">the</span> <span style=\"background-color:#ffdede\">same</span> <span style=\"background-color:#e2e2ff\">answer</span> <span style=\"background-color:#ffc6c6\">.</span> \n"
      ],
      "text/plain": [
       "<IPython.core.display.HTML object>"
      ]
     },
     "metadata": {},
     "output_type": "display_data"
    },
    {
     "data": {
      "text/html": [
       "correct label: <b>and</b>"
      ],
      "text/plain": [
       "<IPython.core.display.HTML object>"
      ]
     },
     "metadata": {},
     "output_type": "display_data"
    },
    {
     "data": {
      "text/html": [
       "predict label: <b>and</b>"
      ],
      "text/plain": [
       "<IPython.core.display.HTML object>"
      ]
     },
     "metadata": {},
     "output_type": "display_data"
    },
    {
     "data": {
      "text/html": [
       "<span style=\"background-color:#8383ff\">He</span> <span style=\"background-color:#ffecec\">bared</span> <span style=\"background-color:#ffd6d6\">his</span> <span style=\"background-color:#ffa0a0\">fangs</span> <span style=\"background-color:#ff6969\">pulled</span> <span style=\"background-color:#ff5858\">me</span> <span style=\"background-color:#ffbebe\">forward</span> <span style=\"background-color:#ff6666\">,</span> <span style=\"background-color:#e8e8ff\">then</span> <span style=\"background-color:#ffb6b6\">sunk</span> <span style=\"background-color:#ccccff\">teeth</span> <span style=\"background-color:#ff6868\">into</span> <span style=\"background-color:#ffe2e2\">the</span> <span style=\"background-color:#7878ff\">soft</span> <span style=\"background-color:#ffb2b2\">skin</span> <span style=\"background-color:#7c7cff\">at</span> <span style=\"background-color:#fff0f0\">my</span> <span style=\"background-color:#ff3131\">neck</span> <span style=\"background-color:#0000ff\">.</span> \n"
      ],
      "text/plain": [
       "<IPython.core.display.HTML object>"
      ]
     },
     "metadata": {},
     "output_type": "display_data"
    },
    {
     "data": {
      "text/html": [
       "<span style=\"background-color:#ff0000\">Put</span> <span style=\"background-color:#ffcaca\">a</span> <span style=\"background-color:#f0f0ff\">hand</span> <span style=\"background-color:#ffc2c2\">behind</span> <span style=\"background-color:#fff8f8\">my</span> <span style=\"background-color:#f3f3ff\">head</span> <span style=\"background-color:#ffd8d8\">.</span> \n"
      ],
      "text/plain": [
       "<IPython.core.display.HTML object>"
      ]
     },
     "metadata": {},
     "output_type": "display_data"
    },
    {
     "data": {
      "text/html": [
       "correct label: <b>and</b>"
      ],
      "text/plain": [
       "<IPython.core.display.HTML object>"
      ]
     },
     "metadata": {},
     "output_type": "display_data"
    },
    {
     "data": {
      "text/html": [
       "predict label: <b>and</b>"
      ],
      "text/plain": [
       "<IPython.core.display.HTML object>"
      ]
     },
     "metadata": {},
     "output_type": "display_data"
    },
    {
     "data": {
      "text/html": [
       "<span style=\"background-color:#ff4444\">But</span> <span style=\"background-color:#ffcaca\">the</span> <span style=\"background-color:#f6f6ff\">woman</span> <span style=\"background-color:#ff0000\">stepped</span> <span style=\"background-color:#4141ff\">.</span> \n"
      ],
      "text/plain": [
       "<IPython.core.display.HTML object>"
      ]
     },
     "metadata": {},
     "output_type": "display_data"
    },
    {
     "data": {
      "text/html": [
       "<span style=\"background-color:#ff0000\">Offered</span> <span style=\"background-color:#ffacac\">both</span> <span style=\"background-color:#d3d3ff\">her</span> <span style=\"background-color:#eeeeff\">hands</span> <span style=\"background-color:#eeeeff\">to</span> <span style=\"background-color:#ccccff\">him</span> <span style=\"background-color:#ff8c8c\">.</span> \n"
      ],
      "text/plain": [
       "<IPython.core.display.HTML object>"
      ]
     },
     "metadata": {},
     "output_type": "display_data"
    },
    {
     "data": {
      "text/html": [
       "correct label: <b>and</b>"
      ],
      "text/plain": [
       "<IPython.core.display.HTML object>"
      ]
     },
     "metadata": {},
     "output_type": "display_data"
    },
    {
     "data": {
      "text/html": [
       "predict label: <b>and</b>"
      ],
      "text/plain": [
       "<IPython.core.display.HTML object>"
      ]
     },
     "metadata": {},
     "output_type": "display_data"
    },
    {
     "data": {
      "text/html": [
       "<span style=\"background-color:#f8f8ff\">Now</span> <span style=\"background-color:#ff7171\">,</span> <span style=\"background-color:#ffa2a2\">let</span> <span style=\"background-color:#ff4e4e\">go</span> <span style=\"background-color:#ffc2c2\">of</span> <span style=\"background-color:#ffc8c8\">one</span> <span style=\"background-color:#b2b2ff\">end</span> <span style=\"background-color:#0000ff\">.</span> \n"
      ],
      "text/plain": [
       "<IPython.core.display.HTML object>"
      ]
     },
     "metadata": {},
     "output_type": "display_data"
    },
    {
     "data": {
      "text/html": [
       "<span style=\"background-color:#0000ff\">It</span> <span style=\"background-color:#ff5e5e\">will</span> <span style=\"background-color:#ffa0a0\">return</span> <span style=\"background-color:#ffd3d3\">to</span> <span style=\"background-color:#ff9c9c\">its</span> <span style=\"background-color:#9696ff\">original</span> <span style=\"background-color:#e8e8ff\">form</span> <span style=\"background-color:#fffcfc\">.</span> \n"
      ],
      "text/plain": [
       "<IPython.core.display.HTML object>"
      ]
     },
     "metadata": {},
     "output_type": "display_data"
    },
    {
     "data": {
      "text/html": [
       "correct label: <b>and</b>"
      ],
      "text/plain": [
       "<IPython.core.display.HTML object>"
      ]
     },
     "metadata": {},
     "output_type": "display_data"
    },
    {
     "data": {
      "text/html": [
       "predict label: <b>and</b>"
      ],
      "text/plain": [
       "<IPython.core.display.HTML object>"
      ]
     },
     "metadata": {},
     "output_type": "display_data"
    },
    {
     "data": {
      "text/html": [
       "<span style=\"background-color:#e0e0ff\">She</span> <span style=\"background-color:#ff0000\">nodded</span> <span style=\"background-color:#ffc3c3\">at</span> <span style=\"background-color:#8c8cff\">.</span> \n"
      ],
      "text/plain": [
       "<IPython.core.display.HTML object>"
      ]
     },
     "metadata": {},
     "output_type": "display_data"
    },
    {
     "data": {
      "text/html": [
       "<span style=\"background-color:#1c1cff\">He</span> <span style=\"background-color:#ff3e3e\">left</span> <span style=\"background-color:#4949ff\">her</span> <span style=\"background-color:#ff9393\">with</span> <span style=\"background-color:#ffc2c2\">me</span> <span style=\"background-color:#fff2f2\">,</span> <span style=\"background-color:#ff0000\">nodding</span> <span style=\"background-color:#ffc0c0\">as</span> <span style=\"background-color:#2a2aff\">he</span> <span style=\"background-color:#c3c3ff\">passed</span> <span style=\"background-color:#fffefe\">by</span> <span style=\"background-color:#ff0000\">.</span> \n"
      ],
      "text/plain": [
       "<IPython.core.display.HTML object>"
      ]
     },
     "metadata": {},
     "output_type": "display_data"
    },
    {
     "data": {
      "text/html": [
       "correct label: <b>and</b>"
      ],
      "text/plain": [
       "<IPython.core.display.HTML object>"
      ]
     },
     "metadata": {},
     "output_type": "display_data"
    },
    {
     "data": {
      "text/html": [
       "predict label: <b>but</b>"
      ],
      "text/plain": [
       "<IPython.core.display.HTML object>"
      ]
     },
     "metadata": {},
     "output_type": "display_data"
    },
    {
     "data": {
      "text/html": [
       "<span style=\"background-color:#ffb0b0\">The</span> <span style=\"background-color:#ff0000\">tower</span> <span style=\"background-color:#ff8282\">was</span> <span style=\"background-color:#c3c3ff\">very</span> <span style=\"background-color:#ffb2b2\">high</span> <span style=\"background-color:#6161ff\">.</span> \n"
      ],
      "text/plain": [
       "<IPython.core.display.HTML object>"
      ]
     },
     "metadata": {},
     "output_type": "display_data"
    },
    {
     "data": {
      "text/html": [
       "<span style=\"background-color:#0000ff\">The</span> <span style=\"background-color:#ffb3b3\">climbing</span> <span style=\"background-color:#7171ff\">took</span> <span style=\"background-color:#9696ff\">me</span> <span style=\"background-color:#fff0f0\">a</span> <span style=\"background-color:#ff1c1c\">long</span> <span style=\"background-color:#1414ff\">time</span> <span style=\"background-color:#ff3131\">.</span> \n"
      ],
      "text/plain": [
       "<IPython.core.display.HTML object>"
      ]
     },
     "metadata": {},
     "output_type": "display_data"
    },
    {
     "data": {
      "text/html": [
       "correct label: <b>and</b>"
      ],
      "text/plain": [
       "<IPython.core.display.HTML object>"
      ]
     },
     "metadata": {},
     "output_type": "display_data"
    },
    {
     "data": {
      "text/html": [
       "predict label: <b>and</b>"
      ],
      "text/plain": [
       "<IPython.core.display.HTML object>"
      ]
     },
     "metadata": {},
     "output_type": "display_data"
    }
   ],
   "source": [
    "for i in range(50):\n",
    "    res = get_example_by_idx('and', i)\n",
    "    display(*bilstm.visualize_example(res[0], res[1], res[2], dis_labels))"
   ]
  },
  {
   "cell_type": "code",
   "execution_count": null,
   "metadata": {},
   "outputs": [],
   "source": []
  }
 ],
 "metadata": {
  "kernelspec": {
   "display_name": "Python 2",
   "language": "python",
   "name": "python2"
  },
  "language_info": {
   "codemirror_mode": {
    "name": "ipython",
    "version": 2
   },
   "file_extension": ".py",
   "mimetype": "text/x-python",
   "name": "python",
   "nbconvert_exporter": "python",
   "pygments_lexer": "ipython2",
   "version": "2.7.14"
  }
 },
 "nbformat": 4,
 "nbformat_minor": 2
}
