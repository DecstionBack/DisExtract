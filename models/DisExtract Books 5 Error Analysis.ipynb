{
 "cells": [
  {
   "cell_type": "markdown",
   "metadata": {},
   "source": [
    "# DisSent Books 5 Error Analysis\n",
    "\n",
    "We analyze the full model because it performs the best."
   ]
  },
  {
   "cell_type": "code",
   "execution_count": 2,
   "metadata": {},
   "outputs": [
    {
     "name": "stdout",
     "output_type": "stream",
     "text": [
      "The autoreload extension is already loaded. To reload it, use:\n",
      "  %reload_ext autoreload\n"
     ]
    }
   ],
   "source": [
    "%load_ext autoreload\n",
    "%autoreload 2"
   ]
  },
  {
   "cell_type": "code",
   "execution_count": 4,
   "metadata": {},
   "outputs": [],
   "source": [
    "import os\n",
    "import torch\n",
    "dis_net = torch.load(os.path.join('./exp/books5_words_4096_sgd_01_d0_fcd0', 'dis-model-11'  + \".pickle\"))\n",
    "dis_net.cpu()\n",
    "dis_net.s1_only = False\n",
    "dis_net.s2_only = False"
   ]
  },
  {
   "cell_type": "code",
   "execution_count": 5,
   "metadata": {},
   "outputs": [],
   "source": [
    "\"\"\"\n",
    "DATA\n",
    "\"\"\"\n",
    "import numpy as np\n",
    "from data import get_dis, get_batch, build_vocab, get_filtered_dis\n",
    "\n",
    "train, valid, test = get_dis('/home/anie/DisExtract/data/books', \n",
    "                                      'discourse_EN_FIVE_and_but_because_if_when_2017dec12')\n",
    "word_vec = build_vocab(train['s1'] + train['s2'] +\n",
    "                       valid['s1'] + valid['s2'] +\n",
    "                       test['s1'] + test['s2'], '/home/anie/glove/glove.840B.300d.txt')\n",
    "\n",
    "# unknown words instead of map to <unk>, this directly takes them out\n",
    "for split in ['s1', 's2']:\n",
    "    for data_type in ['train', 'valid', 'test']:\n",
    "        eval(data_type)[split] = np.array([['<s>'] +\n",
    "                                           [word for word in sent.split() if word in word_vec] +\n",
    "                                           ['</s>'] for sent in eval(data_type)[split]])"
   ]
  },
  {
   "cell_type": "markdown",
   "metadata": {},
   "source": [
    "We can use the following function to get an example of a given marker"
   ]
  },
  {
   "cell_type": "code",
   "execution_count": 6,
   "metadata": {},
   "outputs": [],
   "source": [
    "from util import get_labels\n",
    "dis_labels = get_labels('books_5')"
   ]
  },
  {
   "cell_type": "code",
   "execution_count": 7,
   "metadata": {},
   "outputs": [],
   "source": [
    "def get_example_by_idx(marker, idx, data_type='valid'):\n",
    "    marker_idx = dis_labels.index(marker)\n",
    "    cnt = idx\n",
    "    for i in range(len(eval(data_type)['label'])):\n",
    "        if eval(data_type)['label'][i] == marker_idx and cnt == 0:\n",
    "            return eval(data_type)['s1'][i], eval(data_type)['s2'][i], eval(data_type)['label'][i]\n",
    "        elif eval(data_type)['label'][i] == marker_idx:\n",
    "            cnt -= 1\n",
    "        else:\n",
    "            continue"
   ]
  },
  {
   "cell_type": "code",
   "execution_count": 13,
   "metadata": {},
   "outputs": [],
   "source": [
    "res = get_example_by_idx('but', 0)"
   ]
  },
  {
   "cell_type": "code",
   "execution_count": 14,
   "metadata": {},
   "outputs": [
    {
     "data": {
      "text/plain": [
       "(['<s>',\n",
       "  'They',\n",
       "  'were',\n",
       "  'less',\n",
       "  'strict',\n",
       "  'theyre',\n",
       "  'good',\n",
       "  'parents',\n",
       "  '.',\n",
       "  '</s>'],\n",
       " ['<s>', 'Thats', 'what', 'really', 'matters', '.', '</s>'],\n",
       " 2)"
      ]
     },
     "execution_count": 14,
     "metadata": {},
     "output_type": "execute_result"
    }
   ],
   "source": [
    "res"
   ]
  },
  {
   "cell_type": "markdown",
   "metadata": {},
   "source": [
    "## What is the interpretation method?\n",
    "\n",
    "We use the [contextual decomposition](https://arxiv.org/pdf/1801.05453.pdf) technique. The core idea of this method is to:\n",
    "\n",
    "$h_t = \\mathrm{rel}_t + \\mathrm{irrel}_t$ for all t\n",
    "\n",
    "We break down each hidden state into a \"relevant\" vector and a \"irrelevant\" vector. We are working with a special case where we only look at each word's contribution to the final prediction, ignoring the interactions between words.\n",
    "\n",
    "After breaking each hidden state down, we then use $rel_t \\times \\frac{\\nabla \\hat y_i}{\\nabla h_t}$, the gradient to the hidden state as it's influence to the final prediction.\n"
   ]
  },
  {
   "cell_type": "code",
   "execution_count": null,
   "metadata": {},
   "outputs": [],
   "source": [
    "from viz import MaxPoolingCDBiLSTM\n",
    "\n",
    "bilstm = MaxPoolingCDBiLSTM(model=dis_net, glove_path=\"/home/anie/glove/glove.840B.300d.txt\", bilstm=True)\n",
    "bilstm.word_vec = word_vec\n",
    "bilstm.model.encoder.word_vec = word_vec"
   ]
  },
  {
   "cell_type": "markdown",
   "metadata": {},
   "source": [
    "We first take a look at some more successful markers like `but`, `and`, and `if`"
   ]
  },
  {
   "cell_type": "code",
   "execution_count": 15,
   "metadata": {},
   "outputs": [
    {
     "data": {
      "text/html": [
       "<span style=\"background-color:#7878ff\">They</span> <span style=\"background-color:#ff0000\">were</span> <span style=\"background-color:#9c9cff\">less</span> <span style=\"background-color:#ffa2a2\">strict</span> <span style=\"background-color:#ffbebe\">theyre</span> <span style=\"background-color:#ffcccc\">good</span> <span style=\"background-color:#ffd3d3\">parents</span> <span style=\"background-color:#9898ff\">.</span> \n"
      ],
      "text/plain": [
       "<IPython.core.display.HTML object>"
      ]
     },
     "metadata": {},
     "output_type": "display_data"
    },
    {
     "data": {
      "text/html": [
       "<span style=\"background-color:#ffbcbc\">Thats</span> <span style=\"background-color:#8c8cff\">what</span> <span style=\"background-color:#ff0000\">really</span> <span style=\"background-color:#d3d3ff\">matters</span> <span style=\"background-color:#fcfcff\">.</span> \n"
      ],
      "text/plain": [
       "<IPython.core.display.HTML object>"
      ]
     },
     "metadata": {},
     "output_type": "display_data"
    },
    {
     "data": {
      "text/html": [
       "correct label: <b>but</b>"
      ],
      "text/plain": [
       "<IPython.core.display.HTML object>"
      ]
     },
     "metadata": {},
     "output_type": "display_data"
    },
    {
     "data": {
      "text/html": [
       "predict label: <b>but</b>"
      ],
      "text/plain": [
       "<IPython.core.display.HTML object>"
      ]
     },
     "metadata": {},
     "output_type": "display_data"
    },
    {
     "data": {
      "text/html": [
       "<span style=\"background-color:#f0f0ff\">His</span> <span style=\"background-color:#d8d8ff\">mother</span> <span style=\"background-color:#d0d0ff\">had</span> <span style=\"background-color:#ff0000\">tried</span> <span style=\"background-color:#fafaff\">to</span> <span style=\"background-color:#fff0f0\">get</span> <span style=\"background-color:#f8f8ff\">chris</span> <span style=\"background-color:#fff8f8\">to</span> <span style=\"background-color:#fffcfc\">leave</span> <span style=\"background-color:#ccccff\">.</span> \n"
      ],
      "text/plain": [
       "<IPython.core.display.HTML object>"
      ]
     },
     "metadata": {},
     "output_type": "display_data"
    },
    {
     "data": {
      "text/html": [
       "<span style=\"background-color:#ff3131\">For</span> <span style=\"background-color:#dcdcff\">an</span> <span style=\"background-color:#fffefe\">obvious</span> <span style=\"background-color:#ff0000\">reason</span> <span style=\"background-color:#ffe6e6\">,</span> <span style=\"background-color:#f3f3ff\">he</span> <span style=\"background-color:#ffe4e4\">'d</span> <span style=\"background-color:#ffa3a3\">stayed</span> <span style=\"background-color:#ffdede\">behind</span> <span style=\"background-color:#ffcccc\">with</span> <span style=\"background-color:#ffeeee\">wulf</span> <span style=\"background-color:#fffefe\">.</span> \n"
      ],
      "text/plain": [
       "<IPython.core.display.HTML object>"
      ]
     },
     "metadata": {},
     "output_type": "display_data"
    },
    {
     "data": {
      "text/html": [
       "correct label: <b>but</b>"
      ],
      "text/plain": [
       "<IPython.core.display.HTML object>"
      ]
     },
     "metadata": {},
     "output_type": "display_data"
    },
    {
     "data": {
      "text/html": [
       "predict label: <b>but</b>"
      ],
      "text/plain": [
       "<IPython.core.display.HTML object>"
      ]
     },
     "metadata": {},
     "output_type": "display_data"
    },
    {
     "data": {
      "text/html": [
       "<span style=\"background-color:#f2f2ff\">I</span> <span style=\"background-color:#ff0000\">assumed</span> <span style=\"background-color:#b0b0ff\">they</span> <span style=\"background-color:#fff2f2\">'d</span> <span style=\"background-color:#d8d8ff\">be</span> <span style=\"background-color:#ffbaba\">similar</span> <span style=\"background-color:#7c7cff\">.</span> \n"
      ],
      "text/plain": [
       "<IPython.core.display.HTML object>"
      ]
     },
     "metadata": {},
     "output_type": "display_data"
    },
    {
     "data": {
      "text/html": [
       "<span style=\"background-color:#e3e3ff\">They</span> <span style=\"background-color:#c6c6ff\">were</span> <span style=\"background-color:#ff0000\">n't</span> <span style=\"background-color:#d8d8ff\">.</span> <span style=\"background-color:#fffcfc\">.</span> \n"
      ],
      "text/plain": [
       "<IPython.core.display.HTML object>"
      ]
     },
     "metadata": {},
     "output_type": "display_data"
    },
    {
     "data": {
      "text/html": [
       "correct label: <b>but</b>"
      ],
      "text/plain": [
       "<IPython.core.display.HTML object>"
      ]
     },
     "metadata": {},
     "output_type": "display_data"
    },
    {
     "data": {
      "text/html": [
       "predict label: <b>but</b>"
      ],
      "text/plain": [
       "<IPython.core.display.HTML object>"
      ]
     },
     "metadata": {},
     "output_type": "display_data"
    },
    {
     "data": {
      "text/html": [
       "<span style=\"background-color:#ffcaca\">The</span> <span style=\"background-color:#c0c0ff\">man</span> <span style=\"background-color:#ffe6e6\">from</span> <span style=\"background-color:#d6d6ff\">the</span> <span style=\"background-color:#ffe2e2\">yellow</span> <span style=\"background-color:#ffeeee\">porsche</span> <span style=\"background-color:#ececff\">had</span> <span style=\"background-color:#ff0000\">not</span> <span style=\"background-color:#ff5656\">been</span> <span style=\"background-color:#ffb3b3\">wearing</span> <span style=\"background-color:#d8d8ff\">a</span> <span style=\"background-color:#ff8a8a\">fancy</span> <span style=\"background-color:#dcdcff\">,</span> <span style=\"background-color:#ffe2e2\">flashy</span> <span style=\"background-color:#ffc2c2\">suit</span> <span style=\"background-color:#8c8cff\">.</span> \n"
      ],
      "text/plain": [
       "<IPython.core.display.HTML object>"
      ]
     },
     "metadata": {},
     "output_type": "display_data"
    },
    {
     "data": {
      "text/html": [
       "<span style=\"background-color:#0000ff\">He</span> <span style=\"background-color:#ff9898\">was</span> <span style=\"background-color:#9090ff\">wearing</span> <span style=\"background-color:#ffeaea\">a</span> <span style=\"background-color:#ffe4e4\">tie</span> <span style=\"background-color:#eaeaff\">.</span> \n"
      ],
      "text/plain": [
       "<IPython.core.display.HTML object>"
      ]
     },
     "metadata": {},
     "output_type": "display_data"
    },
    {
     "data": {
      "text/html": [
       "correct label: <b>but</b>"
      ],
      "text/plain": [
       "<IPython.core.display.HTML object>"
      ]
     },
     "metadata": {},
     "output_type": "display_data"
    },
    {
     "data": {
      "text/html": [
       "predict label: <b>but</b>"
      ],
      "text/plain": [
       "<IPython.core.display.HTML object>"
      ]
     },
     "metadata": {},
     "output_type": "display_data"
    },
    {
     "data": {
      "text/html": [
       "<span style=\"background-color:#cacaff\">He</span> <span style=\"background-color:#5959ff\">gets</span> <span style=\"background-color:#f3f3ff\">up</span> <span style=\"background-color:#ff4646\">to</span> <span style=\"background-color:#ff3636\">leave</span> <span style=\"background-color:#0000ff\">.</span> \n"
      ],
      "text/plain": [
       "<IPython.core.display.HTML object>"
      ]
     },
     "metadata": {},
     "output_type": "display_data"
    },
    {
     "data": {
      "text/html": [
       "<span style=\"background-color:#0000ff\">He</span> <span style=\"background-color:#ff9a9a\">can</span> <span style=\"background-color:#ffeaea\">go</span> <span style=\"background-color:#b8b8ff\">,</span> <span style=\"background-color:#2828ff\">i</span> <span style=\"background-color:#ff3030\">grab</span> <span style=\"background-color:#9c9cff\">his</span> <span style=\"background-color:#ff4444\">wrist</span> <span style=\"background-color:#ff6c6c\">.</span> \n"
      ],
      "text/plain": [
       "<IPython.core.display.HTML object>"
      ]
     },
     "metadata": {},
     "output_type": "display_data"
    },
    {
     "data": {
      "text/html": [
       "correct label: <b>but</b>"
      ],
      "text/plain": [
       "<IPython.core.display.HTML object>"
      ]
     },
     "metadata": {},
     "output_type": "display_data"
    },
    {
     "data": {
      "text/html": [
       "predict label: <b>but</b>"
      ],
      "text/plain": [
       "<IPython.core.display.HTML object>"
      ]
     },
     "metadata": {},
     "output_type": "display_data"
    },
    {
     "data": {
      "text/html": [
       "<span style=\"background-color:#ffeeee\">I</span> <span style=\"background-color:#d6d6ff\">was</span> <span style=\"background-color:#ff0000\">hoping</span> <span style=\"background-color:#fff2f2\">to</span> <span style=\"background-color:#ff9090\">talk</span> <span style=\"background-color:#e0e0ff\">to</span> <span style=\"background-color:#a2a2ff\">you</span> <span style=\"background-color:#ccccff\">.</span> \n"
      ],
      "text/plain": [
       "<IPython.core.display.HTML object>"
      ]
     },
     "metadata": {},
     "output_type": "display_data"
    },
    {
     "data": {
      "text/html": [
       "<span style=\"background-color:#ffeeee\">Nicky</span> <span style=\"background-color:#ff8282\">says</span> <span style=\"background-color:#0000ff\">you</span> <span style=\"background-color:#ffa2a2\">'ve</span> <span style=\"background-color:#9c9cff\">wandered</span> <span style=\"background-color:#fff0f0\">off</span> <span style=\"background-color:#ffdcdc\">.</span> \n"
      ],
      "text/plain": [
       "<IPython.core.display.HTML object>"
      ]
     },
     "metadata": {},
     "output_type": "display_data"
    },
    {
     "data": {
      "text/html": [
       "correct label: <b>but</b>"
      ],
      "text/plain": [
       "<IPython.core.display.HTML object>"
      ]
     },
     "metadata": {},
     "output_type": "display_data"
    },
    {
     "data": {
      "text/html": [
       "predict label: <b>but</b>"
      ],
      "text/plain": [
       "<IPython.core.display.HTML object>"
      ]
     },
     "metadata": {},
     "output_type": "display_data"
    },
    {
     "data": {
      "text/html": [
       "<span style=\"background-color:#2c2cff\">If</span> <span style=\"background-color:#8a8aff\">she</span> <span style=\"background-color:#ff0000\">had</span> <span style=\"background-color:#a0a0ff\">to</span> <span style=\"background-color:#ffbcbc\">work</span> <span style=\"background-color:#dadaff\">in</span> <span style=\"background-color:#d6d6ff\">the</span> <span style=\"background-color:#e0e0ff\">morning</span> <span style=\"background-color:#ffe2e2\">hours</span> <span style=\"background-color:#7979ff\">or</span> <span style=\"background-color:#e6e6ff\">late</span> <span style=\"background-color:#7c7cff\">afternoon</span> <span style=\"background-color:#f0f0ff\">,</span> <span style=\"background-color:#ceceff\">she</span> <span style=\"background-color:#fffefe\">could</span> <span style=\"background-color:#ff4c4c\">manage</span> <span style=\"background-color:#c6c6ff\">with</span> <span style=\"background-color:#fafaff\">long</span> <span style=\"background-color:#f0f0ff\">sleeves</span> <span style=\"background-color:#dadaff\">and</span> <span style=\"background-color:#4848ff\">sunblocks</span> <span style=\"background-color:#c8c8ff\">.</span> \n"
      ],
      "text/plain": [
       "<IPython.core.display.HTML object>"
      ]
     },
     "metadata": {},
     "output_type": "display_data"
    },
    {
     "data": {
      "text/html": [
       "<span style=\"background-color:#babaff\">She</span> <span style=\"background-color:#ff0000\">rarely</span> <span style=\"background-color:#b6b6ff\">set</span> <span style=\"background-color:#fff4f4\">to</span> <span style=\"background-color:#fffafa\">work</span> <span style=\"background-color:#ffbcbc\">until</span> <span style=\"background-color:#d2d2ff\">evening</span> <span style=\"background-color:#fefeff\">.</span> \n"
      ],
      "text/plain": [
       "<IPython.core.display.HTML object>"
      ]
     },
     "metadata": {},
     "output_type": "display_data"
    },
    {
     "data": {
      "text/html": [
       "correct label: <b>but</b>"
      ],
      "text/plain": [
       "<IPython.core.display.HTML object>"
      ]
     },
     "metadata": {},
     "output_type": "display_data"
    },
    {
     "data": {
      "text/html": [
       "predict label: <b>but</b>"
      ],
      "text/plain": [
       "<IPython.core.display.HTML object>"
      ]
     },
     "metadata": {},
     "output_type": "display_data"
    },
    {
     "data": {
      "text/html": [
       "<span style=\"background-color:#ffc2c2\">It</span> <span style=\"background-color:#ff8686\">was</span> <span style=\"background-color:#fff4f4\">a</span> <span style=\"background-color:#ff0000\">bit</span> <span style=\"background-color:#ffecec\">of</span> <span style=\"background-color:#dcdcff\">a</span> <span style=\"background-color:#b8b8ff\">job</span> <span style=\"background-color:#ffdcdc\">to</span> <span style=\"background-color:#ffaeae\">manage</span> <span style=\"background-color:#ffeaea\">my</span> <span style=\"background-color:#fff0f0\">umbrella</span> <span style=\"background-color:#8080ff\">,</span> <span style=\"background-color:#f2f2ff\">my</span> <span style=\"background-color:#fefeff\">bag</span> <span style=\"background-color:#ff8686\">and</span> <span style=\"background-color:#ffe6e6\">the</span> <span style=\"background-color:#b3b3ff\">cake</span> <span style=\"background-color:#d6d6ff\">.</span> \n"
      ],
      "text/plain": [
       "<IPython.core.display.HTML object>"
      ]
     },
     "metadata": {},
     "output_type": "display_data"
    },
    {
     "data": {
      "text/html": [
       "<span style=\"background-color:#f3f3ff\">The</span> <span style=\"background-color:#9e9eff\">lady</span> <span style=\"background-color:#c3c3ff\">at</span> <span style=\"background-color:#ffc0c0\">the</span> <span style=\"background-color:#ffe4e4\">counter</span> <span style=\"background-color:#9898ff\">put</span> <span style=\"background-color:#d2d2ff\">some</span> <span style=\"background-color:#ffb0b0\">string</span> <span style=\"background-color:#f3f3ff\">around</span> <span style=\"background-color:#fff8f8\">the</span> <span style=\"background-color:#9393ff\">box</span> <span style=\"background-color:#ffe4e4\">,</span> <span style=\"background-color:#3a3aff\">which</span> <span style=\"background-color:#fffcfc\">made</span> <span style=\"background-color:#ff9a9a\">it</span> <span style=\"background-color:#ff0000\">manageable</span> <span style=\"background-color:#ffecec\">.</span> \n"
      ],
      "text/plain": [
       "<IPython.core.display.HTML object>"
      ]
     },
     "metadata": {},
     "output_type": "display_data"
    },
    {
     "data": {
      "text/html": [
       "correct label: <b>but</b>"
      ],
      "text/plain": [
       "<IPython.core.display.HTML object>"
      ]
     },
     "metadata": {},
     "output_type": "display_data"
    },
    {
     "data": {
      "text/html": [
       "predict label: <b>but</b>"
      ],
      "text/plain": [
       "<IPython.core.display.HTML object>"
      ]
     },
     "metadata": {},
     "output_type": "display_data"
    },
    {
     "data": {
      "text/html": [
       "<span style=\"background-color:#9e9eff\">His</span> <span style=\"background-color:#ff0606\">physique</span> <span style=\"background-color:#ff4c4c\">matched</span> <span style=\"background-color:#fff0f0\">boris</span> <span style=\"background-color:#0000ff\">.</span> \n"
      ],
      "text/plain": [
       "<IPython.core.display.HTML object>"
      ]
     },
     "metadata": {},
     "output_type": "display_data"
    },
    {
     "data": {
      "text/html": [
       "<span style=\"background-color:#0000ff\">He</span> <span style=\"background-color:#ff4040\">was</span> <span style=\"background-color:#ffc0c0\">much</span> <span style=\"background-color:#ffe8e8\">taller</span> <span style=\"background-color:#ffa6a6\">,</span> <span style=\"background-color:#ffa0a0\">more</span> <span style=\"background-color:#ffcccc\">tanned</span> <span style=\"background-color:#dadaff\">and</span> <span style=\"background-color:#d6d6ff\">had</span> <span style=\"background-color:#fefeff\">long</span> <span style=\"background-color:#ffbcbc\">,</span> <span style=\"background-color:#ff2e2e\">ragged</span> <span style=\"background-color:#d3d3ff\">hair</span> <span style=\"background-color:#f2f2ff\">.</span> \n"
      ],
      "text/plain": [
       "<IPython.core.display.HTML object>"
      ]
     },
     "metadata": {},
     "output_type": "display_data"
    },
    {
     "data": {
      "text/html": [
       "correct label: <b>but</b>"
      ],
      "text/plain": [
       "<IPython.core.display.HTML object>"
      ]
     },
     "metadata": {},
     "output_type": "display_data"
    },
    {
     "data": {
      "text/html": [
       "predict label: <b>but</b>"
      ],
      "text/plain": [
       "<IPython.core.display.HTML object>"
      ]
     },
     "metadata": {},
     "output_type": "display_data"
    },
    {
     "data": {
      "text/html": [
       "<span style=\"background-color:#f3f3ff\">I</span> <span style=\"background-color:#a6a6ff\">would</span> <span style=\"background-color:#ff0000\">love</span> <span style=\"background-color:#e3e3ff\">to</span> <span style=\"background-color:#fffafa\">have</span> <span style=\"background-color:#e3e3ff\">the</span> <span style=\"background-color:#d6d6ff\">time</span> <span style=\"background-color:#ffe2e2\">to</span> <span style=\"background-color:#ccccff\">spend</span> <span style=\"background-color:#e8e8ff\">with</span> <span style=\"background-color:#fff8f8\">our</span> <span style=\"background-color:#c6c6ff\">children</span> <span style=\"background-color:#8c8cff\">.</span> \n"
      ],
      "text/plain": [
       "<IPython.core.display.HTML object>"
      ]
     },
     "metadata": {},
     "output_type": "display_data"
    },
    {
     "data": {
      "text/html": [
       "<span style=\"background-color:#d6d6ff\">That</span> <span style=\"background-color:#ff8686\">'s</span> <span style=\"background-color:#ff0000\">years</span> <span style=\"background-color:#c0c0ff\">in</span> <span style=\"background-color:#fefeff\">the</span> <span style=\"background-color:#ceceff\">future</span> <span style=\"background-color:#f2f2ff\">.</span> \n"
      ],
      "text/plain": [
       "<IPython.core.display.HTML object>"
      ]
     },
     "metadata": {},
     "output_type": "display_data"
    },
    {
     "data": {
      "text/html": [
       "correct label: <b>but</b>"
      ],
      "text/plain": [
       "<IPython.core.display.HTML object>"
      ]
     },
     "metadata": {},
     "output_type": "display_data"
    },
    {
     "data": {
      "text/html": [
       "predict label: <b>but</b>"
      ],
      "text/plain": [
       "<IPython.core.display.HTML object>"
      ]
     },
     "metadata": {},
     "output_type": "display_data"
    }
   ],
   "source": [
    "for i in range(10):\n",
    "    res = get_example_by_idx('but', i)\n",
    "    display(*bilstm.visualize_example(res[0], res[1], res[2], dis_labels))"
   ]
  },
  {
   "cell_type": "code",
   "execution_count": 17,
   "metadata": {},
   "outputs": [
    {
     "data": {
      "text/html": [
       "<span style=\"background-color:#d8d8ff\">Well</span> <span style=\"background-color:#aeaeff\">i</span> <span style=\"background-color:#ff0000\">may</span> <span style=\"background-color:#ffa0a0\">be</span> <span style=\"background-color:#ffdcdc\">old</span> <span style=\"background-color:#d2d2ff\">,</span> <span style=\"background-color:#dcdcff\">keno</span> <span style=\"background-color:#b6b6ff\">.</span> \n"
      ],
      "text/plain": [
       "<IPython.core.display.HTML object>"
      ]
     },
     "metadata": {},
     "output_type": "display_data"
    },
    {
     "data": {
      "text/html": [
       "<span style=\"background-color:#e3e3ff\">I</span> <span style=\"background-color:#ffe8e8\">am</span> <span style=\"background-color:#ff0000\">neither</span> <span style=\"background-color:#eeeeff\">impaired</span> <span style=\"background-color:#eaeaff\">nor</span> <span style=\"background-color:#fff4f4\">indolent</span> <span style=\"background-color:#e8e8ff\">.</span> \n"
      ],
      "text/plain": [
       "<IPython.core.display.HTML object>"
      ]
     },
     "metadata": {},
     "output_type": "display_data"
    },
    {
     "data": {
      "text/html": [
       "correct label: <b>but</b>"
      ],
      "text/plain": [
       "<IPython.core.display.HTML object>"
      ]
     },
     "metadata": {},
     "output_type": "display_data"
    },
    {
     "data": {
      "text/html": [
       "predict label: <b>but</b>"
      ],
      "text/plain": [
       "<IPython.core.display.HTML object>"
      ]
     },
     "metadata": {},
     "output_type": "display_data"
    }
   ],
   "source": [
    "for i in range(19, 20):\n",
    "    res = get_example_by_idx('but', i)\n",
    "    display(*bilstm.visualize_example(res[0], res[1], res[2], dis_labels))"
   ]
  },
  {
   "cell_type": "code",
   "execution_count": 18,
   "metadata": {},
   "outputs": [
    {
     "data": {
      "text/html": [
       "<span style=\"background-color:#b2b2ff\">They</span> <span style=\"background-color:#aeaeff\">called</span> <span style=\"background-color:#0000ff\">the</span> <span style=\"background-color:#eaeaff\">emergency</span> <span style=\"background-color:#fff0f0\">service</span> <span style=\"background-color:#ff8a8a\">.</span> \n"
      ],
      "text/plain": [
       "<IPython.core.display.HTML object>"
      ]
     },
     "metadata": {},
     "output_type": "display_data"
    },
    {
     "data": {
      "text/html": [
       "<span style=\"background-color:#ffcece\">Mr.</span> <span style=\"background-color:#ffcece\">mccormack</span> <span style=\"background-color:#ff0000\">died</span> <span style=\"background-color:#9090ff\">from</span> <span style=\"background-color:#d0d0ff\">his</span> <span style=\"background-color:#acacff\">hemorrhage</span> <span style=\"background-color:#ffaaaa\">three</span> <span style=\"background-color:#dcdcff\">days</span> <span style=\"background-color:#c2c2ff\">.</span> \n"
      ],
      "text/plain": [
       "<IPython.core.display.HTML object>"
      ]
     },
     "metadata": {},
     "output_type": "display_data"
    },
    {
     "data": {
      "text/html": [
       "correct label: <b>but</b>"
      ],
      "text/plain": [
       "<IPython.core.display.HTML object>"
      ]
     },
     "metadata": {},
     "output_type": "display_data"
    },
    {
     "data": {
      "text/html": [
       "predict label: <b>when</b>"
      ],
      "text/plain": [
       "<IPython.core.display.HTML object>"
      ]
     },
     "metadata": {},
     "output_type": "display_data"
    },
    {
     "data": {
      "text/html": [
       "<span style=\"background-color:#b6b6ff\">It</span> <span style=\"background-color:#ff0000\">was</span> <span style=\"background-color:#ffa6a6\">such</span> <span style=\"background-color:#ffdada\">a</span> <span style=\"background-color:#ffe4e4\">strange</span> <span style=\"background-color:#8080ff\">taboo</span> <span style=\"background-color:#6666ff\">.</span> \n"
      ],
      "text/plain": [
       "<IPython.core.display.HTML object>"
      ]
     },
     "metadata": {},
     "output_type": "display_data"
    },
    {
     "data": {
      "text/html": [
       "<span style=\"background-color:#ffcece\">It</span> <span style=\"background-color:#ff9898\">was</span> <span style=\"background-color:#7979ff\">their</span> <span style=\"background-color:#0000ff\">world</span> <span style=\"background-color:#ffacac\">,</span> <span style=\"background-color:#9292ff\">after</span> <span style=\"background-color:#ffb3b3\">all</span> <span style=\"background-color:#ffb2b2\">.</span> \n"
      ],
      "text/plain": [
       "<IPython.core.display.HTML object>"
      ]
     },
     "metadata": {},
     "output_type": "display_data"
    },
    {
     "data": {
      "text/html": [
       "correct label: <b>but</b>"
      ],
      "text/plain": [
       "<IPython.core.display.HTML object>"
      ]
     },
     "metadata": {},
     "output_type": "display_data"
    },
    {
     "data": {
      "text/html": [
       "predict label: <b>but</b>"
      ],
      "text/plain": [
       "<IPython.core.display.HTML object>"
      ]
     },
     "metadata": {},
     "output_type": "display_data"
    },
    {
     "data": {
      "text/html": [
       "<span style=\"background-color:#6666ff\">Hed</span> <span style=\"background-color:#ff3636\">left</span> <span style=\"background-color:#fffefe\">his</span> <span style=\"background-color:#ffe8e8\">project</span> <span style=\"background-color:#ffd0d0\">in</span> <span style=\"background-color:#ffdcdc\">the</span> <span style=\"background-color:#9393ff\">vice</span> <span style=\"background-color:#0000ff\">and</span> <span style=\"background-color:#ffc3c3\">tools</span> <span style=\"background-color:#f8f8ff\">on</span> <span style=\"background-color:#fff6f6\">the</span> <span style=\"background-color:#fcfcff\">bench</span> <span style=\"background-color:#a8a8ff\">.</span> \n"
      ],
      "text/plain": [
       "<IPython.core.display.HTML object>"
      ]
     },
     "metadata": {},
     "output_type": "display_data"
    },
    {
     "data": {
      "text/html": [
       "<span style=\"background-color:#ff0000\">Collected</span> <span style=\"background-color:#ff8282\">the</span> <span style=\"background-color:#fffafa\">lord</span> <span style=\"background-color:#fefeff\">anthony</span> <span style=\"background-color:#f8f8ff\">parka</span> <span style=\"background-color:#ffcece\">coat</span> <span style=\"background-color:#ffe8e8\">his</span> <span style=\"background-color:#e8e8ff\">aunt</span> <span style=\"background-color:#acacff\">had</span> <span style=\"background-color:#d2d2ff\">bought</span> <span style=\"background-color:#e6e6ff\">him</span> <span style=\"background-color:#ffe6e6\">that</span> <span style=\"background-color:#ccccff\">christmas</span> <span style=\"background-color:#fff2f2\">.</span> \n"
      ],
      "text/plain": [
       "<IPython.core.display.HTML object>"
      ]
     },
     "metadata": {},
     "output_type": "display_data"
    },
    {
     "data": {
      "text/html": [
       "correct label: <b>but</b>"
      ],
      "text/plain": [
       "<IPython.core.display.HTML object>"
      ]
     },
     "metadata": {},
     "output_type": "display_data"
    },
    {
     "data": {
      "text/html": [
       "predict label: <b>and</b>"
      ],
      "text/plain": [
       "<IPython.core.display.HTML object>"
      ]
     },
     "metadata": {},
     "output_type": "display_data"
    },
    {
     "data": {
      "text/html": [
       "<span style=\"background-color:#ffd2d2\">I</span> <span style=\"background-color:#f8f8ff\">had</span> <span style=\"background-color:#ff6666\">no</span> <span style=\"background-color:#ff0000\">idea</span> <span style=\"background-color:#c0c0ff\">how</span> <span style=\"background-color:#c3c3ff\">we</span> <span style=\"background-color:#ffa0a0\">were</span> <span style=\"background-color:#fff6f6\">going</span> <span style=\"background-color:#dedeff\">to</span> <span style=\"background-color:#ffe4e4\">put</span> <span style=\"background-color:#fffcfc\">them</span> <span style=\"background-color:#d8d8ff\">together</span> <span style=\"background-color:#fffcfc\">to</span> <span style=\"background-color:#aeaeff\">make</span> <span style=\"background-color:#fafaff\">a</span> <span style=\"background-color:#fffefe\">shelter</span> <span style=\"background-color:#a3a3ff\">.</span> \n"
      ],
      "text/plain": [
       "<IPython.core.display.HTML object>"
      ]
     },
     "metadata": {},
     "output_type": "display_data"
    },
    {
     "data": {
      "text/html": [
       "<span style=\"background-color:#0000ff\">I</span> <span style=\"background-color:#b3b3ff\">'d</span> <span style=\"background-color:#8888ff\">leave</span> <span style=\"background-color:#ff1616\">that</span> <span style=\"background-color:#f2f2ff\">up</span> <span style=\"background-color:#ffcece\">to</span> <span style=\"background-color:#4848ff\">him</span> <span style=\"background-color:#f2f2ff\">to</span> <span style=\"background-color:#ffc3c3\">figure</span> <span style=\"background-color:#ffe4e4\">out</span> <span style=\"background-color:#d6d6ff\">.</span> \n"
      ],
      "text/plain": [
       "<IPython.core.display.HTML object>"
      ]
     },
     "metadata": {},
     "output_type": "display_data"
    },
    {
     "data": {
      "text/html": [
       "correct label: <b>but</b>"
      ],
      "text/plain": [
       "<IPython.core.display.HTML object>"
      ]
     },
     "metadata": {},
     "output_type": "display_data"
    },
    {
     "data": {
      "text/html": [
       "predict label: <b>but</b>"
      ],
      "text/plain": [
       "<IPython.core.display.HTML object>"
      ]
     },
     "metadata": {},
     "output_type": "display_data"
    },
    {
     "data": {
      "text/html": [
       "<span style=\"background-color:#f6f6ff\">I</span> <span style=\"background-color:#ff0000\">tried</span> <span style=\"background-color:#eaeaff\">to</span> <span style=\"background-color:#ffe2e2\">lift</span> <span style=\"background-color:#fcfcff\">my</span> <span style=\"background-color:#fff2f2\">hand</span> <span style=\"background-color:#fefeff\">up</span> <span style=\"background-color:#ceceff\">.</span> \n"
      ],
      "text/plain": [
       "<IPython.core.display.HTML object>"
      ]
     },
     "metadata": {},
     "output_type": "display_data"
    },
    {
     "data": {
      "text/html": [
       "<span style=\"background-color:#0000ff\">Cyrus</span> <span style=\"background-color:#3636ff\">placed</span> <span style=\"background-color:#fff2f2\">his</span> <span style=\"background-color:#ff8888\">own</span> <span style=\"background-color:#ffaaaa\">on</span> <span style=\"background-color:#e3e3ff\">top</span> <span style=\"background-color:#ffbebe\">,</span> <span style=\"background-color:#ff4444\">locking</span> <span style=\"background-color:#d0d0ff\">mine</span> <span style=\"background-color:#fff0f0\">against</span> <span style=\"background-color:#ffdede\">the</span> <span style=\"background-color:#fff0f0\">wax</span> <span style=\"background-color:#c3c3ff\">of</span> <span style=\"background-color:#fafaff\">the</span> <span style=\"background-color:#ffe8e8\">man</span> <span style=\"background-color:#fffefe\">'s</span> <span style=\"background-color:#c2c2ff\">skin</span> <span style=\"background-color:#ffbcbc\">.</span> \n"
      ],
      "text/plain": [
       "<IPython.core.display.HTML object>"
      ]
     },
     "metadata": {},
     "output_type": "display_data"
    },
    {
     "data": {
      "text/html": [
       "correct label: <b>but</b>"
      ],
      "text/plain": [
       "<IPython.core.display.HTML object>"
      ]
     },
     "metadata": {},
     "output_type": "display_data"
    },
    {
     "data": {
      "text/html": [
       "predict label: <b>but</b>"
      ],
      "text/plain": [
       "<IPython.core.display.HTML object>"
      ]
     },
     "metadata": {},
     "output_type": "display_data"
    },
    {
     "data": {
      "text/html": [
       "<span style=\"background-color:#fffcfc\">The</span> <span style=\"background-color:#ffdede\">current</span> <span style=\"background-color:#ffc0c0\">building</span> <span style=\"background-color:#ff0000\">was</span> <span style=\"background-color:#2020ff\">only</span> <span style=\"background-color:#fffafa\">a</span> <span style=\"background-color:#fff0f0\">century</span> <span style=\"background-color:#b2b2ff\">or</span> <span style=\"background-color:#7070ff\">so</span> <span style=\"background-color:#fff2f2\">old</span> <span style=\"background-color:#8888ff\">.</span> \n"
      ],
      "text/plain": [
       "<IPython.core.display.HTML object>"
      ]
     },
     "metadata": {},
     "output_type": "display_data"
    },
    {
     "data": {
      "text/html": [
       "<span style=\"background-color:#fffefe\">It</span> <span style=\"background-color:#ff0000\">still</span> <span style=\"background-color:#e3e3ff\">had</span> <span style=\"background-color:#f2f2ff\">the</span> <span style=\"background-color:#eeeeff\">resonances</span> <span style=\"background-color:#fff8f8\">of</span> <span style=\"background-color:#fff6f6\">a</span> <span style=\"background-color:#d2d2ff\">planet</span> <span style=\"background-color:#f6f6ff\">'s</span> <span style=\"background-color:#fcfcff\">biography</span> <span style=\"background-color:#fafaff\">.</span> \n"
      ],
      "text/plain": [
       "<IPython.core.display.HTML object>"
      ]
     },
     "metadata": {},
     "output_type": "display_data"
    },
    {
     "data": {
      "text/html": [
       "correct label: <b>but</b>"
      ],
      "text/plain": [
       "<IPython.core.display.HTML object>"
      ]
     },
     "metadata": {},
     "output_type": "display_data"
    },
    {
     "data": {
      "text/html": [
       "predict label: <b>but</b>"
      ],
      "text/plain": [
       "<IPython.core.display.HTML object>"
      ]
     },
     "metadata": {},
     "output_type": "display_data"
    },
    {
     "data": {
      "text/html": [
       "<span style=\"background-color:#f2f2ff\">He</span> <span style=\"background-color:#ff0000\">attempted</span> <span style=\"background-color:#dedeff\">to</span> <span style=\"background-color:#ffe6e6\">call</span> <span style=\"background-color:#fefeff\">out</span> <span style=\"background-color:#fefeff\">for</span> <span style=\"background-color:#fff4f4\">help</span> <span style=\"background-color:#c8c8ff\">.</span> \n"
      ],
      "text/plain": [
       "<IPython.core.display.HTML object>"
      ]
     },
     "metadata": {},
     "output_type": "display_data"
    },
    {
     "data": {
      "text/html": [
       "<span style=\"background-color:#ff0000\">Found</span> <span style=\"background-color:#b2b2ff\">he</span> <span style=\"background-color:#ffb2b2\">could</span> <span style=\"background-color:#ff9e9e\">only</span> <span style=\"background-color:#e6e6ff\">make</span> <span style=\"background-color:#ececff\">an</span> <span style=\"background-color:#fffafa\">indistinguishable</span> <span style=\"background-color:#ffd8d8\">noise</span> <span style=\"background-color:#eeeeff\">,</span> <span style=\"background-color:#ffc0c0\">and</span> <span style=\"background-color:#fff6f6\">that</span> <span style=\"background-color:#ffe6e6\">it</span> <span style=\"background-color:#fff4f4\">hurt</span> <span style=\"background-color:#eeeeff\">his</span> <span style=\"background-color:#f8f8ff\">jaw</span> <span style=\"background-color:#fffafa\">quite</span> <span style=\"background-color:#ffe0e0\">profoundly</span> <span style=\"background-color:#ececff\">to</span> <span style=\"background-color:#f0f0ff\">even</span> <span style=\"background-color:#e8e8ff\">do</span> <span style=\"background-color:#ffc8c8\">that</span> <span style=\"background-color:#ffdcdc\">.</span> \n"
      ],
      "text/plain": [
       "<IPython.core.display.HTML object>"
      ]
     },
     "metadata": {},
     "output_type": "display_data"
    },
    {
     "data": {
      "text/html": [
       "correct label: <b>but</b>"
      ],
      "text/plain": [
       "<IPython.core.display.HTML object>"
      ]
     },
     "metadata": {},
     "output_type": "display_data"
    },
    {
     "data": {
      "text/html": [
       "predict label: <b>but</b>"
      ],
      "text/plain": [
       "<IPython.core.display.HTML object>"
      ]
     },
     "metadata": {},
     "output_type": "display_data"
    },
    {
     "data": {
      "text/html": [
       "<span style=\"background-color:#4848ff\">Moving</span> <span style=\"background-color:#ff9292\">his</span> <span style=\"background-color:#4e4eff\">hand</span> <span style=\"background-color:#d6d6ff\">meant</span> <span style=\"background-color:#ff8383\">he</span> <span style=\"background-color:#ececff\">let</span> <span style=\"background-color:#ccccff\">go</span> <span style=\"background-color:#ffb3b3\">a</span> <span style=\"background-color:#dedeff\">bare</span> <span style=\"background-color:#eeeeff\">shadow</span> <span style=\"background-color:#fefeff\">of</span> <span style=\"background-color:#e6e6ff\">a</span> <span style=\"background-color:#ffd0d0\">bit</span> <span style=\"background-color:#ff0000\">.</span> \n"
      ],
      "text/plain": [
       "<IPython.core.display.HTML object>"
      ]
     },
     "metadata": {},
     "output_type": "display_data"
    },
    {
     "data": {
      "text/html": [
       "<span style=\"background-color:#ffacac\">It</span> <span style=\"background-color:#ff0000\">were</span> <span style=\"background-color:#8e8eff\">all</span> <span style=\"background-color:#ffc0c0\">i</span> <span style=\"background-color:#ffe6e6\">needed</span> <span style=\"background-color:#fffafa\">.</span> \n"
      ],
      "text/plain": [
       "<IPython.core.display.HTML object>"
      ]
     },
     "metadata": {},
     "output_type": "display_data"
    },
    {
     "data": {
      "text/html": [
       "correct label: <b>but</b>"
      ],
      "text/plain": [
       "<IPython.core.display.HTML object>"
      ]
     },
     "metadata": {},
     "output_type": "display_data"
    },
    {
     "data": {
      "text/html": [
       "predict label: <b>if</b>"
      ],
      "text/plain": [
       "<IPython.core.display.HTML object>"
      ]
     },
     "metadata": {},
     "output_type": "display_data"
    },
    {
     "data": {
      "text/html": [
       "<span style=\"background-color:#0000ff\">Today</span> <span style=\"background-color:#ff5c5c\">was</span> <span style=\"background-color:#ffaaaa\">unseasonably</span> <span style=\"background-color:#ff1010\">cold</span> <span style=\"background-color:#ff6868\">for</span> <span style=\"background-color:#fffcfc\">the</span> <span style=\"background-color:#fefeff\">end</span> <span style=\"background-color:#fff0f0\">of</span> <span style=\"background-color:#ff6969\">june</span> <span style=\"background-color:#9090ff\">.</span> \n"
      ],
      "text/plain": [
       "<IPython.core.display.HTML object>"
      ]
     },
     "metadata": {},
     "output_type": "display_data"
    },
    {
     "data": {
      "text/html": [
       "<span style=\"background-color:#ff0000\">Perhaps</span> <span style=\"background-color:#d8d8ff\">to</span> <span style=\"background-color:#f2f2ff\">a</span> <span style=\"background-color:#aeaeff\">child</span> <span style=\"background-color:#ffd6d6\">who</span> <span style=\"background-color:#e0e0ff\">raced</span> <span style=\"background-color:#ffdada\">and</span> <span style=\"background-color:#ffeeee\">played</span> <span style=\"background-color:#ffd3d3\">it</span> <span style=\"background-color:#f0f0ff\">was</span> <span style=\"background-color:#f0f0ff\">pleasant</span> <span style=\"background-color:#f3f3ff\">.</span> \n"
      ],
      "text/plain": [
       "<IPython.core.display.HTML object>"
      ]
     },
     "metadata": {},
     "output_type": "display_data"
    },
    {
     "data": {
      "text/html": [
       "correct label: <b>but</b>"
      ],
      "text/plain": [
       "<IPython.core.display.HTML object>"
      ]
     },
     "metadata": {},
     "output_type": "display_data"
    },
    {
     "data": {
      "text/html": [
       "predict label: <b>but</b>"
      ],
      "text/plain": [
       "<IPython.core.display.HTML object>"
      ]
     },
     "metadata": {},
     "output_type": "display_data"
    },
    {
     "data": {
      "text/html": [
       "<span style=\"background-color:#7979ff\">It</span> <span style=\"background-color:#ff1111\">was</span> <span style=\"background-color:#babaff\">pretty</span> <span style=\"background-color:#ffb8b8\">hard</span> <span style=\"background-color:#ff2121\">work</span> <span style=\"background-color:#0000ff\">.</span> \n"
      ],
      "text/plain": [
       "<IPython.core.display.HTML object>"
      ]
     },
     "metadata": {},
     "output_type": "display_data"
    },
    {
     "data": {
      "text/html": [
       "<span style=\"background-color:#ff0000\">Oddly</span> <span style=\"background-color:#ff9a9a\">enough</span> <span style=\"background-color:#9e9eff\">everyone</span> <span style=\"background-color:#ffd3d3\">felt</span> <span style=\"background-color:#ffa6a6\">more</span> <span style=\"background-color:#ffb2b2\">cheerful</span> <span style=\"background-color:#eaeaff\">.</span> \n"
      ],
      "text/plain": [
       "<IPython.core.display.HTML object>"
      ]
     },
     "metadata": {},
     "output_type": "display_data"
    },
    {
     "data": {
      "text/html": [
       "correct label: <b>but</b>"
      ],
      "text/plain": [
       "<IPython.core.display.HTML object>"
      ]
     },
     "metadata": {},
     "output_type": "display_data"
    },
    {
     "data": {
      "text/html": [
       "predict label: <b>but</b>"
      ],
      "text/plain": [
       "<IPython.core.display.HTML object>"
      ]
     },
     "metadata": {},
     "output_type": "display_data"
    }
   ],
   "source": [
    "for i in range(20, 30):\n",
    "    res = get_example_by_idx('but', i)\n",
    "    display(*bilstm.visualize_example(res[0], res[1], res[2], dis_labels))"
   ]
  },
  {
   "cell_type": "code",
   "execution_count": 19,
   "metadata": {},
   "outputs": [
    {
     "data": {
      "text/html": [
       "<span style=\"background-color:#ff0000\">Be</span> <span style=\"background-color:#ffcaca\">kind</span> <span style=\"background-color:#ffaeae\">of</span> <span style=\"background-color:#c6c6ff\">lying</span> <span style=\"background-color:#ff2828\">.</span> \n"
      ],
      "text/plain": [
       "<IPython.core.display.HTML object>"
      ]
     },
     "metadata": {},
     "output_type": "display_data"
    },
    {
     "data": {
      "text/html": [
       "<span style=\"background-color:#ffeaea\">I</span> <span style=\"background-color:#ff0000\">were</span> <span style=\"background-color:#ffc6c6\">to</span> <span style=\"background-color:#a6a6ff\">say</span> <span style=\"background-color:#fff0f0\">that</span> <span style=\"background-color:#ffe8e8\">i</span> <span style=\"background-color:#fff2f2\">didnt</span> <span style=\"background-color:#ffecec\">have</span> <span style=\"background-color:#f3f3ff\">another</span> <span style=\"background-color:#ffdede\">motivation</span> <span style=\"background-color:#f2f2ff\">.</span> \n"
      ],
      "text/plain": [
       "<IPython.core.display.HTML object>"
      ]
     },
     "metadata": {},
     "output_type": "display_data"
    },
    {
     "data": {
      "text/html": [
       "correct label: <b>if</b>"
      ],
      "text/plain": [
       "<IPython.core.display.HTML object>"
      ]
     },
     "metadata": {},
     "output_type": "display_data"
    },
    {
     "data": {
      "text/html": [
       "predict label: <b>if</b>"
      ],
      "text/plain": [
       "<IPython.core.display.HTML object>"
      ]
     },
     "metadata": {},
     "output_type": "display_data"
    },
    {
     "data": {
      "text/html": [
       "<span style=\"background-color:#ffa2a2\">It</span> <span style=\"background-color:#9696ff\">'s</span> <span style=\"background-color:#e3e3ff\">jack</span> <span style=\"background-color:#3232ff\">norton</span> <span style=\"background-color:#ff0000\">.</span> \n"
      ],
      "text/plain": [
       "<IPython.core.display.HTML object>"
      ]
     },
     "metadata": {},
     "output_type": "display_data"
    },
    {
     "data": {
      "text/html": [
       "<span style=\"background-color:#ff8e8e\">There</span> <span style=\"background-color:#ffe2e2\">'s</span> <span style=\"background-color:#ff7c7c\">one</span> <span style=\"background-color:#ff0000\">person</span> <span style=\"background-color:#9898ff\">who</span> <span style=\"background-color:#ffdada\">has</span> <span style=\"background-color:#fff4f4\">a</span> <span style=\"background-color:#ff9696\">chance</span> <span style=\"background-color:#e8e8ff\">of</span> <span style=\"background-color:#fff8f8\">escaping</span> <span style=\"background-color:#f6f6ff\">the</span> <span style=\"background-color:#ffe8e8\">rebel</span> <span style=\"background-color:#fffcfc\">camp</span> <span style=\"background-color:#ffa0a0\">and</span> <span style=\"background-color:#d8d8ff\">making</span> <span style=\"background-color:#f6f6ff\">it</span> <span style=\"background-color:#fffafa\">out</span> <span style=\"background-color:#fff2f2\">of</span> <span style=\"background-color:#fff6f6\">the</span> <span style=\"background-color:#eaeaff\">jungle</span> <span style=\"background-color:#ff9696\">alive</span> <span style=\"background-color:#e3e3ff\">.</span> \n"
      ],
      "text/plain": [
       "<IPython.core.display.HTML object>"
      ]
     },
     "metadata": {},
     "output_type": "display_data"
    },
    {
     "data": {
      "text/html": [
       "correct label: <b>if</b>"
      ],
      "text/plain": [
       "<IPython.core.display.HTML object>"
      ]
     },
     "metadata": {},
     "output_type": "display_data"
    },
    {
     "data": {
      "text/html": [
       "predict label: <b>if</b>"
      ],
      "text/plain": [
       "<IPython.core.display.HTML object>"
      ]
     },
     "metadata": {},
     "output_type": "display_data"
    },
    {
     "data": {
      "text/html": [
       "<span style=\"background-color:#ffe2e2\">When</span> <span style=\"background-color:#fffafa\">the</span> <span style=\"background-color:#ffe4e4\">doctor</span> <span style=\"background-color:#d8d8ff\">had</span> <span style=\"background-color:#ff0000\">asked</span> <span style=\"background-color:#fefeff\">him</span> <span style=\"background-color:#ffcaca\">.</span> \n"
      ],
      "text/plain": [
       "<IPython.core.display.HTML object>"
      ]
     },
     "metadata": {},
     "output_type": "display_data"
    },
    {
     "data": {
      "text/html": [
       "<span style=\"background-color:#ff0000\">He</span> <span style=\"background-color:#3a3aff\">felt</span> <span style=\"background-color:#ffd6d6\">a</span> <span style=\"background-color:#7878ff\">strange</span> <span style=\"background-color:#8e8eff\">sensation</span> <span style=\"background-color:#ffb3b3\">in</span> <span style=\"background-color:#f2f2ff\">the</span> <span style=\"background-color:#fcfcff\">bottom</span> <span style=\"background-color:#f0f0ff\">of</span> <span style=\"background-color:#fff6f6\">his</span> <span style=\"background-color:#9393ff\">throat</span> <span style=\"background-color:#ffd6d6\">,</span> <span style=\"background-color:#ffdcdc\">like</span> <span style=\"background-color:#fefeff\">a</span> <span style=\"background-color:#ffc6c6\">hiccup</span> <span style=\"background-color:#7e7eff\">,</span> <span style=\"background-color:#c2c2ff\">dylan</span> <span style=\"background-color:#ff2828\">had</span> <span style=\"background-color:#9e9eff\">nodded</span> <span style=\"background-color:#dcdcff\">his</span> <span style=\"background-color:#fffafa\">head</span> <span style=\"background-color:#b8b8ff\">.</span> \n"
      ],
      "text/plain": [
       "<IPython.core.display.HTML object>"
      ]
     },
     "metadata": {},
     "output_type": "display_data"
    },
    {
     "data": {
      "text/html": [
       "correct label: <b>if</b>"
      ],
      "text/plain": [
       "<IPython.core.display.HTML object>"
      ]
     },
     "metadata": {},
     "output_type": "display_data"
    },
    {
     "data": {
      "text/html": [
       "predict label: <b>if</b>"
      ],
      "text/plain": [
       "<IPython.core.display.HTML object>"
      ]
     },
     "metadata": {},
     "output_type": "display_data"
    },
    {
     "data": {
      "text/html": [
       "<span style=\"background-color:#e8e8ff\">You</span> <span style=\"background-color:#ff0000\">'d</span> <span style=\"background-color:#ffc0c0\">change</span> <span style=\"background-color:#fffafa\">your</span> <span style=\"background-color:#fff0f0\">mind</span> <span style=\"background-color:#ffd8d8\">.</span> \n"
      ],
      "text/plain": [
       "<IPython.core.display.HTML object>"
      ]
     },
     "metadata": {},
     "output_type": "display_data"
    },
    {
     "data": {
      "text/html": [
       "<span style=\"background-color:#ff0000\">I</span> <span style=\"background-color:#ffe6e6\">brought</span> <span style=\"background-color:#ff2424\">you</span> <span style=\"background-color:#fafaff\">flowers</span> <span style=\"background-color:#fff6f6\">.</span> \n"
      ],
      "text/plain": [
       "<IPython.core.display.HTML object>"
      ]
     },
     "metadata": {},
     "output_type": "display_data"
    },
    {
     "data": {
      "text/html": [
       "correct label: <b>if</b>"
      ],
      "text/plain": [
       "<IPython.core.display.HTML object>"
      ]
     },
     "metadata": {},
     "output_type": "display_data"
    },
    {
     "data": {
      "text/html": [
       "predict label: <b>if</b>"
      ],
      "text/plain": [
       "<IPython.core.display.HTML object>"
      ]
     },
     "metadata": {},
     "output_type": "display_data"
    },
    {
     "data": {
      "text/html": [
       "<span style=\"background-color:#fff2f2\">The</span> <span style=\"background-color:#ccccff\">phoenix</span> <span style=\"background-color:#f2f2ff\">energy</span> <span style=\"background-color:#ff0000\">could</span> <span style=\"background-color:#fcfcff\">pass</span> <span style=\"background-color:#e2e2ff\">her</span> <span style=\"background-color:#f8f8ff\">over</span> <span style=\"background-color:#dadaff\">if</span> <span style=\"background-color:#ffb6b6\">it</span> <span style=\"background-color:#f8f8ff\">found</span> <span style=\"background-color:#ffdede\">she</span> <span style=\"background-color:#bebeff\">was</span> <span style=\"background-color:#fff8f8\">the</span> <span style=\"background-color:#ffdcdc\">wrong</span> <span style=\"background-color:#f6f6ff\">person</span> <span style=\"background-color:#fff0f0\">for</span> <span style=\"background-color:#f6f6ff\">the</span> <span style=\"background-color:#ffeaea\">job</span> <span style=\"background-color:#ffdede\">after</span> <span style=\"background-color:#fff6f6\">all</span> <span style=\"background-color:#ffd0d0\">.</span> \n"
      ],
      "text/plain": [
       "<IPython.core.display.HTML object>"
      ]
     },
     "metadata": {},
     "output_type": "display_data"
    },
    {
     "data": {
      "text/html": [
       "<span style=\"background-color:#ff0000\">Even</span> <span style=\"background-color:#ffe4e4\">it</span> <span style=\"background-color:#ffa6a6\">killed</span> <span style=\"background-color:#fff8f8\">her</span> <span style=\"background-color:#ececff\">.</span> \n"
      ],
      "text/plain": [
       "<IPython.core.display.HTML object>"
      ]
     },
     "metadata": {},
     "output_type": "display_data"
    },
    {
     "data": {
      "text/html": [
       "correct label: <b>if</b>"
      ],
      "text/plain": [
       "<IPython.core.display.HTML object>"
      ]
     },
     "metadata": {},
     "output_type": "display_data"
    },
    {
     "data": {
      "text/html": [
       "predict label: <b>if</b>"
      ],
      "text/plain": [
       "<IPython.core.display.HTML object>"
      ]
     },
     "metadata": {},
     "output_type": "display_data"
    },
    {
     "data": {
      "text/html": [
       "<span style=\"background-color:#e0e0ff\">Fourteen</span> <span style=\"background-color:#fcfcff\">``</span> <span style=\"background-color:#dcdcff\">i</span> <span style=\"background-color:#d8d8ff\">was</span> <span style=\"background-color:#ff0000\">wondering</span> <span style=\"background-color:#ffbcbc\">.</span> \n"
      ],
      "text/plain": [
       "<IPython.core.display.HTML object>"
      ]
     },
     "metadata": {},
     "output_type": "display_data"
    },
    {
     "data": {
      "text/html": [
       "<span style=\"background-color:#ff0000\">You</span> <span style=\"background-color:#ffacac\">could</span> <span style=\"background-color:#a6a6ff\">tell</span> <span style=\"background-color:#ffecec\">me</span> <span style=\"background-color:#ffcaca\">where</span> <span style=\"background-color:#e8e8ff\">scarlet</span> <span style=\"background-color:#ffc6c6\">hughes</span> <span style=\"background-color:#f8f8ff\">is</span> <span style=\"background-color:#f0f0ff\">.</span> \n"
      ],
      "text/plain": [
       "<IPython.core.display.HTML object>"
      ]
     },
     "metadata": {},
     "output_type": "display_data"
    },
    {
     "data": {
      "text/html": [
       "correct label: <b>if</b>"
      ],
      "text/plain": [
       "<IPython.core.display.HTML object>"
      ]
     },
     "metadata": {},
     "output_type": "display_data"
    },
    {
     "data": {
      "text/html": [
       "predict label: <b>if</b>"
      ],
      "text/plain": [
       "<IPython.core.display.HTML object>"
      ]
     },
     "metadata": {},
     "output_type": "display_data"
    },
    {
     "data": {
      "text/html": [
       "<span style=\"background-color:#a6a6ff\">``</span> <span style=\"background-color:#ffa0a0\">an</span> <span style=\"background-color:#f8f8ff\">alaskan</span> <span style=\"background-color:#dadaff\">king</span> <span style=\"background-color:#b6b6ff\">crab</span> <span style=\"background-color:#ff2c2c\">could</span> <span style=\"background-color:#ff0000\">be</span> <span style=\"background-color:#fff8f8\">wrongly</span> <span style=\"background-color:#fffafa\">classified</span> <span style=\"background-color:#ffdada\">as</span> <span style=\"background-color:#ffc3c3\">a</span> <span style=\"background-color:#8a8aff\">giant</span> <span style=\"background-color:#ffb6b6\">spider</span> <span style=\"background-color:#ffc2c2\">.</span> <span style=\"background-color:#f6f6ff\">''</span> <span style=\"background-color:#ffacac\">.</span> \n"
      ],
      "text/plain": [
       "<IPython.core.display.HTML object>"
      ]
     },
     "metadata": {},
     "output_type": "display_data"
    },
    {
     "data": {
      "text/html": [
       "<span style=\"background-color:#ff0606\">We</span> <span style=\"background-color:#e0e0ff\">had</span> <span style=\"background-color:#d8d8ff\">limited</span> <span style=\"background-color:#ffdede\">fossil</span> <span style=\"background-color:#ff0000\">evidence</span> <span style=\"background-color:#ffaaaa\">.</span> \n"
      ],
      "text/plain": [
       "<IPython.core.display.HTML object>"
      ]
     },
     "metadata": {},
     "output_type": "display_data"
    },
    {
     "data": {
      "text/html": [
       "correct label: <b>if</b>"
      ],
      "text/plain": [
       "<IPython.core.display.HTML object>"
      ]
     },
     "metadata": {},
     "output_type": "display_data"
    },
    {
     "data": {
      "text/html": [
       "predict label: <b>if</b>"
      ],
      "text/plain": [
       "<IPython.core.display.HTML object>"
      ]
     },
     "metadata": {},
     "output_type": "display_data"
    },
    {
     "data": {
      "text/html": [
       "<span style=\"background-color:#ff0000\">However</span> <span style=\"background-color:#ffbebe\">the</span> <span style=\"background-color:#c8c8ff\">building</span> <span style=\"background-color:#5656ff\">is</span> <span style=\"background-color:#9393ff\">insured</span> <span style=\"background-color:#ffe6e6\">for</span> <span style=\"background-color:#ff2828\">$</span> <span style=\"background-color:#ff8a8a\">2.5</span> <span style=\"background-color:#d6d6ff\">million</span> <span style=\"background-color:#ff7171\">.</span> \n"
      ],
      "text/plain": [
       "<IPython.core.display.HTML object>"
      ]
     },
     "metadata": {},
     "output_type": "display_data"
    },
    {
     "data": {
      "text/html": [
       "<span style=\"background-color:#ff8a8a\">We</span> <span style=\"background-color:#fffafa\">can</span> <span style=\"background-color:#ffc0c0\">establish</span> <span style=\"background-color:#ffa8a8\">that</span> <span style=\"background-color:#e2e2ff\">it</span> <span style=\"background-color:#d8d8ff\">was</span> <span style=\"background-color:#fff6f6\">an</span> <span style=\"background-color:#ffd0d0\">accident</span> <span style=\"background-color:#ff0000\">or</span> <span style=\"background-color:#f3f3ff\">that</span> <span style=\"background-color:#ffeaea\">someone</span> <span style=\"background-color:#eaeaff\">else</span> <span style=\"background-color:#f8f8ff\">set</span> <span style=\"background-color:#ffeeee\">it</span> <span style=\"background-color:#ececff\">.</span> \n"
      ],
      "text/plain": [
       "<IPython.core.display.HTML object>"
      ]
     },
     "metadata": {},
     "output_type": "display_data"
    },
    {
     "data": {
      "text/html": [
       "correct label: <b>if</b>"
      ],
      "text/plain": [
       "<IPython.core.display.HTML object>"
      ]
     },
     "metadata": {},
     "output_type": "display_data"
    },
    {
     "data": {
      "text/html": [
       "predict label: <b>if</b>"
      ],
      "text/plain": [
       "<IPython.core.display.HTML object>"
      ]
     },
     "metadata": {},
     "output_type": "display_data"
    },
    {
     "data": {
      "text/html": [
       "<span style=\"background-color:#ff0000\">To</span> <span style=\"background-color:#6666ff\">get</span> <span style=\"background-color:#a6a6ff\">us</span> <span style=\"background-color:#ffdada\">an</span> <span style=\"background-color:#e8e8ff\">audition</span> <span style=\"background-color:#fffcfc\">with</span> <span style=\"background-color:#cacaff\">the</span> <span style=\"background-color:#fff2f2\">record</span> <span style=\"background-color:#ffbebe\">company</span> <span style=\"background-color:#ff8888\">.</span> \n"
      ],
      "text/plain": [
       "<IPython.core.display.HTML object>"
      ]
     },
     "metadata": {},
     "output_type": "display_data"
    },
    {
     "data": {
      "text/html": [
       "<span style=\"background-color:#ff8686\">You</span> <span style=\"background-color:#fffafa\">swallowed</span> <span style=\"background-color:#ffbcbc\">your</span> <span style=\"background-color:#a0a0ff\">pride</span> <span style=\"background-color:#ffeaea\">and</span> <span style=\"background-color:#ff0000\">asked</span> <span style=\"background-color:#ceceff\">.</span> \n"
      ],
      "text/plain": [
       "<IPython.core.display.HTML object>"
      ]
     },
     "metadata": {},
     "output_type": "display_data"
    },
    {
     "data": {
      "text/html": [
       "correct label: <b>if</b>"
      ],
      "text/plain": [
       "<IPython.core.display.HTML object>"
      ]
     },
     "metadata": {},
     "output_type": "display_data"
    },
    {
     "data": {
      "text/html": [
       "predict label: <b>when</b>"
      ],
      "text/plain": [
       "<IPython.core.display.HTML object>"
      ]
     },
     "metadata": {},
     "output_type": "display_data"
    },
    {
     "data": {
      "text/html": [
       "<span style=\"background-color:#fff6f6\">The</span> <span style=\"background-color:#d8d8ff\">car</span> <span style=\"background-color:#ff9a9a\">is</span> <span style=\"background-color:#0000ff\">stopped</span> <span style=\"background-color:#ffd2d2\">by</span> <span style=\"background-color:#f0f0ff\">remote</span> <span style=\"background-color:#d6d6ff\">satellite</span> <span style=\"background-color:#ff9898\">and</span> <span style=\"background-color:#d0d0ff\">youre</span> <span style=\"background-color:#e6e6ff\">left</span> <span style=\"background-color:#ffa8a8\">stranded</span> <span style=\"background-color:#ff6666\">.</span> \n"
      ],
      "text/plain": [
       "<IPython.core.display.HTML object>"
      ]
     },
     "metadata": {},
     "output_type": "display_data"
    },
    {
     "data": {
      "text/html": [
       "<span style=\"background-color:#ff0000\">You</span> <span style=\"background-color:#9898ff\">drive</span> <span style=\"background-color:#ff8686\">or</span> <span style=\"background-color:#eaeaff\">ride</span> <span style=\"background-color:#e8e8ff\">in</span> <span style=\"background-color:#ffd2d2\">a</span> <span style=\"background-color:#fff2f2\">car</span> <span style=\"background-color:#e3e3ff\">on</span> <span style=\"background-color:#fff4f4\">a</span> <span style=\"background-color:#fafaff\">day</span> <span style=\"background-color:#ff9393\">not</span> <span style=\"background-color:#fffafa\">assigned</span> <span style=\"background-color:#eaeaff\">to</span> <span style=\"background-color:#ffd6d6\">you</span> <span style=\"background-color:#eeeeff\">,</span> <span style=\"background-color:#ff4949\">or</span> <span style=\"background-color:#ff9e9e\">if</span> <span style=\"background-color:#ffd3d3\">you</span> <span style=\"background-color:#f2f2ff\">go</span> <span style=\"background-color:#fcfcff\">over</span> <span style=\"background-color:#dedeff\">your</span> <span style=\"background-color:#f6f6ff\">daily</span> <span style=\"background-color:#b3b3ff\">limit</span> <span style=\"background-color:#e6e6ff\">.</span> \n"
      ],
      "text/plain": [
       "<IPython.core.display.HTML object>"
      ]
     },
     "metadata": {},
     "output_type": "display_data"
    },
    {
     "data": {
      "text/html": [
       "correct label: <b>if</b>"
      ],
      "text/plain": [
       "<IPython.core.display.HTML object>"
      ]
     },
     "metadata": {},
     "output_type": "display_data"
    },
    {
     "data": {
      "text/html": [
       "predict label: <b>if</b>"
      ],
      "text/plain": [
       "<IPython.core.display.HTML object>"
      ]
     },
     "metadata": {},
     "output_type": "display_data"
    }
   ],
   "source": [
    "for i in range(10):\n",
    "    res = get_example_by_idx('if', i)\n",
    "    display(*bilstm.visualize_example(res[0], res[1], res[2], dis_labels))"
   ]
  },
  {
   "cell_type": "code",
   "execution_count": 20,
   "metadata": {},
   "outputs": [
    {
     "data": {
      "text/html": [
       "<span style=\"background-color:#fffefe\">She</span> <span style=\"background-color:#0000ff\">refused</span> <span style=\"background-color:#ffacac\">to</span> <span style=\"background-color:#e0e0ff\">surrender</span> <span style=\"background-color:#ffa3a3\">it</span> <span style=\"background-color:#ffbebe\">.</span> \n"
      ],
      "text/plain": [
       "<IPython.core.display.HTML object>"
      ]
     },
     "metadata": {},
     "output_type": "display_data"
    },
    {
     "data": {
      "text/html": [
       "<span style=\"background-color:#ff8080\">This</span> <span style=\"background-color:#fefeff\">man</span> <span style=\"background-color:#ff6c6c\">could</span> <span style=\"background-color:#ff0000\">help</span> <span style=\"background-color:#f2f2ff\">.</span> \n"
      ],
      "text/plain": [
       "<IPython.core.display.HTML object>"
      ]
     },
     "metadata": {},
     "output_type": "display_data"
    },
    {
     "data": {
      "text/html": [
       "correct label: <b>if</b>"
      ],
      "text/plain": [
       "<IPython.core.display.HTML object>"
      ]
     },
     "metadata": {},
     "output_type": "display_data"
    },
    {
     "data": {
      "text/html": [
       "predict label: <b>if</b>"
      ],
      "text/plain": [
       "<IPython.core.display.HTML object>"
      ]
     },
     "metadata": {},
     "output_type": "display_data"
    },
    {
     "data": {
      "text/html": [
       "<span style=\"background-color:#d0d0ff\">I</span> <span style=\"background-color:#ff0000\">would</span> <span style=\"background-color:#dadaff\">understand</span> <span style=\"background-color:#f3f3ff\">kingdom</span> <span style=\"background-color:#fffcfc\">issues</span> <span style=\"background-color:#ffe0e0\">.</span> \n"
      ],
      "text/plain": [
       "<IPython.core.display.HTML object>"
      ]
     },
     "metadata": {},
     "output_type": "display_data"
    },
    {
     "data": {
      "text/html": [
       "<span style=\"background-color:#ff0000\">Better</span> <span style=\"background-color:#ff7474\">i</span> <span style=\"background-color:#ffeaea\">understood</span> <span style=\"background-color:#e8e8ff\">our</span> <span style=\"background-color:#f6f6ff\">people</span> <span style=\"background-color:#eaeaff\">.</span> \n"
      ],
      "text/plain": [
       "<IPython.core.display.HTML object>"
      ]
     },
     "metadata": {},
     "output_type": "display_data"
    },
    {
     "data": {
      "text/html": [
       "correct label: <b>if</b>"
      ],
      "text/plain": [
       "<IPython.core.display.HTML object>"
      ]
     },
     "metadata": {},
     "output_type": "display_data"
    },
    {
     "data": {
      "text/html": [
       "predict label: <b>if</b>"
      ],
      "text/plain": [
       "<IPython.core.display.HTML object>"
      ]
     },
     "metadata": {},
     "output_type": "display_data"
    },
    {
     "data": {
      "text/html": [
       "<span style=\"background-color:#d2d2ff\">She</span> <span style=\"background-color:#ff0000\">would</span> <span style=\"background-color:#ffe0e0\">definitely</span> <span style=\"background-color:#e0e0ff\">think</span> <span style=\"background-color:#fafaff\">this</span> <span style=\"background-color:#d8d8ff\">was</span> <span style=\"background-color:#eaeaff\">rinky-dink</span> <span style=\"background-color:#ffe2e2\">.</span> \n"
      ],
      "text/plain": [
       "<IPython.core.display.HTML object>"
      ]
     },
     "metadata": {},
     "output_type": "display_data"
    },
    {
     "data": {
      "text/html": [
       "<span style=\"background-color:#fff4f4\">Krista</span> <span style=\"background-color:#ff0000\">were</span> <span style=\"background-color:#f8f8ff\">the</span> <span style=\"background-color:#ffb8b8\">client</span> <span style=\"background-color:#fefeff\">.</span> \n"
      ],
      "text/plain": [
       "<IPython.core.display.HTML object>"
      ]
     },
     "metadata": {},
     "output_type": "display_data"
    },
    {
     "data": {
      "text/html": [
       "correct label: <b>if</b>"
      ],
      "text/plain": [
       "<IPython.core.display.HTML object>"
      ]
     },
     "metadata": {},
     "output_type": "display_data"
    },
    {
     "data": {
      "text/html": [
       "predict label: <b>if</b>"
      ],
      "text/plain": [
       "<IPython.core.display.HTML object>"
      ]
     },
     "metadata": {},
     "output_type": "display_data"
    },
    {
     "data": {
      "text/html": [
       "<span style=\"background-color:#ffd3d3\">All</span> <span style=\"background-color:#ff7474\">manner</span> <span style=\"background-color:#fefeff\">of</span> <span style=\"background-color:#ffe6e6\">skills</span> <span style=\"background-color:#ffeeee\">and</span> <span style=\"background-color:#0000ff\">jaya</span> <span style=\"background-color:#ffe2e2\">didnt</span> <span style=\"background-color:#ffe8e8\">know</span> <span style=\"background-color:#ff0101\">.</span> \n"
      ],
      "text/plain": [
       "<IPython.core.display.HTML object>"
      ]
     },
     "metadata": {},
     "output_type": "display_data"
    },
    {
     "data": {
      "text/html": [
       "<span style=\"background-color:#ff0000\">was</span> <span style=\"background-color:#ffb0b0\">one</span> <span style=\"background-color:#ffd8d8\">of</span> <span style=\"background-color:#ff8c8c\">them</span> <span style=\"background-color:#fff0f0\">.</span> \n"
      ],
      "text/plain": [
       "<IPython.core.display.HTML object>"
      ]
     },
     "metadata": {},
     "output_type": "display_data"
    },
    {
     "data": {
      "text/html": [
       "correct label: <b>if</b>"
      ],
      "text/plain": [
       "<IPython.core.display.HTML object>"
      ]
     },
     "metadata": {},
     "output_type": "display_data"
    },
    {
     "data": {
      "text/html": [
       "predict label: <b>if</b>"
      ],
      "text/plain": [
       "<IPython.core.display.HTML object>"
      ]
     },
     "metadata": {},
     "output_type": "display_data"
    },
    {
     "data": {
      "text/html": [
       "<span style=\"background-color:#b6b6ff\">That</span> <span style=\"background-color:#ffd8d8\">'s</span> <span style=\"background-color:#ffdada\">the</span> <span style=\"background-color:#c8c8ff\">eight</span> <span style=\"background-color:#8080ff\">o'clock</span> <span style=\"background-color:#ff2020\">in</span> <span style=\"background-color:#fffcfc\">washington</span> <span style=\"background-color:#ff0000\">.</span> <span style=\"background-color:#ff8383\">'</span> <span style=\"background-color:#ff0101\">.</span> \n"
      ],
      "text/plain": [
       "<IPython.core.display.HTML object>"
      ]
     },
     "metadata": {},
     "output_type": "display_data"
    },
    {
     "data": {
      "text/html": [
       "<span style=\"background-color:#ffcece\">I</span> <span style=\"background-color:#ffcaca\">'m</span> <span style=\"background-color:#ececff\">not</span> <span style=\"background-color:#ff0000\">mistaken</span> <span style=\"background-color:#ffeaea\">.</span> \n"
      ],
      "text/plain": [
       "<IPython.core.display.HTML object>"
      ]
     },
     "metadata": {},
     "output_type": "display_data"
    },
    {
     "data": {
      "text/html": [
       "correct label: <b>if</b>"
      ],
      "text/plain": [
       "<IPython.core.display.HTML object>"
      ]
     },
     "metadata": {},
     "output_type": "display_data"
    },
    {
     "data": {
      "text/html": [
       "predict label: <b>if</b>"
      ],
      "text/plain": [
       "<IPython.core.display.HTML object>"
      ]
     },
     "metadata": {},
     "output_type": "display_data"
    },
    {
     "data": {
      "text/html": [
       "<span style=\"background-color:#ffd2d2\">It</span> <span style=\"background-color:#2e2eff\">was</span> <span style=\"background-color:#ff9898\">just</span> <span style=\"background-color:#ffbcbc\">that</span> <span style=\"background-color:#ff0000\">.</span> \n"
      ],
      "text/plain": [
       "<IPython.core.display.HTML object>"
      ]
     },
     "metadata": {},
     "output_type": "display_data"
    },
    {
     "data": {
      "text/html": [
       "<span style=\"background-color:#ff0000\">Even</span> <span style=\"background-color:#fff4f4\">he</span> <span style=\"background-color:#f6f6ff\">and</span> <span style=\"background-color:#ffd6d6\">lori</span> <span style=\"background-color:#fff4f4\">fulfilled</span> <span style=\"background-color:#f8f8ff\">the</span> <span style=\"background-color:#ffe4e4\">momentary</span> <span style=\"background-color:#fff8f8\">promise</span> <span style=\"background-color:#d3d3ff\">.</span> \n"
      ],
      "text/plain": [
       "<IPython.core.display.HTML object>"
      ]
     },
     "metadata": {},
     "output_type": "display_data"
    },
    {
     "data": {
      "text/html": [
       "correct label: <b>if</b>"
      ],
      "text/plain": [
       "<IPython.core.display.HTML object>"
      ]
     },
     "metadata": {},
     "output_type": "display_data"
    },
    {
     "data": {
      "text/html": [
       "predict label: <b>if</b>"
      ],
      "text/plain": [
       "<IPython.core.display.HTML object>"
      ]
     },
     "metadata": {},
     "output_type": "display_data"
    },
    {
     "data": {
      "text/html": [
       "<span style=\"background-color:#d0d0ff\">They</span> <span style=\"background-color:#ff0000\">will</span> <span style=\"background-color:#e8e8ff\">show</span> <span style=\"background-color:#dadaff\">neither</span> <span style=\"background-color:#d6d6ff\">love</span> <span style=\"background-color:#f3f3ff\">nor</span> <span style=\"background-color:#fff0f0\">mercy</span> <span style=\"background-color:#fefeff\">to</span> <span style=\"background-color:#dadaff\">you</span> <span style=\"background-color:#ffe4e4\">.</span> \n"
      ],
      "text/plain": [
       "<IPython.core.display.HTML object>"
      ]
     },
     "metadata": {},
     "output_type": "display_data"
    },
    {
     "data": {
      "text/html": [
       "<span style=\"background-color:#ff0000\">Your</span> <span style=\"background-color:#fcfcff\">quest</span> <span style=\"background-color:#ffb2b2\">be</span> <span style=\"background-color:#ff8e8e\">told</span> <span style=\"background-color:#ff9292\">.</span> \n"
      ],
      "text/plain": [
       "<IPython.core.display.HTML object>"
      ]
     },
     "metadata": {},
     "output_type": "display_data"
    },
    {
     "data": {
      "text/html": [
       "correct label: <b>if</b>"
      ],
      "text/plain": [
       "<IPython.core.display.HTML object>"
      ]
     },
     "metadata": {},
     "output_type": "display_data"
    },
    {
     "data": {
      "text/html": [
       "predict label: <b>if</b>"
      ],
      "text/plain": [
       "<IPython.core.display.HTML object>"
      ]
     },
     "metadata": {},
     "output_type": "display_data"
    },
    {
     "data": {
      "text/html": [
       "<span style=\"background-color:#e2e2ff\">He</span> <span style=\"background-color:#7878ff\">had</span> <span style=\"background-color:#ff8686\">failed</span> <span style=\"background-color:#ff9c9c\">as</span> <span style=\"background-color:#ff7070\">a</span> <span style=\"background-color:#8e8eff\">father</span> <span style=\"background-color:#ff0000\">and</span> <span style=\"background-color:#bebeff\">provider</span> <span style=\"background-color:#ff8686\">.</span> \n"
      ],
      "text/plain": [
       "<IPython.core.display.HTML object>"
      ]
     },
     "metadata": {},
     "output_type": "display_data"
    },
    {
     "data": {
      "text/html": [
       "<span style=\"background-color:#ffd0d0\">She</span> <span style=\"background-color:#ff0000\">were</span> <span style=\"background-color:#a0a0ff\">n't</span> <span style=\"background-color:#fffafa\">.</span> <span style=\"background-color:#fff8f8\">.</span> \n"
      ],
      "text/plain": [
       "<IPython.core.display.HTML object>"
      ]
     },
     "metadata": {},
     "output_type": "display_data"
    },
    {
     "data": {
      "text/html": [
       "correct label: <b>if</b>"
      ],
      "text/plain": [
       "<IPython.core.display.HTML object>"
      ]
     },
     "metadata": {},
     "output_type": "display_data"
    },
    {
     "data": {
      "text/html": [
       "predict label: <b>if</b>"
      ],
      "text/plain": [
       "<IPython.core.display.HTML object>"
      ]
     },
     "metadata": {},
     "output_type": "display_data"
    },
    {
     "data": {
      "text/html": [
       "<span style=\"background-color:#ccccff\">I</span> <span style=\"background-color:#cacaff\">'m</span> <span style=\"background-color:#ffe4e4\">not</span> <span style=\"background-color:#fff0f0\">even</span> <span style=\"background-color:#ff0000\">sure</span> <span style=\"background-color:#ffdada\">.</span> \n"
      ],
      "text/plain": [
       "<IPython.core.display.HTML object>"
      ]
     },
     "metadata": {},
     "output_type": "display_data"
    },
    {
     "data": {
      "text/html": [
       "<span style=\"background-color:#5858ff\">Peace</span> <span style=\"background-color:#ff0000\">is</span> <span style=\"background-color:#d3d3ff\">the</span> <span style=\"background-color:#ff1818\">right</span> <span style=\"background-color:#ffc8c8\">word</span> <span style=\"background-color:#ffeaea\">.</span> \n"
      ],
      "text/plain": [
       "<IPython.core.display.HTML object>"
      ]
     },
     "metadata": {},
     "output_type": "display_data"
    },
    {
     "data": {
      "text/html": [
       "correct label: <b>if</b>"
      ],
      "text/plain": [
       "<IPython.core.display.HTML object>"
      ]
     },
     "metadata": {},
     "output_type": "display_data"
    },
    {
     "data": {
      "text/html": [
       "predict label: <b>if</b>"
      ],
      "text/plain": [
       "<IPython.core.display.HTML object>"
      ]
     },
     "metadata": {},
     "output_type": "display_data"
    },
    {
     "data": {
      "text/html": [
       "<span style=\"background-color:#ff0000\">But</span> <span style=\"background-color:#ffe8e8\">,</span> <span style=\"background-color:#b8b8ff\">i</span> <span style=\"background-color:#ff9696\">'ll</span> <span style=\"background-color:#fff2f2\">be</span> <span style=\"background-color:#fffefe\">sure</span> <span style=\"background-color:#ffe6e6\">to</span> <span style=\"background-color:#ffe0e0\">let</span> <span style=\"background-color:#b3b3ff\">you</span> <span style=\"background-color:#ffeaea\">know</span> <span style=\"background-color:#ffe4e4\">.</span> <span style=\"background-color:#fefeff\">''</span> <span style=\"background-color:#fff4f4\">.</span> \n"
      ],
      "text/plain": [
       "<IPython.core.display.HTML object>"
      ]
     },
     "metadata": {},
     "output_type": "display_data"
    },
    {
     "data": {
      "text/html": [
       "<span style=\"background-color:#ff8686\">I</span> <span style=\"background-color:#5959ff\">think</span> <span style=\"background-color:#ffcece\">of</span> <span style=\"background-color:#ff0000\">anything</span> <span style=\"background-color:#fffafa\">that</span> <span style=\"background-color:#7878ff\">might</span> <span style=\"background-color:#ffcece\">help</span> <span style=\"background-color:#fcfcff\">.</span> \n"
      ],
      "text/plain": [
       "<IPython.core.display.HTML object>"
      ]
     },
     "metadata": {},
     "output_type": "display_data"
    },
    {
     "data": {
      "text/html": [
       "correct label: <b>if</b>"
      ],
      "text/plain": [
       "<IPython.core.display.HTML object>"
      ]
     },
     "metadata": {},
     "output_type": "display_data"
    },
    {
     "data": {
      "text/html": [
       "predict label: <b>if</b>"
      ],
      "text/plain": [
       "<IPython.core.display.HTML object>"
      ]
     },
     "metadata": {},
     "output_type": "display_data"
    }
   ],
   "source": [
    "for i in range(10, 20):\n",
    "    res = get_example_by_idx('if', i)\n",
    "    display(*bilstm.visualize_example(res[0], res[1], res[2], dis_labels))"
   ]
  },
  {
   "cell_type": "markdown",
   "metadata": {},
   "source": [
    "We can zoom in on `because` marker"
   ]
  },
  {
   "cell_type": "code",
   "execution_count": 8,
   "metadata": {},
   "outputs": [],
   "source": [
    "import json\n",
    "type_one = json.load(open('./type_one_error_list.json', 'rb'))\n",
    "type_two = json.load(open('./type_two_error_list.json', 'rb'))\n",
    "correct = json.load(open('./correct_list.json', 'rb'))"
   ]
  },
  {
   "cell_type": "code",
   "execution_count": 11,
   "metadata": {},
   "outputs": [
    {
     "data": {
      "text/html": [
       "<span style=\"background-color:#5e5eff\">The</span> <span style=\"background-color:#ffa0a0\">last</span> <span style=\"background-color:#cacaff\">sight</span> <span style=\"background-color:#c6c6ff\">of</span> <span style=\"background-color:#dedeff\">him</span> <span style=\"background-color:#fff2f2\">for</span> <span style=\"background-color:#ffd8d8\">the</span> <span style=\"background-color:#ffeaea\">past</span> <span style=\"background-color:#fff2f2\">few</span> <span style=\"background-color:#b3b3ff\">days</span> <span style=\"background-color:#2626ff\">had</span> <span style=\"background-color:#f2f2ff\">been</span> <span style=\"background-color:#ff1010\">when</span> <span style=\"background-color:#a3a3ff\">his</span> <span style=\"background-color:#dcdcff\">leader</span> <span style=\"background-color:#b8b8ff\">had</span> <span style=\"background-color:#ffcece\">been</span> <span style=\"background-color:#3030ff\">led</span> <span style=\"background-color:#fff2f2\">away</span> <span style=\"background-color:#fff2f2\">by</span> <span style=\"background-color:#ffdcdc\">some</span> <span style=\"background-color:#c2c2ff\">colonels</span> <span style=\"background-color:#ff0000\">or</span> <span style=\"background-color:#ff6464\">.</span> \n"
      ],
      "text/plain": [
       "<IPython.core.display.HTML object>"
      ]
     },
     "metadata": {},
     "output_type": "display_data"
    },
    {
     "data": {
      "text/html": [
       "<span style=\"background-color:#ff0000\">Probably</span> <span style=\"background-color:#fff6f6\">they</span> <span style=\"background-color:#ffbaba\">wanted</span> <span style=\"background-color:#ececff\">to</span> <span style=\"background-color:#d2d2ff\">enroll</span> <span style=\"background-color:#fffafa\">him</span> <span style=\"background-color:#fff2f2\">.</span> \n"
      ],
      "text/plain": [
       "<IPython.core.display.HTML object>"
      ]
     },
     "metadata": {},
     "output_type": "display_data"
    },
    {
     "data": {
      "text/html": [
       "correct label: <b>because</b>"
      ],
      "text/plain": [
       "<IPython.core.display.HTML object>"
      ]
     },
     "metadata": {},
     "output_type": "display_data"
    },
    {
     "data": {
      "text/html": [
       "predict label: <b>because</b>"
      ],
      "text/plain": [
       "<IPython.core.display.HTML object>"
      ]
     },
     "metadata": {},
     "output_type": "display_data"
    },
    {
     "data": {
      "text/html": [
       "<span style=\"background-color:#ff0000\">I</span> <span style=\"background-color:#3636ff\">had</span> <span style=\"background-color:#fefeff\">to</span> <span style=\"background-color:#ff2121\">kind</span> <span style=\"background-color:#8888ff\">of</span> <span style=\"background-color:#ff7878\">hide</span> <span style=\"background-color:#d6d6ff\">out</span> <span style=\"background-color:#ff3e3e\">.</span> \n"
      ],
      "text/plain": [
       "<IPython.core.display.HTML object>"
      ]
     },
     "metadata": {},
     "output_type": "display_data"
    },
    {
     "data": {
      "text/html": [
       "<span style=\"background-color:#d0d0ff\">I</span> <span style=\"background-color:#ff0000\">wasnt</span> <span style=\"background-color:#ff8e8e\">supposed</span> <span style=\"background-color:#eaeaff\">to</span> <span style=\"background-color:#fff2f2\">be</span> <span style=\"background-color:#babaff\">.</span> \n"
      ],
      "text/plain": [
       "<IPython.core.display.HTML object>"
      ]
     },
     "metadata": {},
     "output_type": "display_data"
    },
    {
     "data": {
      "text/html": [
       "correct label: <b>because</b>"
      ],
      "text/plain": [
       "<IPython.core.display.HTML object>"
      ]
     },
     "metadata": {},
     "output_type": "display_data"
    },
    {
     "data": {
      "text/html": [
       "predict label: <b>because</b>"
      ],
      "text/plain": [
       "<IPython.core.display.HTML object>"
      ]
     },
     "metadata": {},
     "output_type": "display_data"
    },
    {
     "data": {
      "text/html": [
       "<span style=\"background-color:#ff0000\">Im</span> <span style=\"background-color:#ffcaca\">alone</span> <span style=\"background-color:#ffbebe\">most</span> <span style=\"background-color:#cacaff\">of</span> <span style=\"background-color:#fff8f8\">the</span> <span style=\"background-color:#fffcfc\">time</span> <span style=\"background-color:#ffc8c8\">.</span> \n"
      ],
      "text/plain": [
       "<IPython.core.display.HTML object>"
      ]
     },
     "metadata": {},
     "output_type": "display_data"
    },
    {
     "data": {
      "text/html": [
       "<span style=\"background-color:#e3e3ff\">Perry</span> <span style=\"background-color:#ff0000\">is</span> <span style=\"background-color:#9393ff\">on</span> <span style=\"background-color:#f3f3ff\">the</span> <span style=\"background-color:#d6d6ff\">road</span> <span style=\"background-color:#cacaff\">a</span> <span style=\"background-color:#ff5151\">lot</span> <span style=\"background-color:#eeeeff\">.</span> \n"
      ],
      "text/plain": [
       "<IPython.core.display.HTML object>"
      ]
     },
     "metadata": {},
     "output_type": "display_data"
    },
    {
     "data": {
      "text/html": [
       "correct label: <b>because</b>"
      ],
      "text/plain": [
       "<IPython.core.display.HTML object>"
      ]
     },
     "metadata": {},
     "output_type": "display_data"
    },
    {
     "data": {
      "text/html": [
       "predict label: <b>because</b>"
      ],
      "text/plain": [
       "<IPython.core.display.HTML object>"
      ]
     },
     "metadata": {},
     "output_type": "display_data"
    },
    {
     "data": {
      "text/html": [
       "<span style=\"background-color:#fffcfc\">Many</span> <span style=\"background-color:#dadaff\">missiles</span> <span style=\"background-color:#7e7eff\">were</span> <span style=\"background-color:#ff0000\">never</span> <span style=\"background-color:#f8f8ff\">launched</span> <span style=\"background-color:#ffb8b8\">.</span> \n"
      ],
      "text/plain": [
       "<IPython.core.display.HTML object>"
      ]
     },
     "metadata": {},
     "output_type": "display_data"
    },
    {
     "data": {
      "text/html": [
       "<span style=\"background-color:#ff0000\">Simply</span> <span style=\"background-color:#f8f8ff\">the</span> <span style=\"background-color:#fff4f4\">people</span> <span style=\"background-color:#ffeaea\">responsible</span> <span style=\"background-color:#f8f8ff\">for</span> <span style=\"background-color:#eeeeff\">launching</span> <span style=\"background-color:#fffcfc\">them</span> <span style=\"background-color:#ffeeee\">had</span> <span style=\"background-color:#fefeff\">been</span> <span style=\"background-color:#ffdcdc\">distracted</span> <span style=\"background-color:#f2f2ff\">,</span> <span style=\"background-color:#fcfcff\">killed</span> <span style=\"background-color:#fff4f4\">,</span> <span style=\"background-color:#e2e2ff\">or</span> <span style=\"background-color:#fafaff\">injured</span> <span style=\"background-color:#fffefe\">in</span> <span style=\"background-color:#fffcfc\">the</span> <span style=\"background-color:#e6e6ff\">melee</span> <span style=\"background-color:#f2f2ff\">.</span> \n"
      ],
      "text/plain": [
       "<IPython.core.display.HTML object>"
      ]
     },
     "metadata": {},
     "output_type": "display_data"
    },
    {
     "data": {
      "text/html": [
       "correct label: <b>because</b>"
      ],
      "text/plain": [
       "<IPython.core.display.HTML object>"
      ]
     },
     "metadata": {},
     "output_type": "display_data"
    },
    {
     "data": {
      "text/html": [
       "predict label: <b>because</b>"
      ],
      "text/plain": [
       "<IPython.core.display.HTML object>"
      ]
     },
     "metadata": {},
     "output_type": "display_data"
    },
    {
     "data": {
      "text/html": [
       "<span style=\"background-color:#ff3939\">I</span> <span style=\"background-color:#ff4040\">also</span> <span style=\"background-color:#ff0000\">kept</span> <span style=\"background-color:#ff9898\">doing</span> <span style=\"background-color:#ff3838\">it</span> <span style=\"background-color:#fff6f6\">.</span> \n"
      ],
      "text/plain": [
       "<IPython.core.display.HTML object>"
      ]
     },
     "metadata": {},
     "output_type": "display_data"
    },
    {
     "data": {
      "text/html": [
       "<span style=\"background-color:#5959ff\">Hitting</span> <span style=\"background-color:#d0d0ff\">a</span> <span style=\"background-color:#eaeaff\">home</span> <span style=\"background-color:#ffc6c6\">run</span> <span style=\"background-color:#ffd3d3\">made</span> <span style=\"background-color:#ceceff\">it</span> <span style=\"background-color:#ff9292\">worth</span> <span style=\"background-color:#7474ff\">surviving</span> <span style=\"background-color:#ffd8d8\">the</span> <span style=\"background-color:#ff0000\">times</span> <span style=\"background-color:#ff2626\">things</span> <span style=\"background-color:#3434ff\">went</span> <span style=\"background-color:#f0f0ff\">.</span> \n"
      ],
      "text/plain": [
       "<IPython.core.display.HTML object>"
      ]
     },
     "metadata": {},
     "output_type": "display_data"
    },
    {
     "data": {
      "text/html": [
       "correct label: <b>because</b>"
      ],
      "text/plain": [
       "<IPython.core.display.HTML object>"
      ]
     },
     "metadata": {},
     "output_type": "display_data"
    },
    {
     "data": {
      "text/html": [
       "predict label: <b>because</b>"
      ],
      "text/plain": [
       "<IPython.core.display.HTML object>"
      ]
     },
     "metadata": {},
     "output_type": "display_data"
    },
    {
     "data": {
      "text/html": [
       "<span style=\"background-color:#ffb8b8\">She</span> <span style=\"background-color:#3030ff\">was</span> <span style=\"background-color:#ff3838\">feeling</span> <span style=\"background-color:#ff0000\">better</span> <span style=\"background-color:#ff5e5e\">than</span> <span style=\"background-color:#ffb6b6\">she</span> <span style=\"background-color:#7676ff\">'d</span> <span style=\"background-color:#b0b0ff\">felt</span> <span style=\"background-color:#eaeaff\">in</span> <span style=\"background-color:#2828ff\">ages</span> <span style=\"background-color:#ffe4e4\">.</span> \n"
      ],
      "text/plain": [
       "<IPython.core.display.HTML object>"
      ]
     },
     "metadata": {},
     "output_type": "display_data"
    },
    {
     "data": {
      "text/html": [
       "<span style=\"background-color:#ff0000\">Probably</span> <span style=\"background-color:#f6f6ff\">she</span> <span style=\"background-color:#ffcece\">was</span> <span style=\"background-color:#f3f3ff\">opening</span> <span style=\"background-color:#f8f8ff\">herself</span> <span style=\"background-color:#fefeff\">up</span> <span style=\"background-color:#f6f6ff\">to</span> <span style=\"background-color:#fffefe\">new</span> <span style=\"background-color:#fffcfc\">friendships</span> <span style=\"background-color:#ffeeee\">.</span> \n"
      ],
      "text/plain": [
       "<IPython.core.display.HTML object>"
      ]
     },
     "metadata": {},
     "output_type": "display_data"
    },
    {
     "data": {
      "text/html": [
       "correct label: <b>because</b>"
      ],
      "text/plain": [
       "<IPython.core.display.HTML object>"
      ]
     },
     "metadata": {},
     "output_type": "display_data"
    },
    {
     "data": {
      "text/html": [
       "predict label: <b>because</b>"
      ],
      "text/plain": [
       "<IPython.core.display.HTML object>"
      ]
     },
     "metadata": {},
     "output_type": "display_data"
    },
    {
     "data": {
      "text/html": [
       "<span style=\"background-color:#ff0808\">That</span> <span style=\"background-color:#5050ff\">was</span> <span style=\"background-color:#ccccff\">a</span> <span style=\"background-color:#ff0000\">shame</span> <span style=\"background-color:#ffe6e6\">.</span> \n"
      ],
      "text/plain": [
       "<IPython.core.display.HTML object>"
      ]
     },
     "metadata": {},
     "output_type": "display_data"
    },
    {
     "data": {
      "text/html": [
       "<span style=\"background-color:#ffe6e6\">Her</span> <span style=\"background-color:#ff5454\">recent</span> <span style=\"background-color:#1616ff\">transformation</span> <span style=\"background-color:#ff0000\">had</span> <span style=\"background-color:#aaaaff\">given</span> <span style=\"background-color:#fff6f6\">her</span> <span style=\"background-color:#a0a0ff\">new</span> <span style=\"background-color:#ffa6a6\">confidence</span> <span style=\"background-color:#e8e8ff\">in</span> <span style=\"background-color:#f2f2ff\">her</span> <span style=\"background-color:#ffeeee\">ability</span> <span style=\"background-color:#fff0f0\">to</span> <span style=\"background-color:#8080ff\">snag</span> <span style=\"background-color:#ffecec\">a</span> <span style=\"background-color:#ffe8e8\">good-looking</span> <span style=\"background-color:#ff9c9c\">guy</span> <span style=\"background-color:#fff6f6\">like</span> <span style=\"background-color:#fff8f8\">lex</span> <span style=\"background-color:#ffd3d3\">.</span> \n"
      ],
      "text/plain": [
       "<IPython.core.display.HTML object>"
      ]
     },
     "metadata": {},
     "output_type": "display_data"
    },
    {
     "data": {
      "text/html": [
       "correct label: <b>because</b>"
      ],
      "text/plain": [
       "<IPython.core.display.HTML object>"
      ]
     },
     "metadata": {},
     "output_type": "display_data"
    },
    {
     "data": {
      "text/html": [
       "predict label: <b>because</b>"
      ],
      "text/plain": [
       "<IPython.core.display.HTML object>"
      ]
     },
     "metadata": {},
     "output_type": "display_data"
    },
    {
     "data": {
      "text/html": [
       "<span style=\"background-color:#f0f0ff\">``</span> <span style=\"background-color:#ffc6c6\">not</span> <span style=\"background-color:#4e4eff\">long</span> <span style=\"background-color:#0e0eff\">after</span> <span style=\"background-color:#fff2f2\">i</span> <span style=\"background-color:#ff6e6e\">got</span> <span style=\"background-color:#ffd3d3\">here</span> <span style=\"background-color:#ffa6a6\">,</span> <span style=\"background-color:#ff5959\">you</span> <span style=\"background-color:#9e9eff\">asked</span> <span style=\"background-color:#ff7878\">me</span> <span style=\"background-color:#ff0000\">not</span> <span style=\"background-color:#e3e3ff\">to</span> <span style=\"background-color:#ececff\">call</span> <span style=\"background-color:#ffdede\">you</span> <span style=\"background-color:#e8e8ff\">master</span> <span style=\"background-color:#ff9e9e\">.</span> \n"
      ],
      "text/plain": [
       "<IPython.core.display.HTML object>"
      ]
     },
     "metadata": {},
     "output_type": "display_data"
    },
    {
     "data": {
      "text/html": [
       "<span style=\"background-color:#ff0000\">It</span> <span style=\"background-color:#eaeaff\">made</span> <span style=\"background-color:#ececff\">you</span> <span style=\"background-color:#ffd3d3\">feel</span> <span style=\"background-color:#ffd8d8\">like</span> <span style=\"background-color:#ffc8c8\">my</span> <span style=\"background-color:#fff2f2\">father</span> <span style=\"background-color:#d8d8ff\">.</span> \n"
      ],
      "text/plain": [
       "<IPython.core.display.HTML object>"
      ]
     },
     "metadata": {},
     "output_type": "display_data"
    },
    {
     "data": {
      "text/html": [
       "correct label: <b>because</b>"
      ],
      "text/plain": [
       "<IPython.core.display.HTML object>"
      ]
     },
     "metadata": {},
     "output_type": "display_data"
    },
    {
     "data": {
      "text/html": [
       "predict label: <b>because</b>"
      ],
      "text/plain": [
       "<IPython.core.display.HTML object>"
      ]
     },
     "metadata": {},
     "output_type": "display_data"
    },
    {
     "data": {
      "text/html": [
       "<span style=\"background-color:#fff4f4\">My</span> <span style=\"background-color:#ffb3b3\">gaydar</span> <span style=\"background-color:#ff0000\">must</span> <span style=\"background-color:#ffc2c2\">not</span> <span style=\"background-color:#a6a6ff\">be</span> <span style=\"background-color:#ffdede\">working</span> <span style=\"background-color:#dadaff\">at</span> <span style=\"background-color:#f6f6ff\">al</span> <span style=\"background-color:#ff7979\">,</span> <span style=\"background-color:#f0f0ff\">!</span> <span style=\"background-color:#ececff\">''</span> <span style=\"background-color:#ffe0e0\">.</span> \n"
      ],
      "text/plain": [
       "<IPython.core.display.HTML object>"
      ]
     },
     "metadata": {},
     "output_type": "display_data"
    },
    {
     "data": {
      "text/html": [
       "<span style=\"background-color:#6060ff\">I</span> <span style=\"background-color:#ff3939\">thought</span> <span style=\"background-color:#ffa6a6\">he</span> <span style=\"background-color:#ececff\">was</span> <span style=\"background-color:#8888ff\">total</span> <span style=\"background-color:#ff0000\">y</span> <span style=\"background-color:#8383ff\">straight</span> <span style=\"background-color:#ffb6b6\">.</span> \n"
      ],
      "text/plain": [
       "<IPython.core.display.HTML object>"
      ]
     },
     "metadata": {},
     "output_type": "display_data"
    },
    {
     "data": {
      "text/html": [
       "correct label: <b>because</b>"
      ],
      "text/plain": [
       "<IPython.core.display.HTML object>"
      ]
     },
     "metadata": {},
     "output_type": "display_data"
    },
    {
     "data": {
      "text/html": [
       "predict label: <b>because</b>"
      ],
      "text/plain": [
       "<IPython.core.display.HTML object>"
      ]
     },
     "metadata": {},
     "output_type": "display_data"
    },
    {
     "data": {
      "text/html": [
       "<span style=\"background-color:#b3b3ff\">To</span> <span style=\"background-color:#ff0000\">think</span> <span style=\"background-color:#cacaff\">about</span> <span style=\"background-color:#ff8a8a\">it</span> <span style=\"background-color:#fcfcff\">.</span> \n"
      ],
      "text/plain": [
       "<IPython.core.display.HTML object>"
      ]
     },
     "metadata": {},
     "output_type": "display_data"
    },
    {
     "data": {
      "text/html": [
       "<span style=\"background-color:#fefeff\">Long</span> <span style=\"background-color:#fffefe\">sienna</span> <span style=\"background-color:#ffd0d0\">,</span> <span style=\"background-color:#ccccff\">as</span> <span style=\"background-color:#ff0000\">always</span> <span style=\"background-color:#c6c6ff\">,</span> <span style=\"background-color:#ffc8c8\">was</span> <span style=\"background-color:#a0a0ff\">ready</span> <span style=\"background-color:#f0f0ff\">with</span> <span style=\"background-color:#fff6f6\">a</span> <span style=\"background-color:#ceceff\">response</span> <span style=\"background-color:#fefeff\">.</span> \n"
      ],
      "text/plain": [
       "<IPython.core.display.HTML object>"
      ]
     },
     "metadata": {},
     "output_type": "display_data"
    },
    {
     "data": {
      "text/html": [
       "correct label: <b>because</b>"
      ],
      "text/plain": [
       "<IPython.core.display.HTML object>"
      ]
     },
     "metadata": {},
     "output_type": "display_data"
    },
    {
     "data": {
      "text/html": [
       "predict label: <b>because</b>"
      ],
      "text/plain": [
       "<IPython.core.display.HTML object>"
      ]
     },
     "metadata": {},
     "output_type": "display_data"
    }
   ],
   "source": [
    "for i in range(10):\n",
    "    display(*bilstm.visualize_example(correct[i][0], correct[i][1], correct[i][2], dis_labels))"
   ]
  },
  {
   "cell_type": "code",
   "execution_count": 12,
   "metadata": {},
   "outputs": [
    {
     "data": {
      "text/html": [
       "<span style=\"background-color:#ececff\">His</span> <span style=\"background-color:#ff3939\">people</span> <span style=\"background-color:#0000ff\">were</span> <span style=\"background-color:#dadaff\">known</span> <span style=\"background-color:#9898ff\">as</span> <span style=\"background-color:#ffdede\">the</span> <span style=\"background-color:#ffa6a6\">blue</span> <span style=\"background-color:#ffcaca\">eli</span> <span style=\"background-color:#c2c2ff\">to</span> <span style=\"background-color:#ff8686\">all</span> <span style=\"background-color:#8383ff\">their</span> <span style=\"background-color:#1818ff\">enemies</span> <span style=\"background-color:#e6e6ff\">.</span> \n"
      ],
      "text/plain": [
       "<IPython.core.display.HTML object>"
      ]
     },
     "metadata": {},
     "output_type": "display_data"
    },
    {
     "data": {
      "text/html": [
       "<span style=\"background-color:#ff0000\">Mostly</span> <span style=\"background-color:#fffcfc\">their</span> <span style=\"background-color:#eaeaff\">eyes</span> <span style=\"background-color:#ffd0d0\">had</span> <span style=\"background-color:#fffcfc\">bright</span> <span style=\"background-color:#fff4f4\">blue</span> <span style=\"background-color:#fffafa\">centers</span> <span style=\"background-color:#e8e8ff\">circled</span> <span style=\"background-color:#e3e3ff\">by</span> <span style=\"background-color:#fcfcff\">a</span> <span style=\"background-color:#ececff\">blue-silver</span> <span style=\"background-color:#ffecec\">ring</span> <span style=\"background-color:#dcdcff\">that</span> <span style=\"background-color:#fffcfc\">were</span> <span style=\"background-color:#fffafa\">illuminated</span> <span style=\"background-color:#ffe4e4\">and</span> <span style=\"background-color:#ffe6e6\">glowed</span> <span style=\"background-color:#f6f6ff\">even</span> <span style=\"background-color:#e3e3ff\">more</span> <span style=\"background-color:#f6f6ff\">brightly</span> <span style=\"background-color:#fffefe\">in</span> <span style=\"background-color:#f8f8ff\">the</span> <span style=\"background-color:#fffefe\">dark</span> <span style=\"background-color:#fafaff\">.</span> \n"
      ],
      "text/plain": [
       "<IPython.core.display.HTML object>"
      ]
     },
     "metadata": {},
     "output_type": "display_data"
    },
    {
     "data": {
      "text/html": [
       "correct label: <b>because</b>"
      ],
      "text/plain": [
       "<IPython.core.display.HTML object>"
      ]
     },
     "metadata": {},
     "output_type": "display_data"
    },
    {
     "data": {
      "text/html": [
       "predict label: <b>because</b>"
      ],
      "text/plain": [
       "<IPython.core.display.HTML object>"
      ]
     },
     "metadata": {},
     "output_type": "display_data"
    },
    {
     "data": {
      "text/html": [
       "<span style=\"background-color:#ffcece\">If</span> <span style=\"background-color:#e2e2ff\">so</span> <span style=\"background-color:#fffefe\">,</span> <span style=\"background-color:#fcfcff\">they</span> <span style=\"background-color:#ff0000\">must</span> <span style=\"background-color:#e0e0ff\">have</span> <span style=\"background-color:#e3e3ff\">had</span> <span style=\"background-color:#e0e0ff\">a</span> <span style=\"background-color:#ffdcdc\">hard</span> <span style=\"background-color:#fff6f6\">time</span> <span style=\"background-color:#fff2f2\">keeping</span> <span style=\"background-color:#f8f8ff\">up</span> <span style=\"background-color:#fffcfc\">with</span> <span style=\"background-color:#fafaff\">the</span> <span style=\"background-color:#e2e2ff\">bouncing</span> <span style=\"background-color:#fff4f4\">spot</span> <span style=\"background-color:#eeeeff\">of</span> <span style=\"background-color:#fffcfc\">red</span> <span style=\"background-color:#fcfcff\">.</span> \n"
      ],
      "text/plain": [
       "<IPython.core.display.HTML object>"
      ]
     },
     "metadata": {},
     "output_type": "display_data"
    },
    {
     "data": {
      "text/html": [
       "<span style=\"background-color:#ff0000\">It</span> <span style=\"background-color:#ffc8c8\">was</span> <span style=\"background-color:#ff0000\">moving</span> <span style=\"background-color:#ff8e8e\">fast</span> <span style=\"background-color:#f8f8ff\">in</span> <span style=\"background-color:#fff0f0\">the</span> <span style=\"background-color:#e6e6ff\">land</span> <span style=\"background-color:#ffe0e0\">rover</span> <span style=\"background-color:#eaeaff\">driven</span> <span style=\"background-color:#b3b3ff\">by</span> <span style=\"background-color:#ffc8c8\">her</span> <span style=\"background-color:#9c9cff\">assistant</span> <span style=\"background-color:#ff9393\">wildlife</span> <span style=\"background-color:#ffbebe\">biologist</span> <span style=\"background-color:#e0e0ff\">,</span> <span style=\"background-color:#ffa0a0\">damian</span> <span style=\"background-color:#ececff\">.</span> \n"
      ],
      "text/plain": [
       "<IPython.core.display.HTML object>"
      ]
     },
     "metadata": {},
     "output_type": "display_data"
    },
    {
     "data": {
      "text/html": [
       "correct label: <b>because</b>"
      ],
      "text/plain": [
       "<IPython.core.display.HTML object>"
      ]
     },
     "metadata": {},
     "output_type": "display_data"
    },
    {
     "data": {
      "text/html": [
       "predict label: <b>because</b>"
      ],
      "text/plain": [
       "<IPython.core.display.HTML object>"
      ]
     },
     "metadata": {},
     "output_type": "display_data"
    },
    {
     "data": {
      "text/html": [
       "<span style=\"background-color:#fff6f6\">``</span> <span style=\"background-color:#ffc0c0\">you</span> <span style=\"background-color:#ff0000\">better</span> <span style=\"background-color:#9c9cff\">be</span> <span style=\"background-color:#babaff\">wrong</span> <span style=\"background-color:#e6e6ff\">about</span> <span style=\"background-color:#f2f2ff\">that</span> <span style=\"background-color:#fcfcff\">,</span> <span style=\"background-color:#fcfcff\">''</span> <span style=\"background-color:#fafaff\">cuthbert</span> <span style=\"background-color:#f3f3ff\">said</span> <span style=\"background-color:#ffc2c2\">,</span> <span style=\"background-color:#ff5454\">``</span> <span style=\"background-color:#dedeff\">.</span> <span style=\"background-color:#ffdcdc\">''</span> <span style=\"background-color:#ffeeee\">.</span> \n"
      ],
      "text/plain": [
       "<IPython.core.display.HTML object>"
      ]
     },
     "metadata": {},
     "output_type": "display_data"
    },
    {
     "data": {
      "text/html": [
       "<span style=\"background-color:#6e6eff\">Men</span> <span style=\"background-color:#ff5858\">'s</span> <span style=\"background-color:#9e9eff\">work</span> <span style=\"background-color:#ff0000\">is</span> <span style=\"background-color:#ff7676\">coming</span> <span style=\"background-color:#5151ff\">.</span> \n"
      ],
      "text/plain": [
       "<IPython.core.display.HTML object>"
      ]
     },
     "metadata": {},
     "output_type": "display_data"
    },
    {
     "data": {
      "text/html": [
       "correct label: <b>because</b>"
      ],
      "text/plain": [
       "<IPython.core.display.HTML object>"
      ]
     },
     "metadata": {},
     "output_type": "display_data"
    },
    {
     "data": {
      "text/html": [
       "predict label: <b>because</b>"
      ],
      "text/plain": [
       "<IPython.core.display.HTML object>"
      ]
     },
     "metadata": {},
     "output_type": "display_data"
    },
    {
     "data": {
      "text/html": [
       "<span style=\"background-color:#dadaff\">His</span> <span style=\"background-color:#ff3838\">pay</span> <span style=\"background-color:#0000ff\">was</span> <span style=\"background-color:#e0e0ff\">at</span> <span style=\"background-color:#fff0f0\">the</span> <span style=\"background-color:#ffe0e0\">bottom</span> <span style=\"background-color:#bcbcff\">of</span> <span style=\"background-color:#ffd8d8\">the</span> <span style=\"background-color:#e2e2ff\">scale</span> <span style=\"background-color:#ff8e8e\">.</span> \n"
      ],
      "text/plain": [
       "<IPython.core.display.HTML object>"
      ]
     },
     "metadata": {},
     "output_type": "display_data"
    },
    {
     "data": {
      "text/html": [
       "<span style=\"background-color:#fefeff\">He</span> <span style=\"background-color:#ff8888\">knew</span> <span style=\"background-color:#ff0000\">so</span> <span style=\"background-color:#ff5c5c\">little</span> <span style=\"background-color:#ffeeee\">about</span> <span style=\"background-color:#fffcfc\">computers</span> <span style=\"background-color:#fff0f0\">.</span> \n"
      ],
      "text/plain": [
       "<IPython.core.display.HTML object>"
      ]
     },
     "metadata": {},
     "output_type": "display_data"
    },
    {
     "data": {
      "text/html": [
       "correct label: <b>because</b>"
      ],
      "text/plain": [
       "<IPython.core.display.HTML object>"
      ]
     },
     "metadata": {},
     "output_type": "display_data"
    },
    {
     "data": {
      "text/html": [
       "predict label: <b>because</b>"
      ],
      "text/plain": [
       "<IPython.core.display.HTML object>"
      ]
     },
     "metadata": {},
     "output_type": "display_data"
    },
    {
     "data": {
      "text/html": [
       "<span style=\"background-color:#ff0000\">I</span> <span style=\"background-color:#d6d6ff\">left</span> <span style=\"background-color:#d8d8ff\">.</span> <span style=\"background-color:#ff3939\">''</span> <span style=\"background-color:#ffd2d2\">.</span> \n"
      ],
      "text/plain": [
       "<IPython.core.display.HTML object>"
      ]
     },
     "metadata": {},
     "output_type": "display_data"
    },
    {
     "data": {
      "text/html": [
       "<span style=\"background-color:#ff5e5e\">That</span> <span style=\"background-color:#ff0000\">'s</span> <span style=\"background-color:#e2e2ff\">what</span> <span style=\"background-color:#e6e6ff\">your</span> <span style=\"background-color:#fff0f0\">sister</span> <span style=\"background-color:#ff6161\">wants</span> <span style=\"background-color:#ffe2e2\">.</span> \n"
      ],
      "text/plain": [
       "<IPython.core.display.HTML object>"
      ]
     },
     "metadata": {},
     "output_type": "display_data"
    },
    {
     "data": {
      "text/html": [
       "correct label: <b>because</b>"
      ],
      "text/plain": [
       "<IPython.core.display.HTML object>"
      ]
     },
     "metadata": {},
     "output_type": "display_data"
    },
    {
     "data": {
      "text/html": [
       "predict label: <b>because</b>"
      ],
      "text/plain": [
       "<IPython.core.display.HTML object>"
      ]
     },
     "metadata": {},
     "output_type": "display_data"
    },
    {
     "data": {
      "text/html": [
       "<span style=\"background-color:#ffbcbc\">You</span> <span style=\"background-color:#ffcaca\">'re</span> <span style=\"background-color:#ff5151\">resisting</span> <span style=\"background-color:#f0f0ff\">the</span> <span style=\"background-color:#dedeff\">memory</span> <span style=\"background-color:#ff0000\">but</span> <span style=\"background-color:#ffeeee\">it</span> <span style=\"background-color:#ffd6d6\">'s</span> <span style=\"background-color:#fff8f8\">there</span> <span style=\"background-color:#ececff\">.</span> <span style=\"background-color:#f0f0ff\">''</span> <span style=\"background-color:#ffe4e4\">.</span> \n"
      ],
      "text/plain": [
       "<IPython.core.display.HTML object>"
      ]
     },
     "metadata": {},
     "output_type": "display_data"
    },
    {
     "data": {
      "text/html": [
       "<span style=\"background-color:#ff7878\">It</span> <span style=\"background-color:#ff9c9c\">'s</span> <span style=\"background-color:#ff0000\">so</span> <span style=\"background-color:#f0f0ff\">painful</span> <span style=\"background-color:#f3f3ff\">.</span> \n"
      ],
      "text/plain": [
       "<IPython.core.display.HTML object>"
      ]
     },
     "metadata": {},
     "output_type": "display_data"
    },
    {
     "data": {
      "text/html": [
       "correct label: <b>because</b>"
      ],
      "text/plain": [
       "<IPython.core.display.HTML object>"
      ]
     },
     "metadata": {},
     "output_type": "display_data"
    },
    {
     "data": {
      "text/html": [
       "predict label: <b>because</b>"
      ],
      "text/plain": [
       "<IPython.core.display.HTML object>"
      ]
     },
     "metadata": {},
     "output_type": "display_data"
    },
    {
     "data": {
      "text/html": [
       "<span style=\"background-color:#4040ff\">What</span> <span style=\"background-color:#ff0000\">you</span> <span style=\"background-color:#ff3030\">'ve</span> <span style=\"background-color:#3c3cff\">told</span> <span style=\"background-color:#ff2626\">me</span> <span style=\"background-color:#ff4141\">.</span> \n"
      ],
      "text/plain": [
       "<IPython.core.display.HTML object>"
      ]
     },
     "metadata": {},
     "output_type": "display_data"
    },
    {
     "data": {
      "text/html": [
       "<span style=\"background-color:#ff6161\">They</span> <span style=\"background-color:#ff8686\">'re</span> <span style=\"background-color:#e2e2ff\">very</span> <span style=\"background-color:#ff0c0c\">good</span> <span style=\"background-color:#ffdada\">at</span> <span style=\"background-color:#1212ff\">finding</span> <span style=\"background-color:#ffc0c0\">people</span> <span style=\"background-color:#0000ff\">,</span> <span style=\"background-color:#ff3434\">and</span> <span style=\"background-color:#c8c8ff\">a</span> <span style=\"background-color:#8888ff\">false</span> <span style=\"background-color:#ffdada\">sense</span> <span style=\"background-color:#ffe8e8\">of</span> <span style=\"background-color:#fffefe\">security</span> <span style=\"background-color:#ffdcdc\">could</span> <span style=\"background-color:#c2c2ff\">kill</span> <span style=\"background-color:#ffd3d3\">me</span> <span style=\"background-color:#ff6c6c\">.</span> <span style=\"background-color:#ff6c6c\">''</span> <span style=\"background-color:#ffd2d2\">.</span> \n"
      ],
      "text/plain": [
       "<IPython.core.display.HTML object>"
      ]
     },
     "metadata": {},
     "output_type": "display_data"
    },
    {
     "data": {
      "text/html": [
       "correct label: <b>because</b>"
      ],
      "text/plain": [
       "<IPython.core.display.HTML object>"
      ]
     },
     "metadata": {},
     "output_type": "display_data"
    },
    {
     "data": {
      "text/html": [
       "predict label: <b>because</b>"
      ],
      "text/plain": [
       "<IPython.core.display.HTML object>"
      ]
     },
     "metadata": {},
     "output_type": "display_data"
    },
    {
     "data": {
      "text/html": [
       "<span style=\"background-color:#ff8e8e\">I</span> <span style=\"background-color:#0000ff\">'d</span> <span style=\"background-color:#f6f6ff\">recognize</span> <span style=\"background-color:#ffb2b2\">it</span> <span style=\"background-color:#ffeeee\">.</span> \n"
      ],
      "text/plain": [
       "<IPython.core.display.HTML object>"
      ]
     },
     "metadata": {},
     "output_type": "display_data"
    },
    {
     "data": {
      "text/html": [
       "<span style=\"background-color:#ff0000\">Partly</span> <span style=\"background-color:#fefeff\">it</span> <span style=\"background-color:#fff8f8\">'s</span> <span style=\"background-color:#ffd0d0\">so</span> <span style=\"background-color:#ffd3d3\">rare</span> <span style=\"background-color:#ffd3d3\">and</span> <span style=\"background-color:#fff2f2\">partly</span> <span style=\"background-color:#ffecec\">because</span> <span style=\"background-color:#f8f8ff\">it</span> <span style=\"background-color:#fff8f8\">'s</span> <span style=\"background-color:#f0f0ff\">trick</span> <span style=\"background-color:#ececff\">'s</span> <span style=\"background-color:#fffefe\">.</span> \n"
      ],
      "text/plain": [
       "<IPython.core.display.HTML object>"
      ]
     },
     "metadata": {},
     "output_type": "display_data"
    },
    {
     "data": {
      "text/html": [
       "correct label: <b>because</b>"
      ],
      "text/plain": [
       "<IPython.core.display.HTML object>"
      ]
     },
     "metadata": {},
     "output_type": "display_data"
    },
    {
     "data": {
      "text/html": [
       "predict label: <b>because</b>"
      ],
      "text/plain": [
       "<IPython.core.display.HTML object>"
      ]
     },
     "metadata": {},
     "output_type": "display_data"
    },
    {
     "data": {
      "text/html": [
       "<span style=\"background-color:#f6f6ff\">He</span> <span style=\"background-color:#f6f6ff\">needed</span> <span style=\"background-color:#fffcfc\">the</span> <span style=\"background-color:#ff0000\">handyman</span> <span style=\"background-color:#ff7979\">job</span> <span style=\"background-color:#ffd3d3\">.</span> \n"
      ],
      "text/plain": [
       "<IPython.core.display.HTML object>"
      ]
     },
     "metadata": {},
     "output_type": "display_data"
    },
    {
     "data": {
      "text/html": [
       "<span style=\"background-color:#ffd3d3\">He</span> <span style=\"background-color:#ff0000\">was</span> <span style=\"background-color:#ff3c3c\">bored</span> <span style=\"background-color:#ff4949\">without</span> <span style=\"background-color:#6666ff\">work</span> <span style=\"background-color:#ffacac\">.</span> \n"
      ],
      "text/plain": [
       "<IPython.core.display.HTML object>"
      ]
     },
     "metadata": {},
     "output_type": "display_data"
    },
    {
     "data": {
      "text/html": [
       "correct label: <b>because</b>"
      ],
      "text/plain": [
       "<IPython.core.display.HTML object>"
      ]
     },
     "metadata": {},
     "output_type": "display_data"
    },
    {
     "data": {
      "text/html": [
       "predict label: <b>because</b>"
      ],
      "text/plain": [
       "<IPython.core.display.HTML object>"
      ]
     },
     "metadata": {},
     "output_type": "display_data"
    },
    {
     "data": {
      "text/html": [
       "<span style=\"background-color:#ff0000\">Is</span> <span style=\"background-color:#ff6e6e\">this</span> <span style=\"background-color:#ff8a8a\">?</span> <span style=\"background-color:#ff7474\">''</span> <span style=\"background-color:#ffc3c3\">.</span> \n"
      ],
      "text/plain": [
       "<IPython.core.display.HTML object>"
      ]
     },
     "metadata": {},
     "output_type": "display_data"
    },
    {
     "data": {
      "text/html": [
       "<span style=\"background-color:#ffd2d2\">I</span> <span style=\"background-color:#ff0000\">helped</span> <span style=\"background-color:#a6a6ff\">the</span> <span style=\"background-color:#aaaaff\">man</span> <span style=\"background-color:#a2a2ff\">who</span> <span style=\"background-color:#9393ff\">tried</span> <span style=\"background-color:#bcbcff\">to</span> <span style=\"background-color:#ffbaba\">rape</span> <span style=\"background-color:#f3f3ff\">you</span> <span style=\"background-color:#d6d6ff\">.</span> \n"
      ],
      "text/plain": [
       "<IPython.core.display.HTML object>"
      ]
     },
     "metadata": {},
     "output_type": "display_data"
    },
    {
     "data": {
      "text/html": [
       "correct label: <b>because</b>"
      ],
      "text/plain": [
       "<IPython.core.display.HTML object>"
      ]
     },
     "metadata": {},
     "output_type": "display_data"
    },
    {
     "data": {
      "text/html": [
       "predict label: <b>because</b>"
      ],
      "text/plain": [
       "<IPython.core.display.HTML object>"
      ]
     },
     "metadata": {},
     "output_type": "display_data"
    }
   ],
   "source": [
    "for i in range(10, 20):\n",
    "    display(*bilstm.visualize_example(correct[i][0], correct[i][1], correct[i][2], dis_labels))"
   ]
  },
  {
   "cell_type": "code",
   "execution_count": null,
   "metadata": {},
   "outputs": [],
   "source": [
    "for i in range(20, 30):\n",
    "    display(*bilstm.visualize_example(correct[i][0], correct[i][1], correct[i][2], dis_labels))"
   ]
  }
 ],
 "metadata": {
  "kernelspec": {
   "display_name": "Python 2",
   "language": "python",
   "name": "python2"
  },
  "language_info": {
   "codemirror_mode": {
    "name": "ipython",
    "version": 2
   },
   "file_extension": ".py",
   "mimetype": "text/x-python",
   "name": "python",
   "nbconvert_exporter": "python",
   "pygments_lexer": "ipython2",
   "version": "2.7.14"
  }
 },
 "nbformat": 4,
 "nbformat_minor": 2
}
